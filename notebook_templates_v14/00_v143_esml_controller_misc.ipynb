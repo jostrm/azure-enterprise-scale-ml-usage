{
 "cells": [
  {
   "cell_type": "markdown",
   "metadata": {},
   "source": [
    "import sys\n",
    "sys.path.insert(0, \"../azure-enterprise-scale-ml/esml/common/\")\n",
    "from esml import ESMLProject\n",
    "import pandas as pd\n",
    "from azureml.core.authentication import InteractiveLoginAuthentication\n",
    "\n",
    "p = ESMLProject() # Your project settings - knows Azure services, networking, lakedesign, identity mgmt, security, etc\n",
    "p.inference_mode = False\n",
    "\n",
    "auth = InteractiveLoginAuthentication(tenant_id = p.tenant)\n",
    "#auth = InteractiveLoginAuthentication(force=True, tenant_id = p.tenant)\n",
    "ws, config_name = p.authenticate_workspace_and_write_config(auth)\n",
    "\n",
    "p.active_model = 11\n",
    "p.ws = p.get_workspace_from_config() #2) Load DEV or TEST or PROD Azure ML Studio workspace\n",
    "p.connect_to_lake()"
   ]
  },
  {
   "cell_type": "code",
   "execution_count": 1,
   "metadata": {},
   "outputs": [],
   "source": [
    "import sys\n",
    "sys.path.insert(0, \"../azure-enterprise-scale-ml/\")\n",
    "\n",
    "from esmlrt.interfaces.iESMLController import IESMLController\n",
    "from esmlrt.interfaces.iESMLModelCompare import IESMLModelCompare\n",
    "from esmlrt.interfaces.iESMLTestScoringFactory import IESMLTestScoringFactory\n",
    "from esmlrt.interfaces.iESMLTrainer import IESMLTrainer\n",
    "from esmlrt.runtime.ESMLController import ESMLController\n",
    "from esmlrt.runtime.ESMLModelCompare2 import ESMLModelCompare\n",
    "from esmlrt.runtime.ESMLTestScoringFactory2 import ESMLTestScoringFactory"
   ]
  },
  {
   "cell_type": "code",
   "execution_count": 2,
   "metadata": {},
   "outputs": [],
   "source": [
    "import sys\n",
    "sys.path.insert(0, \"../2_A_aml_pipeline/4_inference/batch/M11/\")\n",
    "from your_code.your_train_code import Trainer"
   ]
  },
  {
   "cell_type": "code",
   "execution_count": 3,
   "metadata": {},
   "outputs": [
    {
     "name": "stdout",
     "output_type": "stream",
     "text": [
      "Using lake_settings.json with ESML version 1.4 - Models array support including LABEL\n",
      "Environment: dev\n",
      "Inference version: 1\n",
      "\n",
      " - ds01_diabetes\n",
      "projects/project002/11_diabetes_model_reg/train/ds01_diabetes/in/dev/1000/01/01/\n",
      "projects/project002/11_diabetes_model_reg/train/ds01_diabetes/out/bronze/dev/\n",
      "projects/project002/11_diabetes_model_reg/train/ds01_diabetes/out/silver/dev/\n",
      "\n",
      " - ds02_other\n",
      "projects/project002/11_diabetes_model_reg/train/ds02_other/in/dev/1000/01/01/\n",
      "projects/project002/11_diabetes_model_reg/train/ds02_other/out/bronze/dev/\n",
      "projects/project002/11_diabetes_model_reg/train/ds02_other/out/silver/dev/\n",
      " \n",
      "\n",
      "Training GOLD (p.GoldPath)\n",
      "projects/project002/11_diabetes_model_reg/train/gold/dev/\n",
      " \n",
      "\n",
      "[A) USAGE]: to_score_folder, scored_folder, date_folder = p.get_gold_scored_unique_path()\n",
      "A)INFERENCE ONLINE: GOLD to score (example if realtime - today)\n",
      "projects/project002/11_diabetes_model_reg/inference/1/gold/dev/2022_10_20/264bc4d266384b13ab89cc9af085c469/\n",
      " \n",
      "\n",
      "A)INFERENCE ONLINE: GOLD scored (example if realtime today)\n",
      "projects/project002/11_diabetes_model_reg/inference/1/scored/dev/2022_10_20/264bc4d266384b13ab89cc9af085c469/\n",
      " \n",
      "\n",
      "[B) USAGE]: to_score_folder_batch, scored_folder, date_folder = p.get_gold_scored_unique_path(p.date_scoring_folder)\n",
      "B)INFERENCE BATCH: GOLD to score (example batch, datetime from config)\n",
      "projects/project002/11_diabetes_model_reg/inference/1/gold/dev/1000_01_01/c868f9ec305b4e05b06b8bbb3cae00eb/\n",
      " \n",
      "\n",
      "B)INFERENCE BATCH: GOLD scored (example batch, datetime from config)\n",
      "projects/project002/11_diabetes_model_reg/inference/1/scored/dev/1000_01_01/c868f9ec305b4e05b06b8bbb3cae00eb/\n",
      " \n",
      "\n",
      "C) INFERENCE BATCH (SCENARIO 2): TODAY I scored data from X days AGO  (second datefolder from config - X days ago)\n",
      "projects/project002/11_diabetes_model_reg/inference/1/gold/dev/1000_01_01/c868f9ec305b4e05b06b8bbb3cae00eb/1000_01_01/\n",
      "projects/project002/11_diabetes_model_reg/inference/1/scored/dev/1000_01_01/c868f9ec305b4e05b06b8bbb3cae00eb/1000_01_01/\n",
      " \n",
      "\n",
      "ENVIRONMENT - DEV, TEST, or PROD?  [USAGE: p.dev_test_prod]\n",
      "ACTIVE ENVIRONMENT = dev\n",
      "ACTIVE subscription = ca0a8c40-b06a-4e4e-8434-63c03a1dee34\n",
      "- MSFT-WEU-EAP_PROJECT02_AI-DEV-RG\n",
      "- msft-weu-DEV-eap-proj02_ai-amls\n",
      "- westeurope\n",
      "- MSFT-WEU-EAP_CMN_AI-DEV-RG\n",
      "Active vNet: msft-weu-dev-cmnai-vnet\n",
      "Active SubNet: \n",
      "[USAGE] for the above: p.vNetForActiveEnvironment()\n",
      "Active Lake (storage account)  msftweudevcmnai2\n",
      "[USAGE] for the above: p.getLakeForActiveEnvironment()\n",
      "AML for docker: True\n"
     ]
    }
   ],
   "source": [
    "import sys\n",
    "sys.path.insert(0, \"../azure-enterprise-scale-ml/esml/common/\")\n",
    "from esml import ESMLProject\n",
    "import pandas as pd\n",
    "\n",
    "param_esml_env = \"dev\" \n",
    "param_inference_model_version = \"1\" # DATALAKE(my_model/inference/active) | settings/project_specific/active/active_scoring_in_folder.json\n",
    "param_scoring_folder_date = \"1000-01-01 00:00:01.243860\" # DATALAKE(my_model/inference/active) | settings/project_specific/active/active_scoring_in_folder.json\n",
    "param_train_in_folder_date = \"1000-01-01 00:00:01.243860\" # DATALAKE(my_model/train/active) | settings/project_specific/active/active_in_folder.json\n",
    "\n",
    "p = ESMLProject(param_esml_env,param_inference_model_version,param_scoring_folder_date,param_train_in_folder_date)\n",
    "#p = ESMLProject() # Alternatively use empty contructor, which takes parameters from settings\\project_specific\\model\\active\\active_in_folder.json\n",
    "\n",
    "p.active_model = 11\n",
    "p.inference_mode = False\n",
    "p.ws = p.get_workspace_from_config() #2) Load DEV or TEST or PROD Azure ML Studio workspace\n",
    "p.verbose_logging = False\n",
    "p.describe()"
   ]
  },
  {
   "cell_type": "code",
   "execution_count": 4,
   "metadata": {},
   "outputs": [
    {
     "name": "stdout",
     "output_type": "stream",
     "text": [
      "...\n"
     ]
    },
    {
     "data": {
      "text/plain": [
       "'1.4'"
      ]
     },
     "execution_count": 4,
     "metadata": {},
     "output_type": "execute_result"
    }
   ],
   "source": [
    "ws = p.ws\n",
    "target_column_name = p.active_model[\"label\"]\n",
    "ml_type = p.active_model[\"ml_type\"]\n",
    "\n",
    "esml_modelname = p.model_folder_name\n",
    "esml_model_alias = p.ModelAlias\n",
    "esml_current_env  = p.dev_test_prod\n",
    "train_ds = p.GoldTrain\n",
    "validate_ds = p.GoldValidate\n",
    "test_ds = p.GoldTest\n",
    "all_envs = p.get_all_envs()\n",
    "\n",
    "secret_name_tenant = \"kv-msft-weu-dev-cmnai-tenant\"\n",
    "secret_name_sp_id = \"kv-secret-esml-project002-sp-id\"\n",
    "secret_name_sp_secret = \"kv-secret-esml-project002-sp-secret\"\n",
    "\n",
    "test_scoring = ESMLTestScoringFactory(ml_type) # You need to implement IESMLTestScoringFactory\n",
    "comparer = ESMLModelCompare(setting_path = \"../../\") # You need to implement IESMLModelCompare\n",
    "\n",
    "controller = ESMLController(comparer,test_scoring,\"project002\",esml_modelname, esml_model_alias,all_envs, secret_name_tenant,secret_name_sp_id,secret_name_sp_secret ) # IESMLController: you do not have to change/implemen this class. Dependency injects default or your class.\n",
    "controller.dev_test_prod = esml_current_env\n",
    "controller.version()"
   ]
  },
  {
   "cell_type": "markdown",
   "metadata": {},
   "source": [
    "## COMPARE - dev with dev"
   ]
  },
  {
   "cell_type": "code",
   "execution_count": 5,
   "metadata": {},
   "outputs": [
    {
     "name": "stdout",
     "output_type": "stream",
     "text": [
      "target=source environement. Compare model version in DEV/TEST/PROD with latest registered in same DEV/TEST/PROD workspace (same workspace & subscriptiom comparison)\n",
      "\n",
      "Searching with Model list LAMBDA FILTER, on experiment_name in Model.tags called: 11_diabetes_model_reg . Meaning ESML checks for both Notebook run (AutoMLRun, Run) and PipelineRuns (AutoMLStep, PipelineRun)\n",
      "E.g. Even if Pipeline experiment is called '11_diabetes_model_reg_IN_2_GOLD_TRAIN' it will be included, since original model_folder_name in ESML is '11_diabetes_model_reg' as a notebook Run experiment name. Both is included in search\n",
      "DEBUG: get_best_model_via_modeltags_only_DevTestProd - get_latest_challenger ==True 11_diabetes_model_reg\n",
      "TIME: FILTER ModelList:\n",
      "Minutes: 4.430099324385325\n",
      "DEBUG filtered_list length 33\n",
      "DEBUG: model_highest_version Model(workspace=Workspace.create(name='msft-weu-DEV-eap-proj02_ai-amls', subscription_id='ca0a8c40-b06a-4e4e-8434-63c03a1dee34', resource_group='MSFT-WEU-EAP_PROJECT02_AI-DEV-RG'), name=AutoMLd1093aff80, id=AutoMLd1093aff80:29, version=29, tags={'esml_time_updated': '10/19/2022, 13:44:07', 'status_code': 'esml_newly_trained', 'run_id': '1dcfb58a-629f-4b85-be13-795666165cc9', 'model_name': 'AutoMLd1093aff80', 'trained_in_environment': 'dev', 'trained_in_workspace': 'msft-weu-DEV-eap-proj02_ai-amls', 'experiment_name': '11_diabetes_model_reg', 'trained_with': 'AutoMLStep', 'test_set_RMSE': '56.501912', 'test_set_R2': '0.426615', 'test_set_MAPE': '0.339886', 'test_set_Spearman_Correlation': '0.649199'}, properties={'esml_time_updated': '2022-10-19 13:44:01.160405', 'status_code': 'esml_newly_trained', 'run_id': '1dcfb58a-629f-4b85-be13-795666165cc9', 'model_name': 'AutoMLd1093aff80', 'trained_in_environment': 'dev', 'trained_in_workspace': 'msft-weu-DEV-eap-proj02_ai-amls', 'experiment_name': '11_diabetes_model_reg', 'trained_with': 'AutoMLStep'})\n",
      "- source_model.name:AutoMLd1093aff80 and version:29\n",
      "- source_model.tags[status_code] esml_newly_trained \n",
      "ESML INFO:ModelCompare:201:Source challenging model, name AutoMLd1093aff80\n",
      "Run ID TAG: source_model.tags[run_id] 1dcfb58a-629f-4b85-be13-795666165cc9\n",
      "SOURCE: Trying to hydrate RUN, since DEV environment.\n",
      "# source_best_run: TODO: best_run, not run?\n",
      "ESML INFO: try: automl_run or notebook_automl\n",
      "ESML INFO: except PipelineRun\n",
      "automl_run_step_by_index: 58be91c0-0768-4b59-bd3c-d5fbc90379ff and type <class 'azureml.pipeline.core.run.StepRun'>\n",
      "automl_step_run_id:58be91c0-0768-4b59-bd3c-d5fbc90379ff which is 'new_run_id' in comparer.compare_scoring_current_vs_new_model\n",
      "Searching with Model list LAMBDA FILTER, on experiment_name in Model.tags called: 11_diabetes_model_reg . Meaning ESML checks for both Notebook run (AutoMLRun, Run) and PipelineRuns (AutoMLStep, PipelineRun)\n",
      "E.g. Even if Pipeline experiment is called '11_diabetes_model_reg_IN_2_GOLD_TRAIN' it will be included, since original model_folder_name in ESML is '11_diabetes_model_reg' as a notebook Run experiment name. Both is included in search\n",
      "TIME: FILTER ModelList:\n",
      "Minutes: 3.656816267967224\n",
      "DEBUG filtered_list length 3\n",
      "DEBUG: model_highest_version Model(workspace=Workspace.create(name='msft-weu-DEV-eap-proj02_ai-amls', subscription_id='ca0a8c40-b06a-4e4e-8434-63c03a1dee34', resource_group='MSFT-WEU-EAP_PROJECT02_AI-DEV-RG'), name=AutoMLd1093aff80, id=AutoMLd1093aff80:30, version=30, tags={'run_id': '58be91c0-0768-4b59-bd3c-d5fbc90379ff', 'model_name': 'AutoMLd1093aff80', 'trained_in_environment': 'dev', 'trained_in_workspace': 'msft-weu-DEV-eap-proj02_ai-amls', 'experiment_name': '11_diabetes_model_reg', 'test_set_RMSE': '56.501912', 'test_set_R2': '0.426615', 'test_set_MAPE': '0.339886', 'test_set_Spearman_Correlation': '0.649199', 'status_code': 'esml_promoted_2_dev', 'mflow_stage': 'Staging'}, properties={})\n",
      "ESML INFO:ModelCompare:202:Target challenging model, name AutoMLd1093aff80\n",
      "ESML INFO:102:TARGET: Trying to hydrate RUN, since DEV environment is TARGET. INNER LOOP\n",
      "ESML INFO: try: automl_run or notebook_automl\n",
      "# target_best_run: TODO: best_run, not run?\n",
      "New trained model source run_id: 58be91c0-0768-4b59-bd3c-d5fbc90379ff_0\n",
      "\n",
      "Q: Do we have SCORING DRIFT / CONCEPT DRIFT? - Is a model trained on NEW data better? = the one in production degraded?\n",
      "\n",
      "New trained model: model id AutoMLd1093aff80:29\n",
      "INFO: Using ESML TEST_SET SCORING, since tagged on MODEL - using this to compare SCORING\n",
      "RMSE (normalized_root_mean_squared_error): 56.501912\n",
      "MAPE (Mean average Percentage Error): 0.339886\n",
      "MAE (normalized_mean_absolute_error): -1\n",
      "R2 (r2_score): 0.426615\n",
      "Spearman (spearman_correlation): 0.649199\n",
      "\n",
      "Target model, to compare with. model id AutoMLd1093aff80:30\n",
      "INFO: Using ESML TEST_SET SCORING, since tagged on MODEL - using this to compare SCORING\n",
      "RMSE (normalized_root_mean_squared_error): 56.501912\n",
      "MAPE (Mean average Percentage Error): 0.339886\n",
      "MAE (normalized_mean_absolute_error): -1\n",
      "R2 (r2_score): 0.426615\n",
      "Spearman (spearman_correlation): 0.649199\n",
      "\n",
      "Selected metrics, and weights, to be used when comparing for promotion/scoring drift\n",
      "Metric weight: RMSE_promote_weight is 0.4000\n",
      "Metric VALUE (incl. weight) 56.1019 (without weight:  56.5019)\n",
      "\n",
      "Metric weight: R2_promote_weight is -0.5000\n",
      "Metric VALUE (incl. weight) 0.9266 (without weight:  0.4266)\n",
      "\n",
      "Metric weight: Spearman_promote_weight is -0.3000\n",
      "Metric VALUE (incl. weight) 0.9492 (without weight:  0.6492)\n",
      "\n",
      "\n",
      "Promote model = True\n"
     ]
    }
   ],
   "source": [
    "ws = p.ws\n",
    "esml_current_env = \"dev\"\n",
    "next_environment=\"dev\"\n",
    "\n",
    "##### BOTH run_ids works (since try AutoMLRun/catch Pipeline & find AutoMLRun) to find correct AutoMLRun - but get the WRONG model anyway\n",
    "run_id_tag = \"58be91c0-0768-4b59-bd3c-d5fbc90379ff\" # = AutoMLTrainStep in main_pipeline_runid=1dcfb58a-629f-4b85-be13-795666165cc9\n",
    "    ## ModelNotFound: Model with name 58be91c007684b50 not found in provided workspace\n",
    "\n",
    "run_id_tag = \"1dcfb58a-629f-4b85-be13-795666165cc9\" # main_pipeline_runid=1dcfb58a-629f-4b85-be13-795666165cc9\n",
    "    ## ModelNotFound: Model with name 58be91c007684b50 not found in provided workspace\n",
    "#### END \n",
    "\n",
    "\n",
    "#current_model,run_id_tag, model_name = IESMLController.get_best_model_via_modeltags_only_DevTestProd(ws,controller.experiment_name)\n",
    "#print(\"run_id_tag\",run_id_tag) # 58be91c0-0768-4b59-bd3c-d5fbc90379ff = AutoMLTrainStep in main_pipeline_runid=1dcfb58a-629f-4b85-be13-795666165cc9\n",
    "target_ws = controller.get_target_workspace(current_environment = esml_current_env, current_ws = ws, target_environment = esml_current_env)\n",
    "\n",
    "#self, current_ws,current_environment, target_environment,target_workspace, experiment_name, new_model=None, new_run_id=None\n",
    "promote_new_model,source_model_name,source_run_id,source_best_run,source_model,leading_model = comparer.compare_scoring_current_vs_new_model(\n",
    "    new_run_id = None,#run_id_tag, #automl_step_run_id,\n",
    "    new_model = None,\n",
    "    current_ws = ws,\n",
    "    current_environment = esml_current_env,\n",
    "    target_environment = next_environment,\n",
    "    target_workspace = target_ws,\n",
    "    experiment_name = controller.experiment_name)"
   ]
  },
  {
   "cell_type": "markdown",
   "metadata": {},
   "source": [
    "## COMPARE - dev with test"
   ]
  },
  {
   "cell_type": "code",
   "execution_count": 5,
   "metadata": {},
   "outputs": [
    {
     "name": "stdout",
     "output_type": "stream",
     "text": [
      "Connect from DEV to TEST subscription/workspace  ( if you want to compare TEST-model with latest registered in PROD\n",
      "\n",
      "Connecting to env: test\n",
      "- ws name: msft-weu-DEV-eap-proj02_ai-amls\n",
      "- self._secret_name_tenant: kv-msft-weu-dev-cmnai-tenant\n",
      "- self._secret_name_project_sp_id: kv-secret-esml-project002-sp-id\n",
      "- self._secret_name_project_sp_secret: kv-secret-esml-project002-sp-secret\n",
      "Searching with Model list LAMBDA FILTER, on experiment_name in Model.tags called: 11_diabetes_model_reg . Meaning ESML checks for both Notebook run (AutoMLRun, Run) and PipelineRuns (AutoMLStep, PipelineRun)\n",
      "E.g. Even if Pipeline experiment is called '11_diabetes_model_reg_IN_2_GOLD_TRAIN' it will be included, since original model_folder_name in ESML is '11_diabetes_model_reg' as a notebook Run experiment name. Both is included in search\n",
      "TIME: FILTER ModelList:\n",
      "Minutes: 4.564389169216156\n",
      "- source_model.name:AutoMLd1093aff80 and version:29\n",
      "- source_model.tags[status_code] esml_newly_trained \n",
      "ESML INFO:ModelCompare:201:Source challenging model, name AutoMLd1093aff80\n",
      "Run ID TAG: source_model.tags[run_id] 1dcfb58a-629f-4b85-be13-795666165cc9\n",
      "SOURCE: Trying to hydrate RUN, since DEV environment.\n",
      "ESML INFO: try: automl_run or notebook_automl\n",
      "ESML INFO: except PipelineRun\n",
      "automl_run_step_by_index: 58be91c0-0768-4b59-bd3c-d5fbc90379ff and type <class 'azureml.pipeline.core.run.StepRun'>\n",
      "automl_step_run_id:58be91c0-0768-4b59-bd3c-d5fbc90379ff which is 'new_run_id' in comparer.compare_scoring_current_vs_new_model\n",
      "Searching with Model list LAMBDA FILTER, on experiment_name in Model.tags called: 11_diabetes_model_reg . Meaning ESML checks for both Notebook run (AutoMLRun, Run) and PipelineRuns (AutoMLStep, PipelineRun)\n",
      "E.g. Even if Pipeline experiment is called '11_diabetes_model_reg_IN_2_GOLD_TRAIN' it will be included, since original model_folder_name in ESML is '11_diabetes_model_reg' as a notebook Run experiment name. Both is included in search\n",
      "TIME: FILTER ModelList:\n",
      "Minutes: 0.14945326646169027\n",
      "ESML INFO:RunId TAG: Target leading_model_name_tag AutoMLd1093aff80\n",
      "ESML INFO:RunId TAG: Target leading_model.name AutoMLd1093aff80\n",
      "New trained model source run_id: 58be91c0-0768-4b59-bd3c-d5fbc90379ff_0\n",
      "\n",
      "Q: Do we have SCORING DRIFT / CONCEPT DRIFT? - Is a model trained on NEW data better? = the one in production degraded?\n",
      "\n",
      "New trained model: model id AutoMLd1093aff80:29\n",
      "INFO: Using ESML TEST_SET SCORING, since tagged on MODEL - using this to compare SCORING\n",
      "RMSE (normalized_root_mean_squared_error): 56.501912\n",
      "MAPE (Mean average Percentage Error): 0.339886\n",
      "MAE (normalized_mean_absolute_error): -1\n",
      "R2 (r2_score): 0.426615\n",
      "Spearman (spearman_correlation): 0.649199\n",
      "\n",
      "Target model, to compare with. model id AutoMLd1093aff80:2\n",
      "INFO: Using ESML TEST_SET SCORING, since tagged on MODEL - using this to compare SCORING\n",
      "RMSE (normalized_root_mean_squared_error): 56.501912\n",
      "MAPE (Mean average Percentage Error): 0.339886\n",
      "MAE (normalized_mean_absolute_error): -1\n",
      "R2 (r2_score): 0.426615\n",
      "Spearman (spearman_correlation): 0.649199\n",
      "\n",
      "Selected metrics, and weights, to be used when comparing for promotion/scoring drift\n",
      "Metric weight: RMSE_promote_weight is 0.4000\n",
      "Metric VALUE (incl. weight) 56.1019 (without weight:  56.5019)\n",
      "\n",
      "Metric weight: R2_promote_weight is -0.5000\n",
      "Metric VALUE (incl. weight) 0.9266 (without weight:  0.4266)\n",
      "\n",
      "Metric weight: Spearman_promote_weight is -0.3000\n",
      "Metric VALUE (incl. weight) 0.9492 (without weight:  0.6492)\n",
      "\n",
      "\n",
      "Promote model = True\n"
     ]
    }
   ],
   "source": [
    "ws = p.ws\n",
    "esml_current_env = \"dev\"\n",
    "next_environment=\"test\"\n",
    "target_ws = controller.get_target_workspace(current_environment = esml_current_env, current_ws = ws, target_environment = next_environment)\n",
    "\n",
    "promote_new_model,source_model_name,source_run_id,source_best_run,source_model,leading_model = comparer.compare_scoring_current_vs_new_model(\n",
    "    new_run_id = None,#run_id_tag, #automl_step_run_id,\n",
    "    new_model = None,\n",
    "    current_ws = ws,\n",
    "    current_environment = esml_current_env,\n",
    "    target_environment = next_environment,\n",
    "    target_workspace = target_ws,\n",
    "    experiment_name = controller.experiment_name)"
   ]
  },
  {
   "cell_type": "markdown",
   "metadata": {},
   "source": [
    "# Promote from DEV to TEST"
   ]
  },
  {
   "cell_type": "code",
   "execution_count": 6,
   "metadata": {},
   "outputs": [
    {
     "name": "stdout",
     "output_type": "stream",
     "text": [
      "msft-weu-DEV-eap-proj02_ai-amls\n",
      "msft-weu-TEST-eap-proj02_ai-amls\n"
     ]
    }
   ],
   "source": [
    "dev_ws = p.ws\n",
    "test_ws = p.get_other_workspace(\"test\")\n",
    "print(dev_ws.name)\n",
    "print(test_ws.name)"
   ]
  },
  {
   "cell_type": "markdown",
   "metadata": {},
   "source": [
    "### 1) Get best model in TEST\n",
    "- 2022-10-18: 9 seconds, for 41 models. \n",
    "    - Note: This goes WAY FASTER when running as Azure ML Pipeline (since looping is cloud only, not cloud->local, cloud-local for each batch in IEnumerable)"
   ]
  },
  {
   "cell_type": "code",
   "execution_count": 7,
   "metadata": {},
   "outputs": [
    {
     "name": "stdout",
     "output_type": "stream",
     "text": [
      "Searching with Model list LAMBDA FILTER, on experiment_name in Model.tags called: 11_diabetes_model_reg . Meaning ESML checks for both Notebook run (AutoMLRun, Run) and PipelineRuns (AutoMLStep, PipelineRun)\n",
      "E.g. Even if Pipeline experiment is called '11_diabetes_model_reg_IN_2_GOLD_TRAIN' it will be included, since original model_folder_name in ESML is '11_diabetes_model_reg' as a notebook Run experiment name. Both is included in search\n",
      "TIME: FILTER ModelList:\n",
      "Minutes: 0.15310513973236084\n",
      "Current BEST model in msft-weu-TEST-eap-proj02_ai-amls workspace is: AutoMLd1093aff80 from Model registry with experiment_name-TAG 11_diabetes_model_reg, run_id-TAG 2a53a315-52bb-461b-a628-a733d95cf7d1  model_name-TAG AutoMLd1093aff80\n"
     ]
    }
   ],
   "source": [
    "current_model,run_id_tag, model_name = IESMLController.get_best_model_via_modeltags_only_DevTestProd(test_ws,controller.experiment_name)\n",
    "print(\"Current BEST model in {} workspace is: {} from Model registry with experiment_name-TAG {}, run_id-TAG {}  model_name-TAG {}\".format(test_ws.name, current_model.name,controller.experiment_name,run_id_tag,model_name))"
   ]
  },
  {
   "cell_type": "code",
   "execution_count": 9,
   "metadata": {},
   "outputs": [
    {
     "name": "stdout",
     "output_type": "stream",
     "text": [
      "esml_promoted_2_test\n"
     ]
    },
    {
     "data": {
      "text/plain": [
       "Model(workspace=Workspace.create(name='msft-weu-TEST-eap-proj02_ai-amls', subscription_id='ca0a8c40-b06a-4e4e-8434-63c03a1dee34', resource_group='MSFT-WEU-EAP_PROJECT02_AI-TEST-RG'), name=AutoMLd1093aff80, id=AutoMLd1093aff80:2, version=2, tags={'status_code': 'esml_promoted_2_test', 'run_id': '2a53a315-52bb-461b-a628-a733d95cf7d1', 'model_name': 'AutoMLd1093aff80', 'trained_in_environment': 'dev', 'trained_in_workspace': 'msft-weu-DEV-eap-proj02_ai-amls', 'experiment_name': '11_diabetes_model_reg', 'trained_with': 'AutoMLStep', 'test_set_RMSE': '56.501912', 'test_set_R2': '0.426615', 'test_set_MAPE': '0.339886', 'test_set_Spearman_Correlation': '0.649199', 'esml_time_updated': '10/14/2022, 08:58:53', 'mflow_stage': 'Staging'}, properties={'status_code': 'esml_promoted_2_test', 'run_id': '2a53a315-52bb-461b-a628-a733d95cf7d1', 'model_name': 'AutoMLd1093aff80', 'trained_in_environment': 'dev', 'trained_in_workspace': 'msft-weu-DEV-eap-proj02_ai-amls', 'experiment_name': '11_diabetes_model_reg', 'trained_with': 'AutoMLStep', 'test_set_RMSE': '56.501912', 'test_set_R2': '0.426615', 'test_set_MAPE': '0.339886', 'test_set_Spearman_Correlation': '0.649199', 'esml_time_updated': '10/14/2022, 08:58:53', 'mflow_stage': 'Staging'})"
      ]
     },
     "execution_count": 9,
     "metadata": {},
     "output_type": "execute_result"
    }
   ],
   "source": [
    "print(current_model.tags[\"status_code\"])\n",
    "current_model"
   ]
  },
  {
   "cell_type": "markdown",
   "metadata": {},
   "source": [
    "### 2) Get best model in DEV and register to TEST\n",
    "- 2022-10-18: 9 seconds, for 300 registered models. \n",
    "    - Note: This goes WAY FASTER when running as Azure ML Pipeline (since looping is cloud only, not cloud->local, cloud-local for each batch in IEnumerable)\n",
    "\n",
    "Q: Why slow on OLD models, older than 2022-10-18?\n",
    "- If not trained 2022-10-18: 4:30 LAMBDA x2\n",
    "- If trained post that: 3min 54seconds is natural time, locally, if 300 models in regitry (since correct status-tag exists)\n",
    "    - Note: This takes seconds not minutes, when running as Azure ML Piepeline"
   ]
  },
  {
   "cell_type": "code",
   "execution_count": 10,
   "metadata": {},
   "outputs": [
    {
     "name": "stdout",
     "output_type": "stream",
     "text": [
      "Searching with Model list LAMBDA FILTER, on experiment_name in Model.tags called: 11_diabetes_model_reg . Meaning ESML checks for both Notebook run (AutoMLRun, Run) and PipelineRuns (AutoMLStep, PipelineRun)\n",
      "E.g. Even if Pipeline experiment is called '11_diabetes_model_reg_IN_2_GOLD_TRAIN' it will be included, since original model_folder_name in ESML is '11_diabetes_model_reg' as a notebook Run experiment name. Both is included in search\n",
      "TIME: FILTER ModelList:\n",
      "Minutes: 4.228573095798493\n",
      "Current BEST model in msft-weu-DEV-eap-proj02_ai-amls workspace is: AutoMLd1093aff80 from Model registry with experiment_name-TAG 11_diabetes_model_reg, run_id-TAG 58be91c0-0768-4b59-bd3c-d5fbc90379ff  model_name-TAG AutoMLd1093aff80\n"
     ]
    }
   ],
   "source": [
    "dev_ws = p.ws\n",
    "dev_model,dev_run_id_tag, dev_model_name = IESMLController.get_best_model_via_modeltags_only_DevTestProd(dev_ws,controller.experiment_name)\n",
    "print(\"Current BEST model in {} workspace is: {} from Model registry with experiment_name-TAG {}, run_id-TAG {}  model_name-TAG {}\".format(dev_ws.name, dev_model.name,controller.experiment_name,dev_run_id_tag,dev_model_name))"
   ]
  },
  {
   "cell_type": "code",
   "execution_count": 11,
   "metadata": {},
   "outputs": [
    {
     "name": "stdout",
     "output_type": "stream",
     "text": [
      "esml_promoted_2_dev\n"
     ]
    },
    {
     "data": {
      "text/plain": [
       "Model(workspace=Workspace.create(name='msft-weu-DEV-eap-proj02_ai-amls', subscription_id='ca0a8c40-b06a-4e4e-8434-63c03a1dee34', resource_group='MSFT-WEU-EAP_PROJECT02_AI-DEV-RG'), name=AutoMLd1093aff80, id=AutoMLd1093aff80:30, version=30, tags={'run_id': '58be91c0-0768-4b59-bd3c-d5fbc90379ff', 'model_name': 'AutoMLd1093aff80', 'trained_in_environment': 'dev', 'trained_in_workspace': 'msft-weu-DEV-eap-proj02_ai-amls', 'experiment_name': '11_diabetes_model_reg', 'test_set_RMSE': '56.501912', 'test_set_R2': '0.426615', 'test_set_MAPE': '0.339886', 'test_set_Spearman_Correlation': '0.649199', 'status_code': 'esml_promoted_2_dev', 'mflow_stage': 'Staging'}, properties={})"
      ]
     },
     "execution_count": 11,
     "metadata": {},
     "output_type": "execute_result"
    }
   ],
   "source": [
    "print(dev_model.tags[\"status_code\"])\n",
    "dev_model"
   ]
  },
  {
   "cell_type": "code",
   "execution_count": 12,
   "metadata": {},
   "outputs": [
    {
     "name": "stdout",
     "output_type": "stream",
     "text": [
      "Connecting to env: dev\n",
      "- ws name: msft-weu-DEV-eap-proj02_ai-amls\n",
      "- self._secret_name_tenant: kv-msft-weu-dev-cmnai-tenant\n",
      "- self._secret_name_project_sp_id: kv-secret-esml-project002-sp-id\n",
      "- self._secret_name_project_sp_secret: kv-secret-esml-project002-sp-secret\n",
      "Connecting to env: dev\n",
      "- ws name: msft-weu-DEV-eap-proj02_ai-amls\n",
      "- self._secret_name_tenant: kv-msft-weu-dev-cmnai-tenant\n",
      "- self._secret_name_project_sp_id: kv-secret-esml-project002-sp-id\n",
      "- self._secret_name_project_sp_secret: kv-secret-esml-project002-sp-secret\n",
      "target=source environement. Compare model version in DEV/TEST/PROD with latest registered in same DEV/TEST/PROD workspace (same workspace & subscriptiom comparison)\n",
      "\n",
      "Register in workspace: msft-weu-DEV-eap-proj02_ai-amls\n",
      "Registering model AutoMLd1093aff80\n",
      "DEV model promoted: {} AutoMLd1093aff80\n",
      "status_code : esml_promoted_2_dev\n"
     ]
    }
   ],
   "source": [
    "# PROMOTE in DEV\n",
    "dev_model_promoted = controller.register_model(source_ws=p.ws, target_env=\"dev\", source_model=dev_model, esml_status=IESMLController.esml_status_promoted_2_dev)\n",
    "print(\"DEV model promoted: {}\".format(dev_model_promoted.name))\n",
    "print(\"status_code : {}\".format(dev_model.tags[\"status_code\"]))"
   ]
  },
  {
   "cell_type": "code",
   "execution_count": 13,
   "metadata": {},
   "outputs": [
    {
     "name": "stdout",
     "output_type": "stream",
     "text": [
      "status_code : esml_promoted_2_dev\n",
      "model_name  : AutoMLd1093aff80\n",
      "trained_in_workspace   : msft-weu-DEV-eap-proj02_ai-amls\n"
     ]
    }
   ],
   "source": [
    "if (\"esml_time_updated\" in dev_model.tags):\n",
    "    print(\"esml_time_updated: {}\".format(dev_model.tags[\"esml_time_updated\"]))\n",
    "print(\"status_code : {}\".format(dev_model.tags[\"status_code\"]))\n",
    "print(\"model_name  : {}\".format(dev_model.tags[\"model_name\"]))\n",
    "print(\"trained_in_workspace   : {}\".format(dev_model.tags[\"trained_in_workspace\"]))"
   ]
  },
  {
   "cell_type": "code",
   "execution_count": 14,
   "metadata": {},
   "outputs": [
    {
     "name": "stdout",
     "output_type": "stream",
     "text": [
      "Connecting to env: test\n",
      "- ws name: msft-weu-DEV-eap-proj02_ai-amls\n",
      "- self._secret_name_tenant: kv-msft-weu-dev-cmnai-tenant\n",
      "- self._secret_name_project_sp_id: kv-secret-esml-project002-sp-id\n",
      "- self._secret_name_project_sp_secret: kv-secret-esml-project002-sp-secret\n",
      "Connecting to env: dev\n",
      "- ws name: msft-weu-DEV-eap-proj02_ai-amls\n",
      "- self._secret_name_tenant: kv-msft-weu-dev-cmnai-tenant\n",
      "- self._secret_name_project_sp_id: kv-secret-esml-project002-sp-id\n",
      "- self._secret_name_project_sp_secret: kv-secret-esml-project002-sp-secret\n",
      "Connect from DEV to TEST subscription/workspace  ( if you want to compare TEST-model with latest registered in PROD\n",
      "\n",
      "Connecting to env: test\n",
      "- ws name: msft-weu-DEV-eap-proj02_ai-amls\n",
      "- self._secret_name_tenant: kv-msft-weu-dev-cmnai-tenant\n",
      "- self._secret_name_project_sp_id: kv-secret-esml-project002-sp-id\n",
      "- self._secret_name_project_sp_secret: kv-secret-esml-project002-sp-secret\n",
      "Register in workspace: msft-weu-TEST-eap-proj02_ai-amls\n",
      "Registering model AutoMLd1093aff80\n",
      "dev2test_model_registered: {} AutoMLd1093aff80\n"
     ]
    }
   ],
   "source": [
    "# REGISTER dev model to TEST\n",
    "dev2test_model_registered = controller.register_model(source_ws=p.ws, target_env=\"test\", source_model=dev_model)\n",
    "print(\"dev2test_model_registered: {}\", dev2test_model_registered.name)"
   ]
  },
  {
   "cell_type": "markdown",
   "metadata": {},
   "source": [
    "### 3) Verify - that the BEST model in TEST (date registered) now is different from the one in step 1 check"
   ]
  },
  {
   "cell_type": "code",
   "execution_count": 15,
   "metadata": {},
   "outputs": [
    {
     "name": "stdout",
     "output_type": "stream",
     "text": [
      "Searching with Model list LAMBDA FILTER, on experiment_name in Model.tags called: 11_diabetes_model_reg . Meaning ESML checks for both Notebook run (AutoMLRun, Run) and PipelineRuns (AutoMLStep, PipelineRun)\n",
      "E.g. Even if Pipeline experiment is called '11_diabetes_model_reg_IN_2_GOLD_TRAIN' it will be included, since original model_folder_name in ESML is '11_diabetes_model_reg' as a notebook Run experiment name. Both is included in search\n",
      "TIME: FILTER ModelList:\n",
      "Minutes: 0.14623868068059284\n",
      "Current BEST model in msft-weu-TEST-eap-proj02_ai-amls workspace is: AutoMLd1093aff80 from Model registry with experiment_name-TAG 11_diabetes_model_reg, run_id-TAG 58be91c0-0768-4b59-bd3c-d5fbc90379ff  model_name-TAG AutoMLd1093aff80\n",
      "\n",
      "status_code : esml_promoted_2_test\n",
      "model_name  : AutoMLd1093aff80\n",
      "trained_in_workspace   : msft-weu-DEV-eap-proj02_ai-amls\n"
     ]
    }
   ],
   "source": [
    "test_model_again,run_id_tag, model_name = IESMLController.get_best_model_via_modeltags_only_DevTestProd(test_ws,controller.experiment_name)\n",
    "print(\"Current BEST model in {} workspace is: {} from Model registry with experiment_name-TAG {}, run_id-TAG {}  model_name-TAG {}\".format(test_ws.name, test_model_again.name,controller.experiment_name,run_id_tag,model_name))\n",
    "print(\"\")\n",
    "if (\"esml_time_updated\" in test_model_again.tags):\n",
    "    print(\"esml_time_updated: {}\".format(test_model_again.tags[\"esml_time_updated\"]))\n",
    "print(\"status_code : {}\".format(test_model_again.tags[\"status_code\"]))\n",
    "print(\"model_name  : {}\".format(test_model_again.tags[\"model_name\"]))\n",
    "print(\"trained_in_workspace   : {}\".format(test_model_again.tags[\"trained_in_workspace\"]))"
   ]
  },
  {
   "cell_type": "markdown",
   "metadata": {},
   "source": [
    "## 1,2,3 all together"
   ]
  },
  {
   "cell_type": "code",
   "execution_count": null,
   "metadata": {},
   "outputs": [],
   "source": [
    "p.dev_test_prod = \"dev\" # TODO: change to test when prod is up\n",
    "controller.dev_test_prod = \"test\" # TODO: change to test when prod is up\n",
    "next_environment = controller.get_next_environment()\n",
    "model = test_model_again\n",
    "\n",
    "next_environment = controller.get_next_environment() # Test, or PROD\n",
    "promote_new_model,source_model_name,source_run_id,source_best_run,source_model,target_model = comparer.compare_scoring_current_vs_new_model(\n",
    "    new_run_id = run_id_tag, #main_run.id,\n",
    "    current_ws = p.ws,\n",
    "    current_environment = \"dev\",\n",
    "    target_environment = \"test\",\n",
    "    target_workspace = test_ws,\n",
    "    experiment_name = controller.experiment_name)\n",
    "\n",
    "print(\"Compared 2nd time - Outer loop\")\n",
    "if (promote_new_model == True):\n",
    "    model_registered_in_target = controller.register_model(source_ws=p.ws, target_env=next_environment, source_model=model,esml_status=IESMLController.esml_status_promoted_2_test)\n",
    "    print(\"Registered model {} with version {} in TEST\".format(model_registered_in_target.name,model_registered_in_target.version))"
   ]
  },
  {
   "cell_type": "markdown",
   "metadata": {},
   "source": [
    "# VARIOUS things"
   ]
  },
  {
   "cell_type": "code",
   "execution_count": null,
   "metadata": {},
   "outputs": [],
   "source": [
    "controller.experiment_name"
   ]
  },
  {
   "cell_type": "code",
   "execution_count": null,
   "metadata": {},
   "outputs": [],
   "source": [
    "from azureml.train.automl.run import AutoMLRun\n",
    "\n",
    "automl_step_run_id = '8b7c996f-6937-4470-a42b-7e59d91f6d49'\n",
    "\n",
    "experiment_run = ws.experiments[controller.experiment_name] # Get the experiment. Alternatively: Experiment(workspace=source_workspace, name=experiment_name)\n",
    "automl_step_run = AutoMLRun(experiment_run, run_id = automl_step_run_id)\n",
    "best_run, fitted_model_1 = automl_step_run.get_output()\n",
    "\n",
    "promote_new_model,source_model_name,source_run_id,source_best_run,source_model,target_model = comparer.compare_scoring_current_vs_new_model(\n",
    "    new_run_id = automl_step_run_id, # main_run.id,\n",
    "    current_ws = ws,\n",
    "    current_environment = esml_current_env,\n",
    "    target_environment = esml_current_env,\n",
    "    target_workspace = ws,\n",
    "    experiment_name = controller.experiment_name)"
   ]
  },
  {
   "cell_type": "code",
   "execution_count": null,
   "metadata": {},
   "outputs": [],
   "source": [
    "print(IESMLController.esml_status_new)"
   ]
  },
  {
   "cell_type": "code",
   "execution_count": null,
   "metadata": {},
   "outputs": [],
   "source": [
    "controller.dev_test_prod"
   ]
  },
  {
   "cell_type": "markdown",
   "metadata": {},
   "source": [
    "# Get BEST MODEL"
   ]
  },
  {
   "cell_type": "code",
   "execution_count": null,
   "metadata": {},
   "outputs": [],
   "source": [
    "experiment, model,main_run, best_automl_run,fitted_model = controller.get_latest_run_via_PipelineMetaDataset(ws,controller.experiment_name, controller.dataset_gold_train_runinfo_name_azure)\n",
    "print(\"     ###    \")\n",
    "print(\"Experiment:\", experiment.name)\n",
    "print(\"Pipeline RUN:\", main_run.id)\n",
    "print(\"Best RUN:\",best_automl_run)\n",
    "print (\"...and...\")\n",
    "\n",
    "print(\"AML Model()\", type(model))\n",
    "print(\"Fitted model\", type(fitted_model))"
   ]
  },
  {
   "cell_type": "code",
   "execution_count": null,
   "metadata": {},
   "outputs": [],
   "source": [
    "main_run"
   ]
  },
  {
   "cell_type": "code",
   "execution_count": null,
   "metadata": {},
   "outputs": [],
   "source": [
    "experiment, model,main_run, best_run,fitted_model = IESMLController.get_best_model_run_fitted_model_Dev(ws,controller.experiment_name, get_latest_challenger=False)\n",
    "print(experiment.name)\n",
    "print(model.name)\n",
    "print(main_run.id)\n",
    "try:\n",
    "    print(model.tags['esml_time_updated'])\n",
    "except:\n",
    "    print(\"Not an ESML registered model..\")\n",
    "    \n",
    "print (\"...and...\")\n",
    "print(type(best_run))\n",
    "print(type(fitted_model))"
   ]
  },
  {
   "cell_type": "code",
   "execution_count": null,
   "metadata": {},
   "outputs": [],
   "source": [
    "model_highest_version, run_id_tag, model_name_tag = IESMLController.get_best_model_via_modeltags_only_DevTestProd(ws,controller.experiment_name,get_latest_challenger=False,filter_on_version=None,sort_by_created_instead_of_version=False) # 3:39 LAMBDA\n",
    "print(model_highest_version.name)\n",
    "print(run_id_tag)\n",
    "print(model_name_tag)\n",
    "# 4.24 Datetime sort\n",
    "try:\n",
    "    print(model_highest_version.version) # AutoML00b58dfed0 (v17) (manual run) VS 11_diabetes_model_reg(v 11) -> Both are TAGGED with experiment_name=11_diabetes_model_reg\n",
    "    print(model_highest_version.created_time)\n",
    "    print(model_highest_version.tags['esml_time_updated'])\n",
    "except:\n",
    "    print(\"Not an ESML registered model..\")\n",
    "\n",
    "print(\"model_highest_version.run is None: {}\".format((model_highest_version.run is None)))"
   ]
  },
  {
   "cell_type": "code",
   "execution_count": null,
   "metadata": {},
   "outputs": [],
   "source": [
    "from azureml.core import Model\n",
    "all_models = Model.list(workspace=ws)\n",
    "filtered_list = list(filter(lambda r: (r.tags.get(\"experiment_name\") == controller.experiment_name), all_models))\n",
    "\n",
    "filtered_list.sort(key=lambda r: r.version,reverse=True)\n",
    "            \n",
    "if (len(filtered_list) > 0): # IF we found any...\n",
    "    model_highest_version = filtered_list[0]\n",
    "\n",
    "print(model_highest_version.version)\n",
    "print(model_highest_version.created_time)"
   ]
  },
  {
   "cell_type": "code",
   "execution_count": null,
   "metadata": {},
   "outputs": [],
   "source": [
    "print(model_highest_version.created_time)"
   ]
  },
  {
   "cell_type": "markdown",
   "metadata": {},
   "source": [
    "# get TEST SCORING"
   ]
  },
  {
   "cell_type": "code",
   "execution_count": null,
   "metadata": {},
   "outputs": [],
   "source": [
    "#  label,ws, GoldTest, model, fitted_model, source_best_run/run\n",
    "experiment, model,main_run, best_automl_run,fitted_model = IESMLController.get_best_model_run_fitted_model_Dev(ws,controller.experiment_name)"
   ]
  },
  {
   "cell_type": "code",
   "execution_count": null,
   "metadata": {},
   "outputs": [],
   "source": [
    "best_automl_run.properties['model_name']"
   ]
  },
  {
   "cell_type": "code",
   "execution_count": null,
   "metadata": {},
   "outputs": [],
   "source": [
    "type(fitted_model)"
   ]
  },
  {
   "cell_type": "code",
   "execution_count": null,
   "metadata": {},
   "outputs": [],
   "source": [
    "model, rmse, r2, mean_abs_percent_error,mae,spearman_correlation,plt, dummy = test_scoring.get_test_scoring_8(ws,target_column_name,test_ds,fitted_model,best_automl_run,model)"
   ]
  },
  {
   "cell_type": "markdown",
   "metadata": {},
   "source": [
    "# REGISTER model in DEV"
   ]
  },
  {
   "cell_type": "code",
   "execution_count": null,
   "metadata": {},
   "outputs": [],
   "source": [
    "experiment, model2,main_run, best_automl_run,fitted_model = IESMLController.get_best_model_run_fitted_model_Dev(ws,controller.experiment_name) # Get model again"
   ]
  },
  {
   "cell_type": "code",
   "execution_count": null,
   "metadata": {},
   "outputs": [],
   "source": [
    "model_registered_in_target = controller.register_model(source_ws=ws, target_env=\"dev\", source_model_to_copy_tags_from=model2,esml_status=IESMLController.esml_status_promoted_2_dev)"
   ]
  },
  {
   "cell_type": "markdown",
   "metadata": {},
   "source": [
    "# REGISTER model from DEV to TEST"
   ]
  },
  {
   "cell_type": "code",
   "execution_count": null,
   "metadata": {},
   "outputs": [],
   "source": [
    "model_registered_in_target = controller.register_model(source_ws=ws, target_env=\"test\", source_model_to_copy_tags_from=model2)"
   ]
  },
  {
   "cell_type": "markdown",
   "metadata": {},
   "source": [
    "# End-2-End"
   ]
  },
  {
   "cell_type": "code",
   "execution_count": null,
   "metadata": {},
   "outputs": [],
   "source": [
    "experiment, model,main_run, best_automl_run,fitted_model = IESMLController.get_best_model_run_fitted_model_Dev(ws,controller.experiment_name)"
   ]
  },
  {
   "cell_type": "code",
   "execution_count": null,
   "metadata": {},
   "outputs": [],
   "source": [
    "esml_modelname"
   ]
  },
  {
   "cell_type": "code",
   "execution_count": null,
   "metadata": {},
   "outputs": [],
   "source": [
    "def train_test_compare_register(ws,target_column_name,esml_modelname,esml_model_alias, esml_current_env, train_ds,validate_ds,test_ds):\n",
    "    test_scoring = None # IESMLTestScoringFactory\n",
    "    comparer = None # IESMLModelCompare\n",
    "    trainer = None # IESMLTrainer\n",
    "\n",
    "    # CUSTOMIZE ############### Optional: You can CUSTOMIZE, by implementing your own CLASS that supports interfaces/abstract classes: IESMLTestScoringFactory,IESMLModelCompare\n",
    "    ml_type = \"regression\"\n",
    "    test_scoring = ESMLTestScoringFactory(ml_type) # You need to implement IESMLTestScoringFactory\n",
    "    comparer = ESMLModelCompare(setting_path = \"\") # You need to implement IESMLModelCompare\n",
    "    # CUSTOMIZE END ###############\n",
    "\n",
    "    secret_name_tenant = \"kv-msft-weu-dev-cmnai-tenant\"\n",
    "    secret_name_sp_id = \"kv-secret-esml-project002-sp-id\"\n",
    "    secret_name_sp_secret = \"kv-secret-esml-project002-sp-secret\"\n",
    "\n",
    "    controller = ESMLController(comparer,test_scoring,\"project002\",esml_modelname, esml_model_alias, secret_name_tenant,secret_name_sp_id,secret_name_sp_secret) # IESMLController: you do not have to change/implemen this class. Dependency injects default or your class.\n",
    "    controller.dev_test_prod = esml_current_env\n",
    "\n",
    "    ##1 ) Get \"current\" 'last_gold_training_run' [pipeline_run_id, training_data_used]\n",
    "\n",
    "    experiment, model,main_run, best_automl_run,fitted_model_1 = IESMLController.get_best_model_run_fitted_model_Dev(ws,controller.experiment_name)\n",
    "\n",
    "    # ITrainer: Defaults to using AutoML. Optionally you can implement this. Else you need to implement ITrainer in 'YourTrainer' class\n",
    "    trainer = Trainer(model.name,esml_modelname,esml_model_alias, esml_current_env, ml_type,train_ds,validate_ds,test_ds)\n",
    "    train_run, aml_model,fitted_model_2 = trainer.train(train_ds,validate_ds)\n",
    "    \n",
    "    #  label,ws, GoldTest, model, fitted_model, source_best_run/run\n",
    "    model, rmse, r2, mean_abs_percent_error,mae,spearman_correlation,plt, dummy = test_scoring.get_test_scoring_8(ws,target_column_name,test_ds,fitted_model_1,best_automl_run,model)\n",
    "\n",
    "    next_environment = controller.get_next_environment()\n",
    "\n",
    "    #  current_ws,current_environment, target_environment,target_workspace, experiment_name)\n",
    "    target_ws = controller.get_target_workspace(current_environment = esml_current_env, current_ws = ws, target_environment = esml_current_env)\n",
    "\n",
    "    ## 2) COMPARE if better\n",
    "\n",
    "    promote_new_model,source_model_name,source_run_id,source_best_run,source_model,target_model = comparer.compare_scoring_current_vs_new_model(\n",
    "        new_run_id = main_run.id,\n",
    "        current_ws = ws,\n",
    "        current_environment = esml_current_env,\n",
    "        target_environment = esml_current_env,\n",
    "        target_workspace = target_ws,\n",
    "        experiment_name = trainer.experiment_name)\n",
    "\n",
    "\n",
    "    print(\"compared once, 1 time, inner loop - Dev\")\n",
    "\n",
    "    ## 3) REGISTER model, if better\n",
    "\n",
    "    if (promote_new_model == True): # Better than all in DEV?! (Dev or Test,  is usually current_env)\n",
    "        model_registered_in_target = controller.register_model(source_ws=ws, target_env=esml_current_env, source_model_to_copy_tags_from=model)\n",
    "        print(\"registered in DEV\")\n",
    "\n",
    "        # Better than all in DEV, Lets check if its better than all in TEST? (or prod)\n",
    "        next_environment = controller.get_next_environment() # Test, or PROD\n",
    "        promote_new_model,source_model_name,source_run_id,source_best_run,source_model,target_model = comparer.compare_scoring_current_vs_new_model(\n",
    "            new_run_id = main_run.id,\n",
    "            current_ws = ws,\n",
    "            current_environment = esml_current_env,\n",
    "            target_environment = next_environment,\n",
    "            target_workspace = target_ws,\n",
    "            experiment_name = trainer.experiment_name)\n",
    "\n",
    "        print(\"Compared 2nd time - Outer loop\")\n",
    "        if (promote_new_model == True):\n",
    "            model_registered_in_target = controller.register_model(source_ws=ws, target_env=\"test\", source_model_to_copy_tags_from=model)\n",
    "            print(\"Registered in TEST\")\n",
    "\n",
    "train_test_compare_register(ws,target_column_name,esml_modelname,esml_model_alias, esml_current_env, train_ds,validate_ds,test_ds)"
   ]
  },
  {
   "cell_type": "markdown",
   "metadata": {},
   "source": [
    "# DATASET: See Run info from last gold scored"
   ]
  },
  {
   "cell_type": "code",
   "execution_count": null,
   "metadata": {},
   "outputs": [],
   "source": [
    "from azureml.core.dataset import Dataset\n",
    "# p = ESMLProject()\n",
    "# ...\n",
    "# ...p.connect_to_lake()\n",
    "meta_dataset = Dataset.get_by_name(p.ws, name=\"M10_GOLD_SCORED_RUNINFO\")\n",
    "meta_dataset.to_pandas_dataframe()"
   ]
  },
  {
   "cell_type": "code",
   "execution_count": null,
   "metadata": {},
   "outputs": [],
   "source": []
  }
 ],
 "metadata": {
  "kernelspec": {
   "display_name": "Python 3.8.13 ('azure_automl_esml_v144')",
   "language": "python",
   "name": "python3"
  },
  "language_info": {
   "codemirror_mode": {
    "name": "ipython",
    "version": 3
   },
   "file_extension": ".py",
   "mimetype": "text/x-python",
   "name": "python",
   "nbconvert_exporter": "python",
   "pygments_lexer": "ipython3",
   "version": "3.8.13"
  },
  "orig_nbformat": 4,
  "vscode": {
   "interpreter": {
    "hash": "a4a3f6f829c0fbf992fdd78de6ec4e694e293d154a9b96895f90a426de0ee97e"
   }
  }
 },
 "nbformat": 4,
 "nbformat_minor": 2
}
