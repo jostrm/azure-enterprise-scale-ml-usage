{
 "cells": [
  {
   "cell_type": "code",
   "execution_count": 1,
   "metadata": {},
   "outputs": [
    {
     "name": "stdout",
     "output_type": "stream",
     "text": [
      "Using lake_settings.json with ESML version 1.4 - Models array support including LABEL\n",
      "Using GEN2 as Datastore\n",
      "Searching for setting in ESML datalake...\n",
      "ESML in-folder settings override = TRUE \n",
      " - Found settings in the ESML AutoLake  [active_in_folder.json,active_scoring_in_folder.json], to override ArgParse/GIT config with.\n",
      " - TRAIN in date:  1000/01/01\n",
      " - INFERENCE in date: 2021/06/08 and ModelVersion to score with: 1 (0=latest)\n"
     ]
    },
    {
     "data": {
      "text/plain": [
       "<azureml.data.azure_data_lake_datastore.AzureDataLakeGen2Datastore at 0x23a8db5d780>"
      ]
     },
     "execution_count": 1,
     "metadata": {},
     "output_type": "execute_result"
    }
   ],
   "source": [
    "import sys\n",
    "sys.path.insert(0, \"../azure-enterprise-scale-ml/esml/common/\")\n",
    "from esml import ESMLProject\n",
    "import pandas as pd\n",
    "\n",
    "p = ESMLProject() # Your project settings - knows Azure services, networking, lakedesign, identity mgmt, security, etc\n",
    "p.inference_mode = False\n",
    "\n",
    "p.active_model = 11\n",
    "p.ws = p.get_workspace_from_config() #2) Load DEV or TEST or PROD Azure ML Studio workspace\n",
    "p.connect_to_lake()"
   ]
  },
  {
   "cell_type": "code",
   "execution_count": null,
   "metadata": {},
   "outputs": [],
   "source": [
    "from azureml.train import automl\n",
    "\n",
    "# List of possible primary metrics is here:\n",
    "# https://docs.microsoft.com/en-us/azure/machine-learning/how-to-configure-auto-train#primary-metric\n",
    "    \n",
    "# Get a list of valid metrics for your given task\n",
    "automl.utilities.get_primary_metrics('classification')"
   ]
  },
  {
   "cell_type": "markdown",
   "metadata": {},
   "source": [
    "# Dataset access"
   ]
  },
  {
   "cell_type": "markdown",
   "metadata": {},
   "source": [
    "## IN 2 SILVER - ds01_diabetes"
   ]
  },
  {
   "cell_type": "code",
   "execution_count": 10,
   "metadata": {},
   "outputs": [
    {
     "data": {
      "text/html": [
       "<div>\n",
       "<style scoped>\n",
       "    .dataframe tbody tr th:only-of-type {\n",
       "        vertical-align: middle;\n",
       "    }\n",
       "\n",
       "    .dataframe tbody tr th {\n",
       "        vertical-align: top;\n",
       "    }\n",
       "\n",
       "    .dataframe thead th {\n",
       "        text-align: right;\n",
       "    }\n",
       "</style>\n",
       "<table border=\"1\" class=\"dataframe\">\n",
       "  <thead>\n",
       "    <tr style=\"text-align: right;\">\n",
       "      <th></th>\n",
       "      <th>AGE</th>\n",
       "      <th>SEX</th>\n",
       "      <th>BMI</th>\n",
       "      <th>BP</th>\n",
       "      <th>S1</th>\n",
       "      <th>S2</th>\n",
       "      <th>S3</th>\n",
       "      <th>S4</th>\n",
       "      <th>S5</th>\n",
       "      <th>S6</th>\n",
       "      <th>Y</th>\n",
       "    </tr>\n",
       "  </thead>\n",
       "  <tbody>\n",
       "    <tr>\n",
       "      <th>0</th>\n",
       "      <td>0.038076</td>\n",
       "      <td>0.050680</td>\n",
       "      <td>0.061696</td>\n",
       "      <td>0.021872</td>\n",
       "      <td>-0.044223</td>\n",
       "      <td>-0.034821</td>\n",
       "      <td>-0.043401</td>\n",
       "      <td>-0.002592</td>\n",
       "      <td>0.019908</td>\n",
       "      <td>-0.017646</td>\n",
       "      <td>151.0</td>\n",
       "    </tr>\n",
       "    <tr>\n",
       "      <th>1</th>\n",
       "      <td>-0.001882</td>\n",
       "      <td>-0.044642</td>\n",
       "      <td>-0.051474</td>\n",
       "      <td>-0.026328</td>\n",
       "      <td>-0.008449</td>\n",
       "      <td>-0.019163</td>\n",
       "      <td>0.074412</td>\n",
       "      <td>-0.039493</td>\n",
       "      <td>-0.068330</td>\n",
       "      <td>-0.092204</td>\n",
       "      <td>75.0</td>\n",
       "    </tr>\n",
       "    <tr>\n",
       "      <th>2</th>\n",
       "      <td>0.085299</td>\n",
       "      <td>0.050680</td>\n",
       "      <td>0.044451</td>\n",
       "      <td>-0.005671</td>\n",
       "      <td>-0.045599</td>\n",
       "      <td>-0.034194</td>\n",
       "      <td>-0.032356</td>\n",
       "      <td>-0.002592</td>\n",
       "      <td>0.002864</td>\n",
       "      <td>-0.025930</td>\n",
       "      <td>141.0</td>\n",
       "    </tr>\n",
       "    <tr>\n",
       "      <th>3</th>\n",
       "      <td>-0.089063</td>\n",
       "      <td>-0.044642</td>\n",
       "      <td>-0.011595</td>\n",
       "      <td>-0.036656</td>\n",
       "      <td>0.012191</td>\n",
       "      <td>0.024991</td>\n",
       "      <td>-0.036038</td>\n",
       "      <td>0.034309</td>\n",
       "      <td>0.022692</td>\n",
       "      <td>-0.009362</td>\n",
       "      <td>206.0</td>\n",
       "    </tr>\n",
       "    <tr>\n",
       "      <th>4</th>\n",
       "      <td>0.005383</td>\n",
       "      <td>-0.044642</td>\n",
       "      <td>-0.036385</td>\n",
       "      <td>0.021872</td>\n",
       "      <td>0.003935</td>\n",
       "      <td>0.015596</td>\n",
       "      <td>0.008142</td>\n",
       "      <td>-0.002592</td>\n",
       "      <td>-0.031991</td>\n",
       "      <td>-0.046641</td>\n",
       "      <td>135.0</td>\n",
       "    </tr>\n",
       "  </tbody>\n",
       "</table>\n",
       "</div>"
      ],
      "text/plain": [
       "        AGE       SEX       BMI        BP        S1        S2        S3  \\\n",
       "0  0.038076  0.050680  0.061696  0.021872 -0.044223 -0.034821 -0.043401   \n",
       "1 -0.001882 -0.044642 -0.051474 -0.026328 -0.008449 -0.019163  0.074412   \n",
       "2  0.085299  0.050680  0.044451 -0.005671 -0.045599 -0.034194 -0.032356   \n",
       "3 -0.089063 -0.044642 -0.011595 -0.036656  0.012191  0.024991 -0.036038   \n",
       "4  0.005383 -0.044642 -0.036385  0.021872  0.003935  0.015596  0.008142   \n",
       "\n",
       "         S4        S5        S6      Y  \n",
       "0 -0.002592  0.019908 -0.017646  151.0  \n",
       "1 -0.039493 -0.068330 -0.092204   75.0  \n",
       "2 -0.002592  0.002864 -0.025930  141.0  \n",
       "3  0.034309  0.022692 -0.009362  206.0  \n",
       "4 -0.002592 -0.031991 -0.046641  135.0  "
      ]
     },
     "execution_count": 10,
     "metadata": {},
     "output_type": "execute_result"
    }
   ],
   "source": [
    "from azureml.core.dataset import Dataset\n",
    "\n",
    "# IN 2 SILVER - ds01_diabetes\n",
    "## IN-data (.csv):projects/project002/11_diabetes_model_reg/train/ds01_diabetes/in/dev/1000/01/01/*.csv\n",
    "## OUT: Wrote prepped data to /mnt/azureml/cr/j/4d4ec72940434242863242e8615d1f06/cap/data-capability/wd/M11_ds01_diabetes_train_SILVER/silver.parquet\n",
    "\n",
    "ds02 = Dataset.get_by_name(workspace=p.ws, name='M11_ds01_diabetes_train_SILVER',  version='latest')\n",
    "ds02.to_pandas_dataframe().head()\n"
   ]
  },
  {
   "cell_type": "code",
   "execution_count": 14,
   "metadata": {},
   "outputs": [
    {
     "data": {
      "text/html": [
       "<div>\n",
       "<style scoped>\n",
       "    .dataframe tbody tr th:only-of-type {\n",
       "        vertical-align: middle;\n",
       "    }\n",
       "\n",
       "    .dataframe tbody tr th {\n",
       "        vertical-align: top;\n",
       "    }\n",
       "\n",
       "    .dataframe thead th {\n",
       "        text-align: right;\n",
       "    }\n",
       "</style>\n",
       "<table border=\"1\" class=\"dataframe\">\n",
       "  <thead>\n",
       "    <tr style=\"text-align: right;\">\n",
       "      <th></th>\n",
       "      <th>AGE</th>\n",
       "      <th>SEX</th>\n",
       "      <th>BMI</th>\n",
       "      <th>BP</th>\n",
       "      <th>S1</th>\n",
       "      <th>S2</th>\n",
       "      <th>S3</th>\n",
       "      <th>S4</th>\n",
       "      <th>S5</th>\n",
       "      <th>S6</th>\n",
       "      <th>Y</th>\n",
       "    </tr>\n",
       "  </thead>\n",
       "  <tbody>\n",
       "    <tr>\n",
       "      <th>0</th>\n",
       "      <td>0.038076</td>\n",
       "      <td>0.050680</td>\n",
       "      <td>0.061696</td>\n",
       "      <td>0.021872</td>\n",
       "      <td>-0.044223</td>\n",
       "      <td>-0.034821</td>\n",
       "      <td>-0.043401</td>\n",
       "      <td>-0.002592</td>\n",
       "      <td>0.019908</td>\n",
       "      <td>-0.017646</td>\n",
       "      <td>151.0</td>\n",
       "    </tr>\n",
       "    <tr>\n",
       "      <th>1</th>\n",
       "      <td>-0.001882</td>\n",
       "      <td>-0.044642</td>\n",
       "      <td>-0.051474</td>\n",
       "      <td>-0.026328</td>\n",
       "      <td>-0.008449</td>\n",
       "      <td>-0.019163</td>\n",
       "      <td>0.074412</td>\n",
       "      <td>-0.039493</td>\n",
       "      <td>-0.068330</td>\n",
       "      <td>-0.092204</td>\n",
       "      <td>75.0</td>\n",
       "    </tr>\n",
       "    <tr>\n",
       "      <th>2</th>\n",
       "      <td>0.085299</td>\n",
       "      <td>0.050680</td>\n",
       "      <td>0.044451</td>\n",
       "      <td>-0.005671</td>\n",
       "      <td>-0.045599</td>\n",
       "      <td>-0.034194</td>\n",
       "      <td>-0.032356</td>\n",
       "      <td>-0.002592</td>\n",
       "      <td>0.002864</td>\n",
       "      <td>-0.025930</td>\n",
       "      <td>141.0</td>\n",
       "    </tr>\n",
       "    <tr>\n",
       "      <th>3</th>\n",
       "      <td>-0.089063</td>\n",
       "      <td>-0.044642</td>\n",
       "      <td>-0.011595</td>\n",
       "      <td>-0.036656</td>\n",
       "      <td>0.012191</td>\n",
       "      <td>0.024991</td>\n",
       "      <td>-0.036038</td>\n",
       "      <td>0.034309</td>\n",
       "      <td>0.022692</td>\n",
       "      <td>-0.009362</td>\n",
       "      <td>206.0</td>\n",
       "    </tr>\n",
       "    <tr>\n",
       "      <th>4</th>\n",
       "      <td>0.005383</td>\n",
       "      <td>-0.044642</td>\n",
       "      <td>-0.036385</td>\n",
       "      <td>0.021872</td>\n",
       "      <td>0.003935</td>\n",
       "      <td>0.015596</td>\n",
       "      <td>0.008142</td>\n",
       "      <td>-0.002592</td>\n",
       "      <td>-0.031991</td>\n",
       "      <td>-0.046641</td>\n",
       "      <td>135.0</td>\n",
       "    </tr>\n",
       "  </tbody>\n",
       "</table>\n",
       "</div>"
      ],
      "text/plain": [
       "        AGE       SEX       BMI        BP        S1        S2        S3  \\\n",
       "0  0.038076  0.050680  0.061696  0.021872 -0.044223 -0.034821 -0.043401   \n",
       "1 -0.001882 -0.044642 -0.051474 -0.026328 -0.008449 -0.019163  0.074412   \n",
       "2  0.085299  0.050680  0.044451 -0.005671 -0.045599 -0.034194 -0.032356   \n",
       "3 -0.089063 -0.044642 -0.011595 -0.036656  0.012191  0.024991 -0.036038   \n",
       "4  0.005383 -0.044642 -0.036385  0.021872  0.003935  0.015596  0.008142   \n",
       "\n",
       "         S4        S5        S6      Y  \n",
       "0 -0.002592  0.019908 -0.017646  151.0  \n",
       "1 -0.039493 -0.068330 -0.092204   75.0  \n",
       "2 -0.002592  0.002864 -0.025930  141.0  \n",
       "3  0.034309  0.022692 -0.009362  206.0  \n",
       "4 -0.002592 -0.031991 -0.046641  135.0  "
      ]
     },
     "execution_count": 14,
     "metadata": {},
     "output_type": "execute_result"
    }
   ],
   "source": [
    "input_path_parquet = 'projects/project002/11_diabetes_model_reg/train/ds01_diabetes/in/dev/1000/01/01/*.csv' # 1_latest, 1_latest/, 1_latest/*.parquet, 1_latest/gold.parquet\n",
    "ds03 = Dataset.Tabular.from_delimited_files(path = [(p.datastore, input_path_parquet)])\n",
    "ds03.to_pandas_dataframe().head()"
   ]
  },
  {
   "cell_type": "markdown",
   "metadata": {},
   "source": [
    "## Dataset: TRAIN - SILVER MERGED 2 GOLD"
   ]
  },
  {
   "cell_type": "code",
   "execution_count": 29,
   "metadata": {},
   "outputs": [
    {
     "data": {
      "text/html": [
       "<div>\n",
       "<style scoped>\n",
       "    .dataframe tbody tr th:only-of-type {\n",
       "        vertical-align: middle;\n",
       "    }\n",
       "\n",
       "    .dataframe tbody tr th {\n",
       "        vertical-align: top;\n",
       "    }\n",
       "\n",
       "    .dataframe thead th {\n",
       "        text-align: right;\n",
       "    }\n",
       "</style>\n",
       "<table border=\"1\" class=\"dataframe\">\n",
       "  <thead>\n",
       "    <tr style=\"text-align: right;\">\n",
       "      <th></th>\n",
       "      <th>AGE</th>\n",
       "      <th>SEX</th>\n",
       "      <th>BMI</th>\n",
       "      <th>BP</th>\n",
       "      <th>S1</th>\n",
       "      <th>S2</th>\n",
       "      <th>S3</th>\n",
       "      <th>S4</th>\n",
       "      <th>S5</th>\n",
       "      <th>S6</th>\n",
       "      <th>Y</th>\n",
       "    </tr>\n",
       "  </thead>\n",
       "  <tbody>\n",
       "    <tr>\n",
       "      <th>0</th>\n",
       "      <td>0.038076</td>\n",
       "      <td>0.050680</td>\n",
       "      <td>0.061696</td>\n",
       "      <td>0.021872</td>\n",
       "      <td>-0.044223</td>\n",
       "      <td>-0.034821</td>\n",
       "      <td>-0.043401</td>\n",
       "      <td>-0.002592</td>\n",
       "      <td>0.019908</td>\n",
       "      <td>-0.017646</td>\n",
       "      <td>151.0</td>\n",
       "    </tr>\n",
       "    <tr>\n",
       "      <th>1</th>\n",
       "      <td>-0.001882</td>\n",
       "      <td>-0.044642</td>\n",
       "      <td>-0.051474</td>\n",
       "      <td>-0.026328</td>\n",
       "      <td>-0.008449</td>\n",
       "      <td>-0.019163</td>\n",
       "      <td>0.074412</td>\n",
       "      <td>-0.039493</td>\n",
       "      <td>-0.068330</td>\n",
       "      <td>-0.092204</td>\n",
       "      <td>75.0</td>\n",
       "    </tr>\n",
       "    <tr>\n",
       "      <th>2</th>\n",
       "      <td>0.085299</td>\n",
       "      <td>0.050680</td>\n",
       "      <td>0.044451</td>\n",
       "      <td>-0.005671</td>\n",
       "      <td>-0.045599</td>\n",
       "      <td>-0.034194</td>\n",
       "      <td>-0.032356</td>\n",
       "      <td>-0.002592</td>\n",
       "      <td>0.002864</td>\n",
       "      <td>-0.025930</td>\n",
       "      <td>141.0</td>\n",
       "    </tr>\n",
       "    <tr>\n",
       "      <th>3</th>\n",
       "      <td>-0.089063</td>\n",
       "      <td>-0.044642</td>\n",
       "      <td>-0.011595</td>\n",
       "      <td>-0.036656</td>\n",
       "      <td>0.012191</td>\n",
       "      <td>0.024991</td>\n",
       "      <td>-0.036038</td>\n",
       "      <td>0.034309</td>\n",
       "      <td>0.022692</td>\n",
       "      <td>-0.009362</td>\n",
       "      <td>206.0</td>\n",
       "    </tr>\n",
       "    <tr>\n",
       "      <th>4</th>\n",
       "      <td>0.005383</td>\n",
       "      <td>-0.044642</td>\n",
       "      <td>-0.036385</td>\n",
       "      <td>0.021872</td>\n",
       "      <td>0.003935</td>\n",
       "      <td>0.015596</td>\n",
       "      <td>0.008142</td>\n",
       "      <td>-0.002592</td>\n",
       "      <td>-0.031991</td>\n",
       "      <td>-0.046641</td>\n",
       "      <td>135.0</td>\n",
       "    </tr>\n",
       "  </tbody>\n",
       "</table>\n",
       "</div>"
      ],
      "text/plain": [
       "        AGE       SEX       BMI        BP        S1        S2        S3  \\\n",
       "0  0.038076  0.050680  0.061696  0.021872 -0.044223 -0.034821 -0.043401   \n",
       "1 -0.001882 -0.044642 -0.051474 -0.026328 -0.008449 -0.019163  0.074412   \n",
       "2  0.085299  0.050680  0.044451 -0.005671 -0.045599 -0.034194 -0.032356   \n",
       "3 -0.089063 -0.044642 -0.011595 -0.036656  0.012191  0.024991 -0.036038   \n",
       "4  0.005383 -0.044642 -0.036385  0.021872  0.003935  0.015596  0.008142   \n",
       "\n",
       "         S4        S5        S6      Y  \n",
       "0 -0.002592  0.019908 -0.017646  151.0  \n",
       "1 -0.039493 -0.068330 -0.092204   75.0  \n",
       "2 -0.002592  0.002864 -0.025930  141.0  \n",
       "3  0.034309  0.022692 -0.009362  206.0  \n",
       "4 -0.002592 -0.031991 -0.046641  135.0  "
      ]
     },
     "execution_count": 29,
     "metadata": {},
     "output_type": "execute_result"
    }
   ],
   "source": [
    "from azureml.core.dataset import Dataset\n",
    "# SILVER MERGED 2 GOLD\n",
    "\n",
    "# IN-data: M11_GOLD\n",
    "## projects/project002/11_diabetes_model_reg/train/ds01_diabetes/out/silver/dev/b6a52bcc-ec45-49e5-8d68-022a10d1a023/\n",
    "##OUT: \n",
    "### Local Path from run.output_datasets[output_to_score_gold_name]: /mnt/azureml/cr/j/7387d4a5211a414a91fc07eb3e34f436/cap/data-capability/wd/M11_GOLD/gold.parquet\n",
    "#### projects/project002/11_diabetes_model_reg/train/gold/dev/1_latest/gold.parquet\n",
    "\n",
    "input_path_parquet = 'projects/project002/11_diabetes_model_reg/train/gold/dev/1_latest/' # 1_latest, 1_latest/, 1_latest/*.parquet, 1_latest/gold.parquet\n",
    "aml_dataset_in = Dataset.Tabular.from_parquet_files(path = [(p.datastore, input_path_parquet)])\n",
    "aml_dataset_in.to_pandas_dataframe().head()"
   ]
  },
  {
   "cell_type": "code",
   "execution_count": 34,
   "metadata": {},
   "outputs": [
    {
     "data": {
      "text/plain": [
       "'projects/project002/11_diabetes_model_reg/train/gold/dev/{id_folder}/'"
      ]
     },
     "execution_count": 34,
     "metadata": {},
     "output_type": "execute_result"
    }
   ],
   "source": [
    "# projects/project002/11_diabetes_model_reg/train/gold/dev/Train/8e9792b1f7e84d40b3dd29dbc5a91a37/*.parquet\n",
    "p.path_gold_to_score_template(False,True,False) "
   ]
  },
  {
   "cell_type": "code",
   "execution_count": 35,
   "metadata": {},
   "outputs": [
    {
     "data": {
      "text/plain": [
       "'projects/project002/11_diabetes_model_reg/train/gold/dev/'"
      ]
     },
     "execution_count": 35,
     "metadata": {},
     "output_type": "execute_result"
    }
   ],
   "source": [
    "p.path_gold_to_score_template(False,False,False)"
   ]
  },
  {
   "cell_type": "code",
   "execution_count": 30,
   "metadata": {},
   "outputs": [
    {
     "data": {
      "text/plain": [
       "{\n",
       "  \"source\": [\n",
       "    \"('project002prjsp', 'projects/project002/11_diabetes_model_reg/train/gold/dev/1_latest/')\"\n",
       "  ],\n",
       "  \"definition\": [\n",
       "    \"GetDatastoreFiles\",\n",
       "    \"ReadParquetFile\",\n",
       "    \"DropColumns\"\n",
       "  ]\n",
       "}"
      ]
     },
     "execution_count": 30,
     "metadata": {},
     "output_type": "execute_result"
    }
   ],
   "source": [
    "aml_dataset_in"
   ]
  },
  {
   "cell_type": "code",
   "execution_count": 31,
   "metadata": {},
   "outputs": [
    {
     "data": {
      "text/html": [
       "<div>\n",
       "<style scoped>\n",
       "    .dataframe tbody tr th:only-of-type {\n",
       "        vertical-align: middle;\n",
       "    }\n",
       "\n",
       "    .dataframe tbody tr th {\n",
       "        vertical-align: top;\n",
       "    }\n",
       "\n",
       "    .dataframe thead th {\n",
       "        text-align: right;\n",
       "    }\n",
       "</style>\n",
       "<table border=\"1\" class=\"dataframe\">\n",
       "  <thead>\n",
       "    <tr style=\"text-align: right;\">\n",
       "      <th></th>\n",
       "      <th>AGE</th>\n",
       "      <th>SEX</th>\n",
       "      <th>BMI</th>\n",
       "      <th>BP</th>\n",
       "      <th>S1</th>\n",
       "      <th>S2</th>\n",
       "      <th>S3</th>\n",
       "      <th>S4</th>\n",
       "      <th>S5</th>\n",
       "      <th>S6</th>\n",
       "      <th>Y</th>\n",
       "    </tr>\n",
       "  </thead>\n",
       "  <tbody>\n",
       "    <tr>\n",
       "      <th>0</th>\n",
       "      <td>0.038076</td>\n",
       "      <td>0.050680</td>\n",
       "      <td>0.061696</td>\n",
       "      <td>0.021872</td>\n",
       "      <td>-0.044223</td>\n",
       "      <td>-0.034821</td>\n",
       "      <td>-0.043401</td>\n",
       "      <td>-0.002592</td>\n",
       "      <td>0.019908</td>\n",
       "      <td>-0.017646</td>\n",
       "      <td>151.0</td>\n",
       "    </tr>\n",
       "    <tr>\n",
       "      <th>1</th>\n",
       "      <td>-0.001882</td>\n",
       "      <td>-0.044642</td>\n",
       "      <td>-0.051474</td>\n",
       "      <td>-0.026328</td>\n",
       "      <td>-0.008449</td>\n",
       "      <td>-0.019163</td>\n",
       "      <td>0.074412</td>\n",
       "      <td>-0.039493</td>\n",
       "      <td>-0.068330</td>\n",
       "      <td>-0.092204</td>\n",
       "      <td>75.0</td>\n",
       "    </tr>\n",
       "    <tr>\n",
       "      <th>2</th>\n",
       "      <td>0.085299</td>\n",
       "      <td>0.050680</td>\n",
       "      <td>0.044451</td>\n",
       "      <td>-0.005671</td>\n",
       "      <td>-0.045599</td>\n",
       "      <td>-0.034194</td>\n",
       "      <td>-0.032356</td>\n",
       "      <td>-0.002592</td>\n",
       "      <td>0.002864</td>\n",
       "      <td>-0.025930</td>\n",
       "      <td>141.0</td>\n",
       "    </tr>\n",
       "    <tr>\n",
       "      <th>3</th>\n",
       "      <td>-0.089063</td>\n",
       "      <td>-0.044642</td>\n",
       "      <td>-0.011595</td>\n",
       "      <td>-0.036656</td>\n",
       "      <td>0.012191</td>\n",
       "      <td>0.024991</td>\n",
       "      <td>-0.036038</td>\n",
       "      <td>0.034309</td>\n",
       "      <td>0.022692</td>\n",
       "      <td>-0.009362</td>\n",
       "      <td>206.0</td>\n",
       "    </tr>\n",
       "    <tr>\n",
       "      <th>4</th>\n",
       "      <td>0.005383</td>\n",
       "      <td>-0.044642</td>\n",
       "      <td>-0.036385</td>\n",
       "      <td>0.021872</td>\n",
       "      <td>0.003935</td>\n",
       "      <td>0.015596</td>\n",
       "      <td>0.008142</td>\n",
       "      <td>-0.002592</td>\n",
       "      <td>-0.031991</td>\n",
       "      <td>-0.046641</td>\n",
       "      <td>135.0</td>\n",
       "    </tr>\n",
       "  </tbody>\n",
       "</table>\n",
       "</div>"
      ],
      "text/plain": [
       "        AGE       SEX       BMI        BP        S1        S2        S3  \\\n",
       "0  0.038076  0.050680  0.061696  0.021872 -0.044223 -0.034821 -0.043401   \n",
       "1 -0.001882 -0.044642 -0.051474 -0.026328 -0.008449 -0.019163  0.074412   \n",
       "2  0.085299  0.050680  0.044451 -0.005671 -0.045599 -0.034194 -0.032356   \n",
       "3 -0.089063 -0.044642 -0.011595 -0.036656  0.012191  0.024991 -0.036038   \n",
       "4  0.005383 -0.044642 -0.036385  0.021872  0.003935  0.015596  0.008142   \n",
       "\n",
       "         S4        S5        S6      Y  \n",
       "0 -0.002592  0.019908 -0.017646  151.0  \n",
       "1 -0.039493 -0.068330 -0.092204   75.0  \n",
       "2 -0.002592  0.002864 -0.025930  141.0  \n",
       "3  0.034309  0.022692 -0.009362  206.0  \n",
       "4 -0.002592 -0.031991 -0.046641  135.0  "
      ]
     },
     "execution_count": 31,
     "metadata": {},
     "output_type": "execute_result"
    }
   ],
   "source": [
    "ds06 = Dataset.get_by_name(workspace=p.ws, name='M11_GOLD',  version='latest')\n",
    "ds06.to_pandas_dataframe().head()"
   ]
  },
  {
   "cell_type": "code",
   "execution_count": 32,
   "metadata": {},
   "outputs": [
    {
     "data": {
      "text/plain": [
       "{\n",
       "  \"source\": [\n",
       "    \"('project002prjsp', 'projects/project002/11_diabetes_model_reg/train/gold/dev/1_latest/')\"\n",
       "  ],\n",
       "  \"definition\": [\n",
       "    \"GetDatastoreFiles\",\n",
       "    \"ReadParquetFile\",\n",
       "    \"DropColumns\"\n",
       "  ],\n",
       "  \"registration\": {\n",
       "    \"id\": \"3401dbd3-d8ac-43e3-b6db-e7b62809f71a\",\n",
       "    \"name\": \"M11_GOLD\",\n",
       "    \"version\": 32,\n",
       "    \"workspace\": \"Workspace.create(name='msft-weu-DEV-eap-proj02_ai-amls', subscription_id='ca0a8c40-b06a-4e4e-8434-63c03a1dee34', resource_group='MSFT-WEU-EAP_PROJECT02_AI-DEV-RG')\"\n",
       "  }\n",
       "}"
      ]
     },
     "execution_count": 32,
     "metadata": {},
     "output_type": "execute_result"
    }
   ],
   "source": [
    "ds06"
   ]
  },
  {
   "cell_type": "markdown",
   "metadata": {},
   "source": [
    "## Dataset: TRAIN - SPLIT and REGISTER datasets (train, test, validate)"
   ]
  },
  {
   "cell_type": "code",
   "execution_count": 18,
   "metadata": {},
   "outputs": [
    {
     "data": {
      "text/html": [
       "<div>\n",
       "<style scoped>\n",
       "    .dataframe tbody tr th:only-of-type {\n",
       "        vertical-align: middle;\n",
       "    }\n",
       "\n",
       "    .dataframe tbody tr th {\n",
       "        vertical-align: top;\n",
       "    }\n",
       "\n",
       "    .dataframe thead th {\n",
       "        text-align: right;\n",
       "    }\n",
       "</style>\n",
       "<table border=\"1\" class=\"dataframe\">\n",
       "  <thead>\n",
       "    <tr style=\"text-align: right;\">\n",
       "      <th></th>\n",
       "      <th>AGE</th>\n",
       "      <th>SEX</th>\n",
       "      <th>BMI</th>\n",
       "      <th>BP</th>\n",
       "      <th>S1</th>\n",
       "      <th>S2</th>\n",
       "      <th>S3</th>\n",
       "      <th>S4</th>\n",
       "      <th>S5</th>\n",
       "      <th>S6</th>\n",
       "      <th>Y</th>\n",
       "    </tr>\n",
       "  </thead>\n",
       "  <tbody>\n",
       "    <tr>\n",
       "      <th>0</th>\n",
       "      <td>0.038076</td>\n",
       "      <td>0.050680</td>\n",
       "      <td>0.061696</td>\n",
       "      <td>0.021872</td>\n",
       "      <td>-0.044223</td>\n",
       "      <td>-0.034821</td>\n",
       "      <td>-0.043401</td>\n",
       "      <td>-0.002592</td>\n",
       "      <td>0.019908</td>\n",
       "      <td>-0.017646</td>\n",
       "      <td>151.0</td>\n",
       "    </tr>\n",
       "    <tr>\n",
       "      <th>1</th>\n",
       "      <td>-0.001882</td>\n",
       "      <td>-0.044642</td>\n",
       "      <td>-0.051474</td>\n",
       "      <td>-0.026328</td>\n",
       "      <td>-0.008449</td>\n",
       "      <td>-0.019163</td>\n",
       "      <td>0.074412</td>\n",
       "      <td>-0.039493</td>\n",
       "      <td>-0.068330</td>\n",
       "      <td>-0.092204</td>\n",
       "      <td>75.0</td>\n",
       "    </tr>\n",
       "    <tr>\n",
       "      <th>2</th>\n",
       "      <td>0.085299</td>\n",
       "      <td>0.050680</td>\n",
       "      <td>0.044451</td>\n",
       "      <td>-0.005671</td>\n",
       "      <td>-0.045599</td>\n",
       "      <td>-0.034194</td>\n",
       "      <td>-0.032356</td>\n",
       "      <td>-0.002592</td>\n",
       "      <td>0.002864</td>\n",
       "      <td>-0.025930</td>\n",
       "      <td>141.0</td>\n",
       "    </tr>\n",
       "    <tr>\n",
       "      <th>3</th>\n",
       "      <td>-0.089063</td>\n",
       "      <td>-0.044642</td>\n",
       "      <td>-0.011595</td>\n",
       "      <td>-0.036656</td>\n",
       "      <td>0.012191</td>\n",
       "      <td>0.024991</td>\n",
       "      <td>-0.036038</td>\n",
       "      <td>0.034309</td>\n",
       "      <td>0.022692</td>\n",
       "      <td>-0.009362</td>\n",
       "      <td>206.0</td>\n",
       "    </tr>\n",
       "    <tr>\n",
       "      <th>4</th>\n",
       "      <td>0.005383</td>\n",
       "      <td>-0.044642</td>\n",
       "      <td>-0.036385</td>\n",
       "      <td>0.021872</td>\n",
       "      <td>0.003935</td>\n",
       "      <td>0.015596</td>\n",
       "      <td>0.008142</td>\n",
       "      <td>-0.002592</td>\n",
       "      <td>-0.031991</td>\n",
       "      <td>-0.046641</td>\n",
       "      <td>135.0</td>\n",
       "    </tr>\n",
       "  </tbody>\n",
       "</table>\n",
       "</div>"
      ],
      "text/plain": [
       "        AGE       SEX       BMI        BP        S1        S2        S3  \\\n",
       "0  0.038076  0.050680  0.061696  0.021872 -0.044223 -0.034821 -0.043401   \n",
       "1 -0.001882 -0.044642 -0.051474 -0.026328 -0.008449 -0.019163  0.074412   \n",
       "2  0.085299  0.050680  0.044451 -0.005671 -0.045599 -0.034194 -0.032356   \n",
       "3 -0.089063 -0.044642 -0.011595 -0.036656  0.012191  0.024991 -0.036038   \n",
       "4  0.005383 -0.044642 -0.036385  0.021872  0.003935  0.015596  0.008142   \n",
       "\n",
       "         S4        S5        S6      Y  \n",
       "0 -0.002592  0.019908 -0.017646  151.0  \n",
       "1 -0.039493 -0.068330 -0.092204   75.0  \n",
       "2 -0.002592  0.002864 -0.025930  141.0  \n",
       "3  0.034309  0.022692 -0.009362  206.0  \n",
       "4 -0.002592 -0.031991 -0.046641  135.0  "
      ]
     },
     "execution_count": 18,
     "metadata": {},
     "output_type": "execute_result"
    }
   ],
   "source": [
    "from azureml.core.dataset import Dataset\n",
    "\n",
    "input_path_parquet = 'projects/project002/11_diabetes_model_reg/train/gold/dev/1_latest/' # 1_latest, 1_latest/, 1_latest/*.parquet, 1_latest/gold.parquet\n",
    "aml_dataset_in = Dataset.Tabular.from_parquet_files(path = [(p.datastore, input_path_parquet)])\n",
    "aml_dataset_in.to_pandas_dataframe().head()"
   ]
  },
  {
   "cell_type": "code",
   "execution_count": 37,
   "metadata": {},
   "outputs": [
    {
     "data": {
      "text/plain": [
       "{\n",
       "  \"source\": [\n",
       "    \"('project002prjsp', 'projects/project002/11_diabetes_model_reg/train/gold/dev/Train/{id_folder}/')\"\n",
       "  ],\n",
       "  \"definition\": [\n",
       "    \"GetDatastoreFiles\",\n",
       "    \"ReadParquetFile\",\n",
       "    \"DropColumns\"\n",
       "  ],\n",
       "  \"registration\": {\n",
       "    \"id\": \"28b4571d-3b9b-499b-9d70-f5f491c0ed4e\",\n",
       "    \"name\": \"M11_GOLD_TRAIN\",\n",
       "    \"version\": 37,\n",
       "    \"workspace\": \"Workspace.create(name='msft-weu-DEV-eap-proj02_ai-amls', subscription_id='ca0a8c40-b06a-4e4e-8434-63c03a1dee34', resource_group='MSFT-WEU-EAP_PROJECT02_AI-DEV-RG')\"\n",
       "  }\n",
       "}"
      ]
     },
     "execution_count": 37,
     "metadata": {},
     "output_type": "execute_result"
    }
   ],
   "source": [
    "ds04 = Dataset.get_by_name(workspace=p.ws, name='M11_GOLD_TRAIN',  version='37') \n",
    "ds04.to_pandas_dataframe().head()\n",
    "ds04\n",
    "# M11_GOLD_TRAIN/gold_train.parquet\n",
    "\n",
    "# M11_GOLD_TRAINgold_train.parquet '\n",
    "##! Inget slash\n",
    "##! Ett space efter ,parquet"
   ]
  },
  {
   "cell_type": "code",
   "execution_count": 41,
   "metadata": {},
   "outputs": [
    {
     "data": {
      "text/plain": [
       "{\n",
       "  \"source\": [\n",
       "    \"('project002prjsp', 'projects/project002/11_diabetes_model_reg/train/gold/dev/Train/{id_folder}/')\"\n",
       "  ],\n",
       "  \"definition\": [\n",
       "    \"GetDatastoreFiles\",\n",
       "    \"ReadParquetFile\",\n",
       "    \"DropColumns\"\n",
       "  ],\n",
       "  \"registration\": {\n",
       "    \"id\": \"28b4571d-3b9b-499b-9d70-f5f491c0ed4e\",\n",
       "    \"name\": \"M11_GOLD_TRAIN\",\n",
       "    \"version\": 37,\n",
       "    \"workspace\": \"Workspace.create(name='msft-weu-DEV-eap-proj02_ai-amls', subscription_id='ca0a8c40-b06a-4e4e-8434-63c03a1dee34', resource_group='MSFT-WEU-EAP_PROJECT02_AI-DEV-RG')\"\n",
       "  }\n",
       "}"
      ]
     },
     "execution_count": 41,
     "metadata": {},
     "output_type": "execute_result"
    }
   ],
   "source": [
    "ds05 = Dataset.get_by_name(workspace=p.ws, name='M11_GOLD_TRAIN',  version='latest') \n",
    "#ds05.to_pandas_dataframe().head()\n",
    "ds05"
   ]
  },
  {
   "cell_type": "code",
   "execution_count": 42,
   "metadata": {},
   "outputs": [
    {
     "data": {
      "text/html": [
       "<div>\n",
       "<style scoped>\n",
       "    .dataframe tbody tr th:only-of-type {\n",
       "        vertical-align: middle;\n",
       "    }\n",
       "\n",
       "    .dataframe tbody tr th {\n",
       "        vertical-align: top;\n",
       "    }\n",
       "\n",
       "    .dataframe thead th {\n",
       "        text-align: right;\n",
       "    }\n",
       "</style>\n",
       "<table border=\"1\" class=\"dataframe\">\n",
       "  <thead>\n",
       "    <tr style=\"text-align: right;\">\n",
       "      <th></th>\n",
       "      <th>AGE</th>\n",
       "      <th>SEX</th>\n",
       "      <th>BMI</th>\n",
       "      <th>BP</th>\n",
       "      <th>S1</th>\n",
       "      <th>S2</th>\n",
       "      <th>S3</th>\n",
       "      <th>S4</th>\n",
       "      <th>S5</th>\n",
       "      <th>S6</th>\n",
       "      <th>Y</th>\n",
       "    </tr>\n",
       "  </thead>\n",
       "  <tbody>\n",
       "    <tr>\n",
       "      <th>0</th>\n",
       "      <td>0.045341</td>\n",
       "      <td>-0.044642</td>\n",
       "      <td>-0.006206</td>\n",
       "      <td>-0.015999</td>\n",
       "      <td>0.125019</td>\n",
       "      <td>0.125198</td>\n",
       "      <td>0.019187</td>\n",
       "      <td>0.034309</td>\n",
       "      <td>0.032433</td>\n",
       "      <td>-0.005220</td>\n",
       "      <td>219.0</td>\n",
       "    </tr>\n",
       "    <tr>\n",
       "      <th>1</th>\n",
       "      <td>0.092564</td>\n",
       "      <td>-0.044642</td>\n",
       "      <td>0.036907</td>\n",
       "      <td>0.021872</td>\n",
       "      <td>-0.024960</td>\n",
       "      <td>-0.016658</td>\n",
       "      <td>0.000779</td>\n",
       "      <td>-0.039493</td>\n",
       "      <td>-0.022512</td>\n",
       "      <td>-0.021788</td>\n",
       "      <td>70.0</td>\n",
       "    </tr>\n",
       "    <tr>\n",
       "      <th>2</th>\n",
       "      <td>0.063504</td>\n",
       "      <td>0.050680</td>\n",
       "      <td>-0.004050</td>\n",
       "      <td>-0.012556</td>\n",
       "      <td>0.103003</td>\n",
       "      <td>0.048790</td>\n",
       "      <td>0.056003</td>\n",
       "      <td>-0.002592</td>\n",
       "      <td>0.084495</td>\n",
       "      <td>-0.017646</td>\n",
       "      <td>202.0</td>\n",
       "    </tr>\n",
       "    <tr>\n",
       "      <th>3</th>\n",
       "      <td>0.096197</td>\n",
       "      <td>-0.044642</td>\n",
       "      <td>0.051996</td>\n",
       "      <td>0.079254</td>\n",
       "      <td>0.054845</td>\n",
       "      <td>0.036577</td>\n",
       "      <td>-0.076536</td>\n",
       "      <td>0.141322</td>\n",
       "      <td>0.098646</td>\n",
       "      <td>0.061054</td>\n",
       "      <td>230.0</td>\n",
       "    </tr>\n",
       "    <tr>\n",
       "      <th>4</th>\n",
       "      <td>0.012648</td>\n",
       "      <td>0.050680</td>\n",
       "      <td>-0.020218</td>\n",
       "      <td>-0.002228</td>\n",
       "      <td>0.038334</td>\n",
       "      <td>0.053174</td>\n",
       "      <td>-0.006584</td>\n",
       "      <td>0.034309</td>\n",
       "      <td>-0.005145</td>\n",
       "      <td>-0.009362</td>\n",
       "      <td>111.0</td>\n",
       "    </tr>\n",
       "  </tbody>\n",
       "</table>\n",
       "</div>"
      ],
      "text/plain": [
       "        AGE       SEX       BMI        BP        S1        S2        S3  \\\n",
       "0  0.045341 -0.044642 -0.006206 -0.015999  0.125019  0.125198  0.019187   \n",
       "1  0.092564 -0.044642  0.036907  0.021872 -0.024960 -0.016658  0.000779   \n",
       "2  0.063504  0.050680 -0.004050 -0.012556  0.103003  0.048790  0.056003   \n",
       "3  0.096197 -0.044642  0.051996  0.079254  0.054845  0.036577 -0.076536   \n",
       "4  0.012648  0.050680 -0.020218 -0.002228  0.038334  0.053174 -0.006584   \n",
       "\n",
       "         S4        S5        S6      Y  \n",
       "0  0.034309  0.032433 -0.005220  219.0  \n",
       "1 -0.039493 -0.022512 -0.021788   70.0  \n",
       "2 -0.002592  0.084495 -0.017646  202.0  \n",
       "3  0.141322  0.098646  0.061054  230.0  \n",
       "4  0.034309 -0.005145 -0.009362  111.0  "
      ]
     },
     "execution_count": 42,
     "metadata": {},
     "output_type": "execute_result"
    }
   ],
   "source": [
    "ds05.to_pandas_dataframe().head()"
   ]
  },
  {
   "cell_type": "code",
   "execution_count": 47,
   "metadata": {},
   "outputs": [
    {
     "data": {
      "text/plain": [
       "0    projects/project002/11_diabetes_model_reg/train/gold/dev/1000/01/01/bf94264b-7012-4370-ad71-6c2af3a2babf/\n",
       "Name: training_data_used, dtype: object"
      ]
     },
     "execution_count": 47,
     "metadata": {},
     "output_type": "execute_result"
    }
   ],
   "source": [
    "#https://msftweudevcmnai2.blob.core.windows.net/lake3/projects/project002/11_diabetes_model_reg/train/active/gold_trained_runinfo\n",
    "ds06 = Dataset.get_by_name(workspace=p.ws, name='M11_GOLD_TRAINED_RUNINFO',  version='latest') \n",
    "\n",
    "pd.set_option(\"max_colwidth\", 500)\n",
    "#pd.options.display.max_rows = 4000\n",
    "\n",
    "ds06.to_pandas_dataframe()['training_data_used']"
   ]
  },
  {
   "cell_type": "code",
   "execution_count": 49,
   "metadata": {},
   "outputs": [
    {
     "data": {
      "text/plain": [
       "'M11_GOLD_TRAIN'"
      ]
     },
     "execution_count": 49,
     "metadata": {},
     "output_type": "execute_result"
    }
   ],
   "source": [
    "ds07 = Dataset.get_by_name(workspace=p.ws, name='M11_GOLD_TRAIN',  version='latest') \n",
    "ds07.name"
   ]
  },
  {
   "cell_type": "markdown",
   "metadata": {},
   "source": [
    "## `Autosplit` and register as Azure ML Datasets (avoid boring registering work, over and over, `since each project/model needs spliing dat for ML`)"
   ]
  },
  {
   "cell_type": "code",
   "execution_count": null,
   "metadata": {},
   "outputs": [],
   "source": [
    "# GET TEST_SET - also tells us if we have a FITTED model or not...\n",
    "label = p.active_model[\"label\"]\n",
    "try:\n",
    "    p.GoldTest.name\n",
    "    print(\"We HAVE connection to datalake already, AND have SPLITTED data, so probably we have TRAINED a model also. Now we can calculate scoring\")\n",
    "except: \n",
    "    print(\"Lest Connect to LAKE, and see IF we have splitted any data. If so we might have TRAINED a model also\")\n",
    "    p.connect_to_lake()\n",
    "    try:\n",
    "        p.GoldTest.name\n",
    "        print(\"We have SPLITTED data, so probably we have also a FITTED MODEL. Now we can calucalte SCORING\")\n",
    "    except: \n",
    "        print(\"We did NOT have any DATASET's splitted and registered to calculate TEST_SET scoring,  lets split data, HOPE we have a registered FITTED/TRAINED MODEL..if not get_test_scoring_7_classification() will fail.\")\n",
    "        train_6, validate_set_2, test_set_2 = p.split_gold_3(0.6,label)\n",
    "        print(\"Solution if fails: Train a model with ESML. e.g. run full notebook\")"
   ]
  },
  {
   "cell_type": "markdown",
   "metadata": {},
   "source": [
    "# Multiclass Classification: 2 ways of calculating METRICS. Example: `roc_auc_score`"
   ]
  },
  {
   "cell_type": "markdown",
   "metadata": {},
   "source": [
    "### Alt A) Get best model via ESML, and `caluclate scoring metrics yourself` (over and over for each project)"
   ]
  },
  {
   "cell_type": "code",
   "execution_count": null,
   "metadata": {},
   "outputs": [],
   "source": [
    "# GET BEST MODEL - accoring to YOU - settings\\project_specific\\model\\model_settings.json\n",
    "experiment, model,main_run, best_automl_run,fitted_model = p.get_best_model_and_run_via_experiment_name_and_ws(p.ws)"
   ]
  },
  {
   "cell_type": "code",
   "execution_count": 3,
   "metadata": {},
   "outputs": [
    {
     "data": {
      "text/plain": [
       "Model(workspace=Workspace.create(name='aml-prj002-weu-DEV-003', subscription_id='ca0a8c40-b06a-4e4e-8434-63c03a1dee34', resource_group='abc-def-esml-project002-weu-DEV-004-rg'), name=AutoMLa1a18ce4a0, id=AutoMLa1a18ce4a0:1, version=1, tags={'run_id': 'AutoML_a1a18ce4-aa15-4d90-befb-facdbbcc4e17', 'model_name': 'AutoMLa1a18ce4a0', 'trained_in_environment': 'dev', 'trained_in_workspace': 'aml-prj002-weu-DEV-003', 'experiment_name': '10_titanic_model_clas', 'test_set_ROC_AUC': '0.834775', 'test_set_Accuracy': '0.780899', 'test_set_F1_Score': '0.719424', 'test_set_Precision': '0.641838', 'test_set_Recall': '0.694444', 'test_set_Matthews_Correlation': '0.541023', 'test_set_CM': '[[89 17]\\n [22 50]]'}, properties={})"
      ]
     },
     "execution_count": 3,
     "metadata": {},
     "output_type": "execute_result"
    }
   ],
   "source": [
    "model"
   ]
  },
  {
   "cell_type": "code",
   "execution_count": 10,
   "metadata": {},
   "outputs": [
    {
     "name": "stdout",
     "output_type": "stream",
     "text": [
      "roc_auc_score 0.8539046121593292\n",
      "And then...you need to log it (not showed here), such as regiser this in Azure ML Studio on model and test_set. ESML alternative does this auto\n"
     ]
    }
   ],
   "source": [
    "# MANUALLY: Calculate TEST_SET roc_auc_score\n",
    "\n",
    "from sklearn.metrics import roc_auc_score\n",
    "\n",
    "X_test = p.GoldTest.to_pandas_dataframe()\n",
    "y_test = X_test.pop(label).to_frame() # y_test (true labels)\n",
    "y_predict = fitted_model.predict(X_test) # y_predict (predicted labels)\n",
    "y_predict_proba = None\n",
    "\n",
    "if fitted_model is not None and hasattr(fitted_model, 'predict_proba') and fitted_model.predict_proba is not None:\n",
    "    y_predict_proba = fitted_model.predict_proba(X_test) \n",
    "    predict_proba = None\n",
    "    predict_proba = y_predict_proba[:,1]\n",
    "\n",
    "multi_class = False\n",
    "if (multi_class):\n",
    "    auc = roc_auc_score(y_true=y_test, y_score=y_predict_proba,multi_class='ovr') # ovo\n",
    "else:\n",
    "    auc = roc_auc_score(y_test, predict_proba)\n",
    "    \n",
    "print(\"roc_auc_score\", auc)\n",
    "\n",
    "print(\"And then...you need to log it (not showed here), such as regiser this in Azure ML Studio on model and test_set. ESML alternative does this auto, via TAGS\")"
   ]
  },
  {
   "cell_type": "markdown",
   "metadata": {},
   "source": [
    "# `TEST SET SCORING` (regression, binary or multi-class)\n",
    "\n",
    "## To compare, to get best model via ESML - `auto-calucalulation of TEST-SET scoring` is done  (same consistent calulcation, for each project in your organisation)\n",
    "- Supports both: `Binary` or `Multiclass` classficiaton"
   ]
  },
  {
   "cell_type": "code",
   "execution_count": 1,
   "metadata": {},
   "outputs": [
    {
     "name": "stdout",
     "output_type": "stream",
     "text": [
      "Using lake_settings.json with ESML version 1.4 - Models array support including LABEL\n"
     ]
    },
    {
     "name": "stderr",
     "output_type": "stream",
     "text": [
      "Warning: Falling back to use azure cli login credentials.\n",
      "If you run your code in unattended mode, i.e., where you can't give a user input, then we recommend to use ServicePrincipalAuthentication or MsiAuthentication.\n",
      "Please refer to aka.ms/aml-notebook-auth for different authentication mechanisms in azureml-sdk.\n"
     ]
    }
   ],
   "source": [
    "import sys\n",
    "sys.path.insert(0, \"../../azure-enterprise-scale-ml/esml/common/\")\n",
    "from esml import ESMLProject\n",
    "\n",
    "p = ESMLProject() # Your project settings - knows Azure services, networking, lakedesign, identity mgmt, security, etc\n",
    "p.ws = p.get_workspace_from_config() #2) Load DEV or TEST or PROD Azure ML Studio workspace\n",
    "p.inference_mode = False\n",
    "\n",
    "p.active_model = 10"
   ]
  },
  {
   "cell_type": "code",
   "execution_count": 4,
   "metadata": {},
   "outputs": [
    {
     "name": "stdout",
     "output_type": "stream",
     "text": [
      "...\n",
      "[0 1]\n"
     ]
    }
   ],
   "source": [
    "label = p.active_model[\"label\"]\n",
    "test_set_pd =  p.GoldTest.to_pandas_dataframe()\n",
    "labels = test_set_pd[label].unique()\n",
    "print(labels)"
   ]
  },
  {
   "cell_type": "code",
   "execution_count": 5,
   "metadata": {},
   "outputs": [
    {
     "data": {
      "text/html": [
       "<div>\n",
       "<style scoped>\n",
       "    .dataframe tbody tr th:only-of-type {\n",
       "        vertical-align: middle;\n",
       "    }\n",
       "\n",
       "    .dataframe tbody tr th {\n",
       "        vertical-align: top;\n",
       "    }\n",
       "\n",
       "    .dataframe thead th {\n",
       "        text-align: right;\n",
       "    }\n",
       "</style>\n",
       "<table border=\"1\" class=\"dataframe\">\n",
       "  <thead>\n",
       "    <tr style=\"text-align: right;\">\n",
       "      <th></th>\n",
       "      <th>Survived</th>\n",
       "      <th>Pclass</th>\n",
       "      <th>Name</th>\n",
       "      <th>Sex</th>\n",
       "      <th>Age</th>\n",
       "      <th>Siblings_Spouses Aboard</th>\n",
       "      <th>Parents_Children Aboard</th>\n",
       "      <th>Fare</th>\n",
       "    </tr>\n",
       "  </thead>\n",
       "  <tbody>\n",
       "    <tr>\n",
       "      <th>0</th>\n",
       "      <td>0</td>\n",
       "      <td>3</td>\n",
       "      <td>Mr. Owen Harris Braund</td>\n",
       "      <td>male</td>\n",
       "      <td>22.0</td>\n",
       "      <td>1</td>\n",
       "      <td>0</td>\n",
       "      <td>7.2500</td>\n",
       "    </tr>\n",
       "    <tr>\n",
       "      <th>1</th>\n",
       "      <td>1</td>\n",
       "      <td>1</td>\n",
       "      <td>Mrs. John Bradley (Florence Briggs Thayer) Cum...</td>\n",
       "      <td>female</td>\n",
       "      <td>38.0</td>\n",
       "      <td>1</td>\n",
       "      <td>0</td>\n",
       "      <td>71.2833</td>\n",
       "    </tr>\n",
       "    <tr>\n",
       "      <th>2</th>\n",
       "      <td>1</td>\n",
       "      <td>3</td>\n",
       "      <td>Miss. Laina Heikkinen</td>\n",
       "      <td>female</td>\n",
       "      <td>26.0</td>\n",
       "      <td>0</td>\n",
       "      <td>0</td>\n",
       "      <td>7.9250</td>\n",
       "    </tr>\n",
       "    <tr>\n",
       "      <th>3</th>\n",
       "      <td>1</td>\n",
       "      <td>1</td>\n",
       "      <td>Mrs. Jacques Heath (Lily May Peel) Futrelle</td>\n",
       "      <td>female</td>\n",
       "      <td>35.0</td>\n",
       "      <td>1</td>\n",
       "      <td>0</td>\n",
       "      <td>53.1000</td>\n",
       "    </tr>\n",
       "    <tr>\n",
       "      <th>4</th>\n",
       "      <td>0</td>\n",
       "      <td>3</td>\n",
       "      <td>Mr. William Henry Allen</td>\n",
       "      <td>male</td>\n",
       "      <td>35.0</td>\n",
       "      <td>0</td>\n",
       "      <td>0</td>\n",
       "      <td>8.0500</td>\n",
       "    </tr>\n",
       "  </tbody>\n",
       "</table>\n",
       "</div>"
      ],
      "text/plain": [
       "   Survived  Pclass                                               Name  \\\n",
       "0         0       3                             Mr. Owen Harris Braund   \n",
       "1         1       1  Mrs. John Bradley (Florence Briggs Thayer) Cum...   \n",
       "2         1       3                              Miss. Laina Heikkinen   \n",
       "3         1       1        Mrs. Jacques Heath (Lily May Peel) Futrelle   \n",
       "4         0       3                            Mr. William Henry Allen   \n",
       "\n",
       "      Sex   Age  Siblings_Spouses Aboard  Parents_Children Aboard     Fare  \n",
       "0    male  22.0                        1                        0   7.2500  \n",
       "1  female  38.0                        1                        0  71.2833  \n",
       "2  female  26.0                        0                        0   7.9250  \n",
       "3  female  35.0                        1                        0  53.1000  \n",
       "4    male  35.0                        0                        0   8.0500  "
      ]
     },
     "execution_count": 5,
     "metadata": {},
     "output_type": "execute_result"
    }
   ],
   "source": [
    "p.Gold.to_pandas_dataframe().head()"
   ]
  },
  {
   "cell_type": "code",
   "execution_count": 6,
   "metadata": {},
   "outputs": [
    {
     "name": "stdout",
     "output_type": "stream",
     "text": [
      "found model via REMOTE FILTER: Experiment TAGS: model_name\n"
     ]
    },
    {
     "name": "stderr",
     "output_type": "stream",
     "text": [
      "WARNING:root:The version of the SDK does not match the version the model was trained on.\n",
      "WARNING:root:The consistency in the result may not be guaranteed.\n",
      "WARNING:root:Package:azureml-automl-core, training version:1.34.0, current version:1.26.0\n",
      "Package:azureml-automl-runtime, training version:1.34.0, current version:1.26.0.post1\n",
      "Package:azureml-core, training version:1.34.0, current version:1.26.0.post1\n",
      "Package:azureml-dataprep, training version:2.22.2, current version:2.13.2\n",
      "Package:azureml-dataprep-native, training version:38.0.0, current version:32.0.0\n",
      "Package:azureml-dataprep-rslex, training version:1.20.2, current version:1.11.2\n",
      "Package:azureml-dataset-runtime, training version:1.34.0, current version:1.26.0\n",
      "Package:azureml-defaults, training version:1.34.0, current version:1.26.0\n",
      "Package:azureml-interpret, training version:1.34.0, current version:1.26.0\n",
      "Package:azureml-pipeline-core, training version:1.34.0, current version:1.26.0\n",
      "Package:azureml-telemetry, training version:1.34.0, current version:1.26.0\n",
      "Package:azureml-train-automl-client, training version:1.34.0, current version:1.26.0\n",
      "Package:azureml-train-automl-runtime, training version:1.34.0, current version:1.26.0.post1\n",
      "WARNING:root:Below packages were used for model training but missing in current environment:\n",
      "WARNING:root:Package:azureml-inference-server-http, training version:0.3.1\n",
      "Package:azureml-mlflow, training version:1.34.0\n",
      "Package:azureml-responsibleai, training version:1.34.0\n",
      "WARNING:root:Please ensure the version of your local conda dependencies match the version on which your model was trained in order to properly retrieve your model.\n"
     ]
    },
    {
     "name": "stdout",
     "output_type": "stream",
     "text": [
      "...\n",
      "...\n",
      "...\n",
      "...\n",
      "...\n",
      "...\n",
      "...\n",
      "...\n",
      "...\n",
      "Replacing tag run_id -> AutoML_7e3ddc93-d7a6-4989-87d2-b538e6a24281 with run_id -> AutoML_7e3ddc93-d7a6-4989-87d2-b538e6a24281\n",
      "Replacing tag model_name -> AutoML7e3ddc93d7 with model_name -> AutoML7e3ddc93d7\n",
      "Replacing tag trained_in_environment -> dev with trained_in_environment -> dev\n",
      "Replacing tag trained_in_workspace -> msft-weu-DEV-eap-proj02_ai-amls with trained_in_workspace -> msft-weu-DEV-eap-proj02_ai-amls\n",
      "Replacing tag experiment_name -> 10_titanic_model_clas with experiment_name -> 10_titanic_model_clas\n",
      "Replacing tag test_set_ROC_AUC -> 0.858617 with test_set_ROC_AUC -> 0.858617\n",
      "Replacing tag test_set_Accuracy -> 0.842697 with test_set_Accuracy -> 0.842697\n",
      "Replacing tag test_set_F1_Score -> 0.810811 with test_set_F1_Score -> 0.810811\n",
      "Replacing tag test_set_Precision -> 0.747782 with test_set_Precision -> 0.747782\n",
      "Replacing tag test_set_Recall -> 0.789474 with test_set_Recall -> 0.789474\n",
      "Replacing tag test_set_Matthews_Correlation -> 0.677088 with test_set_Matthews_Correlation -> 0.677088\n",
      "Replacing tag test_set_CM -> [[45  6]\n",
      " [ 8 30]] with test_set_CM -> [[45  6]\n",
      " [ 8 30]]\n",
      "Model tag add operation complete.\n",
      "...\n",
      "...\n",
      "Saving plot to Azure ML - best run AutoML_7e3ddc93-d7a6-4989-87d2-b538e6a24281\n",
      "AUC:\n",
      "0.8586171310629516\n",
      "\n",
      "Accuracy:\n",
      "0.8426966292134831\n",
      "\n",
      "F1 Score:\n",
      "0.8108108108108109\n",
      "\n",
      "Precision:\n",
      "0.7477823772915435\n",
      "\n",
      "Recall:\n",
      "0.7894736842105263\n",
      "\n",
      "Mathews correlation:\n",
      "0.6770876816517828\n",
      "\n",
      "Confusion Matrix:\n",
      "[[45  6]\n",
      " [ 8 30]]\n"
     ]
    },
    {
     "data": {
      "image/png": "[encoded data removed]",
      "text/plain": [
       "<Figure size 1440x345.6 with 3 Axes>"
      ]
     },
     "metadata": {
      "needs_background": "light"
     },
     "output_type": "display_data"
    }
   ],
   "source": [
    "from baselayer_azure_ml import ESMLTestScoringFactory\n",
    "auc,accuracy,f1, precision,recall,matrix,matthews, plt = ESMLTestScoringFactory(p).get_test_scoring_7_classification() # ovo,ovr,raise ...ovo is default\n",
    "\n",
    "print(\"AUC:\")\n",
    "print(auc)\n",
    "print()\n",
    "print(\"Accuracy:\")\n",
    "print(accuracy)\n",
    "print()\n",
    "print(\"F1 Score:\")\n",
    "print(f1)\n",
    "print()\n",
    "print(\"Precision:\")\n",
    "print(precision)\n",
    "print()\n",
    "print(\"Recall:\")\n",
    "print(recall)\n",
    "print()\n",
    "print(\"Mathews correlation:\")\n",
    "print(matthews)\n",
    "print()\n",
    "print(\"Confusion Matrix:\")\n",
    "print(matrix)\n"
   ]
  },
  {
   "cell_type": "code",
   "execution_count": 7,
   "metadata": {},
   "outputs": [
    {
     "name": "stdout",
     "output_type": "stream",
     "text": [
      "label Segmentation\n",
      "...\n",
      "[2 1 0 3]\n"
     ]
    }
   ],
   "source": [
    "p.active_model = 13 # CHANGE model - to a multi-classification model\n",
    "\n",
    "label = p.active_model[\"label\"]\n",
    "print(\"label\", label)\n",
    "test_set_pd =  p.GoldTest.to_pandas_dataframe()\n",
    "labels = test_set_pd[label].unique()\n",
    "print(labels)"
   ]
  },
  {
   "cell_type": "code",
   "execution_count": 8,
   "metadata": {},
   "outputs": [
    {
     "name": "stdout",
     "output_type": "stream",
     "text": [
      "found model via REMOTE FILTER: Experiment TAGS: model_name\n"
     ]
    },
    {
     "name": "stderr",
     "output_type": "stream",
     "text": [
      "WARNING:root:The version of the SDK does not match the version the model was trained on.\n",
      "WARNING:root:The consistency in the result may not be guaranteed.\n",
      "WARNING:root:Package:azureml-automl-core, training version:1.35.1, current version:1.26.0\n",
      "Package:azureml-automl-runtime, training version:1.35.1, current version:1.26.0.post1\n",
      "Package:azureml-core, training version:1.35.0.post1, current version:1.26.0.post1\n",
      "Package:azureml-dataprep, training version:2.23.2, current version:2.13.2\n",
      "Package:azureml-dataprep-native, training version:38.0.0, current version:32.0.0\n",
      "Package:azureml-dataprep-rslex, training version:1.21.2, current version:1.11.2\n",
      "Package:azureml-dataset-runtime, training version:1.35.0, current version:1.26.0\n",
      "Package:azureml-defaults, training version:1.35.0, current version:1.26.0\n",
      "Package:azureml-interpret, training version:1.35.0, current version:1.26.0\n",
      "Package:azureml-pipeline-core, training version:1.35.0, current version:1.26.0\n",
      "Package:azureml-telemetry, training version:1.35.0, current version:1.26.0\n",
      "Package:azureml-train-automl-client, training version:1.35.0, current version:1.26.0\n",
      "Package:azureml-train-automl-runtime, training version:1.35.1, current version:1.26.0.post1\n",
      "Package:azureml-train-core, training version:1.35.0, current version:1.26.0\n",
      "Package:azureml-train-restclients-hyperdrive, training version:1.35.0, current version:1.26.0\n",
      "WARNING:root:Below packages were used for model training but missing in current environment:\n",
      "WARNING:root:Package:azureml-inference-server-http, training version:0.3.2\n",
      "Package:azureml-mlflow, training version:1.35.0\n",
      "Package:azureml-responsibleai, training version:1.35.0\n",
      "WARNING:root:Please ensure the version of your local conda dependencies match the version on which your model was trained in order to properly retrieve your model.\n",
      "WARNING:urllib3.connectionpool:Retrying (Retry(total=2, connect=None, read=None, redirect=None, status=None)) after connection broken by 'ProtocolError('Connection aborted.', ConnectionResetError(10054, 'An existing connection was forcibly closed by the remote host', None, 10054, None))': /azureml/ExperimentRun/dcid.AutoML_7885361a-4377-46ae-8c24-b0f5831c5ef5_0/outputs/model.pkl?sv=2019-07-07&sr=b&sig=2stCB7C4VmNaTIoiAFCGuXsXuqXbGwfrck6qu0uAf9U%3D&skoid=bd6cbaae-1027-4ac2-b1e7-dea7bd468eb3&sktid=72f988bf-86f1-41af-91ab-2d7cd011db47&skt=2021-11-12T22%3A58%3A52Z&ske=2021-11-14T07%3A08%3A52Z&sks=b&skv=2019-07-07&st=2021-11-13T00%3A12%3A40Z&se=2021-11-13T08%3A22%3A40Z&sp=r\n"
     ]
    },
    {
     "name": "stdout",
     "output_type": "stream",
     "text": [
      "...\n",
      "...\n",
      "...\n",
      "...\n",
      "...\n",
      "...\n",
      "...\n",
      "...\n",
      "Replacing tag run_id -> AutoML_7885361a-4377-46ae-8c24-b0f5831c5ef5 with run_id -> AutoML_7885361a-4377-46ae-8c24-b0f5831c5ef5\n",
      "Replacing tag model_name -> AutoML7885361a40 with model_name -> AutoML7885361a40\n",
      "Replacing tag trained_in_environment -> dev with trained_in_environment -> dev\n",
      "Replacing tag trained_in_workspace -> msft-weu-DEV-eap-proj02_ai-amls with trained_in_workspace -> msft-weu-DEV-eap-proj02_ai-amls\n",
      "Replacing tag experiment_name -> 13_car_multiclass with experiment_name -> 13_car_multiclass\n",
      "Replacing tag test_set_ROC_AUC -> multiclass classification - see multilabel_confusion_matrix instead with test_set_ROC_AUC -> multiclass classification - see multilabel_confusion_matrix instead\n",
      "Replacing tag test_set_Accuracy -> 0.528273 with test_set_Accuracy -> 0.528273\n",
      "Replacing tag test_set_F1_Score -> [0.664495, 0.459397, 0.393443, 0.550889] with test_set_F1_Score -> [0.664495, 0.459397, 0.393443, 0.550889]\n",
      "Replacing tag test_set_Precision -> [0.630408, 0.448640, 0.429423, 0.560855] with test_set_Precision -> [0.630408, 0.448640, 0.429423, 0.560855]\n",
      "Replacing tag test_set_Recall -> [0.702479, 0.470681, 0.363025, 0.541270] with test_set_Recall -> [0.702479, 0.470681, 0.363025, 0.541270]\n",
      "Replacing tag test_set_Matthews_Correlation -> 0.369041 with test_set_Matthews_Correlation -> 0.369041\n",
      "Replacing tag test_set_CM -> [[[1557  299]\n",
      "  [ 216  510]]\n",
      "\n",
      " [[1586  365]\n",
      "  [ 334  297]]\n",
      "\n",
      " [[1700  287]\n",
      "  [ 379  216]]\n",
      "\n",
      " [[1685  267]\n",
      "  [ 289  341]]] with test_set_CM -> [[[1557  299]\n",
      "  [ 216  510]]\n",
      "\n",
      " [[1586  365]\n",
      "  [ 334  297]]\n",
      "\n",
      " [[1700  287]\n",
      "  [ 379  216]]\n",
      "\n",
      " [[1685  267]\n",
      "  [ 289  341]]]\n",
      "Model tag add operation complete.\n",
      "...\n",
      "...\n",
      "Saving plot to Azure ML - best run AutoML_7885361a-4377-46ae-8c24-b0f5831c5ef5\n",
      "AUC:\n",
      "None\n",
      "\n",
      "Accuracy:\n",
      "0.528272656855151\n",
      "\n",
      "F1 Score:\n",
      "[0.66449511 0.45939675 0.39344262 0.55088853]\n",
      "\n",
      "Precision:\n",
      "[0.63040791 0.44864048 0.42942346 0.56085526]\n",
      "\n",
      "Recall:\n",
      "[0.70247934 0.47068146 0.36302521 0.54126984]\n",
      "\n",
      "Mathews correlation:\n",
      "0.3690408272954119\n",
      "\n",
      "Confusion Matrix:\n",
      "[[[1557  299]\n",
      "  [ 216  510]]\n",
      "\n",
      " [[1586  365]\n",
      "  [ 334  297]]\n",
      "\n",
      " [[1700  287]\n",
      "  [ 379  216]]\n",
      "\n",
      " [[1685  267]\n",
      "  [ 289  341]]]\n"
     ]
    },
    {
     "data": {
      "image/png": "[encoded data removed]",
      "text/plain": [
       "<Figure size 864x504 with 4 Axes>"
      ]
     },
     "metadata": {
      "needs_background": "light"
     },
     "output_type": "display_data"
    }
   ],
   "source": [
    "auc,accuracy,f1, precision,recall,matrix,matthews, plt = ESMLTestScoringFactory(p).get_test_scoring_7_classification() # ovo,ovr,raise ...ovo is default\n",
    "\n",
    "print(\"AUC:\")\n",
    "print(auc)\n",
    "print()\n",
    "print(\"Accuracy:\")\n",
    "print(accuracy)\n",
    "print()\n",
    "print(\"F1 Score:\")\n",
    "print(f1)\n",
    "print()\n",
    "print(\"Precision:\")\n",
    "print(precision)\n",
    "print()\n",
    "print(\"Recall:\")\n",
    "print(recall)\n",
    "print()\n",
    "print(\"Mathews correlation:\")\n",
    "print(matthews)\n",
    "print()\n",
    "print(\"Confusion Matrix:\")\n",
    "print(matrix)\n"
   ]
  },
  {
   "cell_type": "code",
   "execution_count": 11,
   "metadata": {},
   "outputs": [
    {
     "name": "stdout",
     "output_type": "stream",
     "text": [
      "found model via REMOTE FILTER: Experiment TAGS: model_name\n"
     ]
    },
    {
     "name": "stderr",
     "output_type": "stream",
     "text": [
      "WARNING:root:The version of the SDK does not match the version the model was trained on.\n",
      "WARNING:root:The consistency in the result may not be guaranteed.\n",
      "WARNING:root:Package:azureml-automl-core, training version:1.34.0.post1, current version:1.26.0\n",
      "Package:azureml-automl-runtime, training version:1.34.0.post1, current version:1.26.0.post1\n",
      "Package:azureml-core, training version:1.34.0, current version:1.26.0.post1\n",
      "Package:azureml-dataprep, training version:2.22.2, current version:2.13.2\n",
      "Package:azureml-dataprep-native, training version:38.0.0, current version:32.0.0\n",
      "Package:azureml-dataprep-rslex, training version:1.20.2, current version:1.11.2\n",
      "Package:azureml-dataset-runtime, training version:1.34.0, current version:1.26.0\n",
      "Package:azureml-defaults, training version:1.34.0, current version:1.26.0\n",
      "Package:azureml-interpret, training version:1.34.0, current version:1.26.0\n",
      "Package:azureml-pipeline-core, training version:1.34.0, current version:1.26.0\n",
      "Package:azureml-telemetry, training version:1.34.0, current version:1.26.0\n",
      "Package:azureml-train-automl-client, training version:1.34.0, current version:1.26.0\n",
      "Package:azureml-train-automl-runtime, training version:1.34.0.post1, current version:1.26.0.post1\n",
      "WARNING:root:Below packages were used for model training but missing in current environment:\n",
      "WARNING:root:Package:azureml-inference-server-http, training version:0.3.1\n",
      "Package:azureml-mlflow, training version:1.34.0\n",
      "Package:azureml-responsibleai, training version:1.34.0\n",
      "WARNING:root:Please ensure the version of your local conda dependencies match the version on which your model was trained in order to properly retrieve your model.\n"
     ]
    },
    {
     "name": "stdout",
     "output_type": "stream",
     "text": [
      "...\n",
      "...\n",
      "...\n",
      "...\n",
      "...\n",
      "...\n",
      "...\n",
      "Replacing tag run_id -> AutoML_b608482b-eaf3-4398-b7f0-2b6001566e27 with run_id -> AutoML_b608482b-eaf3-4398-b7f0-2b6001566e27\n",
      "Replacing tag model_name -> AutoMLb608482be0 with model_name -> AutoMLb608482be0\n",
      "Replacing tag trained_in_environment -> dev with trained_in_environment -> dev\n",
      "Replacing tag trained_in_workspace -> msft-weu-DEV-eap-proj02_ai-amls with trained_in_workspace -> msft-weu-DEV-eap-proj02_ai-amls\n",
      "Replacing tag experiment_name -> 12_car_price_regression with experiment_name -> 12_car_price_regression\n",
      "Replacing tag test_set_RMSE -> 2044.834458 with test_set_RMSE -> 2044.834458\n",
      "Replacing tag test_set_R2 -> 0.933737 with test_set_R2 -> 0.933737\n",
      "Replacing tag test_set_MAPE -> 0.061736 with test_set_MAPE -> 0.061736\n",
      "Replacing tag test_set_Spearman_Correlation -> 0.966940 with test_set_Spearman_Correlation -> 0.966940\n",
      "Model tag add operation complete.\n",
      "RMSE:\n",
      "2044.8344578877845\n",
      "\n",
      "R2:\n",
      "0.9337368851187741\n",
      "\n",
      "MAPE:\n",
      "0.061736253549726575\n",
      "\n",
      "MAE:\n",
      "1357.42290793276\n",
      "\n",
      "Spearman:\n",
      "0.9669396612363422\n"
     ]
    },
    {
     "data": {
      "image/png": "[encoded data removed]",
      "text/plain": [
       "<Figure size 720x504 with 1 Axes>"
      ]
     },
     "metadata": {},
     "output_type": "display_data"
    }
   ],
   "source": [
    "p.active_model = 12 # CHANGE model - to a multi-classification model\n",
    "\n",
    "label = p.active_model[\"label\"]\n",
    "rmse, r2, mean_abs_percent_error,mae,spearman_corr,plt = ESMLTestScoringFactory(p).get_test_scoring_4_regression(label)\n",
    "print(\"RMSE:\")\n",
    "print(rmse)\n",
    "print()\n",
    "print(\"R2:\")\n",
    "print(r2)\n",
    "print()\n",
    "print(\"MAPE:\")\n",
    "print(mean_abs_percent_error)\n",
    "print()\n",
    "print(\"MAE:\")\n",
    "print(mae)\n",
    "print()\n",
    "print(\"Spearman:\")\n",
    "print(spearman_corr)"
   ]
  },
  {
   "cell_type": "markdown",
   "metadata": {},
   "source": [
    "# Connect to OTHER workspace stuff\n",
    "# - DEV 2 TEST - comparison, BEST_MODEL version in other Workspace? "
   ]
  },
  {
   "cell_type": "code",
   "execution_count": null,
   "metadata": {},
   "outputs": [],
   "source": [
    "p.dev_test_prod = \"test\" # Swith to TEST environment from DEV\n",
    "p.ws = p.get_workspace_from_config()\n",
    "p.inference_mode = True\n",
    "print(\"Azure ML workspace\", p.ws.name)"
   ]
  },
  {
   "cell_type": "code",
   "execution_count": null,
   "metadata": {},
   "outputs": [],
   "source": [
    "# Get latest model \"manually\" - can also be left out since DEFAULT behavour is to get latest\n",
    "m = p.get_best_model_via_modeltags_only(p.ws,p.experiment_name, filter_on_version=None) \n",
    "latest_version_in_test = m.version\n",
    "print(\"Latest BEST model registered: {}\".format(latest_version_in_test))"
   ]
  },
  {
   "cell_type": "markdown",
   "metadata": {},
   "source": [
    "# COMPUTE: Get default cluster (and name) in Azure ML, that BICEP created"
   ]
  },
  {
   "cell_type": "code",
   "execution_count": 4,
   "metadata": {},
   "outputs": [
    {
     "name": "stdout",
     "output_type": "stream",
     "text": [
      "Default CPU cluster compute that BICEP created:  p002-m10weu-dev\n",
      "Default CPU cluster that BICEP created:  p002-m10weu-dev\n",
      "Default AKS cluster that BICEP created:  esml-dev-prj002\n"
     ]
    }
   ],
   "source": [
    "from azureml.core.compute import ComputeTarget\n",
    "name = p.get_default_training_aml_compute_name()\n",
    "print(\"Default CPU cluster compute that BICEP created: \", name)\n",
    "print(\"Default CPU cluster that BICEP created: \", p.compute_factory.aml_cluster_name)\n",
    "print(\"Default AKS cluster that BICEP created: \", p.compute_factory.aks_name)\n",
    "\n",
    "\n",
    "#aml_compute = ComputeTarget(workspace=ws, name=name)"
   ]
  },
  {
   "cell_type": "markdown",
   "metadata": {},
   "source": [
    "# COMPUTE: Create NEW training cluster, with SUFFIX \n",
    "- ESML has a `create cLUSTER if name not exists` logic, hence after we change configuration, we need to either DELETE cluster first, or rename it at CREATION"
   ]
  },
  {
   "cell_type": "code",
   "execution_count": null,
   "metadata": {},
   "outputs": [],
   "source": [
    "aml_compute = p.get_training_aml_compute(ws=p.ws, use_non_model_specific_cluster=False, create_cluster_with_suffix_char='2')"
   ]
  },
  {
   "cell_type": "markdown",
   "metadata": {},
   "source": [
    "# ------ PIPELINES -----"
   ]
  },
  {
   "cell_type": "markdown",
   "metadata": {},
   "source": [
    "# Create BATCH SCORING pipeline in OTHER Azure ML workspace"
   ]
  },
  {
   "cell_type": "code",
   "execution_count": null,
   "metadata": {},
   "outputs": [],
   "source": [
    "from baselayer_azure_ml_pipeline import ESMLPipelineFactory, esml_pipeline_types\n",
    "p.dev_test_prod = \"test\" # Swith to TEST environment\n",
    "p.inference_mode = True # All BATCH Scoring or processing (IN_2_GOLD) is seen as INFERENCE. Only for BATCH_TRaining this is FALSE\n",
    "\n",
    "## ESMLPipelineFactory\n",
    "p_factory = ESMLPipelineFactory(p) # Here the SWTICH of WS will happen inside this class.\n",
    "print(\"Azure ML workspace\", p.ws.name)\n",
    "\n",
    "## BUILD\n",
    "p_factory.create_dataset_scripts_from_template(overwrite_if_exists=False) # Do this once, then edit them manually. overwrite_if_exists=False is DEFAULT\n",
    "batch_pipeline = p_factory.create_batch_pipeline(esml_pipeline_types.IN_2_GOLD_SCORING) # Creates pipeline from template"
   ]
  },
  {
   "cell_type": "markdown",
   "metadata": {},
   "source": [
    "### DATASET: See Run info from last gold scored"
   ]
  },
  {
   "cell_type": "code",
   "execution_count": null,
   "metadata": {},
   "outputs": [],
   "source": [
    "from azureml.core.dataset import Dataset\n",
    "# p = ESMLProject()\n",
    "# ...\n",
    "# ...p.connect_to_lake()\n",
    "meta_dataset = Dataset.get_by_name(p.ws, name=\"M10_GOLD_SCORED_RUNINFO\")\n",
    "meta_dataset.to_pandas_dataframe()"
   ]
  },
  {
   "cell_type": "markdown",
   "metadata": {},
   "source": [
    "## PIPELINE - Get earlier published pipeline - run WITHOUT caching\n",
    "- withour reuse, meaning regenerate_outputs=True"
   ]
  },
  {
   "cell_type": "code",
   "execution_count": null,
   "metadata": {},
   "outputs": [],
   "source": [
    "# Get and run Pipeline - FETCH & RUN - without CACHING, e.g. regenerate=True\n",
    "from azureml.pipeline.core import PublishedPipeline\n",
    "\n",
    "# Azure ML start\n",
    "p.ws = p.get_workspace_from_config()\n",
    "pipeline1 = PublishedPipeline.get(workspace=p.ws, id=\"cb0be1c9-0df0-4821-8d2a-2d734a6b9dcb\") # published_pipeline_id\n",
    "# Azure ML end\n",
    "\n",
    "# ESML (wraps Azure ml) start\n",
    "pipeline_run = p_factory.execute_pipeline(pipeline1,esml_pipeline_types.IN_2_GOLD_SCORING,None,True) # execute_pipeline(self, pipeline = None, pipeline_type=esml_pipeline_types.IN_2_GOLD_SCORING, pipeline_parameters = None, regenerate_outputs=True): \n",
    "pipeline_run.wait_for_completion(show_output=False)\n",
    "# ESML end"
   ]
  },
  {
   "cell_type": "markdown",
   "metadata": {},
   "source": [
    "# Pipeline - Change environment \n",
    "- Other curated\n",
    "- Non-curated, CONDA AutoML\n",
    "- https://docs.microsoft.com/en-us/azure/machine-learning/resource-curated-environments"
   ]
  },
  {
   "cell_type": "markdown",
   "metadata": {},
   "source": [
    "## Other curated - change environment"
   ]
  },
  {
   "cell_type": "code",
   "execution_count": null,
   "metadata": {},
   "outputs": [],
   "source": [
    "p_factory.use_curated_automl_environment = True\n",
    "p_factory.environment_name = \"AzureML-AutoML-DNN\" # Training[ \"AzureML-AutoML\", \"AzureML-lightgbm-3.2-ubuntu18.04-py37-cpu\"]  Inference[\"AzureML-sklearn-0.24.1-ubuntu18.04-py37-cpu-inference\",]\n",
    "\n",
    "## BUILD\n",
    "p_factory.create_dataset_scripts_from_template(overwrite_if_exists=False) # Do this once, then edit them manually. overwrite_if_exists=False is DEFAULT\n",
    "batch_pipeline = p_factory.create_batch_pipeline(pipeline_type=esml_pipeline_types.IN_2_GOLD_SCORING,same_compute_for_all=True)"
   ]
  },
  {
   "cell_type": "markdown",
   "metadata": {},
   "source": [
    "## Non-curated - custom conda/pip definition"
   ]
  },
  {
   "cell_type": "code",
   "execution_count": null,
   "metadata": {},
   "outputs": [],
   "source": [
    "p_factory.use_curated_automl_environment = False\n",
    "\n",
    "######### See here for environments: https://docs.microsoft.com/en-us/azure/machine-learning/resource-curated-environments\n",
    "\n",
    "######### ESML Defaults to the below CONDA, when use_curated_automl_environment = False \n",
    "#aml_run_config.environment.python.conda_dependencies = CondaDependencies.create(\n",
    "    #conda_packages=['pandas','scikit-learn'], \n",
    "    #pip_packages=['azureml-sdk[automl]', 'pyarrow'])\n",
    "\n",
    "## BUILD\n",
    "p_factory.create_dataset_scripts_from_template(overwrite_if_exists=False) # Do this once, then edit them manually. overwrite_if_exists=False is DEFAULT\n",
    "batch_pipeline = p_factory.create_batch_pipeline(pipeline_type=esml_pipeline_types.IN_2_GOLD_SCORING,same_compute_for_all=True)"
   ]
  },
  {
   "cell_type": "markdown",
   "metadata": {},
   "source": [
    "# Edit/Customize the ESML auto-generated pipeline"
   ]
  },
  {
   "cell_type": "code",
   "execution_count": null,
   "metadata": {},
   "outputs": [],
   "source": [
    "import sys\n",
    "sys.path.insert(0, \"../azure-enterprise-scale-ml/esml/common/\")\n",
    "from esml import ESMLProject\n",
    "from baselayer_azure_ml_pipeline import ESMLPipelineFactory, esml_pipeline_types\n",
    "from azureml.pipeline.core import Pipeline\n",
    "from azureml.pipeline.steps import PythonScriptStep\n",
    "\n",
    "p = ESMLProject()\n",
    "p.inference_mode = True\n",
    "p.active_model = 11 # Diabetes\n",
    "p_factory = ESMLPipelineFactory(p)\n",
    "scoring_date = '1000-01-01 10:35:01.243860' # \n",
    "p_factory.batch_pipeline_parameters[1].default_value = scoring_date # overrides ESMLProject.date_scoring_folder.\n",
    "#p.ws = p.get_workspace_from_config() \n",
    "\n",
    "p_factory.create_dataset_scripts_from_template(overwrite_if_exists=True) # Do this once, then edit them manually. overwrite_if_exists=False is DEFAULT\n",
    "batch_pipeline = p_factory.create_batch_pipeline(esml_pipeline_types.IN_2_GOLD_SCORING)\n",
    "\n",
    "\n",
    "#1) Get the ESML auto-generated steps\n",
    "step_array = p_factory.pipeline_steps_array\n",
    "\n",
    "for step in step_array:\n",
    "    t1 = type(step) # https://docs.microsoft.com/en-us/python/api/azureml-pipeline-steps/azureml.pipeline.steps.python_script_step.pythonscriptstep?view=azure-ml-py\n",
    "    print(str(t1))\n",
    "    print(step.name)\n",
    "\n",
    "#2)  EDIT pipeline as you wish...change compute, environments, add steps, remove steps, etc.\n",
    "\n",
    "pipeline = Pipeline(workspace = p.ws, steps=step_array) # 3) Create a pipelin\n",
    "print(pipeline)\n",
    "\n",
    "#4) RUN the pipeline as below:\n",
    "\n",
    "#pipeline_run = p_factory.execute_pipeline(pipeline)\n",
    "#pipeline_run.wait_for_completion(show_output=False)"
   ]
  },
  {
   "cell_type": "markdown",
   "metadata": {},
   "source": [
    "### 1c) `REBUILD` and `REPUBLISH` on `SAME endpoint` but new version"
   ]
  },
  {
   "cell_type": "code",
   "execution_count": null,
   "metadata": {},
   "outputs": [],
   "source": [
    "# REBUILD - if you haven't runned the above cell, uncommen below:\n",
    "p_factory.create_dataset_scripts_from_template(overwrite_if_exists=False) # overwrite_if_exists=False is default\n",
    "batch_pipeline = p_factory.create_batch_pipeline(pipeline_type=esml_pipeline_types.IN_2_GOLD_SCORING, same_compute_for_all=True, cpu_gpu_databricks=\"cpu\", allow_reuse=False)  # Gets workspace, connects to lake, creates pipeline.\n",
    "\n",
    "# PUBLISH\n",
    "published_pipeline, endpoint = p_factory.publish_pipeline(batch_pipeline, \"_6\") #  ADD version to existing pipeline & endpoint"
   ]
  },
  {
   "cell_type": "markdown",
   "metadata": {},
   "source": [
    "##  Consume from `Azure Data factory - BATCH_SCORE Pipeline activity`"
   ]
  },
  {
   "cell_type": "code",
   "execution_count": null,
   "metadata": {},
   "outputs": [],
   "source": [
    "print(\"In AZURE DATA FACTORY - This is the ID you need, if using PRIVATE LINK, private Azure ML workspace.\")\n",
    "print(\"-You need PIPELINE id, not pipeline ENDPOINT ID ( since cannot be chosen in Azure data factory if private Azure ML)\")\n",
    "published_pipeline.id"
   ]
  },
  {
   "cell_type": "markdown",
   "metadata": {},
   "source": [
    "## Get MetaData about scored data: `gold_scored_runinfo` Dataset"
   ]
  },
  {
   "cell_type": "code",
   "execution_count": null,
   "metadata": {},
   "outputs": [],
   "source": [
    "from azureml.core.dataset import Dataset\n",
    "from azureml.core import Experiment\n",
    "from azureml.pipeline.core import PipelineRun\n",
    "\n",
    "# 1st you need a \"Post scoring\" activity, to get metadata of \"scored_gold_path\" from \"last_gold_run.csv\"\n",
    "ds1 = Dataset.get_by_name(workspace = p.ws, name =  p.dataset_gold_scored_runinfo_name_azure)\n",
    "run_id = ds1.to_pandas_dataframe().iloc[0][\"pipeline_run_id\"] # ['pipeline_run_id', 'scored_gold_path', 'date_in_parameter', 'date_at_pipeline_run','model_version'])\n",
    "scored_gold_path = ds1.to_pandas_dataframe().iloc[0][\"scored_gold_path\"]\n",
    "\n",
    "print(\"Read this meta-dataset from ADF: {}/last_gold_run.csv\".format(p.path_inference_gold_scored_runinfo))\n",
    "print(\"- To get the column 'scored_gold_path' which points to the scored-data:\")\n",
    "print(\"The scored data will be stored as below, except DateFolders, that will be dynamic, not /1000/01/01\")\n",
    "print(\"\")\n",
    "print(\"{}*.parquet\".format(scored_gold_path))\n"
   ]
  },
  {
   "cell_type": "code",
   "execution_count": null,
   "metadata": {},
   "outputs": [],
   "source": [
    "## Get old RUN, such as AutoMLRun"
   ]
  },
  {
   "cell_type": "code",
   "execution_count": 1,
   "metadata": {},
   "outputs": [],
   "source": [
    "from azureml.train.automl.run import AutoMLRun\n",
    "\n",
    "automl_step_run_id = 'AutoML_d1093aff-84fe-45d8-939f-effe3092dd4c_0' # Look at the Experiment/PipelineRun, raw JSON,  and get the runId of AutoMLStep/Run\n",
    "experiment_run = p.ws.experiments[p.experiment_name]\n",
    "best_run = AutoMLRun(experiment_run, run_id = automl_step_run_id)\n",
    "\n",
    "run_id = best_run.id\n",
    "model_name = best_run.properties['model_name'] # AutoML default name\n",
    "print(model_name)\n",
    "\n",
    "score = best_run.properties['score']\n",
    "algo = best_run.properties['run_algorithm']\n",
    "prep = best_run.properties['run_preprocessor']\n",
    "primary_metric = best_run.properties['primary_metric']\n",
    "peak_memory_usage = best_run.properties['peak_memory_usage']\n",
    "num_logical_cores = best_run.properties['num_logical_cores']\n",
    "\n",
    "print(\"score: {}, algorithm: {}, prep: {}, primary metric: {}, peak_memory_used {} MB, num_logical_core_used {}\".format(score,algo,prep,primary_metric,peak_memory_usage,num_logical_cores))"
   ]
  },
  {
   "cell_type": "markdown",
   "metadata": {},
   "source": [
    "# Init ESML Controller: and Register model from RUN"
   ]
  },
  {
   "cell_type": "code",
   "execution_count": null,
   "metadata": {},
   "outputs": [],
   "source": [
    "import sys\n",
    "sys.path.insert(0, \"../azure-enterprise-scale-ml/\")\n",
    "\n",
    "from esmlrt.interfaces.iESMLController import IESMLController\n",
    "from esmlrt.interfaces.iESMLModelCompare import IESMLModelCompare\n",
    "from esmlrt.interfaces.iESMLTestScoringFactory import IESMLTestScoringFactory\n",
    "from esmlrt.interfaces.iESMLTrainer import IESMLTrainer\n",
    "from esmlrt.runtime.ESMLController import ESMLController\n",
    "from esmlrt.runtime.ESMLModelCompare2 import ESMLModelCompare\n",
    "from esmlrt.runtime.ESMLTestScoringFactory2 import ESMLTestScoringFactory\n",
    "\n",
    "ws = p.ws\n",
    "target_column_name = p.active_model[\"label\"]\n",
    "esml_modelname = p.model_folder_name\n",
    "esml_model_alias = p.ModelAlias\n",
    "esml_current_env  = p.dev_test_prod\n",
    "train_ds = p.GoldTrain\n",
    "validate_ds = p.GoldValidate\n",
    "test_ds = p.GoldTest\n",
    "\n",
    "secret_name_tenant = p.security_config[\"tenant\"]\n",
    "secret_name_sp_id_name = p.security_config[\"kv-secret-esml-projectXXX-sp-id\"]\n",
    "secret_name_sp_secret_name = p.security_config[\"kv-secret-esml-projectXXX-sp-secret\"]\n",
    "\n",
    "ml_type = \"regression\" # Configure this: regression,classification\n",
    "project_name = p.project_folder_name\n",
    "test_scoring = ESMLTestScoringFactory(ml_type) # If custom, You need to implement IESMLTestScoringFactory\n",
    "comparer = ESMLModelCompare(setting_path = \"\") # If custom. You need to implement IESMLModelCompare\n",
    "\n",
    "# IESMLController: you do not have to change/implement this class. Dependency injects default or your class.\n",
    "controller = ESMLController(comparer,test_scoring,project_name,esml_modelname, esml_model_alias, secret_name_tenant,secret_name_sp_id_name,secret_name_sp_secret_name)\n",
    "controller.dev_test_prod = esml_current_env\n",
    "controller.version()"
   ]
  },
  {
   "cell_type": "markdown",
   "metadata": {},
   "source": [
    "## REGISTER from run: AutoMLRun as example (same principle for PipelineRun and Step)\n",
    "- NB! For AutoML Run we get the MODEL_NAME from the child_run, but `we need the MAIN_RUN`, when registering the model"
   ]
  },
  {
   "cell_type": "code",
   "execution_count": null,
   "metadata": {},
   "outputs": [],
   "source": [
    "from azureml.train.automl.run import AutoMLRun\n",
    "\n",
    "# Get the MODEL_NAME from CHILD RUN\n",
    "automl_step_run_id = 'AutoML_d1093aff-84fe-45d8-939f-effe3092dd4c_0' # Look at the Experiment/PipelineRun, raw JSON,  and get the runId of AutoMLStep/Run\n",
    "experiment_run = p.ws.experiments[p.experiment_name]\n",
    "best_run = AutoMLRun(experiment_run, run_id = automl_step_run_id)\n",
    "\n",
    "run_id = best_run.id\n",
    "model_name = best_run.properties['model_name'] # AutoML default name\n",
    "\n",
    "# Get the MAIN_RUN to be able to pass when run.register_model()\n",
    "automl_step_run_id = 'AutoML_d1093aff-84fe-45d8-939f-effe3092dd4c' # Removed the '_0' and we get the parent MAIN_RUN\n",
    "experiment_run = p.ws.experiments[p.experiment_name]\n",
    "main_run = AutoMLRun(experiment_run, run_id = automl_step_run_id)\n",
    "\n",
    "main_run.properties[\"AMLSettingsJsonString\"]  # Only the MAIN_RUN has this property"
   ]
  },
  {
   "cell_type": "code",
   "execution_count": null,
   "metadata": {},
   "outputs": [],
   "source": [
    "#REGISTER passing the MAIN_RUN as parameter\n",
    "\n",
    "extra_tags = {\"status_code\": IESMLController.esml_status_new, \"trained_with\": \"AutoMLRun\"}\n",
    "model_registered_as_new = controller.register_model(source_ws=ws, target_env=\"dev\", source_model=None, run=main_run, esml_status=IESMLController.esml_status_new,extra_model_tags=extra_tags)"
   ]
  },
  {
   "cell_type": "markdown",
   "metadata": {},
   "source": [
    "# ESMLProject Constructor: Date_time_Folder override\n",
    "- Set Date_Time folder, and model_version"
   ]
  },
  {
   "cell_type": "code",
   "execution_count": 3,
   "metadata": {},
   "outputs": [
    {
     "name": "stdout",
     "output_type": "stream",
     "text": [
      "Using lake_settings.json with ESML version 1.4 - Models array support including LABEL\n",
      "Environment: dev\n",
      "Inference version: 2\n",
      "\n",
      " - ds01_titanic\n",
      "projects/project002/10_titanic_model_clas/train/ds01_titanic/in/dev/2025/01/01/\n",
      "projects/project002/10_titanic_model_clas/train/ds01_titanic/out/bronze/dev/\n",
      "projects/project002/10_titanic_model_clas/train/ds01_titanic/out/silver/dev/\n",
      "\n",
      " - ds02_haircolor\n",
      "projects/project002/10_titanic_model_clas/train/ds02_haircolor/in/dev/2025/01/01/\n",
      "projects/project002/10_titanic_model_clas/train/ds02_haircolor/out/bronze/dev/\n",
      "projects/project002/10_titanic_model_clas/train/ds02_haircolor/out/silver/dev/\n",
      "\n",
      " - ds03_housing\n",
      "projects/project002/10_titanic_model_clas/train/ds03_housing/in/dev/2025/01/01/\n",
      "projects/project002/10_titanic_model_clas/train/ds03_housing/out/bronze/dev/\n",
      "projects/project002/10_titanic_model_clas/train/ds03_housing/out/silver/dev/\n",
      "\n",
      " - ds04_lightsaber\n",
      "projects/project002/10_titanic_model_clas/train/ds04_lightsaber/in/dev/2025/01/01/\n",
      "projects/project002/10_titanic_model_clas/train/ds04_lightsaber/out/bronze/dev/\n",
      "projects/project002/10_titanic_model_clas/train/ds04_lightsaber/out/silver/dev/\n",
      " \n",
      "\n",
      "Training GOLD (p.GoldPath)\n",
      "projects/project002/10_titanic_model_clas/train/gold/dev/\n",
      " \n",
      "\n",
      "[A) USAGE]: to_score_folder, scored_folder, date_folder = p.get_gold_scored_unique_path()\n",
      "A)INFERENCE ONLINE: GOLD to score (example if realtime - today)\n",
      "projects/project002/10_titanic_model_clas/inference/2/gold/dev/2022_09_27/c4662c8b8c264275947d3d8adbde6850/\n",
      " \n",
      "\n",
      "A)INFERENCE ONLINE: GOLD scored (example if realtime today)\n",
      "projects/project002/10_titanic_model_clas/inference/2/scored/dev/2022_09_27/c4662c8b8c264275947d3d8adbde6850/\n",
      " \n",
      "\n",
      "[B) USAGE]: to_score_folder_batch, scored_folder, date_folder = p.get_gold_scored_unique_path(p.date_scoring_folder)\n",
      "B)INFERENCE BATCH: GOLD to score (example batch, datetime from config)\n",
      "projects/project002/10_titanic_model_clas/inference/2/gold/dev/2025_01_01/ee970aaa8fd54294b792a1122100de01/\n",
      " \n",
      "\n",
      "B)INFERENCE BATCH: GOLD scored (example batch, datetime from config)\n",
      "projects/project002/10_titanic_model_clas/inference/2/scored/dev/2025_01_01/ee970aaa8fd54294b792a1122100de01/\n",
      " \n",
      "\n",
      "C) INFERENCE BATCH (SCENARIO 2): TODAY I scored data from X days AGO  (second datefolder from config - X days ago)\n",
      "projects/project002/10_titanic_model_clas/inference/2/gold/dev/2025_01_01/ee970aaa8fd54294b792a1122100de01/2025_01_01/\n",
      "projects/project002/10_titanic_model_clas/inference/2/scored/dev/2025_01_01/ee970aaa8fd54294b792a1122100de01/2025_01_01/\n",
      " \n",
      "\n",
      "ENVIRONMENT - DEV, TEST, or PROD?  [USAGE: p.dev_test_prod]\n",
      "ACTIVE ENVIRONMENT = dev\n",
      "ACTIVE subscription = ca0a8c40-b06a-4e4e-8434-63c03a1dee34\n",
      "- MSFT-WEU-EAP_PROJECT02_AI-DEV-RG\n",
      "- msft-weu-DEV-eap-proj02_ai-amls\n",
      "- westeurope\n",
      "- MSFT-WEU-EAP_CMN_AI-DEV-RG\n",
      "Active vNet: msft-weu-dev-cmnai-vnet\n",
      "Active SubNet: \n",
      "[USAGE] for the above: p.vNetForActiveEnvironment()\n",
      "Active Lake (storage account)  msftweudevcmnai2\n",
      "[USAGE] for the above: p.getLakeForActiveEnvironment()\n",
      "AML for docker: True\n"
     ]
    }
   ],
   "source": [
    "import sys\n",
    "sys.path.insert(0, \"../azure-enterprise-scale-ml/esml/common/\")\n",
    "from esml import ESMLProject\n",
    "\n",
    "param_esml_env = \"dev\" \n",
    "param_inference_model_version = \"2\" # DATALAKE(my_model/inference/active) | settings/project_specific/active/active_scoring_in_folder.json\n",
    "param_scoring_folder_date = \"2025-01-01 00:00:01.243860\" # DATALAKE(my_model/inference/active) | settings/project_specific/active/active_scoring_in_folder.json\n",
    "param_train_in_folder_date = \"2025-01-01 00:00:01.243860\" # DATALAKE(my_model/train/active) | settings/project_specific/active/active_in_folder.json\n",
    "\n",
    "p = ESMLProject(param_esml_env,param_inference_model_version,param_scoring_folder_date,param_train_in_folder_date)\n",
    "p.inference_mode = False\n",
    "p.active_model = 10\n",
    "p.describe()"
   ]
  },
  {
   "cell_type": "code",
   "execution_count": null,
   "metadata": {},
   "outputs": [],
   "source": [
    "import sys\n",
    "sys.path.insert(0, \"../azure-enterprise-scale-ml/esml/common/\")\n",
    "from esml import ESMLProject\n",
    "from baselayer_azure_ml_pipeline import ESMLPipelineFactory, esml_pipeline_types\n",
    "\n",
    "p = ESMLProject()\n",
    "p.ws = p.get_workspace_from_config()\n",
    "p.inference_mode = True\n",
    "p.active_model = 11 # Diabetes\n",
    "p_factory = ESMLPipelineFactory(p)\n",
    "\n",
    "scoring_date = '2021-01-01 10:35:01.243860' # \n",
    "p_factory.batch_pipeline_parameters[1].default_value = scoring_date # overrides ESMLProject.date_scoring_folder.\n",
    "p_factory.describe()"
   ]
  }
 ],
 "metadata": {
  "kernelspec": {
   "display_name": "Python 3.8.13 ('azure_automl_esml_v144')",
   "language": "python",
   "name": "python3"
  },
  "language_info": {
   "codemirror_mode": {
    "name": "ipython",
    "version": 3
   },
   "file_extension": ".py",
   "mimetype": "text/x-python",
   "name": "python",
   "nbconvert_exporter": "python",
   "pygments_lexer": "ipython3",
   "version": "3.8.13"
  },
  "orig_nbformat": 4,
  "vscode": {
   "interpreter": {
    "hash": "a4a3f6f829c0fbf992fdd78de6ec4e694e293d154a9b96895f90a426de0ee97e"
   }
  }
 },
 "nbformat": 4,
 "nbformat_minor": 2
}
