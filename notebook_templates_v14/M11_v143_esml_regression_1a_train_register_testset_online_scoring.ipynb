{
 "cells": [
  {
   "cell_type": "markdown",
   "metadata": {},
   "source": [
    "# Login / Switch DEV_TEST_PROD environment (1-timer)"
   ]
  },
  {
   "cell_type": "code",
   "execution_count": 1,
   "metadata": {},
   "outputs": [
    {
     "name": "stdout",
     "output_type": "stream",
     "text": [
      "1.44.0\n"
     ]
    }
   ],
   "source": [
    "import azureml.core\n",
    "print(azureml.core.VERSION)"
   ]
  },
  {
   "cell_type": "code",
   "execution_count": 2,
   "metadata": {},
   "outputs": [
    {
     "name": "stdout",
     "output_type": "stream",
     "text": [
      "Using lake_settings.json with ESML version 1.4 - Models array support including LABEL\n"
     ]
    }
   ],
   "source": [
    "import sys\n",
    "sys.path.insert(0, \"../azure-enterprise-scale-ml/esml/common/\")\n",
    "from azureml.core.authentication import InteractiveLoginAuthentication\n",
    "from esml import ESMLProject\n",
    "\n",
    "p = ESMLProject()\n",
    "p.dev_test_prod=\"dev\"\n",
    "auth = InteractiveLoginAuthentication(tenant_id = p.tenant)\n",
    "ws, config_name = p.authenticate_workspace_and_write_config(auth)"
   ]
  },
  {
   "cell_type": "markdown",
   "metadata": {},
   "source": [
    "# 1) ESML - TRAIN Classification, TITANIC model, and DEPLOY with predict_proba scoring"
   ]
  },
  {
   "cell_type": "code",
   "execution_count": 1,
   "metadata": {},
   "outputs": [
    {
     "name": "stdout",
     "output_type": "stream",
     "text": [
      "Using lake_settings.json with ESML version 1.4 - Models array support including LABEL\n",
      "Environment: dev\n",
      "Inference version: 1\n",
      "\n",
      " - ds01_diabetes\n",
      "projects/project002/11_diabetes_model_reg/train/ds01_diabetes/in/dev/1000/01/01/\n",
      "projects/project002/11_diabetes_model_reg/train/ds01_diabetes/out/bronze/dev/\n",
      "projects/project002/11_diabetes_model_reg/train/ds01_diabetes/out/silver/dev/\n",
      "\n",
      " - ds02_other\n",
      "projects/project002/11_diabetes_model_reg/train/ds02_other/in/dev/1000/01/01/\n",
      "projects/project002/11_diabetes_model_reg/train/ds02_other/out/bronze/dev/\n",
      "projects/project002/11_diabetes_model_reg/train/ds02_other/out/silver/dev/\n",
      " \n",
      "\n",
      "Training GOLD (p.GoldPath)\n",
      "projects/project002/11_diabetes_model_reg/train/gold/dev/\n",
      " \n",
      "\n",
      "[A) USAGE]: to_score_folder, scored_folder, date_folder = p.get_gold_scored_unique_path()\n",
      "A)INFERENCE ONLINE: GOLD to score (example if realtime - today)\n",
      "projects/project002/11_diabetes_model_reg/inference/1/gold/dev/2022_08_31/2353587941674c3f982c729e6bafd4cd/\n",
      " \n",
      "\n",
      "A)INFERENCE ONLINE: GOLD scored (example if realtime today)\n",
      "projects/project002/11_diabetes_model_reg/inference/1/scored/dev/2022_08_31/2353587941674c3f982c729e6bafd4cd/\n",
      " \n",
      "\n",
      "[B) USAGE]: to_score_folder_batch, scored_folder, date_folder = p.get_gold_scored_unique_path(p.date_scoring_folder)\n",
      "B)INFERENCE BATCH: GOLD to score (example batch, datetime from config)\n",
      "projects/project002/11_diabetes_model_reg/inference/1/gold/dev/2021_06_08/ed5567bc8f1947108a2f58951a126abb/\n",
      " \n",
      "\n",
      "B)INFERENCE BATCH: GOLD scored (example batch, datetime from config)\n",
      "projects/project002/11_diabetes_model_reg/inference/1/scored/dev/2021_06_08/ed5567bc8f1947108a2f58951a126abb/\n",
      " \n",
      "\n",
      "C) INFERENCE BATCH (SCENARIO 2): TODAY I scored data from X days AGO  (second datefolder from config - X days ago)\n",
      "projects/project002/11_diabetes_model_reg/inference/1/gold/dev/2021_06_08/ed5567bc8f1947108a2f58951a126abb/2021_06_08/\n",
      "projects/project002/11_diabetes_model_reg/inference/1/scored/dev/2021_06_08/ed5567bc8f1947108a2f58951a126abb/2021_06_08/\n",
      " \n",
      "\n",
      "ENVIRONMENT - DEV, TEST, or PROD?  [USAGE: p.dev_test_prod]\n",
      "ACTIVE ENVIRONMENT = dev\n",
      "ACTIVE subscription = ca0a8c40-b06a-4e4e-8434-63c03a1dee34\n",
      "- MSFT-WEU-EAP_PROJECT02_AI-DEV-RG\n",
      "- msft-weu-DEV-eap-proj02_ai-amls\n",
      "- westeurope\n",
      "- MSFT-WEU-EAP_CMN_AI-DEV-RG\n",
      "Active vNet: msft-weu-dev-cmnai-vnet\n",
      "Active SubNet: \n",
      "[USAGE] for the above: p.vNetForActiveEnvironment()\n",
      "Active Lake (storage account)  msftweudevcmnai2\n",
      "[USAGE] for the above: p.getLakeForActiveEnvironment()\n",
      "AML for docker: True\n"
     ]
    }
   ],
   "source": [
    "import sys\n",
    "sys.path.insert(0, \"../azure-enterprise-scale-ml/esml/common/\")\n",
    "from esml import ESMLProject\n",
    "import pandas as pd\n",
    "\n",
    "p = ESMLProject() # Will search in ROOT for your copied SETTINGS folder '../../../settings', you should copy template settings from '../settings'\n",
    "p.active_model = 11\n",
    "p.inference_mode = False\n",
    "p.ws = p.get_workspace_from_config() #2) Load DEV or TEST or PROD Azure ML Studio workspace\n",
    "p.verbose_logging = False\n",
    "p.describe()"
   ]
  },
  {
   "cell_type": "code",
   "execution_count": 4,
   "metadata": {},
   "outputs": [],
   "source": [
    "def test_feature_engieering():\n",
    "    # Feture engineering: Bronze 2 Gold - working with Azure ML Datasets with Bronze, Silver, Gold concept\n",
    "    esml_dataset = p.DatasetByName(\"ds01_diabetes\") # Get dataset\n",
    "    df_bronze = esml_dataset.Bronze.to_pandas_dataframe()\n",
    "    p.save_silver(esml_dataset,df_bronze) #Bronze -> Silver\n",
    "\n",
    "    esml_dataset2 = p.DatasetByName(\"ds02_other\") # Get dataset\n",
    "    df_bronze2 = esml_dataset2.Bronze.to_pandas_dataframe()\n",
    "    p.save_silver(esml_dataset2,df_bronze2) #Bronze -> Silver\n",
    "\n",
    "    df = esml_dataset.Silver.to_pandas_dataframe() \n",
    "    df_filtered = df[df.AGE > 0.015] \n",
    "    gold = p.save_gold(df_filtered)  #Silver -> Gold\n",
    "    return gold"
   ]
  },
  {
   "cell_type": "code",
   "execution_count": 5,
   "metadata": {},
   "outputs": [
    {
     "name": "stdout",
     "output_type": "stream",
     "text": [
      "Using GEN2 as Datastore\n",
      "Searching for setting in ESML datalake...\n",
      "ESML in-folder settings override = TRUE \n",
      " - Found settings in the ESML AutoLake  [active_in_folder.json,active_scoring_in_folder.json], to override ArgParse/GIT config with.\n",
      " - TRAIN in date:  1000/01/01\n",
      " - INFERENCE in date: 2021/06/08 and ModelVersion to score with: 1 (0=latest)\n",
      "\n",
      "Inference mode (False = Training mode): False\n",
      "Load data as Datasets....\n",
      "ds01_diabetes\n",
      "ds02_other\n",
      "\n",
      "####### Automap & Autoregister - SUCCESS!\n",
      "1) Auto mapped 2 ESML Dataset with registered Azure ML Datasets (potentially all 3: IN,BRONZE, SILVER) in Datastore project002prjsp \n",
      "\n",
      "Dataset 'ds01_diabetes' status:\n",
      " - IN_Folder_has_files\n",
      " - BRONZE_Folder_has_files\n",
      " - SILVER_Folder_has_files\n",
      "Dataset 'ds02_other' status:\n",
      " - IN_Folder_has_files\n",
      " - BRONZE_Folder_has_files\n",
      " - SILVER_Folder_has_files\n",
      "\n",
      "2) Registered each Dataset with suffixes (_IN, _BRONZE, _SILVER) \n",
      " Tip: Use ESMLProject.Datasets list or .DatasetByName(myDatasetName) to read/write\n",
      "#######\n"
     ]
    }
   ],
   "source": [
    "datastore = p.init() # 3) Automapping from datalake to Azure ML datasets\n",
    "gold = test_feature_engieering()"
   ]
  },
  {
   "cell_type": "markdown",
   "metadata": {},
   "source": [
    "datastore = None\n",
    "try:\n",
    "    datastore = p.connect_to_lake() # Connects to the correct ALDS GEN 2 storage account (DEV, TEST or PROD)\n",
    "    gold_train = p.GoldTrain\n",
    "    gold_train.name\n",
    "    print(\"Not 1st time. We have data mapped already...and splitted. Now connected to LAKE\")\n",
    "except: # If 1st time....no Gold exists, nor any mapping\n",
    "    print(\"1st time. Lets init, map what data we have in LAKE, as Azure ML Datasets\")\n",
    "    datastore = p.init() # 3) Automapping from datalake to Azure ML datasets\n",
    "    gold = test_feature_engieering()"
   ]
  },
  {
   "cell_type": "code",
   "execution_count": 6,
   "metadata": {},
   "outputs": [
    {
     "data": {
      "text/html": [
       "<div>\n",
       "<style scoped>\n",
       "    .dataframe tbody tr th:only-of-type {\n",
       "        vertical-align: middle;\n",
       "    }\n",
       "\n",
       "    .dataframe tbody tr th {\n",
       "        vertical-align: top;\n",
       "    }\n",
       "\n",
       "    .dataframe thead th {\n",
       "        text-align: right;\n",
       "    }\n",
       "</style>\n",
       "<table border=\"1\" class=\"dataframe\">\n",
       "  <thead>\n",
       "    <tr style=\"text-align: right;\">\n",
       "      <th></th>\n",
       "      <th>AGE</th>\n",
       "      <th>SEX</th>\n",
       "      <th>BMI</th>\n",
       "      <th>BP</th>\n",
       "      <th>S1</th>\n",
       "      <th>S2</th>\n",
       "      <th>S3</th>\n",
       "      <th>S4</th>\n",
       "      <th>S5</th>\n",
       "      <th>S6</th>\n",
       "      <th>Y</th>\n",
       "    </tr>\n",
       "  </thead>\n",
       "  <tbody>\n",
       "    <tr>\n",
       "      <th>0</th>\n",
       "      <td>0.038076</td>\n",
       "      <td>0.05068</td>\n",
       "      <td>0.061696</td>\n",
       "      <td>0.021872</td>\n",
       "      <td>-0.044223</td>\n",
       "      <td>-0.034821</td>\n",
       "      <td>-0.043401</td>\n",
       "      <td>-0.002592</td>\n",
       "      <td>0.019908</td>\n",
       "      <td>-0.017646</td>\n",
       "      <td>151.0</td>\n",
       "    </tr>\n",
       "    <tr>\n",
       "      <th>1</th>\n",
       "      <td>0.085299</td>\n",
       "      <td>0.05068</td>\n",
       "      <td>0.044451</td>\n",
       "      <td>-0.005671</td>\n",
       "      <td>-0.045599</td>\n",
       "      <td>-0.034194</td>\n",
       "      <td>-0.032356</td>\n",
       "      <td>-0.002592</td>\n",
       "      <td>0.002864</td>\n",
       "      <td>-0.025930</td>\n",
       "      <td>141.0</td>\n",
       "    </tr>\n",
       "    <tr>\n",
       "      <th>2</th>\n",
       "      <td>0.063504</td>\n",
       "      <td>0.05068</td>\n",
       "      <td>-0.001895</td>\n",
       "      <td>0.066630</td>\n",
       "      <td>0.090620</td>\n",
       "      <td>0.108914</td>\n",
       "      <td>0.022869</td>\n",
       "      <td>0.017703</td>\n",
       "      <td>-0.035817</td>\n",
       "      <td>0.003064</td>\n",
       "      <td>63.0</td>\n",
       "    </tr>\n",
       "    <tr>\n",
       "      <th>3</th>\n",
       "      <td>0.041708</td>\n",
       "      <td>0.05068</td>\n",
       "      <td>0.061696</td>\n",
       "      <td>-0.040099</td>\n",
       "      <td>-0.013953</td>\n",
       "      <td>0.006202</td>\n",
       "      <td>-0.028674</td>\n",
       "      <td>-0.002592</td>\n",
       "      <td>-0.014956</td>\n",
       "      <td>0.011349</td>\n",
       "      <td>110.0</td>\n",
       "    </tr>\n",
       "    <tr>\n",
       "      <th>4</th>\n",
       "      <td>0.027178</td>\n",
       "      <td>0.05068</td>\n",
       "      <td>0.017506</td>\n",
       "      <td>-0.033214</td>\n",
       "      <td>-0.007073</td>\n",
       "      <td>0.045972</td>\n",
       "      <td>-0.065491</td>\n",
       "      <td>0.071210</td>\n",
       "      <td>-0.096433</td>\n",
       "      <td>-0.059067</td>\n",
       "      <td>69.0</td>\n",
       "    </tr>\n",
       "  </tbody>\n",
       "</table>\n",
       "</div>"
      ],
      "text/plain": [
       "        AGE      SEX       BMI        BP        S1        S2        S3  \\\n",
       "0  0.038076  0.05068  0.061696  0.021872 -0.044223 -0.034821 -0.043401   \n",
       "1  0.085299  0.05068  0.044451 -0.005671 -0.045599 -0.034194 -0.032356   \n",
       "2  0.063504  0.05068 -0.001895  0.066630  0.090620  0.108914  0.022869   \n",
       "3  0.041708  0.05068  0.061696 -0.040099 -0.013953  0.006202 -0.028674   \n",
       "4  0.027178  0.05068  0.017506 -0.033214 -0.007073  0.045972 -0.065491   \n",
       "\n",
       "         S4        S5        S6      Y  \n",
       "0 -0.002592  0.019908 -0.017646  151.0  \n",
       "1 -0.002592  0.002864 -0.025930  141.0  \n",
       "2  0.017703 -0.035817  0.003064   63.0  \n",
       "3 -0.002592 -0.014956  0.011349  110.0  \n",
       "4  0.071210 -0.096433 -0.059067   69.0  "
      ]
     },
     "execution_count": 6,
     "metadata": {},
     "output_type": "execute_result"
    }
   ],
   "source": [
    "p.Gold.to_pandas_dataframe().head()"
   ]
  },
  {
   "cell_type": "markdown",
   "metadata": {},
   "source": [
    "## SUMMARY - step 1\n",
    "- ESML has now `Automap` and `Autoregister` Azure ML Datasets as: `IN, SILVER, BRONZE, GOLD`\n",
    "- ESML has read configuration for correct environment (DEV, TEST, PROD). \n",
    "    - Both small customers, and large Enterprise customers often wants:  DEV, TEST, PROD in `diffferent Azure ML workspaces` (and different subscriptions)\n",
    "- User has done feature engineering, and saved GOLD `p.save_gold`"
   ]
  },
  {
   "cell_type": "code",
   "execution_count": 7,
   "metadata": {},
   "outputs": [
    {
     "name": "stdout",
     "output_type": "stream",
     "text": [
      "...\n"
     ]
    }
   ],
   "source": [
    "M10_GOLD_TRAIN, M10_GOLD_VALIDATE, M10_GOLD_TEST = p.split_gold_3(0.6,stratified=False) # Splits and Auto-registers as AZUREM ML Datasets"
   ]
  },
  {
   "cell_type": "markdown",
   "metadata": {},
   "source": [
    "# IN_2_GOLD\n",
    "- If just wanting to refine data to GOLD, for a Power BI report (No ML involved)\n",
    "- Scenario: You want to refine data from \"IN_2_GOLD\" with an easy way to READ/WRITE data (using the enterprise datalake via ESML AutoLake and ESML SDK)"
   ]
  },
  {
   "cell_type": "code",
   "execution_count": 8,
   "metadata": {},
   "outputs": [
    {
     "data": {
      "text/html": [
       "<div>\n",
       "<style scoped>\n",
       "    .dataframe tbody tr th:only-of-type {\n",
       "        vertical-align: middle;\n",
       "    }\n",
       "\n",
       "    .dataframe tbody tr th {\n",
       "        vertical-align: top;\n",
       "    }\n",
       "\n",
       "    .dataframe thead th {\n",
       "        text-align: right;\n",
       "    }\n",
       "</style>\n",
       "<table border=\"1\" class=\"dataframe\">\n",
       "  <thead>\n",
       "    <tr style=\"text-align: right;\">\n",
       "      <th></th>\n",
       "      <th>AGE</th>\n",
       "      <th>SEX</th>\n",
       "      <th>BMI</th>\n",
       "      <th>BP</th>\n",
       "      <th>S1</th>\n",
       "      <th>S2</th>\n",
       "      <th>S3</th>\n",
       "      <th>S4</th>\n",
       "      <th>S5</th>\n",
       "      <th>S6</th>\n",
       "      <th>Y</th>\n",
       "    </tr>\n",
       "  </thead>\n",
       "  <tbody>\n",
       "    <tr>\n",
       "      <th>0</th>\n",
       "      <td>0.034443</td>\n",
       "      <td>-0.044642</td>\n",
       "      <td>-0.007284</td>\n",
       "      <td>0.014987</td>\n",
       "      <td>-0.044223</td>\n",
       "      <td>-0.037326</td>\n",
       "      <td>-0.002903</td>\n",
       "      <td>-0.039493</td>\n",
       "      <td>-0.021394</td>\n",
       "      <td>0.007207</td>\n",
       "      <td>155.0</td>\n",
       "    </tr>\n",
       "    <tr>\n",
       "      <th>1</th>\n",
       "      <td>0.019913</td>\n",
       "      <td>0.050680</td>\n",
       "      <td>0.014272</td>\n",
       "      <td>0.063187</td>\n",
       "      <td>0.014942</td>\n",
       "      <td>0.020293</td>\n",
       "      <td>-0.047082</td>\n",
       "      <td>0.034309</td>\n",
       "      <td>0.046661</td>\n",
       "      <td>0.090049</td>\n",
       "      <td>297.0</td>\n",
       "    </tr>\n",
       "    <tr>\n",
       "      <th>2</th>\n",
       "      <td>0.019913</td>\n",
       "      <td>-0.044642</td>\n",
       "      <td>-0.057941</td>\n",
       "      <td>-0.057314</td>\n",
       "      <td>-0.001569</td>\n",
       "      <td>-0.012587</td>\n",
       "      <td>0.074412</td>\n",
       "      <td>-0.039493</td>\n",
       "      <td>-0.061177</td>\n",
       "      <td>-0.075636</td>\n",
       "      <td>63.0</td>\n",
       "    </tr>\n",
       "    <tr>\n",
       "      <th>3</th>\n",
       "      <td>0.074401</td>\n",
       "      <td>0.050680</td>\n",
       "      <td>-0.020218</td>\n",
       "      <td>0.045972</td>\n",
       "      <td>0.074108</td>\n",
       "      <td>0.032819</td>\n",
       "      <td>-0.036038</td>\n",
       "      <td>0.071210</td>\n",
       "      <td>0.106354</td>\n",
       "      <td>0.036201</td>\n",
       "      <td>241.0</td>\n",
       "    </tr>\n",
       "    <tr>\n",
       "      <th>4</th>\n",
       "      <td>0.081666</td>\n",
       "      <td>0.050680</td>\n",
       "      <td>-0.002973</td>\n",
       "      <td>-0.033214</td>\n",
       "      <td>0.042462</td>\n",
       "      <td>0.057871</td>\n",
       "      <td>-0.010266</td>\n",
       "      <td>0.034309</td>\n",
       "      <td>-0.000609</td>\n",
       "      <td>-0.001078</td>\n",
       "      <td>139.0</td>\n",
       "    </tr>\n",
       "  </tbody>\n",
       "</table>\n",
       "</div>"
      ],
      "text/plain": [
       "        AGE       SEX       BMI        BP        S1        S2        S3  \\\n",
       "0  0.034443 -0.044642 -0.007284  0.014987 -0.044223 -0.037326 -0.002903   \n",
       "1  0.019913  0.050680  0.014272  0.063187  0.014942  0.020293 -0.047082   \n",
       "2  0.019913 -0.044642 -0.057941 -0.057314 -0.001569 -0.012587  0.074412   \n",
       "3  0.074401  0.050680 -0.020218  0.045972  0.074108  0.032819 -0.036038   \n",
       "4  0.081666  0.050680 -0.002973 -0.033214  0.042462  0.057871 -0.010266   \n",
       "\n",
       "         S4        S5        S6      Y  \n",
       "0 -0.039493 -0.021394  0.007207  155.0  \n",
       "1  0.034309  0.046661  0.090049  297.0  \n",
       "2 -0.039493 -0.061177 -0.075636   63.0  \n",
       "3  0.071210  0.106354  0.036201  241.0  \n",
       "4  0.034309 -0.000609 -0.001078  139.0  "
      ]
     },
     "execution_count": 8,
     "metadata": {},
     "output_type": "execute_result"
    }
   ],
   "source": [
    "p.GoldTrain.to_pandas_dataframe().head()  # Azure ML Dataset"
   ]
  },
  {
   "cell_type": "markdown",
   "metadata": {},
   "source": [
    "# 2) `ESML` Train model in `5 codelines`"
   ]
  },
  {
   "cell_type": "code",
   "execution_count": 9,
   "metadata": {},
   "outputs": [
    {
     "name": "stdout",
     "output_type": "stream",
     "text": [
      "Loading AutoML config settings from: dev\n"
     ]
    },
    {
     "data": {
      "text/plain": [
       "{'enable_voting_ensemble': True,\n",
       " 'enable_stack_ensemble': False,\n",
       " 'model_explainability': True,\n",
       " 'experiment_timeout_hours': 0.75,\n",
       " 'iteration_timeout_minutes': 5,\n",
       " 'n_cross_validations': 3,\n",
       " 'enable_early_stopping': False,\n",
       " 'iterations': 21,\n",
       " 'max_cores_per_iteration': -1,\n",
       " 'allowed_models': ['LightGBM', 'RandomForest', 'Xgboost'],\n",
       " 'path': '.',\n",
       " 'debug_log': 'azure_automl_debug_dev.log'}"
      ]
     },
     "execution_count": 9,
     "metadata": {},
     "output_type": "execute_result"
    }
   ],
   "source": [
    "automl_performance_config = p.get_automl_performance_config() # 1)Get config, for active environment (dev,test or prod)\n",
    "automl_performance_config"
   ]
  },
  {
   "cell_type": "code",
   "execution_count": 10,
   "metadata": {},
   "outputs": [
    {
     "name": "stdout",
     "output_type": "stream",
     "text": [
      "Label is: Y\n"
     ]
    }
   ],
   "source": [
    "print('Label is: {}'.format(p.active_model[\"label\"]))"
   ]
  },
  {
   "cell_type": "code",
   "execution_count": 11,
   "metadata": {},
   "outputs": [
    {
     "name": "stdout",
     "output_type": "stream",
     "text": [
      "Loading AutoML config settings from: dev\n",
      "Note: OVERRIDING enterprise performance settings with project specifics. (to change, set flag in 'dev_test_prod_settings.json' -> override_enterprise_settings_with_model_specific=False)\n",
      "Using a model specific cluster, per configuration in project specific settings, (the integer of 'model_number' is the base for the name)\n",
      "Note: OVERRIDING enterprise performance settings with project specifics. (to change, set flag in 'dev_test_prod_settings.json' -> override_enterprise_settings_with_model_specific=False)\n",
      "Found existing cluster p02-m11weu-dev for project and environment, using it.\n",
      "Succeeded\n",
      "AmlCompute wait for completion finished\n",
      "\n",
      "Minimum number of nodes requested have been provisioned\n",
      "image_build_compute = p02-m11weu-dev\n",
      "Experiment name: 11_diabetes_model_reg\n",
      "Azure ML Studio Workspace: msft-weu-DEV-eap-proj02_ai-amls\n",
      "Start training run...\n",
      "Submitting remote run.\n",
      "No run_configuration provided, running on p02-m11weu-dev with default configuration\n",
      "Running on remote compute: p02-m11weu-dev\n"
     ]
    },
    {
     "data": {
      "text/html": [
       "<table style=\"width:100%\"><tr><th>Experiment</th><th>Id</th><th>Type</th><th>Status</th><th>Details Page</th><th>Docs Page</th></tr><tr><td>11_diabetes_model_reg</td><td>AutoML_7e641448-6917-4096-a793-186b3090d58f</td><td>automl</td><td>NotStarted</td><td><a href=\"https://ml.azure.com/runs/AutoML_7e641448-6917-4096-a793-186b3090d58f?wsid=/subscriptions/ca0a8c40-b06a-4e4e-8434-63c03a1dee34/resourcegroups/MSFT-WEU-EAP_PROJECT02_AI-DEV-RG/workspaces/msft-weu-DEV-eap-proj02_ai-amls&amp;tid=72f988bf-86f1-41af-91ab-2d7cd011db47\" target=\"_blank\" rel=\"noopener\">Link to Azure Machine Learning studio</a></td><td><a href=\"https://docs.microsoft.com/en-us/python/api/overview/azure/ml/intro?view=azure-ml-py\" target=\"_blank\" rel=\"noopener\">Link to Documentation</a></td></tr></table>"
      ],
      "text/plain": [
       "<IPython.core.display.HTML object>"
      ]
     },
     "metadata": {},
     "output_type": "display_data"
    },
    {
     "name": "stdout",
     "output_type": "stream",
     "text": [
      "\n",
      "Current status: FeaturesGeneration. Generating features for the dataset.\n",
      "Current status: DatasetCrossValidationSplit. Generating individually featurized CV splits.\n",
      "Current status: ModelSelection. Beginning model selection.\n",
      "\n",
      "********************************************************************************************\n",
      "DATA GUARDRAILS: \n",
      "\n",
      "TYPE:         Missing feature values imputation\n",
      "STATUS:       PASSED\n",
      "DESCRIPTION:  No feature missing values were detected in the training data.\n",
      "              Learn more about missing value imputation: https://aka.ms/AutomatedMLFeaturization\n",
      "\n",
      "********************************************************************************************\n",
      "\n",
      "TYPE:         High cardinality feature detection\n",
      "STATUS:       PASSED\n",
      "DESCRIPTION:  Your inputs were analyzed, and no high cardinality features were detected.\n",
      "              Learn more about high cardinality feature handling: https://aka.ms/AutomatedMLFeaturization\n",
      "\n",
      "********************************************************************************************\n",
      "\n",
      "********************************************************************************************\n",
      "ITER: The iteration being evaluated.\n",
      "PIPELINE: A summary description of the pipeline being evaluated.\n",
      "DURATION: Time taken for the current iteration.\n",
      "METRIC: The result of computing score on the fitted pipeline.\n",
      "BEST: The best observed score thus far.\n",
      "********************************************************************************************\n",
      "\n",
      " ITER   PIPELINE                                       DURATION            METRIC      BEST\n",
      "    0   MaxAbsScaler LightGBM                          0:00:23             0.1641    0.1641\n",
      "    1   MinMaxScaler RandomForest                      0:00:01                nan    0.1641\n",
      "    2                                                  0:00:48                nan    0.1641\n",
      "    3                                                  0:00:47                nan    0.1641\n",
      "    4                                                  0:00:48                nan    0.1641\n",
      "    5                                                  0:00:46                nan    0.1641\n",
      "    6                                                  0:00:46                nan    0.1641\n",
      "    7                                                  0:00:46                nan    0.1641\n",
      "    8                                                  0:00:45                nan    0.1641\n",
      "    9                                                  0:00:45                nan    0.1641\n",
      "   10                                                  0:00:45                nan    0.1641\n",
      "   11                                                  0:00:44                nan    0.1641\n",
      "   12                                                  0:00:44                nan    0.1641\n",
      "   13                                                  0:00:43                nan    0.1641\n",
      "   14                                                  0:00:43                nan    0.1641\n",
      "   15                                                  0:00:43                nan    0.1641\n",
      "   16                                                  0:00:42                nan    0.1641\n",
      "   17                                                  0:00:41                nan    0.1641\n",
      "   18                                                  0:00:41                nan    0.1641\n",
      "   19                                                  0:00:40                nan    0.1641\n",
      "Run(Experiment: 11_diabetes_model_reg,\n",
      "Id: AutoML_7e641448-6917-4096-a793-186b3090d58f_0,\n",
      "Type: None,\n",
      "Status: Completed)\n",
      "RegressionPipeline(pipeline=Pipeline(memory=None,\n",
      "                                     steps=[('datatransformer',\n",
      "                                             DataTransformer(enable_dnn=False, enable_feature_sweeping=True, feature_sweeping_config={}, feature_sweeping_timeout=86400, featurization_config=None, force_text_dnn=False, is_cross_validation=True, is_onnx_compatible=False, observer=None, task='regression', working_dir='c:\\\\Users\\\\jo...\\2_My\\\\github\\\\azure-enterprise-scale-ml\\\\notebook_templates_esml_v14_2022-06-2023_aml_v143')),\n",
      "                                            ('MaxAbsScaler',\n",
      "                                             MaxAbsScaler(copy=True)),\n",
      "                                            ('LightGBMRegressor',\n",
      "                                             LightGBMRegressor(min_data_in_leaf=20, n_jobs=-1, problem_info=ProblemInfo(gpu_training_param_dict={'processing_unit_type': 'cpu'}), random_state=None))],\n",
      "                                     verbose=False),\n",
      "                   stddev=[60.532525276950125])\n",
      "AutoML Model name: AutoML7e64144860\n"
     ]
    }
   ],
   "source": [
    "from esml import ESMLProject\n",
    "from baselayer_azure_ml import AutoMLFactory,azure_metric_regression,azure_metric_classification\n",
    "from azureml.train.automl import AutoMLConfig\n",
    "\n",
    "automl_performance_config = p.get_automl_performance_config() # 1)Get config, for active environment (dev,test or prod)\n",
    "aml_compute = p.get_training_aml_compute(p.ws) # 2)Get compute, for active environment\n",
    "\n",
    "label = p.active_model[\"label\"]\n",
    "automl_config = AutoMLConfig(task = 'regression', # 4) Override the ENV config, for model(that inhertits from enterprise DEV_TEST_PROD config baseline)\n",
    "                            primary_metric = azure_metric_regression.MAE, # # Note: Regression(MAPE) are not possible in AutoML\n",
    "                            compute_target = aml_compute,\n",
    "                            training_data = p.GoldTrain, # is 'train_6' pandas dataframe, but as an Azure ML Dataset\n",
    "                            experiment_exit_score = '0.308', # DEMO purpose. remove this if you want to have good accuracy\n",
    "                            label_column_name = label,\n",
    "                            **automl_performance_config\n",
    "                        )\n",
    "best_run, fitted_model, experiment = AutoMLFactory(p).train_as_run(automl_config)"
   ]
  },
  {
   "cell_type": "markdown",
   "metadata": {},
   "source": [
    "- ESML has now fetched `configuration & train compute` for enterprise `environment (DEV,TEST or PROD)`\n",
    "- ESML has `autogenerated` a AutoML-experiment, optinally as `pipline`, in correct environment.\n",
    "- User has overridden some AutoML settings (`label, split percentage`, `target metric`), and use the `1-liner TRAIN` code snippet "
   ]
  },
  {
   "cell_type": "markdown",
   "metadata": {},
   "source": [
    "# 3) Production purpose: \"once and only once\": Wrap code\n",
    "- 3 Callers: MLOps, AMLPipeline, and this notebook"
   ]
  },
  {
   "cell_type": "markdown",
   "metadata": {},
   "source": [
    "import sys\n",
    "sys.path.insert(0, \"../../2_A_aml_pipeline/4_inference/batch/M10/your_code/\")\n",
    "from your_custom_code import M01In2GoldProcessor\n",
    "\n",
    "#p.init()\n",
    "esml_dataset1 = p.DatasetByName(\"ds01_titanic\") # Get dataset 1\n",
    "df_bronze = esml_dataset1.Bronze.to_pandas_dataframe()\n",
    "silver1 = p.save_silver(esml_dataset1,df_bronze) #Bronze -> Silver\n",
    "\n",
    "esml_dataset2 = p.DatasetByName(\"ds02_haircolor\") # Get dataset 2\n",
    "df_bronze2 = esml_dataset2.Bronze.to_pandas_dataframe()\n",
    "silver2 = p.save_silver(esml_dataset2,df_bronze2) #Bronze -> Silver\n",
    "\n",
    "df1 = M01In2GoldProcessor().M01_ds01_process_in2silver(silver1.to_pandas_dataframe())  # You can then copy this statement in your pipeline-step \"in2silver_ds01...py\"\n",
    "df2 = M01In2GoldProcessor().M01_ds02_process_in2silver(silver2.to_pandas_dataframe())  # You can then copy this statement in your pipeline-step \"in2silver_ds02...py\"\n",
    "\n",
    "merged_gold = M01In2GoldProcessor().M01_merge_silvers(df1,df2) # # You can then copy this statement in your pipeline-step \"silver_merged_2_gold.py\"\n",
    "p.save_gold(merged_gold).to_pandas_dataframe().head()"
   ]
  },
  {
   "cell_type": "markdown",
   "metadata": {},
   "source": [
    "## 4) ESML Scoring Drift/Concept Drift: Compare with `1-codeline`: Promote model or not? If better, then `Register model`\n",
    "- `IF` newly trained model in `current` environment (`DEV`, `TEST` or `PROD`) scores BETTER than existing model in `target` environment, then `new model` can be registered and promoted.\n",
    "- Q: Do we have `SCORING DRIFT / CONCEPT DRIFT?`\n",
    "- Q: Is a model trained on NEW data better? IS the one in production degraded? (not fit for the data it scores - real world changed, other CONCEPT)\n",
    "- A: - Lets check. Instead of `DataDrift`, lets look at `actual SCORING` on new data (and/or new code, feature engineering) - See if we should PROMOTE newly trained model..."
   ]
  },
  {
   "cell_type": "code",
   "execution_count": 12,
   "metadata": {},
   "outputs": [
    {
     "name": "stdout",
     "output_type": "stream",
     "text": [
      "promote model in DEV to TEST? (move to other Azure ML Studio Workspace)\n",
      "target=source environement. Compare model version in DEV/TEST/PROD with latest registered in same DEV/TEST/PROD workspace (same workspace & subscriptiom comparison)\n",
      "\n",
      "new_run_id AutoML_7e641448-6917-4096-a793-186b3090d58f\n",
      "active_model_config from 'automl_active_model_env.json': source_model_name: AutoML7e64144860\n",
      "Could not find EXISTING MODEL with same experiment name = No TARGET run. This is the first model to be trained in environment: dev, nothing to compare against -> Go ahead and register & deploy new model\n",
      "TARGET is in the same Azure ML Studio workspace as SOURCE, comparing with latest registered model...\n",
      "target_best_run_id AutoML_cd9c3ead-f438-4419-8e2e-3d18edc1bd92\n",
      "SCORING DRIFT: If new model scores better in DEV (new data, or new code), we can promote this to TEST & PROD \n",
      "\n",
      "New Model: AutoMLcd9c3eadf0 in environment dev\n",
      "Existing Model: AutoML7e64144860 in environment dev\n",
      "model.version 1\n",
      "Model name AutoML7e64144860 is registered.\n"
     ]
    }
   ],
   "source": [
    "from baselayer_azure_ml_model import ESMLModelCompare\n",
    "\n",
    "current_env = p.dev_test_prod # dev\n",
    "target_env = \"dev\" # Does newly trained Model v3 in DEV, score better than Model v2 in TEST?\n",
    "print(\"promote model in DEV to TEST? (move to other Azure ML Studio Workspace)\")\n",
    "\n",
    "compare = ESMLModelCompare(p)\n",
    "promote,source_model_name,new_run_id,target_model_name, target_best_run_id,target_workspace,source_model = compare.compare_scoring_current_vs_new_model(target_env) # Compare DEV to TEST (or TEST to PROD)  (1min, 17sek VS 33sec)\n",
    "\n",
    "print(\"SCORING DRIFT: If new model scores better in DEV (new data, or new code), we can promote this to TEST & PROD \\n\")\n",
    "print(\"New Model: {} in environment {}\".format(target_model_name, p.dev_test_prod))\n",
    "print(\"Existing Model: {} in environment {}\".format(source_model_name,target_env))\n",
    "\n",
    "if (promote): # Can register=\"promote\" a model in same workspace (test->test), or also register in OTHER Azure ML workspace (test->prod)\n",
    "    if(p.dev_test_prod == target_env and target_env==\"dev\"):\n",
    "        compare.register_active_model(target_env,source_model) # if SAME workspace this brings more \"metadata\" faster to the model registration\n",
    "    else:\n",
    "        compare.register_model_in_correct_ws(target_env) # if REMOTE target workspace we can get same metadata, BUT, just takes performancewise longer. More lookups to \"source Run\""
   ]
  },
  {
   "cell_type": "markdown",
   "metadata": {},
   "source": [
    "# 5) TEST SET SCORING"
   ]
  },
  {
   "cell_type": "markdown",
   "metadata": {},
   "source": [
    "# Test-set: Ensure we have a TEST_SET splitted"
   ]
  },
  {
   "cell_type": "code",
   "execution_count": 2,
   "metadata": {},
   "outputs": [
    {
     "name": "stdout",
     "output_type": "stream",
     "text": [
      "...\n"
     ]
    }
   ],
   "source": [
    "label = p.active_model[\"label\"]\n",
    "try:\n",
    "    p.GoldTest.name\n",
    "except: \n",
    "    p.connect_to_lake() # p.init() + automap\n",
    "    train_6, validate_set_2, test_set_2 = p.split_gold_3(0.6)"
   ]
  },
  {
   "cell_type": "markdown",
   "metadata": {},
   "source": [
    "### NOW we can calcualate scoring on TEST_SET"
   ]
  },
  {
   "cell_type": "code",
   "execution_count": 3,
   "metadata": {},
   "outputs": [
    {
     "name": "stdout",
     "output_type": "stream",
     "text": [
      "...\n",
      "...\n",
      "Replacing tag run_id -> AutoML_7e641448-6917-4096-a793-186b3090d58f with run_id -> AutoML_7e641448-6917-4096-a793-186b3090d58f\n",
      "Replacing tag model_name -> AutoML7e64144860 with model_name -> AutoML7e64144860\n",
      "Replacing tag trained_in_environment -> dev with trained_in_environment -> dev\n",
      "Replacing tag trained_in_workspace -> msft-weu-DEV-eap-proj02_ai-amls with trained_in_workspace -> msft-weu-DEV-eap-proj02_ai-amls\n",
      "Replacing tag experiment_name -> 11_diabetes_model_reg with experiment_name -> 11_diabetes_model_reg\n",
      "Replacing tag test_set_RMSE -> 55.107675 with test_set_RMSE -> 55.107675\n",
      "Replacing tag test_set_R2 -> 0.454564 with test_set_R2 -> 0.454564\n",
      "Replacing tag test_set_MAPE -> 0.314037 with test_set_MAPE -> 0.314037\n",
      "Replacing tag test_set_Spearman_Correlation -> 0.685006 with test_set_Spearman_Correlation -> 0.685006\n",
      "Model tag add operation complete.\n",
      "RMSE:\n",
      "55.10767491831785\n",
      "\n",
      "R2:\n",
      "0.4545637060593444\n",
      "\n",
      "MAPE:\n",
      "0.3140369902661834\n",
      "\n",
      "MAE:\n",
      "44.12748989066168\n",
      "\n",
      "Spearman:\n",
      "0.6850055551949686\n"
     ]
    },
    {
     "data": {
      "image/png": "[encoded data removed]",
      "text/plain": [
       "<Figure size 1000x700 with 1 Axes>"
      ]
     },
     "metadata": {},
     "output_type": "display_data"
    }
   ],
   "source": [
    "from baselayer_azure_ml import ESMLTestScoringFactory\n",
    "\n",
    "label = p.active_model[\"label\"]\n",
    "rmse, r2, mean_abs_percent_error,mae,spearman_corr,plt = ESMLTestScoringFactory(p).get_test_scoring_4_regression(label)\n",
    "print(\"RMSE:\")\n",
    "print(rmse)\n",
    "print()\n",
    "print(\"R2:\")\n",
    "print(r2)\n",
    "print()\n",
    "print(\"MAPE:\")\n",
    "print(mean_abs_percent_error)\n",
    "print()\n",
    "print(\"MAE:\")\n",
    "print(mae)\n",
    "print()\n",
    "print(\"Spearman:\")\n",
    "print(spearman_corr)"
   ]
  },
  {
   "cell_type": "markdown",
   "metadata": {},
   "source": [
    "# 6) ESML `Deploy model ONLINE` in `2 lines of code` (AKS) \n",
    "- Deploy \"offline\" MODEL from old `run` in environment To →  `DEV`, `TEST` or `PROD` environment\n",
    "- ESML saves `API_key in Azure keyvault automatically`\n",
    "- ESML auto-config solves 4 common 'errors/things': `correct compute name` and `valid replicas, valid agents, valid auto scaling`\n",
    "    - Tip: You can adjust the number of replicas, and different CPU/memory configuration, or using a different compute target."
   ]
  },
  {
   "cell_type": "code",
   "execution_count": 31,
   "metadata": {},
   "outputs": [
    {
     "name": "stdout",
     "output_type": "stream",
     "text": [
      "Note: OVERRIDING enterprise performance settings with project specifics. (to change, set flag in 'dev_test_prod_settings.json' -> override_enterprise_settings_with_model_specific=False)\n",
      "Loading AutoML config settings from: dev\n",
      "Deploying model: AutoML4b3c03dfe18 with verison: 7 to environment: dev with overwrite_endpoint=True\n",
      "Note: OVERRIDING enterprise performance settings with project specifics. (to change, set flag in 'dev_test_prod_settings.json' -> override_enterprise_settings_with_model_specific=False)\n",
      "image_build_compute = prj02-m10-dev\n",
      "Found existing AksWebservice endpoint, deleting it, since overwrite=True\n",
      "Note: OVERRIDING enterprise performance settings with project specifics. (to change, set flag in 'dev_test_prod_settings.json' -> override_enterprise_settings_with_model_specific=False)\n",
      "Found existing cluster, esml-dev-prj02, using it.\n",
      "Note: Autoscale_enabled=False, or since aks_dev_test=True in config, autoscaling is automatically shut off, e.g. overridden in config (since not supported) for environment dev\n",
      "Tips: You can try get_logs(): https://aka.ms/debugimage#dockerlog or local deployment: https://aka.ms/debugimage#debug-locally to debug if deployment takes longer than 10 minutes.\n",
      "Running\n",
      "2021-12-08 23:25:55+01:00 Creating Container Registry if not exists.\n",
      "2021-12-08 23:25:55+01:00 Registering the environment.\n",
      "2021-12-08 23:25:56+01:00 Use the existing image.\n",
      "2021-12-08 23:25:57+01:00 Creating resources in AKS.\n",
      "2021-12-08 23:25:58+01:00 Submitting deployment to compute.\n",
      "2021-12-08 23:25:58+01:00 Checking the status of deployment esml-dev-p02-m10-aksapi..\n",
      "2021-12-08 23:26:20+01:00 Checking the status of inference endpoint esml-dev-p02-m10-aksapi.\n",
      "Succeeded\n",
      "AKS service creation operation finished, operation \"Succeeded\"\n",
      "Healthy\n",
      "2021-12-08T22:26:07,282905190+00:00 - iot-server/run \n",
      "2021-12-08T22:26:07,282586494+00:00 - rsyslog/run \n",
      "2021-12-08T22:26:07,288389522+00:00 - gunicorn/run \n",
      "Dynamic Python package installation is disabled.\n",
      "Starting HTTP server\n",
      "rsyslogd: /azureml-envs/azureml_705720c76ff57b57c77d577152dabb18/lib/libuuid.so.1: no version information available (required by rsyslogd)\n",
      "2021-12-08T22:26:07,311068542+00:00 - nginx/run \n",
      "EdgeHubConnectionString and IOTEDGE_IOTHUBHOSTNAME are not set. Exiting...\n",
      "2021-12-08T22:26:07,422645760+00:00 - iot-server/finish 1 0\n",
      "2021-12-08T22:26:07,424003943+00:00 - Exit code 1 is normal. Not restarting iot-server.\n",
      "Starting gunicorn 20.1.0\n",
      "Listening at: http://127.0.0.1:31311 (11)\n",
      "Using worker: sync\n",
      "worker timeout is set to 300\n",
      "Booting worker with pid: 39\n",
      "SPARK_HOME not set. Skipping PySpark Initialization.\n",
      "Generating new fontManager, this may take some time...\n",
      "Initializing logger\n",
      "2021-12-08 22:26:08,749 | root | INFO | Starting up app insights client\n",
      "logging socket was found. logging is available.\n",
      "logging socket was found. logging is available.\n",
      "2021-12-08 22:26:08,749 | root | INFO | Starting up request id generator\n",
      "2021-12-08 22:26:08,749 | root | INFO | Starting up app insight hooks\n",
      "2021-12-08 22:26:08,749 | root | INFO | Invoking user's init function\n",
      "2021-12-08 22:26:12,072 | root | INFO | Users's init has completed successfully\n",
      "2021-12-08 22:26:12,074 | root | INFO | Skipping middleware: dbg_model_info as it's not enabled.\n",
      "2021-12-08 22:26:12,075 | root | INFO | Skipping middleware: dbg_resource_usage as it's not enabled.\n",
      "Generating swagger file: /tmp/tmp3ugsp79y\n",
      "2021-12-08 22:26:12,076 | root | INFO | Scoring timeout is found from os.environ: 300000 ms\n",
      "2021-12-08 22:26:20,752 | root | INFO | 200\n",
      "127.0.0.1 - - [08/Dec/2021:22:26:20 +0000] \"GET /swagger.json HTTP/1.0\" 200 2698 \"-\" \"hackney/1.17.4\"\n",
      "2021-12-08 22:26:22,723 | root | INFO | 200\n",
      "127.0.0.1 - - [08/Dec/2021:22:26:22 +0000] \"GET /swagger.json HTTP/1.0\" 200 2698 \"-\" \"hackney/1.17.4\"\n",
      "\n",
      "Deployed AKS Webservice: esml-dev-p02-m10-aksapi \n",
      "Webservice Uri: https://esmlcmn7skp17.westeurope.cloudapp.azure.com:443/api/v1/service/esml-dev-p02-m10-aksapi/score \n",
      "Webservice API_Secret are stored in keyvault with name: esml-dev-p02-m10-apisecret \n",
      "Webservice API_URI are stored in keyvault with name: esml-dev-p02-m10-api \n",
      "Webservice Swagger Uri: https://esmlcmn7skp17.westeurope.cloudapp.azure.com:443/api/v1/service/esml-dev-p02-m10-aksapi/swagger.json\n"
     ]
    }
   ],
   "source": [
    "inference_config, model, best_run = p.get_active_model_inference_config(p.ws) #  Get compute power & lib-dependecies for DOCKER...for correct (Dev,Test or Prod) environment.\n",
    "service,api_uri, kv_aks_api_secret= p.deploy_automl_model_to_aks(model,inference_config,overwrite_endpoint=True) # Deploy: AKS dockerized with correct config (Dev,Test or Prod subscription & networking)"
   ]
  },
  {
   "cell_type": "markdown",
   "metadata": {},
   "source": [
    "## 7) SMOKE TEST with ESML `2 lines of code` - use the AKS endpoint"
   ]
  },
  {
   "cell_type": "code",
   "execution_count": 32,
   "metadata": {},
   "outputs": [
    {
     "name": "stdout",
     "output_type": "stream",
     "text": [
      "Using GEN2 as Datastore\n",
      "Searching for setting in ESML datalake...\n",
      "ESML in-folder settings override = FALSE. [active_in_folder.json,active_scoring_in_folder.json] not found in LAKE. \n",
      " - Using [active_in_folder.json,active_scoring_in_folder.json] from ArgParse or GIT. No override from datalake settings\n",
      "Path for active folder (where no files exists):\n",
      "AdlsGen2-ListFiles (req=1, existingItems=0)' for 'https://msftweudevcmnai2.dfs.core.windows.net/lake3?directory=projects/project002/10_titanic_model_clas/train/active&recursive=true&resource=filesystem' on storage failed with status code 'NotFound' (The specified path does not exist.), client request ID '47ec4490-b44c-492f-9dc2-65be5c34a11e', request ID '78d8a4db-801f-005b-4382-ec59eb000000\n",
      "M10_GOLD_VALIDATE : (177, 8)\n",
      "X_test  (177, 7)\n",
      "y_test  (177,)\n",
      "{'split_percentage': '0.2', 'label': 'Survived', 'model': '10_titanic_model_clas'}\n"
     ]
    }
   ],
   "source": [
    "p.connect_to_lake()\n",
    "X_test, y_test, tags = p.get_gold_validate_Xy()\n",
    "print(tags)\n",
    "caller_id = \"10965d9c-40ca-4e47-9723-5a608a32a0e4\""
   ]
  },
  {
   "cell_type": "code",
   "execution_count": 6,
   "metadata": {},
   "outputs": [
    {
     "name": "stdout",
     "output_type": "stream",
     "text": [
      "Using GEN2 as Datastore\n",
      "Searching for setting in ESML datalake...\n",
      "ESML in-folder settings override = FALSE. [active_in_folder.json,active_scoring_in_folder.json] not found in LAKE. \n",
      " - Using [active_in_folder.json,active_scoring_in_folder.json] from ArgParse or GIT. No override from datalake settings\n",
      "Path for active folder (where no files exists):\n",
      "AdlsGen2-ListFiles (req=1, existingItems=0)' for 'https://msftweudevcmnai2.dfs.core.windows.net/lake3?directory=projects/project002/10_titanic_model_clas/train/active&recursive=true&resource=filesystem' on storage failed with status code 'NotFound' (The specified path does not exist.), client request ID 'd11f07e2-412f-49fd-aed8-f8d07664bfb3', request ID 'a471feb8-501f-0005-1b65-d7b20b000000\n",
      "M10_GOLD_VALIDATE : (89, 8)\n",
      "X_test  (89, 7)\n",
      "y_test  (89,)\n",
      "{'split_percentage': '0.1', 'label': 'Survived', 'model': '10_titanic_model_clas'}\n",
      "Note: OVERRIDING enterprise performance settings with project specifics. (to change, set flag in 'dev_test_prod_settings.json' -> override_enterprise_settings_with_model_specific=False)\n",
      "Note: Fetching keys automatically via workspace keyvault.\n",
      "Saving scoring to lake for project folder project002 and inference_model_version: 1 ...\n",
      "\n",
      "Saved DATA to score successfully in LAKE, as file 'to_score_10965d9c-40ca-4e47-9723-5a608a32a0e4.parquet'\n",
      "Saved SCORED data in LAKE, as file 'scored_10965d9c-40ca-4e47-9723-5a608a32a0e4.parquet'\n"
     ]
    },
    {
     "data": {
      "text/html": [
       "<div>\n",
       "<style scoped>\n",
       "    .dataframe tbody tr th:only-of-type {\n",
       "        vertical-align: middle;\n",
       "    }\n",
       "\n",
       "    .dataframe tbody tr th {\n",
       "        vertical-align: top;\n",
       "    }\n",
       "\n",
       "    .dataframe thead th {\n",
       "        text-align: right;\n",
       "    }\n",
       "</style>\n",
       "<table border=\"1\" class=\"dataframe\">\n",
       "  <thead>\n",
       "    <tr style=\"text-align: right;\">\n",
       "      <th></th>\n",
       "      <th>Pclass</th>\n",
       "      <th>Name</th>\n",
       "      <th>Sex</th>\n",
       "      <th>Age</th>\n",
       "      <th>Siblings_Spouses Aboard</th>\n",
       "      <th>Parents_Children Aboard</th>\n",
       "      <th>Fare</th>\n",
       "      <th>result</th>\n",
       "    </tr>\n",
       "  </thead>\n",
       "  <tbody>\n",
       "    <tr>\n",
       "      <th>0</th>\n",
       "      <td>3</td>\n",
       "      <td>Mr. Sahid Nakid</td>\n",
       "      <td>male</td>\n",
       "      <td>20.00</td>\n",
       "      <td>1</td>\n",
       "      <td>1</td>\n",
       "      <td>15.74</td>\n",
       "      <td>0</td>\n",
       "    </tr>\n",
       "    <tr>\n",
       "      <th>1</th>\n",
       "      <td>3</td>\n",
       "      <td>Mr. Hanna Assi Barah</td>\n",
       "      <td>male</td>\n",
       "      <td>20.00</td>\n",
       "      <td>0</td>\n",
       "      <td>0</td>\n",
       "      <td>7.23</td>\n",
       "      <td>0</td>\n",
       "    </tr>\n",
       "    <tr>\n",
       "      <th>2</th>\n",
       "      <td>3</td>\n",
       "      <td>Mr. Edward Willey</td>\n",
       "      <td>male</td>\n",
       "      <td>21.00</td>\n",
       "      <td>0</td>\n",
       "      <td>0</td>\n",
       "      <td>7.55</td>\n",
       "      <td>0</td>\n",
       "    </tr>\n",
       "    <tr>\n",
       "      <th>3</th>\n",
       "      <td>2</td>\n",
       "      <td>Master. Viljo Hamalainen</td>\n",
       "      <td>male</td>\n",
       "      <td>0.67</td>\n",
       "      <td>1</td>\n",
       "      <td>1</td>\n",
       "      <td>14.50</td>\n",
       "      <td>1</td>\n",
       "    </tr>\n",
       "    <tr>\n",
       "      <th>4</th>\n",
       "      <td>3</td>\n",
       "      <td>Mrs. Guillaume Joseph (Emma) de Messemaeker</td>\n",
       "      <td>female</td>\n",
       "      <td>36.00</td>\n",
       "      <td>1</td>\n",
       "      <td>0</td>\n",
       "      <td>17.40</td>\n",
       "      <td>1</td>\n",
       "    </tr>\n",
       "  </tbody>\n",
       "</table>\n",
       "</div>"
      ],
      "text/plain": [
       "   Pclass                                         Name     Sex   Age  \\\n",
       "0       3                              Mr. Sahid Nakid    male 20.00   \n",
       "1       3                         Mr. Hanna Assi Barah    male 20.00   \n",
       "2       3                            Mr. Edward Willey    male 21.00   \n",
       "3       2                     Master. Viljo Hamalainen    male  0.67   \n",
       "4       3  Mrs. Guillaume Joseph (Emma) de Messemaeker  female 36.00   \n",
       "\n",
       "   Siblings_Spouses Aboard  Parents_Children Aboard  Fare  result  \n",
       "0                        1                        1 15.74       0  \n",
       "1                        0                        0  7.23       0  \n",
       "2                        0                        0  7.55       0  \n",
       "3                        1                        1 14.50       1  \n",
       "4                        1                        0 17.40       1  "
      ]
     },
     "execution_count": 6,
     "metadata": {},
     "output_type": "execute_result"
    }
   ],
   "source": [
    "df = p.call_webservice(p.ws, X_test,caller_id) \n",
    "df.head()"
   ]
  },
  {
   "cell_type": "markdown",
   "metadata": {},
   "source": [
    "# END"
   ]
  }
 ],
 "metadata": {
  "kernelspec": {
   "display_name": "Python 3.8.13 ('azure_automl_esml_v144')",
   "language": "python",
   "name": "python3"
  },
  "language_info": {
   "codemirror_mode": {
    "name": "ipython",
    "version": 3
   },
   "file_extension": ".py",
   "mimetype": "text/x-python",
   "name": "python",
   "nbconvert_exporter": "python",
   "pygments_lexer": "ipython3",
   "version": "3.8.13"
  },
  "vscode": {
   "interpreter": {
    "hash": "a4a3f6f829c0fbf992fdd78de6ec4e694e293d154a9b96895f90a426de0ee97e"
   }
  }
 },
 "nbformat": 4,
 "nbformat_minor": 2
}
