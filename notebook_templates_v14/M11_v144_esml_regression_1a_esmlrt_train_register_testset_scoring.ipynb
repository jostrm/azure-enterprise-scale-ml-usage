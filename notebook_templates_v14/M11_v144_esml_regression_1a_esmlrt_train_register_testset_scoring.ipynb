{
 "cells": [
  {
   "cell_type": "markdown",
   "metadata": {},
   "source": [
    "# Login / Switch DEV_TEST_PROD environment (1-timer)"
   ]
  },
  {
   "cell_type": "code",
   "execution_count": 1,
   "metadata": {},
   "outputs": [
    {
     "name": "stdout",
     "output_type": "stream",
     "text": [
      "1.44.0\n"
     ]
    }
   ],
   "source": [
    "import azureml.core\n",
    "print(azureml.core.VERSION)"
   ]
  },
  {
   "cell_type": "code",
   "execution_count": 2,
   "metadata": {},
   "outputs": [
    {
     "name": "stdout",
     "output_type": "stream",
     "text": [
      "Using lake_settings.json with ESML version 1.4 - Models array support including LABEL\n"
     ]
    }
   ],
   "source": [
    "import sys\n",
    "sys.path.insert(0, \"../azure-enterprise-scale-ml/esml/common/\")\n",
    "from azureml.core.authentication import InteractiveLoginAuthentication\n",
    "from esml import ESMLProject\n",
    "\n",
    "p = ESMLProject()\n",
    "p.dev_test_prod=\"dev\"\n",
    "auth = InteractiveLoginAuthentication(tenant_id = p.tenant)\n",
    "ws, config_name = p.authenticate_workspace_and_write_config(auth)"
   ]
  },
  {
   "cell_type": "markdown",
   "metadata": {},
   "source": [
    "# 1) ESML - TRAIN, Calculate test_Set scoring, register, compare, and DEPLOY with predict_proba scoring"
   ]
  },
  {
   "cell_type": "code",
   "execution_count": 1,
   "metadata": {},
   "outputs": [
    {
     "name": "stdout",
     "output_type": "stream",
     "text": [
      "Using lake_settings.json with ESML version 1.4 - Models array support including LABEL\n",
      "Environment: dev\n",
      "Inference version: 1\n",
      "\n",
      " - ds01_diabetes\n",
      "projects/project002/11_diabetes_model_reg/train/ds01_diabetes/in/dev/1000/01/01/\n",
      "projects/project002/11_diabetes_model_reg/train/ds01_diabetes/out/bronze/dev/\n",
      "projects/project002/11_diabetes_model_reg/train/ds01_diabetes/out/silver/dev/\n",
      "\n",
      " - ds02_other\n",
      "projects/project002/11_diabetes_model_reg/train/ds02_other/in/dev/1000/01/01/\n",
      "projects/project002/11_diabetes_model_reg/train/ds02_other/out/bronze/dev/\n",
      "projects/project002/11_diabetes_model_reg/train/ds02_other/out/silver/dev/\n",
      " \n",
      "\n",
      "Training GOLD (p.GoldPath)\n",
      "projects/project002/11_diabetes_model_reg/train/gold/dev/\n",
      " \n",
      "\n",
      "[A) USAGE]: to_score_folder, scored_folder, date_folder = p.get_gold_scored_unique_path()\n",
      "A)INFERENCE ONLINE: GOLD to score (example if realtime - today)\n",
      "projects/project002/11_diabetes_model_reg/inference/1/gold/dev/2022_09_11/a89e4c34527b464b88ce41af63e72ced/\n",
      " \n",
      "\n",
      "A)INFERENCE ONLINE: GOLD scored (example if realtime today)\n",
      "projects/project002/11_diabetes_model_reg/inference/1/scored/dev/2022_09_11/a89e4c34527b464b88ce41af63e72ced/\n",
      " \n",
      "\n",
      "[B) USAGE]: to_score_folder_batch, scored_folder, date_folder = p.get_gold_scored_unique_path(p.date_scoring_folder)\n",
      "B)INFERENCE BATCH: GOLD to score (example batch, datetime from config)\n",
      "projects/project002/11_diabetes_model_reg/inference/1/gold/dev/2021_06_08/ebbd77bc4d34403e8a072abe41922a03/\n",
      " \n",
      "\n",
      "B)INFERENCE BATCH: GOLD scored (example batch, datetime from config)\n",
      "projects/project002/11_diabetes_model_reg/inference/1/scored/dev/2021_06_08/ebbd77bc4d34403e8a072abe41922a03/\n",
      " \n",
      "\n",
      "C) INFERENCE BATCH (SCENARIO 2): TODAY I scored data from X days AGO  (second datefolder from config - X days ago)\n",
      "projects/project002/11_diabetes_model_reg/inference/1/gold/dev/2021_06_08/ebbd77bc4d34403e8a072abe41922a03/2021_06_08/\n",
      "projects/project002/11_diabetes_model_reg/inference/1/scored/dev/2021_06_08/ebbd77bc4d34403e8a072abe41922a03/2021_06_08/\n",
      " \n",
      "\n",
      "ENVIRONMENT - DEV, TEST, or PROD?  [USAGE: p.dev_test_prod]\n",
      "ACTIVE ENVIRONMENT = dev\n",
      "ACTIVE subscription = ca0a8c40-b06a-4e4e-8434-63c03a1dee34\n",
      "- MSFT-WEU-EAP_PROJECT02_AI-DEV-RG\n",
      "- msft-weu-DEV-eap-proj02_ai-amls\n",
      "- westeurope\n",
      "- MSFT-WEU-EAP_CMN_AI-DEV-RG\n",
      "Active vNet: msft-weu-dev-cmnai-vnet\n",
      "Active SubNet: \n",
      "[USAGE] for the above: p.vNetForActiveEnvironment()\n",
      "Active Lake (storage account)  msftweudevcmnai2\n",
      "[USAGE] for the above: p.getLakeForActiveEnvironment()\n",
      "AML for docker: True\n"
     ]
    }
   ],
   "source": [
    "import sys\n",
    "sys.path.insert(0, \"../azure-enterprise-scale-ml/esml/common/\")\n",
    "from esml import ESMLProject\n",
    "import pandas as pd\n",
    "\n",
    "p = ESMLProject() # Will search in ROOT for your copied SETTINGS folder '../../../settings', you should copy template settings from '../settings'\n",
    "p.active_model = 11\n",
    "p.inference_mode = False\n",
    "p.ws = p.get_workspace_from_config() #2) Load DEV or TEST or PROD Azure ML Studio workspace\n",
    "p.verbose_logging = False\n",
    "p.describe()"
   ]
  },
  {
   "cell_type": "code",
   "execution_count": 3,
   "metadata": {},
   "outputs": [],
   "source": [
    "def test_feature_engieering():\n",
    "    # Feture engineering: Bronze 2 Gold - working with Azure ML Datasets with Bronze, Silver, Gold concept\n",
    "    esml_dataset = p.DatasetByName(\"ds01_diabetes\") # Get dataset\n",
    "    df_bronze = esml_dataset.Bronze.to_pandas_dataframe()\n",
    "    p.save_silver(esml_dataset,df_bronze) #Bronze -> Silver\n",
    "\n",
    "    esml_dataset2 = p.DatasetByName(\"ds02_other\") # Get dataset\n",
    "    df_bronze2 = esml_dataset2.Bronze.to_pandas_dataframe()\n",
    "    p.save_silver(esml_dataset2,df_bronze2) #Bronze -> Silver\n",
    "\n",
    "    df = esml_dataset.Silver.to_pandas_dataframe() \n",
    "    df_filtered = df[df.AGE > 0.015] \n",
    "    gold = p.save_gold(df_filtered)  #Silver -> Gold\n",
    "    return gold"
   ]
  },
  {
   "cell_type": "code",
   "execution_count": 19,
   "metadata": {},
   "outputs": [
    {
     "name": "stdout",
     "output_type": "stream",
     "text": [
      "Using GEN2 as Datastore\n",
      "Searching for setting in ESML datalake...\n",
      "ESML in-folder settings override = TRUE \n",
      " - Found settings in the ESML AutoLake  [active_in_folder.json,active_scoring_in_folder.json], to override ArgParse/GIT config with.\n",
      " - TRAIN in date:  1000/01/01\n",
      " - INFERENCE in date: 2021/06/08 and ModelVersion to score with: 1 (0=latest)\n",
      "Not 1st time. We have data mapped already...and splitted. Now connected to LAKE\n"
     ]
    }
   ],
   "source": [
    "datastore = None\n",
    "gold = None\n",
    "M10_GOLD_TRAIN, M10_GOLD_VALIDATE, M10_GOLD_TEST = None,None,None\n",
    "\n",
    "try:\n",
    "    datastore = p.connect_to_lake() # Connects to the correct ALDS GEN 2 storage account (DEV, TEST or PROD)\n",
    "    gold_train = p.GoldTrain\n",
    "    gold_train.name\n",
    "    print(\"Not 1st time. We have data mapped already...and splitted. Now connected to LAKE\")\n",
    "except: # If 1st time....no Gold exists, nor any mapping\n",
    "    print(\"1st time. Lets init, map what data we have in LAKE, as Azure ML Datasets\")\n",
    "    datastore = p.init() # 3) Automapping from datalake to Azure ML datasets\n",
    "    gold = test_feature_engieering()\n",
    "    M10_GOLD_TRAIN, M10_GOLD_VALIDATE, M10_GOLD_TEST = p.split_gold_3(0.6,stratified=False) # Splits and Auto-registers as AZUREM ML Datasets"
   ]
  },
  {
   "cell_type": "markdown",
   "metadata": {},
   "source": [
    "datastore = None\n",
    "try:\n",
    "    datastore = p.connect_to_lake() # Connects to the correct ALDS GEN 2 storage account (DEV, TEST or PROD)\n",
    "    gold_train = p.GoldTrain\n",
    "    gold_train.name\n",
    "    print(\"Not 1st time. We have data mapped already...and splitted. Now connected to LAKE\")\n",
    "except: # If 1st time....no Gold exists, nor any mapping\n",
    "    print(\"1st time. Lets init, map what data we have in LAKE, as Azure ML Datasets\")\n",
    "    datastore = p.init() # 3) Automapping from datalake to Azure ML datasets\n",
    "    gold = test_feature_engieering()"
   ]
  },
  {
   "cell_type": "code",
   "execution_count": 5,
   "metadata": {},
   "outputs": [
    {
     "data": {
      "text/html": [
       "<div>\n",
       "<style scoped>\n",
       "    .dataframe tbody tr th:only-of-type {\n",
       "        vertical-align: middle;\n",
       "    }\n",
       "\n",
       "    .dataframe tbody tr th {\n",
       "        vertical-align: top;\n",
       "    }\n",
       "\n",
       "    .dataframe thead th {\n",
       "        text-align: right;\n",
       "    }\n",
       "</style>\n",
       "<table border=\"1\" class=\"dataframe\">\n",
       "  <thead>\n",
       "    <tr style=\"text-align: right;\">\n",
       "      <th></th>\n",
       "      <th>AGE</th>\n",
       "      <th>SEX</th>\n",
       "      <th>BMI</th>\n",
       "      <th>BP</th>\n",
       "      <th>S1</th>\n",
       "      <th>S2</th>\n",
       "      <th>S3</th>\n",
       "      <th>S4</th>\n",
       "      <th>S5</th>\n",
       "      <th>S6</th>\n",
       "      <th>Y</th>\n",
       "    </tr>\n",
       "  </thead>\n",
       "  <tbody>\n",
       "    <tr>\n",
       "      <th>0</th>\n",
       "      <td>0.038076</td>\n",
       "      <td>0.050680</td>\n",
       "      <td>0.061696</td>\n",
       "      <td>0.021872</td>\n",
       "      <td>-0.044223</td>\n",
       "      <td>-0.034821</td>\n",
       "      <td>-0.043401</td>\n",
       "      <td>-0.002592</td>\n",
       "      <td>0.019908</td>\n",
       "      <td>-0.017646</td>\n",
       "      <td>151.0</td>\n",
       "    </tr>\n",
       "    <tr>\n",
       "      <th>1</th>\n",
       "      <td>-0.001882</td>\n",
       "      <td>-0.044642</td>\n",
       "      <td>-0.051474</td>\n",
       "      <td>-0.026328</td>\n",
       "      <td>-0.008449</td>\n",
       "      <td>-0.019163</td>\n",
       "      <td>0.074412</td>\n",
       "      <td>-0.039493</td>\n",
       "      <td>-0.068330</td>\n",
       "      <td>-0.092204</td>\n",
       "      <td>75.0</td>\n",
       "    </tr>\n",
       "    <tr>\n",
       "      <th>2</th>\n",
       "      <td>0.085299</td>\n",
       "      <td>0.050680</td>\n",
       "      <td>0.044451</td>\n",
       "      <td>-0.005671</td>\n",
       "      <td>-0.045599</td>\n",
       "      <td>-0.034194</td>\n",
       "      <td>-0.032356</td>\n",
       "      <td>-0.002592</td>\n",
       "      <td>0.002864</td>\n",
       "      <td>-0.025930</td>\n",
       "      <td>141.0</td>\n",
       "    </tr>\n",
       "    <tr>\n",
       "      <th>3</th>\n",
       "      <td>-0.089063</td>\n",
       "      <td>-0.044642</td>\n",
       "      <td>-0.011595</td>\n",
       "      <td>-0.036656</td>\n",
       "      <td>0.012191</td>\n",
       "      <td>0.024991</td>\n",
       "      <td>-0.036038</td>\n",
       "      <td>0.034309</td>\n",
       "      <td>0.022692</td>\n",
       "      <td>-0.009362</td>\n",
       "      <td>206.0</td>\n",
       "    </tr>\n",
       "    <tr>\n",
       "      <th>4</th>\n",
       "      <td>0.005383</td>\n",
       "      <td>-0.044642</td>\n",
       "      <td>-0.036385</td>\n",
       "      <td>0.021872</td>\n",
       "      <td>0.003935</td>\n",
       "      <td>0.015596</td>\n",
       "      <td>0.008142</td>\n",
       "      <td>-0.002592</td>\n",
       "      <td>-0.031991</td>\n",
       "      <td>-0.046641</td>\n",
       "      <td>135.0</td>\n",
       "    </tr>\n",
       "  </tbody>\n",
       "</table>\n",
       "</div>"
      ],
      "text/plain": [
       "        AGE       SEX       BMI        BP        S1        S2        S3  \\\n",
       "0  0.038076  0.050680  0.061696  0.021872 -0.044223 -0.034821 -0.043401   \n",
       "1 -0.001882 -0.044642 -0.051474 -0.026328 -0.008449 -0.019163  0.074412   \n",
       "2  0.085299  0.050680  0.044451 -0.005671 -0.045599 -0.034194 -0.032356   \n",
       "3 -0.089063 -0.044642 -0.011595 -0.036656  0.012191  0.024991 -0.036038   \n",
       "4  0.005383 -0.044642 -0.036385  0.021872  0.003935  0.015596  0.008142   \n",
       "\n",
       "         S4        S5        S6      Y  \n",
       "0 -0.002592  0.019908 -0.017646  151.0  \n",
       "1 -0.039493 -0.068330 -0.092204   75.0  \n",
       "2 -0.002592  0.002864 -0.025930  141.0  \n",
       "3  0.034309  0.022692 -0.009362  206.0  \n",
       "4 -0.002592 -0.031991 -0.046641  135.0  "
      ]
     },
     "execution_count": 5,
     "metadata": {},
     "output_type": "execute_result"
    }
   ],
   "source": [
    "p.Gold.to_pandas_dataframe().head()"
   ]
  },
  {
   "cell_type": "markdown",
   "metadata": {},
   "source": [
    "## SUMMARY - step 1\n",
    "- ESML has now `Automap` and `Autoregister` Azure ML Datasets as: `IN, SILVER, BRONZE, GOLD`\n",
    "- ESML has read configuration for correct environment (DEV, TEST, PROD). \n",
    "    - Both small customers, and large Enterprise customers often wants:  DEV, TEST, PROD in `diffferent Azure ML workspaces` (and different subscriptions)\n",
    "- User has done feature engineering, and saved GOLD `p.save_gold`"
   ]
  },
  {
   "cell_type": "markdown",
   "metadata": {},
   "source": [
    "# 2) `ESML` Train model in `5 codelines`"
   ]
  },
  {
   "cell_type": "code",
   "execution_count": 6,
   "metadata": {},
   "outputs": [
    {
     "data": {
      "text/plain": [
       "['normalized_root_mean_squared_error',\n",
       " 'normalized_mean_absolute_error',\n",
       " 'r2_score',\n",
       " 'spearman_correlation']"
      ]
     },
     "execution_count": 6,
     "metadata": {},
     "output_type": "execute_result"
    }
   ],
   "source": [
    "from azureml.train import automl\n",
    "# List of possible primary metrics is here: https://docs.microsoft.com/en-us/azure/machine-learning/how-to-configure-auto-train#primary-metric\n",
    "    \n",
    "automl.utilities.get_primary_metrics('regression')"
   ]
  },
  {
   "cell_type": "code",
   "execution_count": 7,
   "metadata": {},
   "outputs": [
    {
     "name": "stdout",
     "output_type": "stream",
     "text": [
      "Loading AutoML config settings from: dev\n"
     ]
    },
    {
     "data": {
      "text/plain": [
       "{'enable_voting_ensemble': True,\n",
       " 'enable_stack_ensemble': False,\n",
       " 'model_explainability': True,\n",
       " 'experiment_timeout_hours': 0.75,\n",
       " 'iteration_timeout_minutes': 5,\n",
       " 'n_cross_validations': 3,\n",
       " 'enable_early_stopping': False,\n",
       " 'iterations': 21,\n",
       " 'max_cores_per_iteration': -1,\n",
       " 'allowed_models': ['LightGBM', 'DecisionTree', 'ExtremeRandomTrees', 'KNN'],\n",
       " 'path': '.',\n",
       " 'debug_log': 'azure_automl_debug_dev.log'}"
      ]
     },
     "execution_count": 7,
     "metadata": {},
     "output_type": "execute_result"
    }
   ],
   "source": [
    "automl_performance_config = p.get_automl_performance_config() # 1)Get config, for active environment (dev,test or prod)\n",
    "automl_performance_config # https://docs.microsoft.com/en-us/python/api/azureml-train-automl-client/azureml.train.automl.constants.supportedmodels.regression?view=azure-ml-py"
   ]
  },
  {
   "cell_type": "code",
   "execution_count": 8,
   "metadata": {},
   "outputs": [
    {
     "name": "stdout",
     "output_type": "stream",
     "text": [
      "Label is: Y\n"
     ]
    }
   ],
   "source": [
    "print('Label is: {}'.format(p.active_model[\"label\"]))"
   ]
  },
  {
   "cell_type": "code",
   "execution_count": 9,
   "metadata": {},
   "outputs": [
    {
     "name": "stdout",
     "output_type": "stream",
     "text": [
      "Loading AutoML config settings from: dev\n",
      "Note: OVERRIDING enterprise performance settings with project specifics. (to change, set flag in 'dev_test_prod_settings.json' -> override_enterprise_settings_with_model_specific=False)\n",
      "Using a model specific cluster, per configuration in project specific settings, (the integer of 'model_number' is the base for the name)\n",
      "Note: OVERRIDING enterprise performance settings with project specifics. (to change, set flag in 'dev_test_prod_settings.json' -> override_enterprise_settings_with_model_specific=False)\n",
      "Found existing cluster p02-m11weu-dev for project and environment, using it.\n",
      "Succeeded\n",
      "AmlCompute wait for completion finished\n",
      "\n",
      "Minimum number of nodes requested have been provisioned\n",
      "image_build_compute = p02-m11weu-dev\n",
      "Experiment name: 11_diabetes_model_reg\n",
      "Azure ML Studio Workspace: msft-weu-DEV-eap-proj02_ai-amls\n",
      "Start training run...\n",
      "Submitting remote run.\n",
      "No run_configuration provided, running on p02-m11weu-dev with default configuration\n",
      "Running on remote compute: p02-m11weu-dev\n"
     ]
    },
    {
     "data": {
      "text/html": [
       "<table style=\"width:100%\"><tr><th>Experiment</th><th>Id</th><th>Type</th><th>Status</th><th>Details Page</th><th>Docs Page</th></tr><tr><td>11_diabetes_model_reg</td><td>AutoML_d1093aff-84fe-45d8-939f-effe3092dd4c</td><td>automl</td><td>NotStarted</td><td><a href=\"https://ml.azure.com/runs/AutoML_d1093aff-84fe-45d8-939f-effe3092dd4c?wsid=/subscriptions/ca0a8c40-b06a-4e4e-8434-63c03a1dee34/resourcegroups/MSFT-WEU-EAP_PROJECT02_AI-DEV-RG/workspaces/msft-weu-DEV-eap-proj02_ai-amls&amp;tid=72f988bf-86f1-41af-91ab-2d7cd011db47\" target=\"_blank\" rel=\"noopener\">Link to Azure Machine Learning studio</a></td><td><a href=\"https://docs.microsoft.com/en-us/python/api/overview/azure/ml/intro?view=azure-ml-py\" target=\"_blank\" rel=\"noopener\">Link to Documentation</a></td></tr></table>"
      ],
      "text/plain": [
       "<IPython.core.display.HTML object>"
      ]
     },
     "metadata": {},
     "output_type": "display_data"
    },
    {
     "name": "stdout",
     "output_type": "stream",
     "text": [
      "\n",
      "Current status: FeaturesGeneration. Generating features for the dataset.\n",
      "Current status: DatasetCrossValidationSplit. Generating individually featurized CV splits.\n",
      "Current status: ModelSelection. Beginning model selection.\n",
      "\n",
      "********************************************************************************************\n",
      "DATA GUARDRAILS: \n",
      "\n",
      "TYPE:         Missing feature values imputation\n",
      "STATUS:       PASSED\n",
      "DESCRIPTION:  No feature missing values were detected in the training data.\n",
      "              Learn more about missing value imputation: https://aka.ms/AutomatedMLFeaturization\n",
      "\n",
      "********************************************************************************************\n",
      "\n",
      "TYPE:         High cardinality feature detection\n",
      "STATUS:       PASSED\n",
      "DESCRIPTION:  Your inputs were analyzed, and no high cardinality features were detected.\n",
      "              Learn more about high cardinality feature handling: https://aka.ms/AutomatedMLFeaturization\n",
      "\n",
      "********************************************************************************************\n",
      "\n",
      "********************************************************************************************\n",
      "ITER: The iteration being evaluated.\n",
      "PIPELINE: A summary description of the pipeline being evaluated.\n",
      "DURATION: Time taken for the current iteration.\n",
      "METRIC: The result of computing score on the fitted pipeline.\n",
      "BEST: The best observed score thus far.\n",
      "********************************************************************************************\n",
      "\n",
      " ITER   PIPELINE                                       DURATION            METRIC      BEST\n",
      "    0   MaxAbsScaler LightGBM                          0:00:25             0.1737    0.1737\n",
      "    1   RobustScaler DecisionTree                      0:00:00                nan    0.1737\n",
      "    2                                                  0:00:53                nan    0.1737\n",
      "    3                                                  0:00:53                nan    0.1737\n",
      "    4                                                  0:00:52                nan    0.1737\n",
      "    5                                                  0:00:52                nan    0.1737\n",
      "    6                                                  0:00:51                nan    0.1737\n",
      "    7                                                  0:00:51                nan    0.1737\n",
      "    8                                                  0:00:51                nan    0.1737\n",
      "    9                                                  0:00:50                nan    0.1737\n",
      "   10                                                  0:00:50                nan    0.1737\n",
      "   11                                                  0:00:49                nan    0.1737\n",
      "   12                                                  0:00:49                nan    0.1737\n",
      "   13                                                  0:00:48                nan    0.1737\n",
      "   14                                                  0:00:48                nan    0.1737\n",
      "   15                                                  0:00:48                nan    0.1737\n",
      "   16                                                  0:00:46                nan    0.1737\n",
      "   17                                                  0:00:46                nan    0.1737\n",
      "   18                                                  0:00:47                nan    0.1737\n",
      "   19                                                  0:00:46                nan    0.1737\n",
      "Run(Experiment: 11_diabetes_model_reg,\n",
      "Id: AutoML_d1093aff-84fe-45d8-939f-effe3092dd4c_0,\n",
      "Type: None,\n",
      "Status: Completed)\n",
      "RegressionPipeline(pipeline=Pipeline(memory=None,\n",
      "                                     steps=[('datatransformer',\n",
      "                                             DataTransformer(enable_dnn=False, enable_feature_sweeping=True, feature_sweeping_config={}, feature_sweeping_timeout=86400, featurization_config=None, force_text_dnn=False, is_cross_validation=True, is_onnx_compatible=False, observer=None, task='regression', working_dir='c:\\\\Users\\\\jo...\\\\2_My\\\\github\\\\azure-enterprise-scale-ml\\\\notebook_templates_esml_v14_2022-06-2023_aml_v143')),\n",
      "                                            ('MaxAbsScaler',\n",
      "                                             MaxAbsScaler(copy=True)),\n",
      "                                            ('LightGBMRegressor',\n",
      "                                             LightGBMRegressor(min_data_in_leaf=20, n_jobs=-1, problem_info=ProblemInfo(gpu_training_param_dict={'processing_unit_type': 'cpu'}), random_state=None))],\n",
      "                                     verbose=False),\n",
      "                   stddev=[64.04921268618584])\n",
      "AutoML Model name: AutoMLd1093aff80\n"
     ]
    }
   ],
   "source": [
    "from esml import ESMLProject\n",
    "from baselayer_azure_ml import AutoMLFactory,azure_metric_regression,azure_metric_classification\n",
    "from azureml.train.automl import AutoMLConfig\n",
    "\n",
    "automl_performance_config = p.get_automl_performance_config() # 1)Get config, for active environment (dev,test or prod)\n",
    "aml_compute = p.get_training_aml_compute(p.ws) # 2)Get compute, for active environment\n",
    "\n",
    "label = p.active_model[\"label\"]\n",
    "automl_config = AutoMLConfig(task = 'regression', # 4) Override the ENV config, for model(that inhertits from enterprise DEV_TEST_PROD config baseline)\n",
    "                            primary_metric = azure_metric_regression.MAE, # # Note: Regression(MAPE) are not possible in AutoML\n",
    "                            compute_target = aml_compute,\n",
    "                            training_data = p.GoldTrain, # is 'train_6' pandas dataframe, but as an Azure ML Dataset\n",
    "                            experiment_exit_score = '0.308', # DEMO purpose\n",
    "                            label_column_name = label,\n",
    "                            **automl_performance_config\n",
    "                        )\n",
    "best_run, fitted_model, experiment = AutoMLFactory(p).train_as_run(automl_config)"
   ]
  },
  {
   "cell_type": "markdown",
   "metadata": {},
   "source": [
    "- ESML has now fetched `configuration & train compute` for enterprise `environment (DEV,TEST or PROD)`\n",
    "- ESML has `autogenerated` a AutoML-experiment, optinally as `pipline`, in correct environment.\n",
    "- User has overridden some AutoML settings (`label, split percentage`, `target metric`), and use the `1-liner TRAIN` code snippet "
   ]
  },
  {
   "cell_type": "markdown",
   "metadata": {},
   "source": [
    "# 3) Production purpose: \"once and only once\": Wrap code\n",
    "- 3 Callers: MLOps, AMLPipeline, and this notebook"
   ]
  },
  {
   "cell_type": "markdown",
   "metadata": {},
   "source": [
    "import sys\n",
    "sys.path.insert(0, \"../../2_A_aml_pipeline/4_inference/batch/M10/your_code/\")\n",
    "from your_custom_code import M01In2GoldProcessor\n",
    "\n",
    "#p.init()\n",
    "esml_dataset1 = p.DatasetByName(\"ds01_titanic\") # Get dataset 1\n",
    "df_bronze = esml_dataset1.Bronze.to_pandas_dataframe()\n",
    "silver1 = p.save_silver(esml_dataset1,df_bronze) #Bronze -> Silver\n",
    "\n",
    "esml_dataset2 = p.DatasetByName(\"ds02_haircolor\") # Get dataset 2\n",
    "df_bronze2 = esml_dataset2.Bronze.to_pandas_dataframe()\n",
    "silver2 = p.save_silver(esml_dataset2,df_bronze2) #Bronze -> Silver\n",
    "\n",
    "df1 = M01In2GoldProcessor().M01_ds01_process_in2silver(silver1.to_pandas_dataframe())  # You can then copy this statement in your pipeline-step \"in2silver_ds01...py\"\n",
    "df2 = M01In2GoldProcessor().M01_ds02_process_in2silver(silver2.to_pandas_dataframe())  # You can then copy this statement in your pipeline-step \"in2silver_ds02...py\"\n",
    "\n",
    "merged_gold = M01In2GoldProcessor().M01_merge_silvers(df1,df2) # # You can then copy this statement in your pipeline-step \"silver_merged_2_gold.py\"\n",
    "p.save_gold(merged_gold).to_pandas_dataframe().head()"
   ]
  },
  {
   "cell_type": "markdown",
   "metadata": {},
   "source": [
    "## 2b) ESML Scoring Drift/Concept Drift: Compare with `1-codeline`: Promote model or not? If better, then `Register model`\n",
    "- `IF` newly trained model in `current` environment (`DEV`, `TEST` or `PROD`) scores BETTER than existing model in `target` environment, then `new model` can be registered and promoted.\n",
    "- Q: Do we have `SCORING DRIFT / CONCEPT DRIFT?`\n",
    "- Q: Is a model trained on NEW data better? IS the one in production degraded? (not fit for the data it scores - real world changed, other CONCEPT)\n",
    "- A: - Lets check. Instead of `DataDrift`, lets look at `actual SCORING` on new data (and/or new code, feature engineering) - See if we should PROMOTE newly trained model..."
   ]
  },
  {
   "cell_type": "code",
   "execution_count": 3,
   "metadata": {},
   "outputs": [
    {
     "name": "stdout",
     "output_type": "stream",
     "text": [
      "regression\n",
      "...\n"
     ]
    },
    {
     "data": {
      "text/plain": [
       "'1.4'"
      ]
     },
     "execution_count": 3,
     "metadata": {},
     "output_type": "execute_result"
    }
   ],
   "source": [
    "import sys\n",
    "sys.path.insert(0, \"../azure-enterprise-scale-ml/\")\n",
    "\n",
    "from esmlrt.interfaces.iESMLController import IESMLController\n",
    "from esmlrt.interfaces.iESMLModelCompare import IESMLModelCompare\n",
    "from esmlrt.interfaces.iESMLTestScoringFactory import IESMLTestScoringFactory\n",
    "from esmlrt.interfaces.iESMLTrainer import IESMLTrainer\n",
    "from esmlrt.runtime.ESMLController import ESMLController\n",
    "from esmlrt.runtime.ESMLModelCompare2 import ESMLModelCompare\n",
    "from esmlrt.runtime.ESMLTestScoringFactory2 import ESMLTestScoringFactory\n",
    "\n",
    "ws = p.ws\n",
    "target_column_name = p.active_model[\"label\"]\n",
    "esml_modelname = p.model_folder_name\n",
    "esml_model_alias = p.ModelAlias\n",
    "esml_current_env  = p.dev_test_prod\n",
    "train_ds = p.GoldTrain\n",
    "validate_ds = p.GoldValidate\n",
    "test_ds = p.GoldTest\n",
    "\n",
    "secret_name_tenant = p.security_config[\"tenant\"]\n",
    "secret_name_sp_id_name = p.security_config[\"kv-secret-esml-projectXXX-sp-id\"]\n",
    "secret_name_sp_secret_name = p.security_config[\"kv-secret-esml-projectXXX-sp-secret\"]\n",
    "\n",
    "ml_type = p.active_model[\"ml_type\"]\n",
    "all_envs = p.get_all_envs()\n",
    "\n",
    "project_name = p.project_folder_name\n",
    "test_scoring = ESMLTestScoringFactory(ml_type) # If custom, You need to implement IESMLTestScoringFactory\n",
    "comparer = ESMLModelCompare(setting_path = \"../../\") # If custom. You need to implement IESMLModelCompare\n",
    "\n",
    "# IESMLController: you do not have to change/implement this class. Dependency injects default or your class.\n",
    "controller = ESMLController(comparer,test_scoring,project_name,esml_modelname, esml_model_alias,all_envs, secret_name_tenant,secret_name_sp_id_name,secret_name_sp_secret_name)\n",
    "controller.dev_test_prod = esml_current_env\n",
    "controller.version()"
   ]
  },
  {
   "cell_type": "markdown",
   "metadata": {},
   "source": [
    "# 1) Register model as NEW"
   ]
  },
  {
   "cell_type": "code",
   "execution_count": 3,
   "metadata": {},
   "outputs": [
    {
     "name": "stdout",
     "output_type": "stream",
     "text": [
      "AutoMLd1093aff80\n"
     ]
    }
   ],
   "source": [
    "from azureml.train.automl.run import AutoMLRun\n",
    "\n",
    "automl_step_run_id = 'AutoML_d1093aff-84fe-45d8-939f-effe3092dd4c_0' # AutoML_d1093aff-84fe-45d8-939f-effe3092dd4c_0  to get 'AutoMLd1093aff80'\n",
    "experiment_run = p.ws.experiments[p.experiment_name]\n",
    "best_run = AutoMLRun(experiment_run, run_id = automl_step_run_id)\n",
    "\n",
    "run_id = best_run.id\n",
    "model_name = best_run.properties['model_name'] # AutoML default name\n",
    "print(model_name)"
   ]
  },
  {
   "cell_type": "code",
   "execution_count": 4,
   "metadata": {},
   "outputs": [
    {
     "name": "stdout",
     "output_type": "stream",
     "text": [
      "score: 0.17365331001591988, algorithm: LightGBM, prep: MaxAbsScaler, primary metric: normalized_mean_absolute_error, peak_memory_used 940456 MB, num_logical_core_used 4\n"
     ]
    }
   ],
   "source": [
    "score = best_run.properties['score']\n",
    "algo = best_run.properties['run_algorithm']\n",
    "prep = best_run.properties['run_preprocessor']\n",
    "primary_metric = best_run.properties['primary_metric']\n",
    "peak_memory_usage = best_run.properties['peak_memory_usage']\n",
    "num_logical_cores = best_run.properties['num_logical_cores']\n",
    "\n",
    "print(\"score: {}, algorithm: {}, prep: {}, primary metric: {}, peak_memory_used {} MB, num_logical_core_used {}\".format(score,algo,prep,primary_metric,peak_memory_usage,num_logical_cores))"
   ]
  },
  {
   "cell_type": "markdown",
   "metadata": {},
   "source": [
    "## Main run: Is needed to REGISTER model, and to get FITTED_MODEL, and child run BEST_RUN"
   ]
  },
  {
   "cell_type": "code",
   "execution_count": 5,
   "metadata": {},
   "outputs": [],
   "source": [
    "automl_step_run_id = 'AutoML_d1093aff-84fe-45d8-939f-effe3092dd4c' # AutoML_d1093aff-84fe-45d8-939f-effe3092dd4c_0\n",
    "experiment_run = p.ws.experiments[p.experiment_name]\n",
    "main_run = AutoMLRun(experiment_run, run_id = automl_step_run_id)"
   ]
  },
  {
   "cell_type": "code",
   "execution_count": 6,
   "metadata": {},
   "outputs": [
    {
     "name": "stdout",
     "output_type": "stream",
     "text": [
      "Connecting to env: dev\n",
      "- ws name: msft-weu-DEV-eap-proj02_ai-amls\n",
      "- self._secret_name_tenant: kv-msft-weu-dev-cmnai-tenant\n",
      "- self._secret_name_project_sp_id: kv-secret-esml-project002-sp-id\n",
      "- self._secret_name_project_sp_secret: kv-secret-esml-project002-sp-secret\n",
      "Connecting to env: dev\n",
      "- ws name: msft-weu-DEV-eap-proj02_ai-amls\n",
      "- self._secret_name_tenant: kv-msft-weu-dev-cmnai-tenant\n",
      "- self._secret_name_project_sp_id: kv-secret-esml-project002-sp-id\n",
      "- self._secret_name_project_sp_secret: kv-secret-esml-project002-sp-secret\n",
      "Could not get model_name from run.properties\n",
      "'model_name'\n",
      "registering model with name: None, from run.\n",
      "model_name at emote_run.register_model:  None\n",
      "model.version 3\n",
      "Model name AutoMLd1093aff80 is registered.\n"
     ]
    }
   ],
   "source": [
    "#REGISTER with MAIN_RUN not BEST_RUN which is a child process\n",
    "extra_tags = {\"status_code\": IESMLController.esml_status_new, \"trained_with\": \"AutoMLRun\"}\n",
    "model_registered_as_new = controller.register_model(source_ws=ws, target_env=\"dev\", source_model=None, run=main_run, esml_status=IESMLController.esml_status_new,extra_model_tags=extra_tags)"
   ]
  },
  {
   "cell_type": "markdown",
   "metadata": {},
   "source": [
    "# 2) Calculate testset scoring"
   ]
  },
  {
   "cell_type": "code",
   "execution_count": 7,
   "metadata": {},
   "outputs": [],
   "source": [
    "best_run, fitted_model = main_run.get_output() "
   ]
  },
  {
   "cell_type": "code",
   "execution_count": 8,
   "metadata": {},
   "outputs": [
    {
     "name": "stdout",
     "output_type": "stream",
     "text": [
      "rmse is:56.50191161205894\n",
      "Replacing tag run_id -> AutoML_d1093aff-84fe-45d8-939f-effe3092dd4c with run_id -> AutoML_d1093aff-84fe-45d8-939f-effe3092dd4c\n",
      "Replacing tag model_name -> None with model_name -> None\n",
      "Replacing tag trained_in_environment -> dev with trained_in_environment -> dev\n",
      "Replacing tag trained_in_workspace -> msft-weu-DEV-eap-proj02_ai-amls with trained_in_workspace -> msft-weu-DEV-eap-proj02_ai-amls\n",
      "Replacing tag experiment_name -> 11_diabetes_model_reg with experiment_name -> 11_diabetes_model_reg\n",
      "Replacing tag status_code -> esml_newly_trained with status_code -> esml_newly_trained\n",
      "Replacing tag trained_with -> AutoMLRun with trained_with -> AutoMLRun\n",
      "Replacing tag test_set_RMSE -> 56.501912 with test_set_RMSE -> 56.501912\n",
      "Replacing tag test_set_R2 -> 0.426615 with test_set_R2 -> 0.426615\n",
      "Replacing tag test_set_MAPE -> 0.339886 with test_set_MAPE -> 0.339886\n",
      "Replacing tag test_set_Spearman_Correlation -> 0.649199 with test_set_Spearman_Correlation -> 0.649199\n",
      "Replacing tag esml_time_updated -> 09/07/2022, 02:03:21 with esml_time_updated -> 09/07/2022, 02:03:21\n",
      "Model tag add operation complete.\n",
      "Scoring for NEW model is: 56.50191161205894,0.42661524719552857,0.33988598448100976,47.75970923505065, 0.6491989725341248\n"
     ]
    },
    {
     "data": {
      "image/png": "[encoded data removed]",
      "text/plain": [
       "<Figure size 1000x700 with 1 Axes>"
      ]
     },
     "metadata": {},
     "output_type": "display_data"
    }
   ],
   "source": [
    "from azureml.core import Model\n",
    "run_id = best_run.id\n",
    "model_name = best_run.properties['model_name'] # AutoML default name\n",
    "model = Model(ws, model_name) # Now model AutoML92197e33d0 exists in workspace\n",
    "\n",
    "rmse, r2, mean_abs_percent_error,mae,spearman_correlation,plt, dummy = test_scoring.get_test_scoring_8(ws,target_column_name,test_ds,fitted_model,best_run,model)\n",
    "print(\"Scoring for NEW model is: {},{},{},{}, {}\".format(rmse,r2,mean_abs_percent_error,mae,spearman_correlation))"
   ]
  },
  {
   "cell_type": "markdown",
   "metadata": {},
   "source": [
    "# 3) Compare models - INNER LOOP (in DEV environment)"
   ]
  },
  {
   "cell_type": "markdown",
   "metadata": {},
   "source": [
    "#### NB! Here also MAIN_RUN is used, which is different from a PIPELINE_RUN where BEST_RUN is used"
   ]
  },
  {
   "cell_type": "code",
   "execution_count": 9,
   "metadata": {},
   "outputs": [
    {
     "name": "stdout",
     "output_type": "stream",
     "text": [
      "source_best_run.properties['model_name'] is: AutoMLd1093aff80\n",
      "TARGET is in the same Azure ML Studio workspace as SOURCE, comparing with latest registered model...\n",
      "TIME: Model list LAMBDA FILTER, on experiment_name 11_diabetes_model_reg\n",
      "TIME: FILTER ModelList:\n",
      "Minutes: 4.276224029064179\n",
      "target_best_run_id AutoML_d1093aff-84fe-45d8-939f-effe3092dd4c\n",
      "New trained model & cached RUN, has TASK_TYPE: regression and Best_Run_id: AutoML_d1093aff-84fe-45d8-939f-effe3092dd4c_0\n",
      "Target model & RUN, in Azure ML Studio workspace to compare with, has TASK_TYPE: regression and Best_Run_id:AutoML_d1093aff-84fe-45d8-939f-effe3092dd4c_0 \n",
      "\n",
      "Q: Do we have SCORING DRIFT / CONCEPT DRIFT? - Is a model trained on NEW data better? = the one in production degraded?\n",
      "\n",
      "New trained model: model id AutoMLd1093aff80:3\n",
      "INFO: Using ESML TEST_SET SCORING, since tagged on MODEL - using this to compare SCORING\n",
      "RMSE (normalized_root_mean_squared_error): 56.501912\n",
      "MAPE (Mean average Percentage Error): 0.339886\n",
      "MAE (normalized_mean_absolute_error): -1\n",
      "R2 (r2_score): 0.426615\n",
      "Spearman (spearman_correlation): 0.649199\n",
      "\n",
      "Target model, to compare with. model id 11_diabetes_model_reg:22\n",
      "Warning: Falling back o use AutoML validation scoring when comparing. Run 'ESMLTestScoringFactory(p).get_test_scoring_4_regression()' to use TEST_SET SCORING when comparing\n",
      "RMSE (normalized_root_mean_squared_error): 0.2160403627388321\n",
      "MAPE (Mean average Percentage Error): 44.32432364948247\n",
      "MAE (normalized_mean_absolute_error): 0.17365331001591988\n",
      "R2 (r2_score): 0.2674501514512014\n",
      "Spearman (spearman_correlation): 0.5363197003938619\n",
      "\n",
      "Selected metrics, and weights, to be used when comparing for promotion/scoring drift\n",
      "Metric weight: RMSE_promote_weight is 0.0200\n",
      "Metric VALUE (incl. weight) 56.4819 (without weight:  56.5019)\n",
      " - WORSE: NEW trained model 56.481912000000 is WORSE than CURRENT model: 0.216040362739 for metric normalized_root_mean_squared_error\n",
      "\n",
      "Promote model = False\n",
      " - Not promote, due to metric normalized_root_mean_squared_error. You can adjust the WEIGHT RMSE_promote_weight in ESML settings\n"
     ]
    }
   ],
   "source": [
    "#best_run, fitted_model, experiment\n",
    "promote_new_model,source_model_name,new_run_id,target_model_name, target_best_run_id,target_workspace,source_model = comparer.compare_scoring_current_vs_new_model(\n",
    "    new_run_id = main_run.id, # main_run.id ....not best_run.id\n",
    "    current_ws = ws,\n",
    "    current_environment = esml_current_env,\n",
    "    target_environment = esml_current_env,\n",
    "    target_workspace = ws,\n",
    "    experiment_name = controller.experiment_name)"
   ]
  },
  {
   "cell_type": "markdown",
   "metadata": {},
   "source": [
    "# 4) Promote model, if better - INNER LOOP (in DEV environment)"
   ]
  },
  {
   "cell_type": "code",
   "execution_count": 14,
   "metadata": {},
   "outputs": [
    {
     "data": {
      "text/plain": [
       "{'run_id': 'AutoML_d1093aff-84fe-45d8-939f-effe3092dd4c',\n",
       " 'model_name': None,\n",
       " 'trained_in_environment': 'dev',\n",
       " 'trained_in_workspace': 'msft-weu-DEV-eap-proj02_ai-amls',\n",
       " 'experiment_name': '11_diabetes_model_reg',\n",
       " 'status_code': 'esml_newly_trained',\n",
       " 'trained_with': 'AutoMLRun',\n",
       " 'test_set_RMSE': '56.501912',\n",
       " 'test_set_R2': '0.426615',\n",
       " 'test_set_MAPE': '0.339886',\n",
       " 'test_set_Spearman_Correlation': '0.649199',\n",
       " 'esml_time_updated': '09/07/2022, 02:03:21'}"
      ]
     },
     "execution_count": 14,
     "metadata": {},
     "output_type": "execute_result"
    }
   ],
   "source": [
    "source_model.tags"
   ]
  },
  {
   "cell_type": "code",
   "execution_count": 15,
   "metadata": {},
   "outputs": [
    {
     "name": "stdout",
     "output_type": "stream",
     "text": [
      "Connecting to env: dev\n",
      "- ws name: msft-weu-DEV-eap-proj02_ai-amls\n",
      "- self._secret_name_tenant: kv-msft-weu-dev-cmnai-tenant\n",
      "- self._secret_name_project_sp_id: kv-secret-esml-project002-sp-id\n",
      "- self._secret_name_project_sp_secret: kv-secret-esml-project002-sp-secret\n",
      "Connecting to env: dev\n",
      "- ws name: msft-weu-DEV-eap-proj02_ai-amls\n",
      "- self._secret_name_tenant: kv-msft-weu-dev-cmnai-tenant\n",
      "- self._secret_name_project_sp_id: kv-secret-esml-project002-sp-id\n",
      "- self._secret_name_project_sp_secret: kv-secret-esml-project002-sp-secret\n",
      "Could not get model_name from run.properties\n",
      "'model_name'\n",
      "registering model with name: AutoMLd1093aff80, from run.\n",
      "model_name at emote_run.register_model:  AutoMLd1093aff80\n",
      "model.version 5\n",
      "Model name AutoMLd1093aff80 is registered.\n",
      "Promoted model! in environment dev\n"
     ]
    }
   ],
   "source": [
    "promote_new_model = True # Force promote, for DEMO purposes\n",
    "if(promote_new_model):\n",
    "    model_registered_in_target = controller.register_model(source_ws=ws, target_env=esml_current_env, source_model=source_model, run=main_run,esml_status=IESMLController.esml_status_promoted) \n",
    "    print(\"Promoted model! in environment {}\".format(esml_current_env))"
   ]
  },
  {
   "cell_type": "markdown",
   "metadata": {},
   "source": [
    "# 3) DEPLOY ONLINE - FROM TEST in DEV - ESML `Deploy model ONLINE` in `2 lines of code` (AKS) \n",
    "- Deploy \"offline\" MODEL from old `run` in environment To →  `DEV`, `TEST` or `PROD` environment\n",
    "- ESML saves `API_key in Azure keyvault automatically`\n",
    "- ESML auto-config solves 4 common 'errors/things': `correct compute name` and `valid replicas, valid agents, valid auto scaling`\n",
    "    - Tip: You can adjust the number of replicas, and different CPU/memory configuration, or using a different compute target."
   ]
  },
  {
   "cell_type": "code",
   "execution_count": 16,
   "metadata": {},
   "outputs": [
    {
     "name": "stdout",
     "output_type": "stream",
     "text": [
      "Note: OVERRIDING enterprise performance settings with project specifics. (to change, set flag in 'dev_test_prod_settings.json' -> override_enterprise_settings_with_model_specific=False)\n",
      "Loading AutoML config settings from: dev\n",
      "TIME: Model list LAMBDA FILTER, on experiment_name 11_diabetes_model_reg\n",
      "TIME: FILTER ModelList:\n",
      "Minutes: 4.878815992673238\n",
      "Deploying model: AutoMLd1093aff80 with verison: 5 to environment: dev with overwrite_endpoint=True\n",
      "Note: OVERRIDING enterprise performance settings with project specifics. (to change, set flag in 'dev_test_prod_settings.json' -> override_enterprise_settings_with_model_specific=False)\n",
      "image_build_compute = p02-m11weu-dev\n",
      "Note: OVERRIDING enterprise performance settings with project specifics. (to change, set flag in 'dev_test_prod_settings.json' -> override_enterprise_settings_with_model_specific=False)\n",
      "Found existing cluster, esml-dev-prj02, using it.\n",
      "Note: Autoscale_enabled=False, or since aks_dev_test=True in config, autoscaling is automatically shut off, e.g. overridden in config (since not supported) for environment dev\n",
      "Tips: You can try get_logs(): https://aka.ms/debugimage#dockerlog or local deployment: https://aka.ms/debugimage#debug-locally to debug if deployment takes longer than 10 minutes.\n",
      "Running\n",
      "2022-09-07 02:21:08+02:00 Creating Container Registry if not exists.\n",
      "2022-09-07 02:21:08+02:00 Registering the environment.\n",
      "2022-09-07 02:21:10+02:00 Use the existing image.\n",
      "2022-09-07 02:21:12+02:00 Creating resources in AKS.\n",
      "2022-09-07 02:21:13+02:00 Submitting deployment to compute.\n",
      "2022-09-07 02:21:13+02:00 Checking the status of deployment esml-dev-p02-m11-aksapi..\n",
      "2022-09-07 02:23:12+02:00 Checking the status of inference endpoint esml-dev-p02-m11-aksapi.\n",
      "Succeeded\n",
      "AKS service creation operation finished, operation \"Succeeded\"\n",
      "Healthy\n",
      "2022-09-07T00:23:03,199101427+00:00 - iot-server/run \n",
      "2022-09-07T00:23:03,208387468+00:00 - rsyslog/run \n",
      "2022-09-07T00:23:03,216957814+00:00 - gunicorn/run \n",
      "2022-09-07T00:23:03,220178894+00:00 - nginx/run \n",
      "2022-09-07T00:23:03,228224643+00:00 | gunicorn/run | \n",
      "2022-09-07T00:23:03,239928469+00:00 | gunicorn/run | ###############################################\n",
      "2022-09-07T00:23:03,241264561+00:00 | gunicorn/run | AzureML Container Runtime Information\n",
      "2022-09-07T00:23:03,243442647+00:00 | gunicorn/run | ###############################################\n",
      "2022-09-07T00:23:03,245344335+00:00 | gunicorn/run | \n",
      "2022-09-07T00:23:03,246581027+00:00 | gunicorn/run | \n",
      "2022-09-07T00:23:03,248855113+00:00 | gunicorn/run | AzureML image information: openmpi3.1.2-ubuntu18.04, Materializaton Build:20220729.v6\n",
      "2022-09-07T00:23:03,253424784+00:00 | gunicorn/run | \n",
      "2022-09-07T00:23:03,254530777+00:00 | gunicorn/run | \n",
      "2022-09-07T00:23:03,255607670+00:00 | gunicorn/run | PATH environment variable: /azureml-envs/azureml_9975936e1ed0dc1285f5f882f1e4485b/bin:/opt/miniconda/bin:/usr/local/sbin:/usr/local/bin:/usr/sbin:/usr/bin:/sbin:/bin\n",
      "2022-09-07T00:23:03,256707163+00:00 | gunicorn/run | PYTHONPATH environment variable: \n",
      "2022-09-07T00:23:03,257795756+00:00 | gunicorn/run | \n",
      "2022-09-07T00:23:03,259255747+00:00 | gunicorn/run | Pip Dependencies (before dynamic installation)\n",
      "\n",
      "EdgeHubConnectionString and IOTEDGE_IOTHUBHOSTNAME are not set. Exiting...\n",
      "2022-09-07T00:23:03,290986946+00:00 - iot-server/finish 1 0\n",
      "2022-09-07T00:23:03,292055040+00:00 - Exit code 1 is normal. Not restarting iot-server.\n",
      "adal==1.2.7\n",
      "applicationinsights==0.11.10\n",
      "argcomplete==2.0.0\n",
      "arviz @ file:///tmp/build/80754af9/arviz_1614019183254/work\n",
      "attrs==22.1.0\n",
      "azure-common==1.1.28\n",
      "azure-core==1.24.2\n",
      "azure-graphrbac==0.61.1\n",
      "azure-identity==1.10.0\n",
      "azure-mgmt-authorization==2.0.0\n",
      "azure-mgmt-containerregistry==10.0.0\n",
      "azure-mgmt-core==1.3.1\n",
      "azure-mgmt-keyvault==10.0.0\n",
      "azure-mgmt-resource==21.1.0\n",
      "azure-mgmt-storage==20.0.0\n",
      "azure-storage-blob==12.9.0\n",
      "azure-storage-queue==12.4.0\n",
      "azureml-automl-core==1.44.0\n",
      "azureml-automl-runtime==1.44.0\n",
      "azureml-core==1.44.0\n",
      "azureml-dataprep==4.2.2\n",
      "azureml-dataprep-native==38.0.0\n",
      "azureml-dataprep-rslex==2.8.1\n",
      "azureml-dataset-runtime==1.44.0\n",
      "azureml-defaults==1.44.0\n",
      "azureml-inference-server-http==0.7.4\n",
      "azureml-interpret==1.44.0\n",
      "azureml-mlflow==1.44.0\n",
      "azureml-pipeline-core==1.44.0\n",
      "azureml-responsibleai==1.44.0\n",
      "azureml-telemetry==1.44.0\n",
      "azureml-train-automl-client==1.44.0\n",
      "azureml-train-automl-runtime==1.44.0\n",
      "azureml-train-core==1.44.0\n",
      "azureml-train-restclients-hyperdrive==1.44.0\n",
      "azureml-training-tabular==1.44.0\n",
      "backcall==0.2.0\n",
      "backports.tempfile==1.0\n",
      "backports.weakref==1.0.post1\n",
      "bcrypt==3.2.2\n",
      "bokeh==2.4.3\n",
      "boto==2.49.0\n",
      "boto3==1.15.18\n",
      "botocore==1.18.18\n",
      "cachetools==5.2.0\n",
      "certifi @ file:///opt/conda/conda-bld/certifi_1655968806487/work/certifi\n",
      "cffi==1.15.1\n",
      "cftime @ file:///tmp/build/80754af9/cftime_1638345281172/work\n",
      "charset-normalizer==2.1.0\n",
      "click==7.1.2\n",
      "cloudpickle==1.6.0\n",
      "configparser==3.7.4\n",
      "contextlib2==21.6.0\n",
      "convertdate @ file:///tmp/build/80754af9/convertdate_1634070773133/work\n",
      "cryptography==37.0.4\n",
      "cycler @ file:///tmp/build/80754af9/cycler_1637851556182/work\n",
      "Cython @ file:///tmp/build/80754af9/cython_1647850341668/work\n",
      "dask==2.30.0\n",
      "databricks-cli==0.17.0\n",
      "dataclasses==0.6\n",
      "debugpy==1.6.2\n",
      "decorator==5.1.1\n",
      "dice-ml==0.8\n",
      "dill==0.3.5.1\n",
      "distributed==2.30.1\n",
      "distro==1.7.0\n",
      "docker==5.0.3\n",
      "dotnetcore2==3.1.23\n",
      "dowhy==0.8\n",
      "econml==0.12.0\n",
      "entrypoints==0.4\n",
      "ephem @ file:///tmp/build/80754af9/ephem_1638960312619/work\n",
      "erroranalysis==0.3.6\n",
      "fairlearn==0.7.0\n",
      "fbprophet @ file:///home/conda/feedstock_root/build_artifacts/fbprophet_1599365534439/work\n",
      "fire==0.4.0\n",
      "Flask==2.1.3\n",
      "Flask-Cors==3.0.10\n",
      "flatbuffers==2.0\n",
      "fonttools==4.25.0\n",
      "fsspec==2022.7.1\n",
      "gensim==3.8.3\n",
      "gitdb==4.0.9\n",
      "GitPython==3.1.27\n",
      "google-api-core==2.8.2\n",
      "google-auth==2.9.1\n",
      "googleapis-common-protos==1.56.4\n",
      "gunicorn==20.1.0\n",
      "h5py==3.7.0\n",
      "HeapDict==1.0.1\n",
      "holidays @ file:///home/conda/feedstock_root/build_artifacts/holidays_1595448845196/work\n",
      "humanfriendly==10.0\n",
      "idna==3.3\n",
      "importlib-metadata==4.12.0\n",
      "importlib-resources==5.9.0\n",
      "inference-schema==1.4.1\n",
      "interpret-community==0.26.0\n",
      "interpret-core==0.2.7\n",
      "ipykernel==6.6.0\n",
      "ipython==7.34.0\n",
      "isodate==0.6.1\n",
      "itsdangerous==2.1.2\n",
      "jedi==0.18.1\n",
      "jeepney==0.8.0\n",
      "Jinja2==2.11.2\n",
      "jmespath==1.0.0\n",
      "joblib==0.14.1\n",
      "json-logging-py==0.2\n",
      "jsonpickle==2.2.0\n",
      "jsonschema==4.9.1\n",
      "jupyter-client==7.3.4\n",
      "jupyter-core==4.11.1\n",
      "keras2onnx==1.6.0\n",
      "kiwisolver @ file:///opt/conda/conda-bld/kiwisolver_1653292039266/work\n",
      "knack==0.9.0\n",
      "korean-lunar-calendar @ file:///tmp/build/80754af9/korean_lunar_calendar_1634063020401/work\n",
      "lightgbm==3.2.1\n",
      "llvmlite==0.38.1\n",
      "locket==1.0.0\n",
      "LunarCalendar @ file:///tmp/build/80754af9/lunarcalendar_1646383991234/work\n",
      "MarkupSafe==2.0.1\n",
      "matplotlib @ file:///tmp/build/80754af9/matplotlib-suite_1634667019719/work\n",
      "matplotlib-inline==0.1.3\n",
      "mkl-fft==1.3.0\n",
      "mkl-random==1.1.0\n",
      "mkl-service==2.3.0\n",
      "ml-wrappers==0.2.0\n",
      "mlflow-skinny==1.27.0\n",
      "mpi4py==3.1.3\n",
      "mpmath==1.2.1\n",
      "msal==1.18.0\n",
      "msal-extensions==1.0.0\n",
      "msgpack==1.0.4\n",
      "msrest==0.7.1\n",
      "msrestazure==0.6.4\n",
      "munkres==1.1.4\n",
      "ndg-httpsclient==0.5.1\n",
      "nest-asyncio==1.5.5\n",
      "netCDF4==1.5.7\n",
      "networkx==2.5\n",
      "nimbusml==1.8.0\n",
      "numba==0.55.2\n",
      "numpy==1.18.5\n",
      "oauthlib==3.2.0\n",
      "onnx==1.12.0\n",
      "onnxconverter-common==1.6.0\n",
      "onnxmltools==1.4.1\n",
      "onnxruntime==1.11.1\n",
      "opencensus==0.10.0\n",
      "opencensus-context==0.1.2\n",
      "opencensus-ext-azure==1.1.5\n",
      "packaging @ file:///tmp/build/80754af9/packaging_1637314298585/work\n",
      "pandas==1.1.5\n",
      "paramiko==2.11.0\n",
      "parso==0.8.3\n",
      "partd==1.2.0\n",
      "pathspec==0.9.0\n",
      "patsy==0.5.2\n",
      "pexpect==4.8.0\n",
      "pickleshare==0.7.5\n",
      "Pillow==9.0.1\n",
      "pkginfo==1.8.3\n",
      "pkgutil-resolve-name==1.3.10\n",
      "pmdarima==1.7.1\n",
      "portalocker==2.5.1\n",
      "prompt-toolkit==3.0.30\n",
      "protobuf==3.20.1\n",
      "psutil @ file:///tmp/build/80754af9/psutil_1612298016854/work\n",
      "ptyprocess==0.7.0\n",
      "py-cpuinfo==5.0.0\n",
      "pyarrow==6.0.0\n",
      "pyasn1==0.4.8\n",
      "pyasn1-modules==0.2.8\n",
      "pycparser==2.21\n",
      "pydot==1.4.2\n",
      "Pygments==2.12.0\n",
      "PyJWT==2.4.0\n",
      "PyMeeus @ file:///tmp/build/80754af9/pymeeus_1634069098549/work\n",
      "PyNaCl==1.5.0\n",
      "pyOpenSSL==22.0.0\n",
      "pyparsing @ file:///tmp/build/80754af9/pyparsing_1635766073266/work\n",
      "pyrsistent==0.18.1\n",
      "PySocks==1.7.1\n",
      "pystan @ file:///tmp/build/80754af9/pystan_1613565226242/work\n",
      "python-dateutil @ file:///tmp/build/80754af9/python-dateutil_1626374649649/work\n",
      "pytz @ file:///opt/conda/conda-bld/pytz_1654762638606/work\n",
      "PyYAML==6.0\n",
      "pyzmq==23.2.0\n",
      "raiutils==0.2.0\n",
      "requests==2.28.1\n",
      "requests-oauthlib==1.3.1\n",
      "responsibleai==0.19.0\n",
      "rsa==4.9\n",
      "s3transfer==0.3.7\n",
      "scikit-learn==0.22.1\n",
      "scipy==1.5.3\n",
      "SecretStorage==3.3.2\n",
      "semver==2.13.0\n",
      "setuptools-git==1.2\n",
      "shap==0.39.0\n",
      "six @ file:///tmp/build/80754af9/six_1644875935023/work\n",
      "skl2onnx==1.4.9\n",
      "sklearn-pandas==1.7.0\n",
      "slicer==0.0.7\n",
      "smart-open==1.9.0\n",
      "smmap==5.0.0\n",
      "sortedcontainers==2.4.0\n",
      "sparse==0.13.0\n",
      "statsmodels==0.11.1\n",
      "sympy==1.10.1\n",
      "tabulate==0.8.10\n",
      "tblib==1.7.0\n",
      "termcolor==1.1.0\n",
      "toolz==0.12.0\n",
      "tornado @ file:///tmp/build/80754af9/tornado_1606942283357/work\n",
      "tqdm @ file:///opt/conda/conda-bld/tqdm_1650891076910/work\n",
      "traitlets==5.3.0\n",
      "typing-extensions @ file:///opt/conda/conda-bld/typing_extensions_1647553014482/work\n",
      "urllib3==1.26.9\n",
      "wcwidth==0.2.5\n",
      "websocket-client==1.3.3\n",
      "Werkzeug==2.2.1\n",
      "wrapt==1.12.1\n",
      "xarray @ file:///opt/conda/conda-bld/xarray_1639166117697/work\n",
      "xgboost==1.3.3\n",
      "zict==2.2.0\n",
      "zipp==3.8.1\n",
      "\n",
      "2022-09-07T00:23:03,707993012+00:00 | gunicorn/run | \n",
      "2022-09-07T00:23:03,709284304+00:00 | gunicorn/run | ###############################################\n",
      "2022-09-07T00:23:03,710609996+00:00 | gunicorn/run | AzureML Inference Server\n",
      "2022-09-07T00:23:03,711781088+00:00 | gunicorn/run | ###############################################\n",
      "2022-09-07T00:23:03,712965481+00:00 | gunicorn/run | \n",
      "2022-09-07T00:23:05,016625846+00:00 | gunicorn/run | Starting AzureML Inference Server HTTP.\n",
      "\n",
      "Azure ML Inferencing HTTP server v0.7.4\n",
      "\n",
      "\n",
      "Server Settings\n",
      "---------------\n",
      "Entry Script Name: main.py\n",
      "Model Directory: /var/azureml-app/azureml-models/AutoMLd1093aff80/5\n",
      "Worker Count: 1\n",
      "Worker Timeout (seconds): 300\n",
      "Server Port: 31311\n",
      "Application Insights Enabled: false\n",
      "Application Insights Key: AppInsights key provided\n",
      "Inferencing HTTP server version: azmlinfsrv/0.7.4\n",
      "CORS for the specified origins: None\n",
      "\n",
      "\n",
      "Server Routes\n",
      "---------------\n",
      "Liveness Probe: GET   127.0.0.1:31311/\n",
      "Score:          POST  127.0.0.1:31311/score\n",
      "\n",
      "Starting gunicorn 20.1.0\n",
      "Listening at: http://0.0.0.0:31311 (10)\n",
      "Using worker: sync\n",
      "Booting worker with pid: 66\n",
      "Initializing logger\n",
      "2022-09-07 00:23:05,552 | root | INFO | Starting up app insights client\n",
      "logging socket was found. logging is available.\n",
      "logging socket was found. logging is available.\n",
      "2022-09-07 00:23:05,552 | root | INFO | Starting up app insight hooks\n",
      "2022-09-07 00:23:05,842 | root | INFO | Found driver script at /var/azureml-app/main.py and the score script at /structure/azureml-app/scoring_file_dev.py\n",
      "2022-09-07 00:23:05,842 | root | INFO | run() is decorated with @input_schema. Server will invoke it with the following arguments: data.\n",
      "2022-09-07 00:23:05,842 | root | INFO | Invoking user's init function\n",
      "2022-09-07 00:23:08,239 | azureml.core | WARNING | Failure while loading azureml_run_type_providers. Failed to load entrypoint automl = azureml.train.automl.run:AutoMLRun._from_run_dto with exception (azure-identity 1.10.0 (/azureml-envs/azureml_9975936e1ed0dc1285f5f882f1e4485b/lib/python3.7/site-packages), Requirement.parse('azure-identity==1.7.0'), {'azureml-dataprep'}).\n",
      "Failure while loading azureml_run_type_providers. Failed to load entrypoint automl = azureml.train.automl.run:AutoMLRun._from_run_dto with exception (azure-identity 1.10.0 (/azureml-envs/azureml_9975936e1ed0dc1285f5f882f1e4485b/lib/python3.7/site-packages), Requirement.parse('azure-identity==1.7.0'), {'azureml-dataprep'}).\n",
      "00000000-0000-0000-0000-000000000000,RuntimeError\n",
      "00000000-0000-0000-0000-000000000000,:\n",
      "00000000-0000-0000-0000-000000000000,module compiled against API version 0xe but this version of numpy is 0xd\n",
      "00000000-0000-0000-0000-000000000000,ImportError\n",
      "00000000-0000-0000-0000-000000000000,:\n",
      "00000000-0000-0000-0000-000000000000,numpy.core.multiarray failed to import\n",
      "00000000-0000-0000-0000-000000000000,\n",
      "The above exception was the direct cause of the following exception:\n",
      "00000000-0000-0000-0000-000000000000,SystemError\n",
      "00000000-0000-0000-0000-000000000000,:\n",
      "00000000-0000-0000-0000-000000000000,<built-in function __import__> returned a result with an error set\n",
      "2022-09-07 00:23:08,919 | root | INFO | Users's init has completed successfully\n",
      "2022-09-07 00:23:08,919 | root | INFO | Swaggers are prepared for the following versions: [2, 3].\n",
      "2022-09-07 00:23:08,919 | root | INFO | Scoring timeout is found from os.environ: 300000 ms\n",
      "2022-09-07 00:23:08,920 | root | INFO | AML_FLASK_ONE_COMPATIBILITY is set. Patched Flask to ensure compatibility with Flask 1.\n",
      "2022-09-07 00:23:13,014 | root | INFO | 200\n",
      "127.0.0.1 - - [07/Sep/2022:00:23:13 +0000] \"GET /swagger.json HTTP/1.0\" 200 3261 \"-\" \"hackney/1.18.1\"\n",
      "2022-09-07 00:23:18,840 | root | INFO | 200\n",
      "127.0.0.1 - - [07/Sep/2022:00:23:18 +0000] \"GET /swagger.json HTTP/1.0\" 200 3261 \"-\" \"hackney/1.18.1\"\n",
      "\n",
      "Deployed AKS Webservice: esml-dev-p02-m11-aksapi \n",
      "Webservice Uri: https://esmlcmn7skp17.westeurope.cloudapp.azure.com:443/api/v1/service/esml-dev-p02-m11-aksapi/score \n",
      "Webservice API_Secret are stored in keyvault with name: esml-dev-p02-m11-apisecret \n",
      "Webservice API_URI are stored in keyvault with name: esml-dev-p02-m11-api \n",
      "Webservice Swagger Uri: https://esmlcmn7skp17.westeurope.cloudapp.azure.com:443/api/v1/service/esml-dev-p02-m11-aksapi/swagger.json\n"
     ]
    }
   ],
   "source": [
    "target_env = \"dev\"\n",
    "inference_config = p.get_active_inference_config(best_run,target_env)\n",
    "\n",
    "best_model,run_id_tag, model_name_tag = IESMLController.get_best_model_via_modeltags_only_DevTestProd(ws,controller.experiment_name)\n",
    "service,api_uri, kv_aks_api_secret= p.deploy_automl_model_to_aks(best_model,inference_config,overwrite_endpoint=True) # Deploy: AKS dockerized with correct config (Dev,Test or Prod subscription & networking)"
   ]
  },
  {
   "cell_type": "markdown",
   "metadata": {},
   "source": [
    "## 3b) DEPLOY - Online scornig: Smoke testing with ESML `2 lines of code`"
   ]
  },
  {
   "cell_type": "code",
   "execution_count": 21,
   "metadata": {},
   "outputs": [
    {
     "name": "stdout",
     "output_type": "stream",
     "text": [
      "Using GEN2 as Datastore\n",
      "Searching for setting in ESML datalake...\n",
      "ESML in-folder settings override = TRUE \n",
      " - Found settings in the ESML AutoLake  [active_in_folder.json,active_scoring_in_folder.json], to override ArgParse/GIT config with.\n",
      " - TRAIN in date:  1000/01/01\n",
      " - INFERENCE in date: 2021/06/08 and ModelVersion to score with: 1 (0=latest)\n",
      "M11_GOLD_VALIDATE : (88, 11)\n",
      "X_test  (88, 10)\n",
      "y_test  (88,)\n",
      "{}\n"
     ]
    }
   ],
   "source": [
    "p.connect_to_lake()\n",
    "X_test, y_test, tags = p.get_gold_validate_Xy(p.active_model['label'])\n",
    "print(tags)\n",
    "caller_id = \"10965d9c-40ca-4e47-9723-5a608a32a0e4\""
   ]
  },
  {
   "cell_type": "code",
   "execution_count": 22,
   "metadata": {},
   "outputs": [
    {
     "name": "stdout",
     "output_type": "stream",
     "text": [
      "Note: OVERRIDING enterprise performance settings with project specifics. (to change, set flag in 'dev_test_prod_settings.json' -> override_enterprise_settings_with_model_specific=False)\n",
      "Note: Fetching keys automatically via workspace keyvault.\n",
      "Saving scoring to lake for project folder project002 and inference_model_version: 5 ...\n",
      "\n",
      "Saved DATA to score successfully in LAKE, as file 'to_score_10965d9c-40ca-4e47-9723-5a608a32a0e4.parquet'\n",
      "Saved SCORED data in LAKE, as file 'scored_10965d9c-40ca-4e47-9723-5a608a32a0e4.parquet'\n"
     ]
    },
    {
     "data": {
      "text/html": [
       "<div>\n",
       "<style scoped>\n",
       "    .dataframe tbody tr th:only-of-type {\n",
       "        vertical-align: middle;\n",
       "    }\n",
       "\n",
       "    .dataframe tbody tr th {\n",
       "        vertical-align: top;\n",
       "    }\n",
       "\n",
       "    .dataframe thead th {\n",
       "        text-align: right;\n",
       "    }\n",
       "</style>\n",
       "<table border=\"1\" class=\"dataframe\">\n",
       "  <thead>\n",
       "    <tr style=\"text-align: right;\">\n",
       "      <th></th>\n",
       "      <th>AGE</th>\n",
       "      <th>SEX</th>\n",
       "      <th>BMI</th>\n",
       "      <th>BP</th>\n",
       "      <th>S1</th>\n",
       "      <th>S2</th>\n",
       "      <th>S3</th>\n",
       "      <th>S4</th>\n",
       "      <th>S5</th>\n",
       "      <th>S6</th>\n",
       "      <th>result</th>\n",
       "    </tr>\n",
       "  </thead>\n",
       "  <tbody>\n",
       "    <tr>\n",
       "      <th>0</th>\n",
       "      <td>0.07</td>\n",
       "      <td>-0.04</td>\n",
       "      <td>0.04</td>\n",
       "      <td>-0.05</td>\n",
       "      <td>-0.02</td>\n",
       "      <td>-0.03</td>\n",
       "      <td>0.05</td>\n",
       "      <td>-0.04</td>\n",
       "      <td>-0.03</td>\n",
       "      <td>-0.04</td>\n",
       "      <td>120.30</td>\n",
       "    </tr>\n",
       "    <tr>\n",
       "      <th>1</th>\n",
       "      <td>0.02</td>\n",
       "      <td>-0.04</td>\n",
       "      <td>-0.02</td>\n",
       "      <td>0.04</td>\n",
       "      <td>-0.01</td>\n",
       "      <td>-0.00</td>\n",
       "      <td>-0.01</td>\n",
       "      <td>-0.00</td>\n",
       "      <td>0.02</td>\n",
       "      <td>0.02</td>\n",
       "      <td>144.77</td>\n",
       "    </tr>\n",
       "    <tr>\n",
       "      <th>2</th>\n",
       "      <td>0.05</td>\n",
       "      <td>-0.04</td>\n",
       "      <td>-0.02</td>\n",
       "      <td>0.02</td>\n",
       "      <td>0.03</td>\n",
       "      <td>-0.01</td>\n",
       "      <td>0.10</td>\n",
       "      <td>-0.04</td>\n",
       "      <td>0.02</td>\n",
       "      <td>-0.01</td>\n",
       "      <td>122.72</td>\n",
       "    </tr>\n",
       "    <tr>\n",
       "      <th>3</th>\n",
       "      <td>-0.09</td>\n",
       "      <td>-0.04</td>\n",
       "      <td>-0.08</td>\n",
       "      <td>-0.06</td>\n",
       "      <td>-0.06</td>\n",
       "      <td>-0.07</td>\n",
       "      <td>0.05</td>\n",
       "      <td>-0.08</td>\n",
       "      <td>-0.07</td>\n",
       "      <td>-0.02</td>\n",
       "      <td>42.95</td>\n",
       "    </tr>\n",
       "    <tr>\n",
       "      <th>4</th>\n",
       "      <td>0.05</td>\n",
       "      <td>0.05</td>\n",
       "      <td>0.00</td>\n",
       "      <td>0.07</td>\n",
       "      <td>-0.01</td>\n",
       "      <td>0.01</td>\n",
       "      <td>-0.05</td>\n",
       "      <td>0.03</td>\n",
       "      <td>0.01</td>\n",
       "      <td>0.04</td>\n",
       "      <td>202.64</td>\n",
       "    </tr>\n",
       "  </tbody>\n",
       "</table>\n",
       "</div>"
      ],
      "text/plain": [
       "    AGE   SEX   BMI    BP    S1    S2    S3    S4    S5    S6  result\n",
       "0  0.07 -0.04  0.04 -0.05 -0.02 -0.03  0.05 -0.04 -0.03 -0.04  120.30\n",
       "1  0.02 -0.04 -0.02  0.04 -0.01 -0.00 -0.01 -0.00  0.02  0.02  144.77\n",
       "2  0.05 -0.04 -0.02  0.02  0.03 -0.01  0.10 -0.04  0.02 -0.01  122.72\n",
       "3 -0.09 -0.04 -0.08 -0.06 -0.06 -0.07  0.05 -0.08 -0.07 -0.02   42.95\n",
       "4  0.05  0.05  0.00  0.07 -0.01  0.01 -0.05  0.03  0.01  0.04  202.64"
      ]
     },
     "execution_count": 22,
     "metadata": {},
     "output_type": "execute_result"
    }
   ],
   "source": [
    "df = p.call_webservice(p.ws, X_test,caller_id) \n",
    "df.head()"
   ]
  },
  {
   "cell_type": "markdown",
   "metadata": {},
   "source": [
    "# END"
   ]
  }
 ],
 "metadata": {
  "kernelspec": {
   "display_name": "Python 3.6.13 ('azure_automl_esml')",
   "language": "python",
   "name": "python3"
  },
  "language_info": {
   "codemirror_mode": {
    "name": "ipython",
    "version": 3
   },
   "file_extension": ".py",
   "mimetype": "text/x-python",
   "name": "python",
   "nbconvert_exporter": "python",
   "pygments_lexer": "ipython3",
   "version": "3.6.13"
  },
  "vscode": {
   "interpreter": {
    "hash": "2f0f778a4495e689b30073b7a599e6a826d304e8985d11475b75364c935a444d"
   }
  }
 },
 "nbformat": 4,
 "nbformat_minor": 2
}
