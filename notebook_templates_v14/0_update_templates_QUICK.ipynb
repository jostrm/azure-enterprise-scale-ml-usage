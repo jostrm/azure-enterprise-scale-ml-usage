{
 "cells": [
  {
   "cell_type": "markdown",
   "metadata": {},
   "source": [
    "# About this notebook: Copies TEMPLATES: Notebook templates, Pipeline templates, lake_settings & model_settings"
   ]
  },
  {
   "cell_type": "code",
   "execution_count": 1,
   "metadata": {},
   "outputs": [],
   "source": [
    "import os\n",
    "import shutil\n",
    "import uuid\n",
    "def copy_and_overwrite_folder(source,target):\n",
    "    os.makedirs(os.path.dirname(target), exist_ok=True)\n",
    "    if os.path.exists(target):\n",
    "        shutil.rmtree(target)\n",
    "    shutil.copytree(source, target)\n",
    "\n",
    "def copy_and_overwrite_file(source,target):\n",
    "    if(os.path.exists(target) == False):\n",
    "        os.makedirs(os.path.dirname(target), exist_ok=True)\n",
    "    if os.path.exists(target):\n",
    "        os.remove(target)\n",
    "    shutil.copy(source, target)"
   ]
  },
  {
   "cell_type": "markdown",
   "metadata": {},
   "source": [
    "# 2 A,B,C,D MORE FREQUENTLY - Update notebook templates, pipeline templates, mlops template, bicep template\n",
    "- 2A: Notebook templates\n",
    "- 2B: Pipeline templates\n",
    "- 2C: Lake_settings.json  + model_settings.json (will also create backups)"
   ]
  },
  {
   "cell_type": "markdown",
   "metadata": {},
   "source": [
    "## 2 A+B+C: Notebooks & Pipeline templates"
   ]
  },
  {
   "cell_type": "code",
   "execution_count": null,
   "metadata": {},
   "outputs": [],
   "source": [
    "uid = uuid.uuid4().hex\n",
    "bak_name = \"bak_\"+uid[0:5]\n",
    "\n",
    "# QUICKSTART NOTEBOOKS\n",
    "\n",
    "source_notebooks_quickstart = \"../azure-enterprise-scale-ml/copy_my_subfolders_to_my_grandparent/notebook_templates/1_quickstart/\"\n",
    "target_notebooks_quickstart = \"../notebook_templates_quickstart\"\n",
    "copy_and_overwrite_folder(source_notebooks_quickstart,target_notebooks_quickstart)\n",
    "\n",
    "# PIPELINE TEMPLATES\n",
    "source_templates = \"../azure-enterprise-scale-ml/copy_my_subfolders_to_my_grandparent/settings/enterprise_specific/dev_test_prod_defaults/batch/pipeline_template\"\n",
    "target_templates = \"../settings/enterprise_specific/dev_test_prod_defaults/batch/pipeline_template\"\n",
    "copy_and_overwrite_folder(source_templates,target_templates)\n",
    "\n",
    "# BACKUP - LAKE_SETTINGS\n",
    "bak_source_templates = \"../settings/project_specific/model/lake_settings.json\"\n",
    "if os.path.exists(bak_source_templates):\n",
    "    bak_target_templates = \"../settings/project_specific/model/lake_settings.\"+bak_name+\".json\"\n",
    "    copy_and_overwrite_file(bak_source_templates,bak_target_templates)\n",
    "\n",
    "# OVERWRITE - LAKE_SETTINGS\n",
    "bak_source_templates = \"../azure-enterprise-scale-ml/copy_my_subfolders_to_my_grandparent/settings/project_specific/model/lake_settings.json\"\n",
    "bak_target_templates = \"../settings/project_specific/model/lake_settings.json\"\n",
    "copy_and_overwrite_file(bak_source_templates,bak_target_templates)\n",
    "\n",
    "# BACKUP - MODEL_SETTINGS\n",
    "bak_source_templates = \"../settings/project_specific/model/model_settings.json\"\n",
    "if os.path.exists(bak_source_templates):\n",
    "    bak_target_templates = \"../settings/project_specific/model/model_settings.\"+bak_name+\".json\"\n",
    "    copy_and_overwrite_file(bak_source_templates,bak_target_templates)\n",
    "\n",
    "# OVERWRITE - MODEL_SETTINGS\n",
    "bak_source_templates = \"../azure-enterprise-scale-ml/copy_my_subfolders_to_my_grandparent/settings/project_specific/model/model_settings.json\"\n",
    "bak_target_templates = \"../settings/project_specific/model/model_settings.json\"\n",
    "copy_and_overwrite_file(bak_source_templates,bak_target_templates)"
   ]
  }
 ],
 "metadata": {
  "kernelspec": {
   "display_name": "Python 3.8.13 ('azure_automl_esml_v144')",
   "language": "python",
   "name": "python3"
  },
  "language_info": {
   "codemirror_mode": {
    "name": "ipython",
    "version": 3
   },
   "file_extension": ".py",
   "mimetype": "text/x-python",
   "name": "python",
   "nbconvert_exporter": "python",
   "pygments_lexer": "ipython3",
   "version": "3.8.13"
  },
  "orig_nbformat": 4,
  "vscode": {
   "interpreter": {
    "hash": "a4a3f6f829c0fbf992fdd78de6ec4e694e293d154a9b96895f90a426de0ee97e"
   }
  }
 },
 "nbformat": 4,
 "nbformat_minor": 2
}
