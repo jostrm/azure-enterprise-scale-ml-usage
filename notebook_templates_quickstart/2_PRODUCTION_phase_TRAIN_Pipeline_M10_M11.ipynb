{
 "cells": [
  {
   "cell_type": "markdown",
   "metadata": {},
   "source": [
    "# PRODUCTION phase: About this notebook\n",
    "- Purpose: Creates 1 of the 2 PIPELINES\n",
    "    - `2a) training pipeline:` TRAINS a model with Azure AutoML and with AZURE compute cluster and calculates test_set scoring, automatically compares if newly trained model is better.\n",
    "    \n",
    "## DETAILS - about this notebook and the 2a pipeline, generated\n",
    "- 1) Initiate ESMLPipelineFactory:\n",
    "- 2) `AUTO-GENERATE code: a snapshot folder` via ESML, that generates Python scripts and the `ESML runtime`\n",
    "    - 2_A_aml_pipeline\\4_inference\\batch\\\\`M11`\n",
    "        - Edit the feature engineerin files if needed\n",
    "            - 2_A_aml_pipeline\\4_inference\\batch\\\\`M11\\your_code\\your_custom_code.py`\n",
    "            - `your_custom_code.py` is referenced from all the `in_2_silver_...` files such as: 2_A_aml_pipeline\\4_inference\\batch\\M11\\\\`in2silver_ds01_diabetes.py` and `silver_merged_2_gold`\n",
    "        - Edit the AutoML train file, you need to add some configuration. See instructions in notebook cells below.\n",
    "            -2_A_aml_pipeline\\4_inference\\batch\\\\`M11\\train_post_automl_step.py`\n",
    "- 3) `BUILDS the pipeline` of certain (IN_2_GOLD_TRAIN_AUTOML)\n",
    "    - `Azure machine learning pipeline` with steps will be automatically genereated, based on your `lake_settings.json` dataset array.\n",
    "    - 3a) BUILDS a `training pipeline` of ESML type `IN_2_GOLD_TRAIN_AUTOML`\n",
    "- 4) `EXECUTES the pipeline` (smoke testing purpose - see that it works...)\n",
    "    - 4a) Training pipeline: (`IN_2_GOLD_TRAIN_AUTOML`) steps:\n",
    "        - Feature engineering of each in-data - via `IN_2_SILVER` steps.\n",
    "        - Merges all SILVERS to `GOLD`\n",
    "        - Splits the `GOLD` to 3 buckets: `GOLD_TRAIN, GOLD_VALIDATE, GOLD_TEST`\n",
    "        - Trains model\n",
    "        - Registers the newly trained model, tags it as `newly_trained`\n",
    "        - Calculates test_set scoring with the `ESMLTestescoringFactory`\n",
    "        - `INNER LOOP MLOps:` Compares in current environment `DEV` if model should be promoted, based on `test_set_scoring`\n",
    "        - `OUTER LOOP MLOps:` Compares in next environment `TEST` if model should be promoted, based on `test_set_scoring` \n",
    "            - E.g. compares best model in `DEV` with the leading model in `TEST`\n",
    "- 5) PUBLISH the pipeline\n",
    "    - Purpose: Now when the pipeline is `smoke tested`, we can publish is, to get a `pipeline_id to use in Azure Data factory`\n",
    "    - We want to PRINT the `pipeline ID` after publish also, for easy access to use in `Azure data factory` for retraining on new data continously (DataOps & MLOps)\n",
    "- DONE.\n",
    "    \n",
    "\n",
    "Note:This notebook is called: `M11_v143_esml_regression_batch_train_automl.ipynb` in the notebook_templates folder\n",
    " "
   ]
  },
  {
   "cell_type": "markdown",
   "metadata": {},
   "source": [
    "## 1) Initiate ESMLPipelineFactory (Always run thic CELL below)\n",
    "- To attach ESML controlplane to your project\n",
    "- To point at `template-data` for the pipelinbe to know the schema of data\n",
    "- To init the ESMLPipelinefactory"
   ]
  },
  {
   "cell_type": "code",
   "execution_count": null,
   "metadata": {},
   "outputs": [],
   "source": [
    "import sys\n",
    "sys.path.insert(0, \"../azure-enterprise-scale-ml/esml/common/\")\n",
    "from esml import ESMLProject\n",
    "from baselayer_azure_ml_pipeline import ESMLPipelineFactory, esml_pipeline_types\n",
    "\n",
    "p = ESMLProject()\n",
    "p.inference_mode = False\n",
    "p.active_model = 11 # 10=titanic , 11=Diabetes\n",
    "p_factory = ESMLPipelineFactory(p)\n",
    "\n",
    "training_datefolder = '1000-01-01 10:35:01.243860'\n",
    "p_factory.batch_pipeline_parameters[0].default_value = 0\n",
    "p_factory.batch_pipeline_parameters[1].default_value = training_datefolder # overrides ESMLProject.date_scoring_folder.\n",
    "p_factory.describe()\n"
   ]
  },
  {
   "cell_type": "markdown",
   "metadata": {},
   "source": [
    "# The below cells for an IN_2_GOLD_TRAIN_AUTOML pipeline will:\n",
    "- 1) Generate code files\n",
    "- 2) Build pipeline, ESML autoguild this, and will upload the snapshot folder together with the Azure ML pipeline.\n",
    "- 3) Run the pipeline. Smoke testing, see that it works\n",
    "- 4) IF it works, Publish the pipeline, or else, edit the code files or configuration, retry step 2 and 3.\n",
    "- 5) Print the pipeline_id, that is essential to use from Azure Data factory "
   ]
  },
  {
   "cell_type": "markdown",
   "metadata": {},
   "source": [
    "# 2) `AUTO-GENERATE code: a snapshot folder`"
   ]
  },
  {
   "cell_type": "code",
   "execution_count": null,
   "metadata": {},
   "outputs": [],
   "source": [
    "## Generate CODE - then edit it to get correct environments\n",
    "p_factory.create_dataset_scripts_from_template(overwrite_if_exists=True) # Do this once, then edit them manually. overwrite_if_exists=False is DEFAULT"
   ]
  },
  {
   "cell_type": "markdown",
   "metadata": {},
   "source": [
    "# TRAINING (3a,4a,5a)"
   ]
  },
  {
   "cell_type": "markdown",
   "metadata": {},
   "source": [
    "# 3a) `BUILDS the TRANING pipeline`\n",
    "- esml_pipeline_types.IN_2_GOLD_TRAIN_AUTOML\n",
    "- Take note on the `esml_pipeline_types` below, of type: esml_pipeline_types.`IN_2_GOLD_TRAIN_AUTOML`"
   ]
  },
  {
   "cell_type": "code",
   "execution_count": null,
   "metadata": {},
   "outputs": [],
   "source": [
    "## BUILD (takes ~10-12minutes)\n",
    "batch_pipeline = p_factory.create_batch_pipeline(esml_pipeline_types.IN_2_GOLD_TRAIN_AUTOML)\n",
    "# ...which Trains a model on data via date_folder parameters, upload the generated python scripts., and your custom code and ESML runtime, to Azure embedded in the pipeline, using Dockerized image. "
   ]
  },
  {
   "cell_type": "markdown",
   "metadata": {},
   "source": [
    "## 4a) `EXECUTES the pipeline`"
   ]
  },
  {
   "cell_type": "code",
   "execution_count": null,
   "metadata": {},
   "outputs": [],
   "source": [
    "## RUN and it will train in BIG Data, since using 100% Azure compute for all steps, including SPLITTING data\n",
    "pipeline_run = p_factory.execute_pipeline(batch_pipeline)\n",
    "pipeline_run.wait_for_completion(show_output=False)"
   ]
  },
  {
   "cell_type": "markdown",
   "metadata": {},
   "source": [
    "# 5a) PUBLISH the TRAINING pipeline & PRINT its ID"
   ]
  },
  {
   "cell_type": "code",
   "execution_count": null,
   "metadata": {},
   "outputs": [],
   "source": [
    "# PUBLISH\n",
    "published_pipeline, endpoint = p_factory.publish_pipeline(batch_pipeline,\"_1\") # \"_1\" is optional    to create a NEW pipeline with 0 history, not ADD version to existing pipe & endpoint"
   ]
  },
  {
   "cell_type": "markdown",
   "metadata": {},
   "source": [
    "# PRINT: Get info to use in Azure data factory\n",
    "- `published_pipeline.id` (if private Azure ML workspace)"
   ]
  },
  {
   "cell_type": "code",
   "execution_count": null,
   "metadata": {},
   "outputs": [],
   "source": [
    "print(\"2) Fetch scored data: Below needed for Azure Data factory PIPELINE activity (Pipeline OR Endpoint. Choose the latter\") \n",
    "print (\"- Endpoint ID\")\n",
    "print(\"Endpoint ID:  {}\".format(endpoint.id))\n",
    "print(\"Endpoint Name:  {}\".format(endpoint.name))\n",
    "print(\"Experiment name:  {}\".format(p_factory.experiment_name))\n",
    "\n",
    "print(\"In AZURE DATA FACTORY - This is the ID you need, if using PRIVATE LINK, private Azure ML workspace.\")\n",
    "print(\"-You need PIPELINE id, not pipeline ENDPOINT ID ( since cannot be chosen in Azure data factory if private Azure ML)\")\n",
    "published_pipeline.id"
   ]
  },
  {
   "cell_type": "markdown",
   "metadata": {},
   "source": [
    "# DONE! Next Step - Deploy model, serve your model for INFERENCING purpose:\n",
    "- For INFERENCE you may need either to DEPLOY the model \n",
    "    - a) ONLINE on AKS endpoint\n",
    "        - Notebook: \n",
    "    - b) BATCH SCORING on an Azure machine learning pipeline\n",
    "        - Notebook: [your_root]\\notebook_templates_quickstart\\\\`3a_PRODUCTION_phase_BATCH_INFERENCE_Pipeline.ipynb`\n",
    "    - c) STREAMING using Eventhubs and Azure Databricks structured streaming\n",
    "        - Notebook: TBA"
   ]
  },
  {
   "cell_type": "markdown",
   "metadata": {},
   "source": [
    "- Q: `Next step in PRODUCTION phaase after the 2a and 3a or 3b notebooks are done?`\n",
    " \n",
    "- 1) `DataOps+MLOps:` Go to your ESMLProjects `Azure data factory`, and use the `ESML DataOps templates` (Azure data factory templates) for `IN_2_GOLD_TRAIN` and `IN_2_GOLD_SCORING`\n",
    "    - azure-enterprise-scale-ml\\copy_my_subfolders_to_my_grandparent\\adf\\v1_3\\PROJECT000\\LakeOnly\\\\`STEP03_IN_2_GOLD_TRAIN_v1_3.zip`\n",
    "- 2) `MLOps CI/CD` Go to the next notebook `mlops` folder, to setup `CI/CD` in Azure Devops\n",
    "    - Import this in Azure devops\n",
    "        azure-enterprise-scale-ml\\copy_my_subfolders_to_my_grandparent\\mlops\\01_template_v14\\azure-devops-build-pipeline-to-import\\\\`ESML-v14-project002_M11-DevTest.json`\n",
    "    - Change the Azure Devops `VARIABLES` for service principle, tenant, etc.\n",
    "    - Change parameters in the `inlince Azure CLI script` to correct model you want to work with, and the correct data you want to train with, or score.\n",
    "        - Step `21-train_in_2_gold_train_pipeline`\n",
    "        - INLINE code calls the file: `21-train_in_2_gold_train_pipeline.py`\n",
    "        - INLINE parameters: `--esml_model_number 11 --esml_date_utc \"1000-01-01 10:35:01.243860\"`"
   ]
  },
  {
   "cell_type": "markdown",
   "metadata": {},
   "source": []
  }
 ],
 "metadata": {
  "kernelspec": {
   "display_name": "Python 3.8.13 ('azure_automl_esml_v144')",
   "language": "python",
   "name": "python3"
  },
  "language_info": {
   "codemirror_mode": {
    "name": "ipython",
    "version": 3
   },
   "file_extension": ".py",
   "mimetype": "text/x-python",
   "name": "python",
   "nbconvert_exporter": "python",
   "pygments_lexer": "ipython3",
   "version": "3.8.13"
  },
  "vscode": {
   "interpreter": {
    "hash": "a4a3f6f829c0fbf992fdd78de6ec4e694e293d154a9b96895f90a426de0ee97e"
   }
  }
 },
 "nbformat": 4,
 "nbformat_minor": 2
}
