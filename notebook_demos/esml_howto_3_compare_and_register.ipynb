{
 "metadata": {
  "language_info": {
   "codemirror_mode": {
    "name": "ipython",
    "version": 3
   },
   "file_extension": ".py",
   "mimetype": "text/x-python",
   "name": "python",
   "nbconvert_exporter": "python",
   "pygments_lexer": "ipython3",
   "version": "3.6.12"
  },
  "orig_nbformat": 2,
  "kernelspec": {
   "name": "python3612jvsc74a57bd03fec2c5a411dce07235ef28c8752b6cecf1f94423de7e7c24e62fc38b1bc47de",
   "display_name": "Python 3.6.12 64-bit ('azure_automl': conda)"
  }
 },
 "nbformat": 4,
 "nbformat_minor": 2,
 "cells": [
  {
   "source": [
    "# ESML - `AutoMLFactory` and `ComputeFactory`\n",
    "\n",
    "## PROJECT + DATA CONCEPTS + ENTERPRISE Datalake Design + DEV->PROD MLOps\n",
    "- `1)ESML Project`: The ONLY thing you need to remember is your `Project number` (and `BRONZE, SILVER, GOLD` concept )\n",
    "   -  ...`read earlier notebook\n",
    "## ENTERPRISE Deployment of Models & Governance - MLOps  at scale\n",
    "- `3) DEV->TEST-PROD` (configs, compute, performance)\n",
    "    - ESML has config for 3 environemnts: Easy DEPLOY model across subscriptions and Azure ML Studio workspaces \n",
    "        - Save costs & time: \n",
    "            - `DEV` has cheaper compute performance for TRAIN and INFERENCE (batch, AKS)\n",
    "            - `DEV` has Quick-debug ML training (fast training...VS good scoring in TEST and PROD)\n",
    "        - How? ESML `AutoMLFactory` and `ComputeFactory`\n",
    "        - Where to config these?\n",
    "            - settings/dev_test_prod/`dev_test_prod_settings.json`\n",
    "            - settings/dev_test_prod/`train/*/automl/*`"
   ],
   "cell_type": "markdown",
   "metadata": {}
  },
  {
   "cell_type": "code",
   "execution_count": 1,
   "metadata": {},
   "outputs": [
    {
     "output_type": "execute_result",
     "data": {
      "text/plain": [
       "'c:\\\\Users\\\\jostrm\\\\OneDrive - Microsoft\\\\0_GIT\\\\2_My\\\\github2\\\\azure-enterprise-scale-ml-usage\\\\notebook_demos'"
      ]
     },
     "metadata": {},
     "execution_count": 1
    }
   ],
   "source": [
    "import json\n",
    "sys.path.append(os.path.abspath(\"../azure-enterprise-scale-ml/esml/common/\"))  # NOQA: E402\n",
    "from esml import ESMLDataset, ESMLProject\n",
    "\n",
    "# Note: These and the other configs for TRAIN and AutoML are self-booting from ESMLProject\n",
    "try:\n",
    "    with open(\"../settings/active_dev_test_prod.json\") as f2: # Enterprise: MSFT-WEU-EAP_PROJECT{}_AI-{}-RG\n",
    "        active_env =  json.load(f2)\n",
    "    with open(\"../settings/enterprise_specific/dev_test_prod_settings.json\") as f:\n",
    "        environment_settings = json.load(f)\n",
    "        environment_settings[\"active_dev_test_prod\"] = active_env[\"active_dev_test_prod\"]\n",
    "    with open(\"../settings/project_specific/model/lake_settings.json\") as f:\n",
    "        esml_settings = json.load(f)\n",
    "    with open(\"../settings/project_specific/security_config.json\") as f2: # Project service principles, etc\n",
    "        security_config = json.load(f2)\n",
    "except Exception as e:\n",
    "    raise Exception(\"Could not open config.json or storage_config.json - could not load experimentname, or access storage\") from e\n",
    "\n",
    "os.getcwd()"
   ]
  },
  {
   "cell_type": "code",
   "execution_count": 2,
   "metadata": {},
   "outputs": [],
   "source": [
    "p = ESMLProject(esml_settings,environment_settings,security_config) # read from config\n",
    "#p = ESMLProject() #  self-booting config"
   ]
  },
  {
   "source": [
    "# Azure ML Studio Workspace\n",
    "- ESML will `Automap` and `Autoregister` Azure ML Datasets as: `IN, SILVER, BRONZE, GOLD`"
   ],
   "cell_type": "markdown",
   "metadata": {}
  },
  {
   "cell_type": "code",
   "execution_count": 3,
   "metadata": {},
   "outputs": [
    {
     "output_type": "stream",
     "name": "stdout",
     "text": [
      "...\n",
      "....\n",
      "Using GEN2 as Datastore\n",
      "ds01_diabetes\n",
      "ds02_other\n",
      "\n",
      "####### Automap & Autoregister - SUCCESS!\n",
      "1) Auto mapped 2 ESML Dataset with registered Azure ML Datasets (potentially all 3: IN,BRONZE, SILVER) in Datastore project002lake \n",
      "\n",
      "Dataset 'ds01_diabetes' status:\n",
      " - IN_Folder_has_files\n",
      " - BRONZE_Folder_has_files\n",
      " - SILVER_Folder_has_files\n",
      "Dataset 'ds02_other' status:\n",
      " - IN_Folder_has_files\n",
      " - BRONZE_Folder_has_files\n",
      " - SILVER_Folder_has_files\n",
      "\n",
      "2) Registered each Dataset with suffixes (_IN_CSV, _BRONZE, _SILVER) \n",
      " Tip: Use ESMLProject.Datasets list or .DatasetByName(myDatasetName) to read/write\n",
      "#######\n"
     ]
    }
   ],
   "source": [
    "from azureml.core import Workspace\n",
    "ws = p.get_workspace_from_config()\n",
    "datastore = p.init(ws)"
   ]
  },
  {
   "source": [
    "# ESML `GOLD` Dataset"
   ],
   "cell_type": "markdown",
   "metadata": {}
  },
  {
   "cell_type": "code",
   "execution_count": 4,
   "metadata": {},
   "outputs": [
    {
     "output_type": "stream",
     "name": "stdout",
     "text": [
      "M03_ds01_diabetes_IN_CSV\nM03_ds01_diabetes_BRONZE\nM03_ds01_diabetes_SILVER\n"
     ]
    }
   ],
   "source": [
    "ds_01 = p.DatasetByName(\"ds01_diabetes\")\n",
    "print(ds_01.InData.name)\n",
    "print(ds_01.Bronze.name)\n",
    "print(ds_01.Silver.name)\n",
    "#print(p.Gold.name)"
   ]
  },
  {
   "cell_type": "code",
   "execution_count": 5,
   "metadata": {},
   "outputs": [
    {
     "output_type": "stream",
     "name": "stdout",
     "text": [
      "Diabetes shape:  (442, 11)\n(442, 19)\n"
     ]
    }
   ],
   "source": [
    "df_01 = ds_01.Silver.to_pandas_dataframe() \n",
    "\n",
    "ds_02 = ds_01 = p.DatasetByName(\"ds02_other\")\n",
    "df_02 = ds_02.Silver.to_pandas_dataframe()\n",
    "df_gold1_join = df_01.join(df_02) # left join -> NULL on df_02\n",
    "print(\"Diabetes shape: \", df_01.shape)\n",
    "print(df_gold1_join.shape)"
   ]
  },
  {
   "cell_type": "code",
   "execution_count": 6,
   "metadata": {},
   "outputs": [],
   "source": [
    "ds_gold_v1 = p.save_gold(df_01)"
   ]
  },
  {
   "source": [
    "# Look at `GOLD` vLatest"
   ],
   "cell_type": "markdown",
   "metadata": {}
  },
  {
   "cell_type": "code",
   "execution_count": 7,
   "metadata": {},
   "outputs": [
    {
     "output_type": "execute_result",
     "data": {
      "text/plain": [
       "        AGE       SEX       BMI        BP        S1        S2        S3  \\\n",
       "0  0.038076  0.050680  0.061696  0.021872 -0.044223 -0.034821 -0.043401   \n",
       "1 -0.001882 -0.044642 -0.051474 -0.026328 -0.008449 -0.019163  0.074412   \n",
       "2  0.085299  0.050680  0.044451 -0.005671 -0.045599 -0.034194 -0.032356   \n",
       "3 -0.089063 -0.044642 -0.011595 -0.036656  0.012191  0.024991 -0.036038   \n",
       "4  0.005383 -0.044642 -0.036385  0.021872  0.003935  0.015596  0.008142   \n",
       "\n",
       "         S4        S5        S6      Y  \n",
       "0 -0.002592  0.019908 -0.017646  151.0  \n",
       "1 -0.039493 -0.068330 -0.092204   75.0  \n",
       "2 -0.002592  0.002864 -0.025930  141.0  \n",
       "3  0.034309  0.022692 -0.009362  206.0  \n",
       "4 -0.002592 -0.031991 -0.046641  135.0  "
      ],
      "text/html": "<div>\n<style scoped>\n    .dataframe tbody tr th:only-of-type {\n        vertical-align: middle;\n    }\n\n    .dataframe tbody tr th {\n        vertical-align: top;\n    }\n\n    .dataframe thead th {\n        text-align: right;\n    }\n</style>\n<table border=\"1\" class=\"dataframe\">\n  <thead>\n    <tr style=\"text-align: right;\">\n      <th></th>\n      <th>AGE</th>\n      <th>SEX</th>\n      <th>BMI</th>\n      <th>BP</th>\n      <th>S1</th>\n      <th>S2</th>\n      <th>S3</th>\n      <th>S4</th>\n      <th>S5</th>\n      <th>S6</th>\n      <th>Y</th>\n    </tr>\n  </thead>\n  <tbody>\n    <tr>\n      <th>0</th>\n      <td>0.038076</td>\n      <td>0.050680</td>\n      <td>0.061696</td>\n      <td>0.021872</td>\n      <td>-0.044223</td>\n      <td>-0.034821</td>\n      <td>-0.043401</td>\n      <td>-0.002592</td>\n      <td>0.019908</td>\n      <td>-0.017646</td>\n      <td>151.0</td>\n    </tr>\n    <tr>\n      <th>1</th>\n      <td>-0.001882</td>\n      <td>-0.044642</td>\n      <td>-0.051474</td>\n      <td>-0.026328</td>\n      <td>-0.008449</td>\n      <td>-0.019163</td>\n      <td>0.074412</td>\n      <td>-0.039493</td>\n      <td>-0.068330</td>\n      <td>-0.092204</td>\n      <td>75.0</td>\n    </tr>\n    <tr>\n      <th>2</th>\n      <td>0.085299</td>\n      <td>0.050680</td>\n      <td>0.044451</td>\n      <td>-0.005671</td>\n      <td>-0.045599</td>\n      <td>-0.034194</td>\n      <td>-0.032356</td>\n      <td>-0.002592</td>\n      <td>0.002864</td>\n      <td>-0.025930</td>\n      <td>141.0</td>\n    </tr>\n    <tr>\n      <th>3</th>\n      <td>-0.089063</td>\n      <td>-0.044642</td>\n      <td>-0.011595</td>\n      <td>-0.036656</td>\n      <td>0.012191</td>\n      <td>0.024991</td>\n      <td>-0.036038</td>\n      <td>0.034309</td>\n      <td>0.022692</td>\n      <td>-0.009362</td>\n      <td>206.0</td>\n    </tr>\n    <tr>\n      <th>4</th>\n      <td>0.005383</td>\n      <td>-0.044642</td>\n      <td>-0.036385</td>\n      <td>0.021872</td>\n      <td>0.003935</td>\n      <td>0.015596</td>\n      <td>0.008142</td>\n      <td>-0.002592</td>\n      <td>-0.031991</td>\n      <td>-0.046641</td>\n      <td>135.0</td>\n    </tr>\n  </tbody>\n</table>\n</div>"
     },
     "metadata": {},
     "execution_count": 7
    }
   ],
   "source": [
    "import pandas as pd \n",
    "df = p.Gold.to_pandas_dataframe()\n",
    "df.head()"
   ]
  },
  {
   "cell_type": "code",
   "execution_count": 8,
   "metadata": {},
   "outputs": [],
   "source": [
    "train, validate, test = p.split_gold_3(0.6) # Also registers the datasets in AZURE as M03_GOLD_TRAIN | M03_GOLD_VALIDATE | M03_GOLD_TEST"
   ]
  },
  {
   "source": [
    "## 3) ESML TRAIN model -> See other notebook `esml_howto_2_train.ipynb`\n",
    "- `AutoMLFactory, ComputeFactory`\n",
    "- Get `Train COMPUTE` for `X` environment\n",
    "- Get `Train Hyperparameters` for `X` environment (less crossvalidations in DEV etc)"
   ],
   "cell_type": "markdown",
   "metadata": {}
  },
  {
   "source": [
    "## 4a) ESML Scoring compare: Promote model or not? Register\n",
    "- `IF` newly trained model in `current` environment scores BETTER than existing model in `target` environment, then `new model` can be registered and promoted.\n",
    "-  `ValidationSet` comparison of offline/previous `AutoML run` for `DEV` environment\n",
    "- For `DEV`, `TEST` or `PROD` environment\n",
    "- Future roadmap: Also include `TestSet SCORING` comparison"
   ],
   "cell_type": "markdown",
   "metadata": {}
  },
  {
   "cell_type": "code",
   "execution_count": 9,
   "metadata": {},
   "outputs": [
    {
     "output_type": "stream",
     "name": "stdout",
     "text": [
      "Example: If new model scores better in DEV, we can promote this to TEST\n",
      "But: If new model we trained was DEV workspace, we can register it as a new version in DEV (same workspace),or in TEST subscription/workpace directly\n",
      "Compare model version in DEV with latest registered in TEST subscription/workspace\n",
      "MAPE (Mean average Percentage Error): 37.36539689710541\n",
      "MAE (normalized_mean_absolute_error): 0.1641754076941266\n",
      "R2 (r2_score): 0.46617256831419573\n",
      "Spearman (spearman_correlation): 0.6726695514799195\n",
      "target_best_run_id AutoML_15923484-6857-4dab-a9ae-dd755e0e1538\n",
      "MAPE (Mean average Percentage Error): 35.06257640918979\n",
      "MAE (normalized_mean_absolute_error): 0.15358817665517124\n",
      "R2 (r2_score): 0.4828444894860793\n",
      "Spearman (spearman_correlation): 0.7233493484272395\n",
      "Current Production model normalized mean mse: 0.15358817665517124, New trained model mse: 0.1641754076941266\n",
      "\n",
      "OBS! 'debug_always_promote_model' config-flag active - new model will probably always perform better, added +10 to all errors on ACTIVE model at comparison\n",
      "New trained model 0.1641754076941266 performs better in MAE compared to old 10.153588176655171\n",
      "New trained model performs better in R2, thus it will be registered\n",
      "New trained model performs better in MAPE and are >= in R2 and SPEARMAN correlation, thus it is promoted to be registered\n",
      "\n",
      "Promote model?  True\n",
      "New Model: AutoMLa4b60322a0 in environment dev\n",
      "Existing Model: AutoML15923484630 in environment test\n"
     ]
    }
   ],
   "source": [
    "from baselayer_azure_ml import AutoMLFactory\n",
    "p.dev_test_prod = \"dev\" # Current env, new unregistered model A to validate\n",
    "target_env = \"test\" # Target env. Existing registered model B - Does Model A score better than Model B?\n",
    "\n",
    "print(\"Example: If new model scores better in DEV, we can promote this to TEST\")\n",
    "print(\"But: If new model we trained was DEV workspace, we can register it as a new version in DEV (same workspace),or in TEST subscription/workpace directly\")\n",
    "\n",
    "promote, m1_name, r1_id, m2_name, r2_run_id = AutoMLFactory(p).compare_scoring_current_vs_new_model(target_env)\n",
    "\n",
    "print(\"Promote model?  {}\".format(promote))\n",
    "print(\"New Model: {} in environment {}\".format(m1_name, p.dev_test_prod))\n",
    "print(\"Existing Model: {} in environment {}\".format(m2_name,target_env))\n",
    "\n",
    "if (promote and p.dev_test_prod == target_env):# Can only register a model in same workspace (test->test) - need to retrain if going from dev->test\n",
    "    AutoMLFactory(p).register_active_model(target_env)\n"
   ]
  },
  {
   "source": [
    "# START 2) TEST env - `register a model` starting \"offline\", not an active training run?"
   ],
   "cell_type": "markdown",
   "metadata": {}
  },
  {
   "source": [
    "### Alt 1) No ESMLProject dependency"
   ],
   "cell_type": "markdown",
   "metadata": {}
  },
  {
   "cell_type": "code",
   "execution_count": 10,
   "metadata": {},
   "outputs": [
    {
     "output_type": "stream",
     "name": "stdout",
     "text": [
      "model.version 4\nModel name AutoMLa4b60322a0 is registered.\n"
     ]
    },
    {
     "output_type": "execute_result",
     "data": {
      "text/plain": [
       "Model(workspace=Workspace.create(name='msft-weu-DEV-eap-proj02_ai-amls', subscription_id='ca0a8c40-b06a-4e4e-8434-63c03a1dee34', resource_group='MSFT-WEU-EAP_PROJECT02_AI-DEV-RG'), name=AutoMLa4b60322a0, id=AutoMLa4b60322a0:4, version=4, tags={'run_id': 'AutoML_a4b60322-a808-4aa6-b5c8-4c5da22a4802', 'model_name': 'AutoMLa4b60322a0', 'trained_in_environment': 'dev', 'trained_in_workspace': 'msft-weu-DEV-eap-proj02_ai-amls'}, properties={})"
      ]
     },
     "metadata": {},
     "execution_count": 10
    }
   ],
   "source": [
    "from azureml.core import Workspace\n",
    "sys.path.append(os.path.abspath(\"../common/\"))  # NOQA: E402\n",
    "from baselayer_azure_ml import AutoMLFactory\n",
    "\n",
    "ws = p.get_workspace_from_config()\n",
    "AutoMLFactory().register_active_model_in_ws(ws,\"dev\")"
   ]
  },
  {
   "source": [
    "### Alt 2) ESMLProject dependency: `ENVIRONMENT Self aware` and `config aware`\n",
    " - More `Future proof`: Features such as \"able to register trained model in TARGET - from TEST to PROD without retraining\""
   ],
   "cell_type": "markdown",
   "metadata": {}
  },
  {
   "cell_type": "code",
   "execution_count": 11,
   "metadata": {},
   "outputs": [
    {
     "output_type": "stream",
     "name": "stdout",
     "text": [
      "...\n",
      "Using GEN2 as Datastore\n",
      "ds01_diabetes\n",
      "ds02_other\n",
      "\n",
      "####### Automap & Autoregister - SUCCESS!\n",
      "1) Auto mapped 2 ESML Dataset with registered Azure ML Datasets (potentially all 3: IN,BRONZE, SILVER) in Datastore project002lake \n",
      "\n",
      "Dataset 'ds01_diabetes' status:\n",
      " - IN_Folder_has_files\n",
      " - BRONZE_Folder_has_files\n",
      " - SILVER_Folder_has_files\n",
      "Dataset 'ds02_other' status:\n",
      " - IN_Folder_has_files\n",
      " - BRONZE_Folder_has_files\n",
      " - SILVER_Folder_has_files\n",
      "\n",
      "2) Registered each Dataset with suffixes (_IN_CSV, _BRONZE, _SILVER) \n",
      " Tip: Use ESMLProject.Datasets list or .DatasetByName(myDatasetName) to read/write\n",
      "#######\n",
      "model.version 5\n",
      "Model name AutoMLa4b60322a0 is registered.\n"
     ]
    },
    {
     "output_type": "execute_result",
     "data": {
      "text/plain": [
       "Model(workspace=Workspace.create(name='msft-weu-DEV-eap-proj02_ai-amls', subscription_id='ca0a8c40-b06a-4e4e-8434-63c03a1dee34', resource_group='MSFT-WEU-EAP_PROJECT02_AI-DEV-RG'), name=AutoMLa4b60322a0, id=AutoMLa4b60322a0:5, version=5, tags={'run_id': 'AutoML_a4b60322-a808-4aa6-b5c8-4c5da22a4802', 'model_name': 'AutoMLa4b60322a0', 'trained_in_environment': 'dev', 'trained_in_workspace': 'msft-weu-DEV-eap-proj02_ai-amls'}, properties={})"
      ]
     },
     "metadata": {},
     "execution_count": 11
    }
   ],
   "source": [
    "sys.path.append(os.path.abspath(\"../common/\"))  # NOQA: E402\n",
    "from esml import ESMLDataset, ESMLProject\n",
    "from baselayer_azure_ml import AutoMLFactory\n",
    "from azureml.core import Workspace\n",
    "\n",
    "ws = p.get_workspace_from_config()\n",
    "\n",
    "p = ESMLProject() # Makes it \"environment aware (dev,test,prod)\", and \"configuration aware\"\n",
    "p.init(ws) \n",
    "p.dev_test_prod = \"dev\"\n",
    "# ....train model....\n",
    "\n",
    "model = AutoMLFactory(p).register_active_model(p.dev_test_prod)"
   ]
  },
  {
   "source": [
    "### ..Model compared, promoted, register - ready for deployment"
   ],
   "cell_type": "markdown",
   "metadata": {}
  },
  {
   "source": [
    "## 4b) ESML Loadtesting performance\n",
    "- Using `GOLD_TEST` TestSet for AutoML to see which algorithm that is fastest, smallest size footprint\n",
    "- For `DEV`, `TEST` or `PROD` environment"
   ],
   "cell_type": "markdown",
   "metadata": {}
  },
  {
   "cell_type": "code",
   "execution_count": 12,
   "metadata": {},
   "outputs": [
    {
     "output_type": "execute_result",
     "data": {
      "text/plain": [
       "      AGE   SEX  BMI    BP    S1    S2    S3    S4    S5   S6      Y\n",
       "207  0.01 -0.04 0.05  0.03  0.01 -0.01  0.03 -0.04  0.05 0.04 202.00\n",
       "212  0.07 -0.04 0.00  0.04  0.05  0.03  0.07 -0.04 -0.00 0.02  73.00\n",
       "295 -0.05  0.05 0.04 -0.04 -0.01 -0.01  0.01 -0.04  0.02 0.00  85.00\n",
       "403 -0.02 -0.04 0.10 -0.01 -0.01 -0.02 -0.02 -0.00  0.06 0.04 275.00\n",
       "251 -0.05  0.05 0.10  0.09  0.06  0.05 -0.06  0.11  0.08 0.04 243.00"
      ],
      "text/html": "<div>\n<style scoped>\n    .dataframe tbody tr th:only-of-type {\n        vertical-align: middle;\n    }\n\n    .dataframe tbody tr th {\n        vertical-align: top;\n    }\n\n    .dataframe thead th {\n        text-align: right;\n    }\n</style>\n<table border=\"1\" class=\"dataframe\">\n  <thead>\n    <tr style=\"text-align: right;\">\n      <th></th>\n      <th>AGE</th>\n      <th>SEX</th>\n      <th>BMI</th>\n      <th>BP</th>\n      <th>S1</th>\n      <th>S2</th>\n      <th>S3</th>\n      <th>S4</th>\n      <th>S5</th>\n      <th>S6</th>\n      <th>Y</th>\n    </tr>\n  </thead>\n  <tbody>\n    <tr>\n      <th>207</th>\n      <td>0.01</td>\n      <td>-0.04</td>\n      <td>0.05</td>\n      <td>0.03</td>\n      <td>0.01</td>\n      <td>-0.01</td>\n      <td>0.03</td>\n      <td>-0.04</td>\n      <td>0.05</td>\n      <td>0.04</td>\n      <td>202.00</td>\n    </tr>\n    <tr>\n      <th>212</th>\n      <td>0.07</td>\n      <td>-0.04</td>\n      <td>0.00</td>\n      <td>0.04</td>\n      <td>0.05</td>\n      <td>0.03</td>\n      <td>0.07</td>\n      <td>-0.04</td>\n      <td>-0.00</td>\n      <td>0.02</td>\n      <td>73.00</td>\n    </tr>\n    <tr>\n      <th>295</th>\n      <td>-0.05</td>\n      <td>0.05</td>\n      <td>0.04</td>\n      <td>-0.04</td>\n      <td>-0.01</td>\n      <td>-0.01</td>\n      <td>0.01</td>\n      <td>-0.04</td>\n      <td>0.02</td>\n      <td>0.00</td>\n      <td>85.00</td>\n    </tr>\n    <tr>\n      <th>403</th>\n      <td>-0.02</td>\n      <td>-0.04</td>\n      <td>0.10</td>\n      <td>-0.01</td>\n      <td>-0.01</td>\n      <td>-0.02</td>\n      <td>-0.02</td>\n      <td>-0.00</td>\n      <td>0.06</td>\n      <td>0.04</td>\n      <td>275.00</td>\n    </tr>\n    <tr>\n      <th>251</th>\n      <td>-0.05</td>\n      <td>0.05</td>\n      <td>0.10</td>\n      <td>0.09</td>\n      <td>0.06</td>\n      <td>0.05</td>\n      <td>-0.06</td>\n      <td>0.11</td>\n      <td>0.08</td>\n      <td>0.04</td>\n      <td>243.00</td>\n    </tr>\n  </tbody>\n</table>\n</div>"
     },
     "metadata": {},
     "execution_count": 12
    }
   ],
   "source": [
    "label = \"Y\"\n",
    "train, validate, test = p.split_gold_3() # Save as M03_GOLD_TRAIN | M03_GOLD_VALIDATE | M03_GOLD_TEST  # Alt: train_data, test_data = p.Gold.random_split(percentage=0.8, seed=223) \n",
    "test.head()"
   ]
  },
  {
   "source": [
    "## 5a) ESML Deploy ONLINE, to AKS -> See other notebook\n",
    "- Deploy \"offline\" from old `AutoML run` for `DEV` environment\n",
    "- To →  `DEV`, `TEST` or `PROD` environment"
   ],
   "cell_type": "markdown",
   "metadata": {}
  },
  {
   "source": [
    "GOTO Notebook [`esml_howto_3_compare_and_deploy`](./esml_howto_3_compare_and_deploy)"
   ],
   "cell_type": "markdown",
   "metadata": {}
  },
  {
   "source": [
    "## 5b) ESML `Deploy BATCH` pipeline\n",
    "- Deploy same model \"offline / previous\" `AutoML Run` for `DEV` environment\n",
    "- To →  `DEV`, `TEST` or `PROD` environment\n"
   ],
   "cell_type": "markdown",
   "metadata": {}
  },
  {
   "source": [],
   "cell_type": "markdown",
   "metadata": {}
  }
 ]
}