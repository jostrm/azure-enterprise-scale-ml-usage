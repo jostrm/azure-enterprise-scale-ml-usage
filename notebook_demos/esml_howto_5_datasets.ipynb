{
 "metadata": {
  "language_info": {
   "codemirror_mode": {
    "name": "ipython",
    "version": 3
   },
   "file_extension": ".py",
   "mimetype": "text/x-python",
   "name": "python",
   "nbconvert_exporter": "python",
   "pygments_lexer": "ipython3",
   "version": "3.6.12"
  },
  "orig_nbformat": 2,
  "kernelspec": {
   "name": "python3612jvsc74a57bd03fec2c5a411dce07235ef28c8752b6cecf1f94423de7e7c24e62fc38b1bc47de",
   "display_name": "Python 3.6.12 64-bit ('azure_automl': conda)"
  }
 },
 "nbformat": 4,
 "nbformat_minor": 2,
 "cells": [
  {
   "source": [
    "# ESML - accelerator\n",
    "\n",
    "## PROJECT + DATA CONCEPTS + ENTERPRISE Datalake Design + DEV->PROD MLOps\n",
    "- `1)ESML Project`: The ONLY thing you need to remember is your `Project number` (and `BRONZE, SILVER, GOLD` concept )\n",
    "    - ProjectNo=4 have a list of all your datasets as ESMLDatasets. (Well you need to provide names for them also: \"mydata01\", \"mydata02\" - but thats it)\n",
    "- `2)AutoLake - lakedesign & Roles`: Bronze, silver, gold + IN and date folders\n",
    "    - Benefits: Physical datalake design!  onnected to Azure ML Workspace, with autoregistration of `Azure ML Datasets`\n",
    "    - `Role 1`: `Data ingestion team` only need to care about 1 thing - onboard data to `IN-folder`, in .CSV format\n",
    "        - `Auto parquet-conversion` from `IN` folder (.CSV) to `OUT`/BRONZE/bronze.PARQUET \n",
    "    - `Role 2`: `Data scientists` only need to care about 3 things (R/W): `BRONZE, SILVER, GOLD` datasets, all in .PARQUET format\n",
    "    - How? The ESML project will `Automap` and `Autoregister` Azure ML Datasets - `IN, SILVER, BRONZE, GOLD`\n",
    "- `2a) R&D  VS Production phase`: \"Latest data\" VS versioning on Datasets and datefolders  \n",
    "    - Benefits \"R&D mode\": Faster RnD phase to onboard and refresh data easy. Also fast \"flip-switch\" to production\n",
    "    - How? `ESMLDataset is context self aware` - knows when it is used in TRAIN or INFERENCE pipeline\n",
    "- `2b) TRAIN vs INFERENCE` versions</u> `Reuse (Bronze->Silver->Gold) pipepline`, for both TRAIN preprocessing, and INFERENCE \n",
    "    - Benefits: Inference with different MODEL version, on data from the same day/time, (to compare scoring etc)\n",
    "    - How? ESMLDataset have context self awareness, and `knows WHERE and HOW to load/save data`\n",
    "- `2c) BATCH CONFIG`: Turn on/off features on ALL datasets\n",
    "    - Accelerate setup: `Datadrift, Time series traits, Smart noise, etc`\n",
    "    - Share refined data back to its \"origin/non-projectbased structure\" easy: \n",
    "        - ESMLProject.ShareBack(ds.Silver)\n",
    "    - How? ESMProject controls all ESMDatasets, in a uniform way\n",
    "## ENTERPRISE Deployment of Models & Governance - MLOps  at scale\n",
    "- `3) DEV->TEST-PROD` (configs, compute, performance)\n",
    "    - ESML has config for 3 environemnts: Easy DEPLOY model across subscriptions and Azure ML Studio workspaces \n",
    "        - Save costs & time: \n",
    "            - `DEV` has cheaper compute performance for TRAIN and INFERENCE (batch, AKS)\n",
    "            - `DEV` has Quick-debug ML training (fast training...VS good scoring in TEST and PROD)\n",
    "        - How? ESML `AutoMLFactory` and `ComputeFactory`\n",
    "         \n",
    "\n",
    "### Q&A:\n",
    "- Q: Is ESML Machine learning specific? If I only want to refine some data...for integration, or report? \n",
    "- A: You can use this for just data refinement also: `Bronze->Silver->Gold` refinement.\n",
    "    - Benefits: Enterprise security, Read/write to datalake, easy to share refined data. \n",
    "    - Benefits: The tooling \"glued togehter\": Azure datafactory +  Azure Databricks (and Azure ML Studio pipelines if needed)\n",
    "\n"
   ],
   "cell_type": "markdown",
   "metadata": {}
  },
  {
   "source": [
    "# Datalake design - convention\n",
    "\n",
    "## Train model\n",
    "1)Data ingestion team: Lands raw in-data, and transform to .parquet in bronze. (Not included in MLOps. Use \"Azure data factory / Biztalk / Logic apps\".\n",
    "-  master/1_projects/project002/03_diabetes_model_reg/`train`/ds01_diabetes/`in`/`dev`/2020/01/01/\n",
    "\n",
    "2) `Bronze->Silver->Gold`\n",
    "-  master/1_projects/project002/03_diabetes_model_reg/`train`/ds01_diabetes/out/bronze/`dev`/\n",
    "-  master/1_projects/project002/03_diabetes_model_reg/`train`/ds01_diabetes/out/silver/`dev`/\n",
    "-  master/1_projects/project002/03_diabetes_model_reg/`train`/gold/dev/\n",
    "\n",
    "## Inference: Batch scoring\n",
    "1) Data ingestion\n",
    "- master/1_projects/project002/03_diabetes_model_reg/`inference/1/`ds01_diabetes/in/`dev`/2020/01/01/\n",
    "\n",
    "2) `Bronze->Silver->Gold`\n",
    "- master/1_projects/project002/03_diabetes_model_reg/`inference/1/`ds01_diabetes/out/bronze/`dev`/\n",
    "- master/1_projects/project002/03_diabetes_model_reg/`inference/1/`ds01_diabetes/out/silver/`dev`/\n",
    "- master/1_projects/project002/03_diabetes_model_reg/`inference/1/`gold/`dev`/\n",
    "\n",
    "Notes: Inference ONLINE scoring (AKS)\n",
    "- `inference/1/` = Model version\n",
    "- inference/1/ds01_diabetes/in/`dev`/2020/01/01/`17/30/58/00` Can be used for Online AKS scenario - save scoring history on blob storage, down to `millisecond` (ms)\n",
    "    - Save individual calls as Guid.parquet in `17/30/58/00` folder\n",
    "- Pipeline logic `Bronze->Silver->Gold` = Can be used for Online AKS scenario to process raw input before calling `model.predict()` in the [run(raw_data)] method\n",
    "\n",
    "Q: `dev`, `test`,`prod` folders at the end? \n",
    "- A: We have these folders at the end, for customers that wants a slim solution/low-maintenance, with just 1 datalake instance, and not 3 storage accounts.\n",
    "    - If you have 3 storage accounts, only 1 of these folders (dev in dev storage account) will have data at each storage account. \n",
    "        - Pro's: \n",
    "            - This alternative is more cost flexible. Example: You can have lower cost replication-settings on DEV storage account.\n",
    "        - Con's: \n",
    "            - A bit more work to share data between projects. \n",
    "            - A bit more work to update datalake design.\n",
    "    - Below all says `dev` folder. But `dev`can also be `test`,`prod`\n",
    "\n",
    "Q2: Why not `dev`, `test`,`prod` folders at the the top, e.g. on root-folder or container? \n",
    " - A: Separation of access RBAC. Granularity: project-based AND environment-based. And \"optimizeing the tree\" same as keeping datetimefolders at the end..where it can grow massively if fast frequency\n",
    "     - Each project/models, should have access to only THEIR dev,test,prod data...not all projects goes to production either.\n"
   ],
   "cell_type": "markdown",
   "metadata": {}
  },
  {
   "source": [
    "## 1) ESMLProject - Project number gives you \"lake area\" \n",
    "- Config? settings/project_specific/`lake_settings.json`, or `overwrite with constructor`\n",
    "    - `folderDate, ProjectNumber, inferenceModelVersion,`modelAlias`, *datasetFolderNames`\n",
    "        - `folderDate` needs to be types DATETIME hence not in set in `lake_settings.json` \n",
    "        - `modelAlias` can be iteration-based `M03`, and/or tied to a user-alias  `M01_joakim`. \n",
    "            - Purpose: UI info in Azure ML Studio to easily see which datasets belong to WHAT model (if multi-model approach in project)\n",
    "    - `R&D phase vs Production`: Set on `ESMLProject.rnd=True` to avoid versioning \n",
    "    - Tran VS Inference? \n",
    "        - ESMLProject and ESMLDatasets are `context self aware` and will figure this out \n",
    "- Benefits: \n",
    "    - ESMLProject `Automaps` + `Autoregister` Azure ML Datasets as: `IN, SILVER, BRONZE, GOLD`\n",
    "    - `ESMLDatasets` are `context aware`, will write to TRAIN or INFERERENCE structure, and `inferenceModelVersion` is involved here.\n",
    "    \n",
    "### TIP: How to know your ProjectNumber? Dataset names? Date folder?\n",
    "- You need to provide projectnumber, and dataset folder names \n",
    "    - Tip: same names you gave data ingestion team, the folder-names for datasets in lake\n",
    "- TRAIN: Choose data onboarding date-folder? \n",
    "    - Tip: Ask data ingestion team about datefolders \"2020-01-01\" under IN folder, and what environment you want your data to land (dev,test,prod)"
   ],
   "cell_type": "markdown",
   "metadata": {}
  },
  {
   "source": [
    "# 1A) Connect to TEST - using Authentication (SP's needed in TEST Azure ML workspace keyvault)"
   ],
   "cell_type": "markdown",
   "metadata": {}
  },
  {
   "cell_type": "code",
   "execution_count": 1,
   "metadata": {},
   "outputs": [
    {
     "output_type": "stream",
     "name": "stdout",
     "text": [
      "msft-weu-TEST-eap-proj02_ai-amls\n",
      "...\n",
      "....\n",
      "Using GEN2 as Datastore\n",
      "ds01_diabetes\n",
      "..\n",
      "ds02_other\n",
      "\n",
      "####### Automap & Autoregister - SUCCESS!\n",
      "1) Auto mapped 2 ESML Dataset with registered Azure ML Datasets (potentially all 3: IN,BRONZE, SILVER) in Datastore project002lake \n",
      "\n",
      "Dataset 'ds01_diabetes' status:\n",
      " - IN_Folder_has_files\n",
      " - BRONZE_Folder_has_files\n",
      " - SILVER_Folder_has_files\n",
      "Dataset 'ds02_other' status:\n",
      " - BRONZE_Folder_has_files\n",
      " - SILVER_Folder_has_files\n",
      "\n",
      "2) Registered each Dataset with suffixes (_IN_CSV, _BRONZE, _SILVER) \n",
      " Tip: Use ESMLProject.Datasets list or .DatasetByName(myDatasetName) to read/write\n",
      "#######\n",
      "..\n"
     ]
    }
   ],
   "source": [
    "import sys, os\n",
    "import pandas as pd \n",
    "from azureml.core import Workspace\n",
    "sys.path.append(os.path.abspath(\"../azure-enterprise-scale-ml/esml/common/\"))  # NOQA: E402\n",
    "from esml import ESMLDataset, ESMLProject\n",
    "from azureml.core.authentication import InteractiveLoginAuthentication\n",
    "\n",
    "p = ESMLProject() # 1) self-aware about its config sources,  p.dev_test_prod = \"dev\" # active environment (override config)\n",
    "\n",
    "p.dev_test_prod = \"test\" \n",
    "auth = InteractiveLoginAuthentication(tenant_id = p.tenant)\n",
    "ws, config_name = p.authenticate_workspace_and_write_config(auth)\n",
    "\n",
    "print(ws.name) \n",
    "p.init(ws) # Init TEST\n",
    "\n",
    "# Feture engineering: Bronze 2 Gold - working with Azure ML Datasets with Bronze, Silver, Gold concept\n",
    "ds = p.DatasetByName(\"ds01_diabetes\") # \n",
    "df = ds.Silver.to_pandas_dataframe()\n",
    "df_filtered = df[df.AGE > 0.015] \n",
    "gold_train = p.save_gold(df_filtered)\n"
   ]
  },
  {
   "source": [
    "# 1B) Connect to TEST - via DEV workspae (prereq: datastore for TEST is needed)"
   ],
   "cell_type": "markdown",
   "metadata": {}
  },
  {
   "cell_type": "code",
   "execution_count": 2,
   "metadata": {},
   "outputs": [
    {
     "output_type": "stream",
     "name": "stdout",
     "text": [
      "dev\n",
      "msft-weu-DEV-eap-proj02_ai-amls\n",
      "...\n",
      "Using GEN2 as Datastore\n",
      "ds01_diabetes\n",
      "ds02_other\n",
      "\n",
      "####### Automap & Autoregister - SUCCESS!\n",
      "1) Auto mapped 2 ESML Dataset with registered Azure ML Datasets (potentially all 3: IN,BRONZE, SILVER) in Datastore project002lake \n",
      "\n",
      "Dataset 'ds01_diabetes' status:\n",
      " - IN_Folder_has_files\n",
      " - BRONZE_Folder_has_files\n",
      " - SILVER_Folder_has_files\n",
      "Dataset 'ds02_other' status:\n",
      " - BRONZE_Folder_has_files\n",
      " - SILVER_Folder_has_files\n",
      "\n",
      "2) Registered each Dataset with suffixes (_IN_CSV, _BRONZE, _SILVER) \n",
      " Tip: Use ESMLProject.Datasets list or .DatasetByName(myDatasetName) to read/write\n",
      "#######\n",
      "Training\n",
      "\n",
      " - ds01_diabetes\n",
      "master/1_projects/project002/03_diabetes_model_reg/train/ds01_diabetes/in/test/2020/01/01/\n",
      "master/1_projects/project002/03_diabetes_model_reg/train/ds01_diabetes/out/bronze/dev/\n",
      "master/1_projects/project002/03_diabetes_model_reg/train/ds01_diabetes/out/silver/dev/\n",
      "\n",
      " - ds02_other\n",
      "master/1_projects/project002/03_diabetes_model_reg/train/ds02_other/in/test/2020/01/01/\n",
      "master/1_projects/project002/03_diabetes_model_reg/train/ds02_other/out/bronze/dev/\n",
      "master/1_projects/project002/03_diabetes_model_reg/train/ds02_other/out/silver/dev/\n",
      "Training GOLD \n",
      "\n",
      "master/1_projects/project002/03_diabetes_model_reg/train/gold/test/\n",
      " \n",
      "\n",
      "ENVIRONMENT - DEV, TEST, or PROD?\n",
      "ACTIVE ENVIRONMENT = test\n",
      "ACTIVE subscription = ca0a8c40-b06a-4e4e-8434-63c03a1dee34\n",
      "- MSFT-WEU-EAP_PROJECT02_AI-TEST-RG\n",
      "- msft-weu-TEST-eap-proj02_ai-amls\n",
      "- westeurope\n",
      "- MSFT-WEU-EAP_CMN_AI-TEST-RG\n",
      "- msft-weu-test-cmnai-vnet\n",
      "- msft-weu-test-cmnai-sn-aml\n"
     ]
    }
   ],
   "source": [
    "import sys, os\n",
    "import pandas as pd \n",
    "from azureml.core import Workspace\n",
    "sys.path.append(os.path.abspath(\"../azure-enterprise-scale-ml/esml/common/\"))  # NOQA: E402\n",
    "from esml import ESMLDataset, ESMLProject\n",
    "from azureml.core.authentication import InteractiveLoginAuthentication\n",
    "\n",
    "p = ESMLProject() # 1) self-aware about its config sources,  p.dev_test_prod = \"dev\" # active environment (override config)\n",
    "print(p.dev_test_prod) # DEV\n",
    "p.ws = p.get_workspace_from_config() #2) Get DEV. Then Load TEST via DEV\n",
    "print(p.ws.name)\n",
    "\n",
    "#p.dev_test_prod = \"test\" # does this work? Yes\n",
    "test_ws = p.get_other_workspace(\"test\") # Get TEST via DEV workspace/keyvault via Service Principle\n",
    "p.dev_test_prod = \"test\" # Works\n",
    "p.init(test_ws) # Automapping from datalake to Azure ML datasets, prints status)\n",
    "p.describe()\n",
    "\n",
    "# Feture engineering: Bronze 2 Gold - working with Azure ML Datasets with Bronze, Silver, Gold concept\n",
    "\n",
    "ds = p.DatasetByName(\"ds01_diabetes\") # \n",
    "df = ds.Silver.to_pandas_dataframe()\n",
    "df_filtered = df[df.AGE > 0.015] \n",
    "gold_train = p.save_gold(df_filtered)\n"
   ]
  },
  {
   "source": [
    "## Alt 1) Empty constructor - auto-read config (for debugging here)"
   ],
   "cell_type": "markdown",
   "metadata": {}
  },
  {
   "cell_type": "code",
   "execution_count": 3,
   "metadata": {},
   "outputs": [
    {
     "output_type": "stream",
     "name": "stdout",
     "text": [
      "Training\n\n - ds01_diabetes\nmaster/1_projects/project002/03_diabetes_model_reg/train/ds01_diabetes/in/dev/2020/01/01/\nmaster/1_projects/project002/03_diabetes_model_reg/train/ds01_diabetes/out/bronze/dev/\nmaster/1_projects/project002/03_diabetes_model_reg/train/ds01_diabetes/out/silver/dev/\n\n - ds02_other\nmaster/1_projects/project002/03_diabetes_model_reg/train/ds02_other/in/dev/2020/01/01/\nmaster/1_projects/project002/03_diabetes_model_reg/train/ds02_other/out/bronze/dev/\nmaster/1_projects/project002/03_diabetes_model_reg/train/ds02_other/out/silver/dev/\nTraining GOLD \n\nmaster/1_projects/project002/03_diabetes_model_reg/train/gold/dev/\n \n\nENVIRONMENT - DEV, TEST, or PROD?\nACTIVE ENVIRONMENT = dev\nACTIVE subscription = ca0a8c40-b06a-4e4e-8434-63c03a1dee34\n- MSFT-WEU-EAP_PROJECT02_AI-DEV-RG\n- msft-weu-DEV-eap-proj02_ai-amls\n- westeurope\n- MSFT-WEU-EAP_CMN_AI-DEV-RG\n- msft-weu-dev-cmnai-vnet\n- msft-weu-dev-cmnai-sn-aml\n"
     ]
    }
   ],
   "source": [
    "import datetime\n",
    "sys.path.append(os.path.abspath(\"../azure-enterprise-scale-ml/esml/common/\"))  # NOQA: E402\n",
    "from esml import ESMLDataset, ESMLProject\n",
    "\n",
    "p = ESMLProject() # self-aware about its config sources\n",
    "p.describe()"
   ]
  },
  {
   "source": [
    "### Alt 2) Overwrite COMFIG via ESMLProject constructor - parameters:\n",
    "- Either only `folderDate`, or set all parameters below: \n",
    "- `folderDate, ProjectNumber, inferenceModelVersion,modelAlias, *datasetFolderNames`"
   ],
   "cell_type": "markdown",
   "metadata": {}
  },
  {
   "cell_type": "code",
   "execution_count": 4,
   "metadata": {},
   "outputs": [
    {
     "output_type": "stream",
     "name": "stdout",
     "text": [
      "Training\n\n - ds01_diabetes\nmaster/1_projects/project002/03_diabetes_model_reg/train/ds01_diabetes/in/dev/2020/01/01/\nmaster/1_projects/project002/03_diabetes_model_reg/train/ds01_diabetes/out/bronze/dev/\nmaster/1_projects/project002/03_diabetes_model_reg/train/ds01_diabetes/out/silver/dev/\n\n - ds02_other\nmaster/1_projects/project002/03_diabetes_model_reg/train/ds02_other/in/dev/2020/01/01/\nmaster/1_projects/project002/03_diabetes_model_reg/train/ds02_other/out/bronze/dev/\nmaster/1_projects/project002/03_diabetes_model_reg/train/ds02_other/out/silver/dev/\nTraining GOLD \n\nmaster/1_projects/project002/03_diabetes_model_reg/train/gold/dev/\n \n\nENVIRONMENT - DEV, TEST, or PROD?\nACTIVE ENVIRONMENT = dev\nACTIVE subscription = ca0a8c40-b06a-4e4e-8434-63c03a1dee34\n- MSFT-WEU-EAP_PROJECT02_AI-DEV-RG\n- msft-weu-DEV-eap-proj02_ai-amls\n- westeurope\n- MSFT-WEU-EAP_CMN_AI-DEV-RG\n- msft-weu-dev-cmnai-vnet\n- msft-weu-dev-cmnai-sn-aml\nInference version: 4\n\n - ds01_name\nmaster/1_projects/project002/03_diabetes_model_reg/inference/4/ds01_name/in/dev/2021/01/01/\nmaster/1_projects/project002/03_diabetes_model_reg/inference/4/ds01_name/out/bronze/dev/\nmaster/1_projects/project002/03_diabetes_model_reg/inference/4/ds01_name/out/silver/dev/\n\n - ds02_other\nmaster/1_projects/project002/03_diabetes_model_reg/inference/4/ds02_other/in/dev/2021/01/01/\nmaster/1_projects/project002/03_diabetes_model_reg/inference/4/ds02_other/out/bronze/dev/\nmaster/1_projects/project002/03_diabetes_model_reg/inference/4/ds02_other/out/silver/dev/\n\n - ds03_yet_another\nmaster/1_projects/project002/03_diabetes_model_reg/inference/4/ds03_yet_another/in/dev/2021/01/01/\nmaster/1_projects/project002/03_diabetes_model_reg/inference/4/ds03_yet_another/out/bronze/dev/\nmaster/1_projects/project002/03_diabetes_model_reg/inference/4/ds03_yet_another/out/silver/dev/\nTraining GOLD \n\nmaster/1_projects/project002/03_diabetes_model_reg/inference/4/gold/dev/\n \n\nENVIRONMENT - DEV, TEST, or PROD?\nACTIVE ENVIRONMENT = dev\nACTIVE subscription = ca0a8c40-b06a-4e4e-8434-63c03a1dee34\n- MSFT-WEU-EAP_PROJECT02_AI-DEV-RG\n- msft-weu-DEV-eap-proj02_ai-amls\n- westeurope\n- MSFT-WEU-EAP_CMN_AI-DEV-RG\n- msft-weu-dev-cmnai-vnet\n- msft-weu-dev-cmnai-sn-aml\n"
     ]
    }
   ],
   "source": [
    "import os,sys,json, datetime\n",
    "sys.path.append(os.path.abspath(\"../azure-enterprise-scale-ml/esml/common/\"))  # NOQA: E402\n",
    "from esml import ESMLDataset, ESMLProject\n",
    "\n",
    "## TRAIN - ESMLProject\n",
    "train_dt = '2020-01-01 15:35:01.243860'\n",
    "train_in_date = datetime.datetime.strptime(train_dt, '%Y-%m-%d %H:%M:%S.%f')\n",
    "\n",
    "model_short_alias = \"M03\"\n",
    "p = ESMLProject(train_in_date,2,0,model_short_alias,\"ds01_diabetes\",\"ds02_other\")\n",
    "p.rnd=True\n",
    "p.describe()\n",
    "\n",
    "## INFERENCE -ESMLProject\n",
    "\n",
    "inf_dt = '2021-01-01 15:35:01.243860'\n",
    "inf_in_date = datetime.datetime.strptime(inf_dt, '%Y-%m-%d %H:%M:%S.%f')\n",
    "\n",
    "p2 = ESMLProject(inf_in_date,2,4,model_short_alias, \"ds01_name\",\"ds02_other\", \"ds03_yet_another\") \n",
    "p2.describe()"
   ]
  },
  {
   "source": [
    "## Alt 3) Inject 2 config objects from JSON - copy settings folder to your root\n",
    " - `../../../settings` instead of `../settings`\n"
   ],
   "cell_type": "markdown",
   "metadata": {}
  },
  {
   "cell_type": "code",
   "execution_count": 5,
   "metadata": {},
   "outputs": [],
   "source": [
    "import json\n",
    "sys.path.append(os.path.abspath(\"../azure-enterprise-scale-ml/esml/common/\"))  # NOQA: E402\n",
    "from esml import ESMLDataset, ESMLProject\n",
    "\n",
    "# These and the other configs for TRAIN and AutoML are self-booting from ESMLProject\n",
    "# ESML will search in ROOT for your copied SETTINGS folder '../../../settings', but if forced to \"DEMO\", it will use the TEMPLATE path '../settings'\n",
    "try:\n",
    "    #with open(\"../../../settings/enterprise_specific/dev_test_prod_settings.json\") as f:  # Read from YOUR Settings\n",
    "    #    env_settings = json.load(f)\n",
    "    with open(\"../settings/enterprise_specific/dev_test_prod_settings.json\") as f: # Reads from TEMPLATE settings\n",
    "        env_settings = json.load(f)\n",
    "    with open(\"../settings/project_specific/model/lake_settings.json\") as f:\n",
    "        esml_settings = json.load(f)\n",
    "    with open(\"../settings/project_specific/security_config.json\") as f2: # Project service principles, etc\n",
    "        security_config = json.load(f2)\n",
    "except Exception as e:\n",
    "    raise Exception(\"Could not open config.json or storage_config.json - could not load experimentname, or access storage\") from e\n"
   ]
  },
  {
   "cell_type": "code",
   "execution_count": 6,
   "metadata": {},
   "outputs": [
    {
     "output_type": "stream",
     "name": "stdout",
     "text": [
      "Training\n\n - ds01_diabetes\nmaster/1_projects/project002/03_diabetes_model_reg/train/ds01_diabetes/in/dev/2020/01/01/\nmaster/1_projects/project002/03_diabetes_model_reg/train/ds01_diabetes/out/bronze/dev/\nmaster/1_projects/project002/03_diabetes_model_reg/train/ds01_diabetes/out/silver/dev/\n\n - ds02_other\nmaster/1_projects/project002/03_diabetes_model_reg/train/ds02_other/in/dev/2020/01/01/\nmaster/1_projects/project002/03_diabetes_model_reg/train/ds02_other/out/bronze/dev/\nmaster/1_projects/project002/03_diabetes_model_reg/train/ds02_other/out/silver/dev/\nTraining GOLD \n\nmaster/1_projects/project002/03_diabetes_model_reg/train/gold/dev/\n \n\nENVIRONMENT - DEV, TEST, or PROD?\nACTIVE ENVIRONMENT = dev\nACTIVE subscription = ca0a8c40-b06a-4e4e-8434-63c03a1dee34\n- MSFT-WEU-EAP_PROJECT02_AI-DEV-RG\n- msft-weu-DEV-eap-proj02_ai-amls\n- westeurope\n- MSFT-WEU-EAP_CMN_AI-DEV-RG\n- msft-weu-dev-cmnai-vnet\n- msft-weu-dev-cmnai-sn-aml\n"
     ]
    }
   ],
   "source": [
    "p = ESMLProject(esml_settings,env_settings,security_config) # read from config\n",
    "p.describe()"
   ]
  },
  {
   "source": [
    "# Great! Thats your ESML datalake area & environements (string generation from config)\n",
    "## Now - involve Azure dependency: Automatically generate Datastore and Datasets"
   ],
   "cell_type": "markdown",
   "metadata": {}
  },
  {
   "cell_type": "code",
   "execution_count": 7,
   "metadata": {},
   "outputs": [],
   "source": [
    "#### NB! This is needed only 1st time\n",
    "from azureml.core import Workspace\n",
    "from azureml.core.authentication import InteractiveLoginAuthentication\n",
    "\n",
    "auth = InteractiveLoginAuthentication(tenant_id = p.tenant)\n",
    "ws, config_name = p.authenticate_workspace_and_write_config(auth)\n",
    "#### After that, you can use 'ws = p.get_workspace_from_config()'"
   ]
  },
  {
   "source": [
    "# 2) ESML will Automap and Autoregister Azure ML Datasets - IN, SILVER, BRONZE, GOLD\n",
    "- `Automap` and `Autoregister` Azure ML Datasets as: `IN, SILVER, BRONZE, GOLD`"
   ],
   "cell_type": "markdown",
   "metadata": {}
  },
  {
   "cell_type": "code",
   "execution_count": 8,
   "metadata": {},
   "outputs": [
    {
     "output_type": "execute_result",
     "data": {
      "text/plain": [
       "'msft-weu-DEV-eap-proj02_ai-amls'"
      ]
     },
     "metadata": {},
     "execution_count": 8
    }
   ],
   "source": [
    "from azureml.core import Workspace\n",
    "ws = p.get_workspace_from_config()\n",
    "ws.name"
   ]
  },
  {
   "cell_type": "code",
   "execution_count": 9,
   "metadata": {},
   "outputs": [
    {
     "output_type": "stream",
     "name": "stdout",
     "text": [
      "...\n",
      "Using GEN2 as Datastore\n",
      "ds01_diabetes\n",
      "ds02_other\n",
      "\n",
      "####### Automap & Autoregister - SUCCESS!\n",
      "1) Auto mapped 2 ESML Dataset with registered Azure ML Datasets (potentially all 3: IN,BRONZE, SILVER) in Datastore project002lake \n",
      "\n",
      "Dataset 'ds01_diabetes' status:\n",
      " - IN_Folder_has_files\n",
      " - BRONZE_Folder_has_files\n",
      " - SILVER_Folder_has_files\n",
      "Dataset 'ds02_other' status:\n",
      " - IN_Folder_has_files\n",
      " - BRONZE_Folder_has_files\n",
      " - SILVER_Folder_has_files\n",
      "\n",
      "2) Registered each Dataset with suffixes (_IN_CSV, _BRONZE, _SILVER) \n",
      " Tip: Use ESMLProject.Datasets list or .DatasetByName(myDatasetName) to read/write\n",
      "#######\n"
     ]
    }
   ],
   "source": [
    "datastore = p.automap_and_register_aml_datasets(ws)# p.init()"
   ]
  },
  {
   "cell_type": "code",
   "execution_count": 10,
   "metadata": {},
   "outputs": [
    {
     "output_type": "stream",
     "name": "stdout",
     "text": [
      "M03_ds02_other_IN_CSV\nM03_ds02_other_BRONZE\nM03_ds02_other_SILVER\n"
     ]
    }
   ],
   "source": [
    "ds_other = p.Datasets[1]\n",
    "ds_other = p.DatasetByName(\"ds02_other\")\n",
    "print(ds_other.InData.name)\n",
    "print(ds_other.Bronze.name)\n",
    "print(ds_other.Silver.name)\n",
    "#print(p.Gold.name) #  No data yet"
   ]
  },
  {
   "source": [
    "# 3) IN->`BRONZE->SILVER`->Gold\n",
    "- Create dataset from PANDAS - Save to SILVER"
   ],
   "cell_type": "markdown",
   "metadata": {}
  },
  {
   "cell_type": "code",
   "execution_count": 11,
   "metadata": {},
   "outputs": [
    {
     "output_type": "execute_result",
     "data": {
      "text/plain": [
       "        AGE       SEX       BMI        BP        S1        S2        S3  \\\n",
       "0  0.038076  0.050680  0.061696  0.021872 -0.044223 -0.034821 -0.043401   \n",
       "1 -0.001882 -0.044642 -0.051474 -0.026328 -0.008449 -0.019163  0.074412   \n",
       "2  0.085299  0.050680  0.044451 -0.005671 -0.045599 -0.034194 -0.032356   \n",
       "3 -0.089063 -0.044642 -0.011595 -0.036656  0.012191  0.024991 -0.036038   \n",
       "4  0.005383 -0.044642 -0.036385  0.021872  0.003935  0.015596  0.008142   \n",
       "\n",
       "         S4        S5        S6      Y  \n",
       "0 -0.002592  0.019908 -0.017646  151.0  \n",
       "1 -0.039493 -0.068330 -0.092204   75.0  \n",
       "2 -0.002592  0.002864 -0.025930  141.0  \n",
       "3  0.034309  0.022692 -0.009362  206.0  \n",
       "4 -0.002592 -0.031991 -0.046641  135.0  "
      ],
      "text/html": "<div>\n<style scoped>\n    .dataframe tbody tr th:only-of-type {\n        vertical-align: middle;\n    }\n\n    .dataframe tbody tr th {\n        vertical-align: top;\n    }\n\n    .dataframe thead th {\n        text-align: right;\n    }\n</style>\n<table border=\"1\" class=\"dataframe\">\n  <thead>\n    <tr style=\"text-align: right;\">\n      <th></th>\n      <th>AGE</th>\n      <th>SEX</th>\n      <th>BMI</th>\n      <th>BP</th>\n      <th>S1</th>\n      <th>S2</th>\n      <th>S3</th>\n      <th>S4</th>\n      <th>S5</th>\n      <th>S6</th>\n      <th>Y</th>\n    </tr>\n  </thead>\n  <tbody>\n    <tr>\n      <th>0</th>\n      <td>0.038076</td>\n      <td>0.050680</td>\n      <td>0.061696</td>\n      <td>0.021872</td>\n      <td>-0.044223</td>\n      <td>-0.034821</td>\n      <td>-0.043401</td>\n      <td>-0.002592</td>\n      <td>0.019908</td>\n      <td>-0.017646</td>\n      <td>151.0</td>\n    </tr>\n    <tr>\n      <th>1</th>\n      <td>-0.001882</td>\n      <td>-0.044642</td>\n      <td>-0.051474</td>\n      <td>-0.026328</td>\n      <td>-0.008449</td>\n      <td>-0.019163</td>\n      <td>0.074412</td>\n      <td>-0.039493</td>\n      <td>-0.068330</td>\n      <td>-0.092204</td>\n      <td>75.0</td>\n    </tr>\n    <tr>\n      <th>2</th>\n      <td>0.085299</td>\n      <td>0.050680</td>\n      <td>0.044451</td>\n      <td>-0.005671</td>\n      <td>-0.045599</td>\n      <td>-0.034194</td>\n      <td>-0.032356</td>\n      <td>-0.002592</td>\n      <td>0.002864</td>\n      <td>-0.025930</td>\n      <td>141.0</td>\n    </tr>\n    <tr>\n      <th>3</th>\n      <td>-0.089063</td>\n      <td>-0.044642</td>\n      <td>-0.011595</td>\n      <td>-0.036656</td>\n      <td>0.012191</td>\n      <td>0.024991</td>\n      <td>-0.036038</td>\n      <td>0.034309</td>\n      <td>0.022692</td>\n      <td>-0.009362</td>\n      <td>206.0</td>\n    </tr>\n    <tr>\n      <th>4</th>\n      <td>0.005383</td>\n      <td>-0.044642</td>\n      <td>-0.036385</td>\n      <td>0.021872</td>\n      <td>0.003935</td>\n      <td>0.015596</td>\n      <td>0.008142</td>\n      <td>-0.002592</td>\n      <td>-0.031991</td>\n      <td>-0.046641</td>\n      <td>135.0</td>\n    </tr>\n  </tbody>\n</table>\n</div>"
     },
     "metadata": {},
     "execution_count": 11
    }
   ],
   "source": [
    "import pandas as pd \n",
    "ds = p.DatasetByName(\"ds01_diabetes\")\n",
    "df = ds.Bronze.to_pandas_dataframe()\n",
    "df.head()"
   ]
  },
  {
   "source": [
    "## 3) BRONZE-SILVER (EDIT rows & SAVE)\n",
    "- Test change rows, same structure = new version (and new file added)\n",
    "- Note: not earlier files in folder are removed. They are needed for other \"versions\". \n",
    "- Expected: For 3 files: New version, 997 rows: 2 older files=627 + 1 new file=370\n",
    "- Expected (if we delete OLD files): New version, with less rows. 370 instead of 997"
   ],
   "cell_type": "markdown",
   "metadata": {}
  },
  {
   "cell_type": "code",
   "execution_count": 12,
   "metadata": {},
   "outputs": [
    {
     "output_type": "stream",
     "name": "stdout",
     "text": [
      "442 185\n"
     ]
    }
   ],
   "source": [
    "df_filtered = df[df.AGE > 0.015]\n",
    "print(df.shape[0], df_filtered.shape[0])"
   ]
  },
  {
   "source": [
    "## 3a) Save `SILVER` ds01_diabetes"
   ],
   "cell_type": "markdown",
   "metadata": {}
  },
  {
   "cell_type": "code",
   "execution_count": 13,
   "metadata": {},
   "outputs": [
    {
     "output_type": "stream",
     "name": "stdout",
     "text": [
      "..\n"
     ]
    },
    {
     "output_type": "execute_result",
     "data": {
      "text/plain": [
       "'M03_ds01_diabetes_SILVER'"
      ]
     },
     "metadata": {},
     "execution_count": 13
    }
   ],
   "source": [
    "aml_silver = p.save_silver(p.DatasetByName(\"ds01_diabetes\"),df_filtered)\n",
    "aml_silver.name"
   ]
  },
  {
   "source": [
    "### COMPARE `BRONZE vs SILVER`\n",
    "- Compare and validate the feature engineering"
   ],
   "cell_type": "markdown",
   "metadata": {}
  },
  {
   "cell_type": "code",
   "execution_count": 14,
   "metadata": {},
   "outputs": [
    {
     "output_type": "stream",
     "name": "stdout",
     "text": [
      "Bronze: 442\nSilver: 185\n"
     ]
    }
   ],
   "source": [
    "ds01 = p.DatasetByName(\"ds01_diabetes\")\n",
    "bronze_rows = ds01.Bronze.to_pandas_dataframe().shape[0]\n",
    "silver_rows = ds01.Silver.to_pandas_dataframe().shape[0]\n",
    "\n",
    "print(\"Bronze: {}\".format(bronze_rows)) # Expected 442 rows\n",
    "print(\"Silver: {}\".format(silver_rows)) # Expected 185 rows (filtered)\n",
    "\n",
    "assert bronze_rows == 442,\"BRONZE Should have 442 rows to start with, but is {}\".format(bronze_rows)\n",
    "assert silver_rows == 185,\"SILVER should have 185 after filtering, but is {}\".format(silver_rows)"
   ]
  },
  {
   "source": [
    "## 3b) Save  `BRONZE →  SILVER` ds02_other"
   ],
   "cell_type": "markdown",
   "metadata": {}
  },
  {
   "cell_type": "code",
   "execution_count": 15,
   "metadata": {},
   "outputs": [
    {
     "output_type": "stream",
     "name": "stdout",
     "text": [
      "..\n"
     ]
    },
    {
     "output_type": "execute_result",
     "data": {
      "text/plain": [
       "'M03_ds02_other_SILVER'"
      ]
     },
     "metadata": {},
     "execution_count": 15
    }
   ],
   "source": [
    "df_edited = p.DatasetByName(\"ds02_other\").Silver.to_pandas_dataframe()\n",
    "ds02_silver = p.save_silver(p.DatasetByName(\"ds02_other\"),df_edited)\n",
    "ds02_silver.name"
   ]
  },
  {
   "source": [
    "## 3c) Merge all `SILVERS -> SAVE to GOLD`\n",
    "https://stackoverflow.com/questions/40468069/merge-two-dataframes-by-index\n",
    "- pd.JOIN is a column-wise `left join`\n",
    "    - df1.join(df2)\n",
    "- pd.MERGE is a column-wise `inner join`\n",
    "    - When to use: concatenating by `custom fields / indexes`\n",
    "    - pd.merge(df1, df2, left_index=True, right_index=True) \n",
    "    - `join by: df1.col1 == df2.index`\n",
    "        - pd.merge(df1, df2, left_on='col1' right_index=True)\n",
    "    -  `join by _common_ columns`: `col1`, `col3`\n",
    "        - pd.merge(df1, df2, on=['col1','col3']) \n",
    "- pd.CONCAT is a `ROW`-wise `outer join`\n",
    "    - When to use? To contact 2-M dataframes `aligned by index`\n",
    "    - pd.concat([df1, df2], axis=1)"
   ],
   "cell_type": "markdown",
   "metadata": {}
  },
  {
   "cell_type": "code",
   "execution_count": 16,
   "metadata": {},
   "outputs": [],
   "source": [
    "df_01 = ds01.Silver.to_pandas_dataframe()\n",
    "df_02 = ds02_silver.to_pandas_dataframe()\n",
    "\n",
    "# 1) LEFT join\n",
    "df_gold1_join = df_01.join(df_02) # left join -> NULL on df_02\n",
    "\n",
    "# Alternative JOINS:\n",
    "\n",
    "# 2) outer join -> NULL on both sides\n",
    "df_gold2_concat = pd.concat([df_01, df_02], axis=1) # outer join -> NULL on both sides\n",
    "\n",
    "# 3) # inner join -> no nulls\n",
    "df_gold3_merged = df_01.merge(df_02,how=\"left\", left_on=\"Y\", right_on=\"Age\", indicator=\"indicator_column\") \n",
    "df_gold4_mergd = df_01.merge(df_02, left_index=True, right_index=True) # inner join -> no nulls"
   ]
  },
  {
   "cell_type": "code",
   "execution_count": 17,
   "metadata": {},
   "outputs": [
    {
     "output_type": "stream",
     "name": "stdout",
     "text": [
      "Diabetes shape:  (185, 11)\n(185, 19)\n(887, 19)\n(248, 20)\n(185, 19)\n"
     ]
    }
   ],
   "source": [
    "print(\"Diabetes shape: \", df_01.shape)\n",
    "print(df_gold1_join.shape)\n",
    "print(df_gold2_concat.shape)\n",
    "print(df_gold3_merged.shape)\n",
    "print(df_gold4_mergd.shape)"
   ]
  },
  {
   "source": [
    "# Save `GOLD` v1"
   ],
   "cell_type": "markdown",
   "metadata": {}
  },
  {
   "cell_type": "code",
   "execution_count": 17,
   "metadata": {},
   "outputs": [
    {
     "output_type": "stream",
     "name": "stdout",
     "text": [
      "False\n"
     ]
    }
   ],
   "source": [
    "print(p.rnd)"
   ]
  },
  {
   "cell_type": "code",
   "execution_count": 18,
   "metadata": {},
   "outputs": [],
   "source": [
    "p.rnd=False"
   ]
  },
  {
   "cell_type": "code",
   "execution_count": 18,
   "metadata": {},
   "outputs": [],
   "source": [
    "ds_gold_v1 = p.save_gold(df_gold1_join)"
   ]
  },
  {
   "source": [
    "### 3c) Ops! \"faulty\" GOLD - too many features"
   ],
   "cell_type": "markdown",
   "metadata": {}
  },
  {
   "cell_type": "code",
   "execution_count": 19,
   "metadata": {},
   "outputs": [
    {
     "output_type": "stream",
     "name": "stdout",
     "text": [
      "(185, 19)\n"
     ]
    }
   ],
   "source": [
    "print(p.Gold.to_pandas_dataframe().shape)"
   ]
  },
  {
   "source": [
    "print(\"Are we in RnD phase? Or do we have 'versioning on datasets=ON'\")\n",
    "print(\"RnD phase = {}\".format(p.rnd))"
   ],
   "cell_type": "code",
   "metadata": {},
   "execution_count": 20,
   "outputs": [
    {
     "output_type": "stream",
     "name": "stdout",
     "text": [
      "Are we in RnD phase? Or do we have 'versioning on datasets=ON'\nRnD phase = False\n"
     ]
    }
   ]
  },
  {
   "source": [
    "# Save `GOLD` v2"
   ],
   "cell_type": "markdown",
   "metadata": {}
  },
  {
   "cell_type": "code",
   "execution_count": 37,
   "metadata": {},
   "outputs": [],
   "source": [
    "# Lets just go with features from ds01\n",
    "ds_gold_v1 = p.save_gold(df_01)"
   ]
  },
  {
   "source": [
    "# Split `GOLD` into 3 - `train, validate, test`\n"
   ],
   "cell_type": "markdown",
   "metadata": {}
  },
  {
   "cell_type": "code",
   "execution_count": null,
   "metadata": {},
   "outputs": [],
   "source": [
    "label = \"Y\"\n",
    "train_6, validate_set_2, test_set_2 = p.split_gold_3(0.6, label) \n",
    "print(\" - Q:Why add LABEL info when splitting for TRAIN? For future sake...VALIDATE, TEST\")"
   ]
  },
  {
   "cell_type": "code",
   "execution_count": null,
   "metadata": {},
   "outputs": [],
   "source": [
    "print(\"...This is why:\")\n",
    "X_test, y_test, tags = p.get_gold_validate_Xy() # Version is default latest\n",
    "print(tags)"
   ]
  },
  {
   "source": [
    "# Get `GOLD` by version"
   ],
   "cell_type": "markdown",
   "metadata": {}
  },
  {
   "source": [
    "gold_1 = p.get_gold_version(1)\n",
    "gold_1.to_pandas_dataframe().shape # (185, 19)"
   ],
   "cell_type": "code",
   "metadata": {},
   "execution_count": null,
   "outputs": []
  },
  {
   "cell_type": "code",
   "execution_count": null,
   "metadata": {},
   "outputs": [],
   "source": [
    "gold_2 = p.get_gold_version(2)\n",
    "gold_2.to_pandas_dataframe().shape # (185, 11)"
   ]
  },
  {
   "cell_type": "code",
   "execution_count": null,
   "metadata": {},
   "outputs": [],
   "source": [
    "p.Gold.to_pandas_dataframe().shape # Latest version (185, 11)"
   ]
  },
  {
   "cell_type": "code",
   "execution_count": null,
   "metadata": {},
   "outputs": [],
   "source": [
    "new_project = ESMLProject()\n",
    "new_project.init(ws)"
   ]
  },
  {
   "cell_type": "code",
   "execution_count": null,
   "metadata": {},
   "outputs": [],
   "source": [
    "gold_1 = new_project.get_gold_version(1)\n",
    "print(gold_1.to_pandas_dataframe().shape) # (185, 19)\n",
    "\n",
    "gold_2 = new_project.get_gold_version(2)\n",
    "print(gold_2.to_pandas_dataframe().shape) # (185, 11)\n",
    "\n",
    "print(new_project.Gold.to_pandas_dataframe().shape) # Latest(185, 11)"
   ]
  },
  {
   "cell_type": "code",
   "execution_count": null,
   "metadata": {},
   "outputs": [],
   "source": [
    "gold_2"
   ]
  },
  {
   "cell_type": "code",
   "execution_count": 30,
   "metadata": {},
   "outputs": [
    {
     "output_type": "stream",
     "name": "stdout",
     "text": [
      "Since R&D setting - unregister dataset M03_GOLD, before register again\n",
      "Since R&D setting - unregister dataset M03_GOLD, before register again\n",
      "Since R&D setting - unregister dataset M03_GOLD, before register again\n"
     ]
    }
   ],
   "source": [
    "p.rnd = True\n",
    "ds_gold_v1 = p.save_gold(df_01)\n",
    "ds_gold_v1 = p.save_gold(df_01)\n",
    "ds_gold_v1 = p.save_gold(df_gold1_join)"
   ]
  },
  {
   "cell_type": "code",
   "execution_count": 31,
   "metadata": {},
   "outputs": [],
   "source": [
    "p.rnd = False\n",
    "ds_gold_v1 = p.save_gold_pandas_as_azure_dataset(df_gold1_join) # v2\n",
    "ds_gold_v1 = p.save_gold_pandas_as_azure_dataset(df_01)\n",
    "ds_gold_v1 = p.save_gold_pandas_as_azure_dataset(df_gold1_join)"
   ]
  },
  {
   "source": [
    "# Slice `ROWS` and create filtered version"
   ],
   "cell_type": "markdown",
   "metadata": {}
  },
  {
   "cell_type": "code",
   "execution_count": 32,
   "metadata": {},
   "outputs": [],
   "source": [
    "df_01_filtered = df_01[df_01.AGE > 0.03807]\n",
    "ds_gold_v1 = p.save_gold(df_01_filtered)"
   ]
  },
  {
   "source": [
    "# Look at ds_02 - Titanic"
   ],
   "cell_type": "markdown",
   "metadata": {}
  },
  {
   "cell_type": "code",
   "execution_count": 33,
   "metadata": {},
   "outputs": [
    {
     "output_type": "execute_result",
     "data": {
      "text/plain": [
       "   Survived  Pclass                                               Name  \\\n",
       "0         0       3                             Mr. Owen Harris Braund   \n",
       "1         1       1  Mrs. John Bradley (Florence Briggs Thayer) Cum...   \n",
       "2         1       3                              Miss. Laina Heikkinen   \n",
       "3         1       1        Mrs. Jacques Heath (Lily May Peel) Futrelle   \n",
       "4         0       3                            Mr. William Henry Allen   \n",
       "\n",
       "      Sex   Age  Siblings/Spouses Aboard  Parents/Children Aboard     Fare  \n",
       "0    male  22.0                        1                        0   7.2500  \n",
       "1  female  38.0                        1                        0  71.2833  \n",
       "2  female  26.0                        0                        0   7.9250  \n",
       "3  female  35.0                        1                        0  53.1000  \n",
       "4    male  35.0                        0                        0   8.0500  "
      ],
      "text/html": "<div>\n<style scoped>\n    .dataframe tbody tr th:only-of-type {\n        vertical-align: middle;\n    }\n\n    .dataframe tbody tr th {\n        vertical-align: top;\n    }\n\n    .dataframe thead th {\n        text-align: right;\n    }\n</style>\n<table border=\"1\" class=\"dataframe\">\n  <thead>\n    <tr style=\"text-align: right;\">\n      <th></th>\n      <th>Survived</th>\n      <th>Pclass</th>\n      <th>Name</th>\n      <th>Sex</th>\n      <th>Age</th>\n      <th>Siblings/Spouses Aboard</th>\n      <th>Parents/Children Aboard</th>\n      <th>Fare</th>\n    </tr>\n  </thead>\n  <tbody>\n    <tr>\n      <th>0</th>\n      <td>0</td>\n      <td>3</td>\n      <td>Mr. Owen Harris Braund</td>\n      <td>male</td>\n      <td>22.0</td>\n      <td>1</td>\n      <td>0</td>\n      <td>7.2500</td>\n    </tr>\n    <tr>\n      <th>1</th>\n      <td>1</td>\n      <td>1</td>\n      <td>Mrs. John Bradley (Florence Briggs Thayer) Cum...</td>\n      <td>female</td>\n      <td>38.0</td>\n      <td>1</td>\n      <td>0</td>\n      <td>71.2833</td>\n    </tr>\n    <tr>\n      <th>2</th>\n      <td>1</td>\n      <td>3</td>\n      <td>Miss. Laina Heikkinen</td>\n      <td>female</td>\n      <td>26.0</td>\n      <td>0</td>\n      <td>0</td>\n      <td>7.9250</td>\n    </tr>\n    <tr>\n      <th>3</th>\n      <td>1</td>\n      <td>1</td>\n      <td>Mrs. Jacques Heath (Lily May Peel) Futrelle</td>\n      <td>female</td>\n      <td>35.0</td>\n      <td>1</td>\n      <td>0</td>\n      <td>53.1000</td>\n    </tr>\n    <tr>\n      <th>4</th>\n      <td>0</td>\n      <td>3</td>\n      <td>Mr. William Henry Allen</td>\n      <td>male</td>\n      <td>35.0</td>\n      <td>0</td>\n      <td>0</td>\n      <td>8.0500</td>\n    </tr>\n  </tbody>\n</table>\n</div>"
     },
     "metadata": {},
     "execution_count": 33
    }
   ],
   "source": [
    "df_02.head()"
   ]
  },
  {
   "cell_type": "code",
   "execution_count": 35,
   "metadata": {},
   "outputs": [
    {
     "output_type": "execute_result",
     "data": {
      "text/plain": [
       "<AxesSubplot:>"
      ]
     },
     "metadata": {},
     "execution_count": 35
    },
    {
     "output_type": "display_data",
     "data": {
      "text/plain": "<Figure size 432x288 with 2 Axes>",
      "image/svg+xml": "<?xml version=\"1.0\" encoding=\"utf-8\" standalone=\"no\"?>\r\n<!DOCTYPE svg PUBLIC \"-//W3C//DTD SVG 1.1//EN\"\r\n  \"http://www.w3.org/Graphics/SVG/1.1/DTD/svg11.dtd\">\r\n<!-- Created with matplotlib (https://matplotlib.org/) -->\r\n<svg height=\"365.557969pt\" version=\"1.1\" viewBox=\"0 0 471.053562 365.557969\" width=\"471.053562pt\" xmlns=\"http://www.w3.org/2000/svg\" xmlns:xlink=\"http://www.w3.org/1999/xlink\">\r\n <metadata>\r\n  <rdf:RDF xmlns:cc=\"http://creativecommons.org/ns#\" xmlns:dc=\"http://purl.org/dc/elements/1.1/\" xmlns:rdf=\"http://www.w3.org/1999/02/22-rdf-syntax-ns#\">\r\n   <cc:Work>\r\n    <dc:type rdf:resource=\"http://purl.org/dc/dcmitype/StillImage\"/>\r\n    <dc:date>2021-04-10T02:36:21.549779</dc:date>\r\n    <dc:format>image/svg+xml</dc:format>\r\n    <dc:creator>\r\n     <cc:Agent>\r\n      <dc:title>Matplotlib v3.3.4, https://matplotlib.org/</dc:title>\r\n     </cc:Agent>\r\n    </dc:creator>\r\n   </cc:Work>\r\n  </rdf:RDF>\r\n </metadata>\r\n <defs>\r\n  <style type=\"text/css\">*{stroke-linecap:butt;stroke-linejoin:round;}</style>\r\n </defs>\r\n <g id=\"figure_1\">\r\n  <g id=\"patch_1\">\r\n   <path d=\"M 0 365.557969 \r\nL 471.053562 365.557969 \r\nL 471.053562 0 \r\nL 0 0 \r\nz\r\n\" style=\"fill:none;\"/>\r\n  </g>\r\n  <g id=\"axes_1\">\r\n   <g id=\"patch_2\">\r\n    <path d=\"M 137.11875 228.439219 \r\nL 404.95875 228.439219 \r\nL 404.95875 10.999219 \r\nL 137.11875 10.999219 \r\nz\r\n\" style=\"fill:#ffffff;\"/>\r\n   </g>\r\n   <g id=\"QuadMesh_1\">\r\n    <path clip-path=\"url(#p0aa10db753)\" d=\"M 137.11875 10.999219 \r\nL 181.75875 10.999219 \r\nL 181.75875 47.239219 \r\nL 137.11875 47.239219 \r\nL 137.11875 10.999219 \r\n\" style=\"fill:#faebdd;\"/>\r\n    <path clip-path=\"url(#p0aa10db753)\" d=\"M 181.75875 10.999219 \r\nL 226.39875 10.999219 \r\nL 226.39875 47.239219 \r\nL 181.75875 47.239219 \r\nL 181.75875 10.999219 \r\n\" style=\"fill:#34193d;\"/>\r\n    <path clip-path=\"url(#p0aa10db753)\" d=\"M 226.39875 10.999219 \r\nL 271.03875 10.999219 \r\nL 271.03875 47.239219 \r\nL 226.39875 47.239219 \r\nL 226.39875 10.999219 \r\n\" style=\"fill:#7b1f59;\"/>\r\n    <path clip-path=\"url(#p0aa10db753)\" d=\"M 271.03875 10.999219 \r\nL 315.67875 10.999219 \r\nL 315.67875 47.239219 \r\nL 271.03875 47.239219 \r\nL 271.03875 10.999219 \r\n\" style=\"fill:#821e5a;\"/>\r\n    <path clip-path=\"url(#p0aa10db753)\" d=\"M 315.67875 10.999219 \r\nL 360.31875 10.999219 \r\nL 360.31875 47.239219 \r\nL 315.67875 47.239219 \r\nL 315.67875 10.999219 \r\n\" style=\"fill:#a3195b;\"/>\r\n    <path clip-path=\"url(#p0aa10db753)\" d=\"M 360.31875 10.999219 \r\nL 404.95875 10.999219 \r\nL 404.95875 47.239219 \r\nL 360.31875 47.239219 \r\nL 360.31875 10.999219 \r\n\" style=\"fill:#d2204c;\"/>\r\n    <path clip-path=\"url(#p0aa10db753)\" d=\"M 137.11875 47.239219 \r\nL 181.75875 47.239219 \r\nL 181.75875 83.479219 \r\nL 137.11875 83.479219 \r\nL 137.11875 47.239219 \r\n\" style=\"fill:#34193d;\"/>\r\n    <path clip-path=\"url(#p0aa10db753)\" d=\"M 181.75875 47.239219 \r\nL 226.39875 47.239219 \r\nL 226.39875 83.479219 \r\nL 181.75875 83.479219 \r\nL 181.75875 47.239219 \r\n\" style=\"fill:#faebdd;\"/>\r\n    <path clip-path=\"url(#p0aa10db753)\" d=\"M 226.39875 47.239219 \r\nL 271.03875 47.239219 \r\nL 271.03875 83.479219 \r\nL 226.39875 83.479219 \r\nL 226.39875 47.239219 \r\n\" style=\"fill:#271534;\"/>\r\n    <path clip-path=\"url(#p0aa10db753)\" d=\"M 271.03875 47.239219 \r\nL 315.67875 47.239219 \r\nL 315.67875 83.479219 \r\nL 271.03875 83.479219 \r\nL 271.03875 47.239219 \r\n\" style=\"fill:#a4195b;\"/>\r\n    <path clip-path=\"url(#p0aa10db753)\" d=\"M 315.67875 47.239219 \r\nL 360.31875 47.239219 \r\nL 360.31875 83.479219 \r\nL 315.67875 83.479219 \r\nL 315.67875 47.239219 \r\n\" style=\"fill:#931c5b;\"/>\r\n    <path clip-path=\"url(#p0aa10db753)\" d=\"M 360.31875 47.239219 \r\nL 404.95875 47.239219 \r\nL 404.95875 83.479219 \r\nL 360.31875 83.479219 \r\nL 360.31875 47.239219 \r\n\" style=\"fill:#03051a;\"/>\r\n    <path clip-path=\"url(#p0aa10db753)\" d=\"M 137.11875 83.479219 \r\nL 181.75875 83.479219 \r\nL 181.75875 119.719219 \r\nL 137.11875 119.719219 \r\nL 137.11875 83.479219 \r\n\" style=\"fill:#7b1f59;\"/>\r\n    <path clip-path=\"url(#p0aa10db753)\" d=\"M 181.75875 83.479219 \r\nL 226.39875 83.479219 \r\nL 226.39875 119.719219 \r\nL 181.75875 119.719219 \r\nL 181.75875 83.479219 \r\n\" style=\"fill:#271534;\"/>\r\n    <path clip-path=\"url(#p0aa10db753)\" d=\"M 226.39875 83.479219 \r\nL 271.03875 83.479219 \r\nL 271.03875 119.719219 \r\nL 226.39875 119.719219 \r\nL 226.39875 83.479219 \r\n\" style=\"fill:#faebdd;\"/>\r\n    <path clip-path=\"url(#p0aa10db753)\" d=\"M 271.03875 83.479219 \r\nL 315.67875 83.479219 \r\nL 315.67875 119.719219 \r\nL 271.03875 119.719219 \r\nL 271.03875 83.479219 \r\n\" style=\"fill:#3d1a42;\"/>\r\n    <path clip-path=\"url(#p0aa10db753)\" d=\"M 315.67875 83.479219 \r\nL 360.31875 83.479219 \r\nL 360.31875 119.719219 \r\nL 315.67875 119.719219 \r\nL 315.67875 83.479219 \r\n\" style=\"fill:#581e4f;\"/>\r\n    <path clip-path=\"url(#p0aa10db753)\" d=\"M 360.31875 83.479219 \r\nL 404.95875 83.479219 \r\nL 404.95875 119.719219 \r\nL 360.31875 119.719219 \r\nL 360.31875 83.479219 \r\n\" style=\"fill:#ad1759;\"/>\r\n    <path clip-path=\"url(#p0aa10db753)\" d=\"M 137.11875 119.719219 \r\nL 181.75875 119.719219 \r\nL 181.75875 155.959219 \r\nL 137.11875 155.959219 \r\nL 137.11875 119.719219 \r\n\" style=\"fill:#821e5a;\"/>\r\n    <path clip-path=\"url(#p0aa10db753)\" d=\"M 181.75875 119.719219 \r\nL 226.39875 119.719219 \r\nL 226.39875 155.959219 \r\nL 181.75875 155.959219 \r\nL 181.75875 119.719219 \r\n\" style=\"fill:#a4195b;\"/>\r\n    <path clip-path=\"url(#p0aa10db753)\" d=\"M 226.39875 119.719219 \r\nL 271.03875 119.719219 \r\nL 271.03875 155.959219 \r\nL 226.39875 155.959219 \r\nL 226.39875 119.719219 \r\n\" style=\"fill:#3d1a42;\"/>\r\n    <path clip-path=\"url(#p0aa10db753)\" d=\"M 271.03875 119.719219 \r\nL 315.67875 119.719219 \r\nL 315.67875 155.959219 \r\nL 271.03875 155.959219 \r\nL 271.03875 119.719219 \r\n\" style=\"fill:#faebdd;\"/>\r\n    <path clip-path=\"url(#p0aa10db753)\" d=\"M 315.67875 119.719219 \r\nL 360.31875 119.719219 \r\nL 360.31875 155.959219 \r\nL 315.67875 155.959219 \r\nL 315.67875 119.719219 \r\n\" style=\"fill:#ec4a3e;\"/>\r\n    <path clip-path=\"url(#p0aa10db753)\" d=\"M 360.31875 119.719219 \r\nL 404.95875 119.719219 \r\nL 404.95875 155.959219 \r\nL 360.31875 155.959219 \r\nL 360.31875 119.719219 \r\n\" style=\"fill:#b91657;\"/>\r\n    <path clip-path=\"url(#p0aa10db753)\" d=\"M 137.11875 155.959219 \r\nL 181.75875 155.959219 \r\nL 181.75875 192.199219 \r\nL 137.11875 192.199219 \r\nL 137.11875 155.959219 \r\n\" style=\"fill:#a3195b;\"/>\r\n    <path clip-path=\"url(#p0aa10db753)\" d=\"M 181.75875 155.959219 \r\nL 226.39875 155.959219 \r\nL 226.39875 192.199219 \r\nL 181.75875 192.199219 \r\nL 181.75875 155.959219 \r\n\" style=\"fill:#931c5b;\"/>\r\n    <path clip-path=\"url(#p0aa10db753)\" d=\"M 226.39875 155.959219 \r\nL 271.03875 155.959219 \r\nL 271.03875 192.199219 \r\nL 226.39875 192.199219 \r\nL 226.39875 155.959219 \r\n\" style=\"fill:#581e4f;\"/>\r\n    <path clip-path=\"url(#p0aa10db753)\" d=\"M 271.03875 155.959219 \r\nL 315.67875 155.959219 \r\nL 315.67875 192.199219 \r\nL 271.03875 192.199219 \r\nL 271.03875 155.959219 \r\n\" style=\"fill:#ec4a3e;\"/>\r\n    <path clip-path=\"url(#p0aa10db753)\" d=\"M 315.67875 155.959219 \r\nL 360.31875 155.959219 \r\nL 360.31875 192.199219 \r\nL 315.67875 192.199219 \r\nL 315.67875 155.959219 \r\n\" style=\"fill:#faebdd;\"/>\r\n    <path clip-path=\"url(#p0aa10db753)\" d=\"M 360.31875 155.959219 \r\nL 404.95875 155.959219 \r\nL 404.95875 192.199219 \r\nL 360.31875 192.199219 \r\nL 360.31875 155.959219 \r\n\" style=\"fill:#c81951;\"/>\r\n    <path clip-path=\"url(#p0aa10db753)\" d=\"M 137.11875 192.199219 \r\nL 181.75875 192.199219 \r\nL 181.75875 228.439219 \r\nL 137.11875 228.439219 \r\nL 137.11875 192.199219 \r\n\" style=\"fill:#d2204c;\"/>\r\n    <path clip-path=\"url(#p0aa10db753)\" d=\"M 181.75875 192.199219 \r\nL 226.39875 192.199219 \r\nL 226.39875 228.439219 \r\nL 181.75875 228.439219 \r\nL 181.75875 192.199219 \r\n\" style=\"fill:#03051a;\"/>\r\n    <path clip-path=\"url(#p0aa10db753)\" d=\"M 226.39875 192.199219 \r\nL 271.03875 192.199219 \r\nL 271.03875 228.439219 \r\nL 226.39875 228.439219 \r\nL 226.39875 192.199219 \r\n\" style=\"fill:#ad1759;\"/>\r\n    <path clip-path=\"url(#p0aa10db753)\" d=\"M 271.03875 192.199219 \r\nL 315.67875 192.199219 \r\nL 315.67875 228.439219 \r\nL 271.03875 228.439219 \r\nL 271.03875 192.199219 \r\n\" style=\"fill:#b91657;\"/>\r\n    <path clip-path=\"url(#p0aa10db753)\" d=\"M 315.67875 192.199219 \r\nL 360.31875 192.199219 \r\nL 360.31875 228.439219 \r\nL 315.67875 228.439219 \r\nL 315.67875 192.199219 \r\n\" style=\"fill:#c81951;\"/>\r\n    <path clip-path=\"url(#p0aa10db753)\" d=\"M 360.31875 192.199219 \r\nL 404.95875 192.199219 \r\nL 404.95875 228.439219 \r\nL 360.31875 228.439219 \r\nL 360.31875 192.199219 \r\n\" style=\"fill:#faebdd;\"/>\r\n   </g>\r\n   <g id=\"matplotlib.axis_1\">\r\n    <g id=\"xtick_1\">\r\n     <g id=\"line2d_1\">\r\n      <defs>\r\n       <path d=\"M 0 0 \r\nL 0 3.5 \r\n\" id=\"m9f89fc2c68\" style=\"stroke:#000000;stroke-width:0.8;\"/>\r\n      </defs>\r\n      <g>\r\n       <use style=\"stroke:#000000;stroke-width:0.8;\" x=\"159.43875\" xlink:href=\"#m9f89fc2c68\" y=\"228.439219\"/>\r\n      </g>\r\n     </g>\r\n     <g id=\"text_1\">\r\n      <!-- Survived -->\r\n      <g transform=\"translate(162.198125 279.353281)rotate(-90)scale(0.1 -0.1)\">\r\n       <defs>\r\n        <path d=\"M 53.515625 70.515625 \r\nL 53.515625 60.890625 \r\nQ 47.90625 63.578125 42.921875 64.890625 \r\nQ 37.9375 66.21875 33.296875 66.21875 \r\nQ 25.25 66.21875 20.875 63.09375 \r\nQ 16.5 59.96875 16.5 54.203125 \r\nQ 16.5 49.359375 19.40625 46.890625 \r\nQ 22.3125 44.4375 30.421875 42.921875 \r\nL 36.375 41.703125 \r\nQ 47.40625 39.59375 52.65625 34.296875 \r\nQ 57.90625 29 57.90625 20.125 \r\nQ 57.90625 9.515625 50.796875 4.046875 \r\nQ 43.703125 -1.421875 29.984375 -1.421875 \r\nQ 24.8125 -1.421875 18.96875 -0.25 \r\nQ 13.140625 0.921875 6.890625 3.21875 \r\nL 6.890625 13.375 \r\nQ 12.890625 10.015625 18.65625 8.296875 \r\nQ 24.421875 6.59375 29.984375 6.59375 \r\nQ 38.421875 6.59375 43.015625 9.90625 \r\nQ 47.609375 13.234375 47.609375 19.390625 \r\nQ 47.609375 24.75 44.3125 27.78125 \r\nQ 41.015625 30.8125 33.5 32.328125 \r\nL 27.484375 33.5 \r\nQ 16.453125 35.6875 11.515625 40.375 \r\nQ 6.59375 45.0625 6.59375 53.421875 \r\nQ 6.59375 63.09375 13.40625 68.65625 \r\nQ 20.21875 74.21875 32.171875 74.21875 \r\nQ 37.3125 74.21875 42.625 73.28125 \r\nQ 47.953125 72.359375 53.515625 70.515625 \r\nz\r\n\" id=\"DejaVuSans-83\"/>\r\n        <path d=\"M 8.5 21.578125 \r\nL 8.5 54.6875 \r\nL 17.484375 54.6875 \r\nL 17.484375 21.921875 \r\nQ 17.484375 14.15625 20.5 10.265625 \r\nQ 23.53125 6.390625 29.59375 6.390625 \r\nQ 36.859375 6.390625 41.078125 11.03125 \r\nQ 45.3125 15.671875 45.3125 23.6875 \r\nL 45.3125 54.6875 \r\nL 54.296875 54.6875 \r\nL 54.296875 0 \r\nL 45.3125 0 \r\nL 45.3125 8.40625 \r\nQ 42.046875 3.421875 37.71875 1 \r\nQ 33.40625 -1.421875 27.6875 -1.421875 \r\nQ 18.265625 -1.421875 13.375 4.4375 \r\nQ 8.5 10.296875 8.5 21.578125 \r\nz\r\nM 31.109375 56 \r\nz\r\n\" id=\"DejaVuSans-117\"/>\r\n        <path d=\"M 41.109375 46.296875 \r\nQ 39.59375 47.171875 37.8125 47.578125 \r\nQ 36.03125 48 33.890625 48 \r\nQ 26.265625 48 22.1875 43.046875 \r\nQ 18.109375 38.09375 18.109375 28.8125 \r\nL 18.109375 0 \r\nL 9.078125 0 \r\nL 9.078125 54.6875 \r\nL 18.109375 54.6875 \r\nL 18.109375 46.1875 \r\nQ 20.953125 51.171875 25.484375 53.578125 \r\nQ 30.03125 56 36.53125 56 \r\nQ 37.453125 56 38.578125 55.875 \r\nQ 39.703125 55.765625 41.0625 55.515625 \r\nz\r\n\" id=\"DejaVuSans-114\"/>\r\n        <path d=\"M 2.984375 54.6875 \r\nL 12.5 54.6875 \r\nL 29.59375 8.796875 \r\nL 46.6875 54.6875 \r\nL 56.203125 54.6875 \r\nL 35.6875 0 \r\nL 23.484375 0 \r\nz\r\n\" id=\"DejaVuSans-118\"/>\r\n        <path d=\"M 9.421875 54.6875 \r\nL 18.40625 54.6875 \r\nL 18.40625 0 \r\nL 9.421875 0 \r\nz\r\nM 9.421875 75.984375 \r\nL 18.40625 75.984375 \r\nL 18.40625 64.59375 \r\nL 9.421875 64.59375 \r\nz\r\n\" id=\"DejaVuSans-105\"/>\r\n        <path d=\"M 56.203125 29.59375 \r\nL 56.203125 25.203125 \r\nL 14.890625 25.203125 \r\nQ 15.484375 15.921875 20.484375 11.0625 \r\nQ 25.484375 6.203125 34.421875 6.203125 \r\nQ 39.59375 6.203125 44.453125 7.46875 \r\nQ 49.3125 8.734375 54.109375 11.28125 \r\nL 54.109375 2.78125 \r\nQ 49.265625 0.734375 44.1875 -0.34375 \r\nQ 39.109375 -1.421875 33.890625 -1.421875 \r\nQ 20.796875 -1.421875 13.15625 6.1875 \r\nQ 5.515625 13.8125 5.515625 26.8125 \r\nQ 5.515625 40.234375 12.765625 48.109375 \r\nQ 20.015625 56 32.328125 56 \r\nQ 43.359375 56 49.78125 48.890625 \r\nQ 56.203125 41.796875 56.203125 29.59375 \r\nz\r\nM 47.21875 32.234375 \r\nQ 47.125 39.59375 43.09375 43.984375 \r\nQ 39.0625 48.390625 32.421875 48.390625 \r\nQ 24.90625 48.390625 20.390625 44.140625 \r\nQ 15.875 39.890625 15.1875 32.171875 \r\nz\r\n\" id=\"DejaVuSans-101\"/>\r\n        <path d=\"M 45.40625 46.390625 \r\nL 45.40625 75.984375 \r\nL 54.390625 75.984375 \r\nL 54.390625 0 \r\nL 45.40625 0 \r\nL 45.40625 8.203125 \r\nQ 42.578125 3.328125 38.25 0.953125 \r\nQ 33.9375 -1.421875 27.875 -1.421875 \r\nQ 17.96875 -1.421875 11.734375 6.484375 \r\nQ 5.515625 14.40625 5.515625 27.296875 \r\nQ 5.515625 40.1875 11.734375 48.09375 \r\nQ 17.96875 56 27.875 56 \r\nQ 33.9375 56 38.25 53.625 \r\nQ 42.578125 51.265625 45.40625 46.390625 \r\nz\r\nM 14.796875 27.296875 \r\nQ 14.796875 17.390625 18.875 11.75 \r\nQ 22.953125 6.109375 30.078125 6.109375 \r\nQ 37.203125 6.109375 41.296875 11.75 \r\nQ 45.40625 17.390625 45.40625 27.296875 \r\nQ 45.40625 37.203125 41.296875 42.84375 \r\nQ 37.203125 48.484375 30.078125 48.484375 \r\nQ 22.953125 48.484375 18.875 42.84375 \r\nQ 14.796875 37.203125 14.796875 27.296875 \r\nz\r\n\" id=\"DejaVuSans-100\"/>\r\n       </defs>\r\n       <use xlink:href=\"#DejaVuSans-83\"/>\r\n       <use x=\"63.476562\" xlink:href=\"#DejaVuSans-117\"/>\r\n       <use x=\"126.855469\" xlink:href=\"#DejaVuSans-114\"/>\r\n       <use x=\"167.96875\" xlink:href=\"#DejaVuSans-118\"/>\r\n       <use x=\"227.148438\" xlink:href=\"#DejaVuSans-105\"/>\r\n       <use x=\"254.931641\" xlink:href=\"#DejaVuSans-118\"/>\r\n       <use x=\"314.111328\" xlink:href=\"#DejaVuSans-101\"/>\r\n       <use x=\"375.634766\" xlink:href=\"#DejaVuSans-100\"/>\r\n      </g>\r\n     </g>\r\n    </g>\r\n    <g id=\"xtick_2\">\r\n     <g id=\"line2d_2\">\r\n      <g>\r\n       <use style=\"stroke:#000000;stroke-width:0.8;\" x=\"204.07875\" xlink:href=\"#m9f89fc2c68\" y=\"228.439219\"/>\r\n      </g>\r\n     </g>\r\n     <g id=\"text_2\">\r\n      <!-- Pclass -->\r\n      <g transform=\"translate(206.838125 266.292344)rotate(-90)scale(0.1 -0.1)\">\r\n       <defs>\r\n        <path d=\"M 19.671875 64.796875 \r\nL 19.671875 37.40625 \r\nL 32.078125 37.40625 \r\nQ 38.96875 37.40625 42.71875 40.96875 \r\nQ 46.484375 44.53125 46.484375 51.125 \r\nQ 46.484375 57.671875 42.71875 61.234375 \r\nQ 38.96875 64.796875 32.078125 64.796875 \r\nz\r\nM 9.8125 72.90625 \r\nL 32.078125 72.90625 \r\nQ 44.34375 72.90625 50.609375 67.359375 \r\nQ 56.890625 61.8125 56.890625 51.125 \r\nQ 56.890625 40.328125 50.609375 34.8125 \r\nQ 44.34375 29.296875 32.078125 29.296875 \r\nL 19.671875 29.296875 \r\nL 19.671875 0 \r\nL 9.8125 0 \r\nz\r\n\" id=\"DejaVuSans-80\"/>\r\n        <path d=\"M 48.78125 52.59375 \r\nL 48.78125 44.1875 \r\nQ 44.96875 46.296875 41.140625 47.34375 \r\nQ 37.3125 48.390625 33.40625 48.390625 \r\nQ 24.65625 48.390625 19.8125 42.84375 \r\nQ 14.984375 37.3125 14.984375 27.296875 \r\nQ 14.984375 17.28125 19.8125 11.734375 \r\nQ 24.65625 6.203125 33.40625 6.203125 \r\nQ 37.3125 6.203125 41.140625 7.25 \r\nQ 44.96875 8.296875 48.78125 10.40625 \r\nL 48.78125 2.09375 \r\nQ 45.015625 0.34375 40.984375 -0.53125 \r\nQ 36.96875 -1.421875 32.421875 -1.421875 \r\nQ 20.0625 -1.421875 12.78125 6.34375 \r\nQ 5.515625 14.109375 5.515625 27.296875 \r\nQ 5.515625 40.671875 12.859375 48.328125 \r\nQ 20.21875 56 33.015625 56 \r\nQ 37.15625 56 41.109375 55.140625 \r\nQ 45.0625 54.296875 48.78125 52.59375 \r\nz\r\n\" id=\"DejaVuSans-99\"/>\r\n        <path d=\"M 9.421875 75.984375 \r\nL 18.40625 75.984375 \r\nL 18.40625 0 \r\nL 9.421875 0 \r\nz\r\n\" id=\"DejaVuSans-108\"/>\r\n        <path d=\"M 34.28125 27.484375 \r\nQ 23.390625 27.484375 19.1875 25 \r\nQ 14.984375 22.515625 14.984375 16.5 \r\nQ 14.984375 11.71875 18.140625 8.90625 \r\nQ 21.296875 6.109375 26.703125 6.109375 \r\nQ 34.1875 6.109375 38.703125 11.40625 \r\nQ 43.21875 16.703125 43.21875 25.484375 \r\nL 43.21875 27.484375 \r\nz\r\nM 52.203125 31.203125 \r\nL 52.203125 0 \r\nL 43.21875 0 \r\nL 43.21875 8.296875 \r\nQ 40.140625 3.328125 35.546875 0.953125 \r\nQ 30.953125 -1.421875 24.3125 -1.421875 \r\nQ 15.921875 -1.421875 10.953125 3.296875 \r\nQ 6 8.015625 6 15.921875 \r\nQ 6 25.140625 12.171875 29.828125 \r\nQ 18.359375 34.515625 30.609375 34.515625 \r\nL 43.21875 34.515625 \r\nL 43.21875 35.40625 \r\nQ 43.21875 41.609375 39.140625 45 \r\nQ 35.0625 48.390625 27.6875 48.390625 \r\nQ 23 48.390625 18.546875 47.265625 \r\nQ 14.109375 46.140625 10.015625 43.890625 \r\nL 10.015625 52.203125 \r\nQ 14.9375 54.109375 19.578125 55.046875 \r\nQ 24.21875 56 28.609375 56 \r\nQ 40.484375 56 46.34375 49.84375 \r\nQ 52.203125 43.703125 52.203125 31.203125 \r\nz\r\n\" id=\"DejaVuSans-97\"/>\r\n        <path d=\"M 44.28125 53.078125 \r\nL 44.28125 44.578125 \r\nQ 40.484375 46.53125 36.375 47.5 \r\nQ 32.28125 48.484375 27.875 48.484375 \r\nQ 21.1875 48.484375 17.84375 46.4375 \r\nQ 14.5 44.390625 14.5 40.28125 \r\nQ 14.5 37.15625 16.890625 35.375 \r\nQ 19.28125 33.59375 26.515625 31.984375 \r\nL 29.59375 31.296875 \r\nQ 39.15625 29.25 43.1875 25.515625 \r\nQ 47.21875 21.78125 47.21875 15.09375 \r\nQ 47.21875 7.46875 41.1875 3.015625 \r\nQ 35.15625 -1.421875 24.609375 -1.421875 \r\nQ 20.21875 -1.421875 15.453125 -0.5625 \r\nQ 10.6875 0.296875 5.421875 2 \r\nL 5.421875 11.28125 \r\nQ 10.40625 8.6875 15.234375 7.390625 \r\nQ 20.0625 6.109375 24.8125 6.109375 \r\nQ 31.15625 6.109375 34.5625 8.28125 \r\nQ 37.984375 10.453125 37.984375 14.40625 \r\nQ 37.984375 18.0625 35.515625 20.015625 \r\nQ 33.0625 21.96875 24.703125 23.78125 \r\nL 21.578125 24.515625 \r\nQ 13.234375 26.265625 9.515625 29.90625 \r\nQ 5.8125 33.546875 5.8125 39.890625 \r\nQ 5.8125 47.609375 11.28125 51.796875 \r\nQ 16.75 56 26.8125 56 \r\nQ 31.78125 56 36.171875 55.265625 \r\nQ 40.578125 54.546875 44.28125 53.078125 \r\nz\r\n\" id=\"DejaVuSans-115\"/>\r\n       </defs>\r\n       <use xlink:href=\"#DejaVuSans-80\"/>\r\n       <use x=\"60.302734\" xlink:href=\"#DejaVuSans-99\"/>\r\n       <use x=\"115.283203\" xlink:href=\"#DejaVuSans-108\"/>\r\n       <use x=\"143.066406\" xlink:href=\"#DejaVuSans-97\"/>\r\n       <use x=\"204.345703\" xlink:href=\"#DejaVuSans-115\"/>\r\n       <use x=\"256.445312\" xlink:href=\"#DejaVuSans-115\"/>\r\n      </g>\r\n     </g>\r\n    </g>\r\n    <g id=\"xtick_3\">\r\n     <g id=\"line2d_3\">\r\n      <g>\r\n       <use style=\"stroke:#000000;stroke-width:0.8;\" x=\"248.71875\" xlink:href=\"#m9f89fc2c68\" y=\"228.439219\"/>\r\n      </g>\r\n     </g>\r\n     <g id=\"text_3\">\r\n      <!-- Age -->\r\n      <g transform=\"translate(251.478125 254.781406)rotate(-90)scale(0.1 -0.1)\">\r\n       <defs>\r\n        <path d=\"M 34.1875 63.1875 \r\nL 20.796875 26.90625 \r\nL 47.609375 26.90625 \r\nz\r\nM 28.609375 72.90625 \r\nL 39.796875 72.90625 \r\nL 67.578125 0 \r\nL 57.328125 0 \r\nL 50.6875 18.703125 \r\nL 17.828125 18.703125 \r\nL 11.1875 0 \r\nL 0.78125 0 \r\nz\r\n\" id=\"DejaVuSans-65\"/>\r\n        <path d=\"M 45.40625 27.984375 \r\nQ 45.40625 37.75 41.375 43.109375 \r\nQ 37.359375 48.484375 30.078125 48.484375 \r\nQ 22.859375 48.484375 18.828125 43.109375 \r\nQ 14.796875 37.75 14.796875 27.984375 \r\nQ 14.796875 18.265625 18.828125 12.890625 \r\nQ 22.859375 7.515625 30.078125 7.515625 \r\nQ 37.359375 7.515625 41.375 12.890625 \r\nQ 45.40625 18.265625 45.40625 27.984375 \r\nz\r\nM 54.390625 6.78125 \r\nQ 54.390625 -7.171875 48.1875 -13.984375 \r\nQ 42 -20.796875 29.203125 -20.796875 \r\nQ 24.46875 -20.796875 20.265625 -20.09375 \r\nQ 16.0625 -19.390625 12.109375 -17.921875 \r\nL 12.109375 -9.1875 \r\nQ 16.0625 -11.328125 19.921875 -12.34375 \r\nQ 23.78125 -13.375 27.78125 -13.375 \r\nQ 36.625 -13.375 41.015625 -8.765625 \r\nQ 45.40625 -4.15625 45.40625 5.171875 \r\nL 45.40625 9.625 \r\nQ 42.625 4.78125 38.28125 2.390625 \r\nQ 33.9375 0 27.875 0 \r\nQ 17.828125 0 11.671875 7.65625 \r\nQ 5.515625 15.328125 5.515625 27.984375 \r\nQ 5.515625 40.671875 11.671875 48.328125 \r\nQ 17.828125 56 27.875 56 \r\nQ 33.9375 56 38.28125 53.609375 \r\nQ 42.625 51.21875 45.40625 46.390625 \r\nL 45.40625 54.6875 \r\nL 54.390625 54.6875 \r\nz\r\n\" id=\"DejaVuSans-103\"/>\r\n       </defs>\r\n       <use xlink:href=\"#DejaVuSans-65\"/>\r\n       <use x=\"68.408203\" xlink:href=\"#DejaVuSans-103\"/>\r\n       <use x=\"131.884766\" xlink:href=\"#DejaVuSans-101\"/>\r\n      </g>\r\n     </g>\r\n    </g>\r\n    <g id=\"xtick_4\">\r\n     <g id=\"line2d_4\">\r\n      <g>\r\n       <use style=\"stroke:#000000;stroke-width:0.8;\" x=\"293.35875\" xlink:href=\"#m9f89fc2c68\" y=\"228.439219\"/>\r\n      </g>\r\n     </g>\r\n     <g id=\"text_4\">\r\n      <!-- Siblings/Spouses Aboard -->\r\n      <g transform=\"translate(296.118125 358.357969)rotate(-90)scale(0.1 -0.1)\">\r\n       <defs>\r\n        <path d=\"M 48.6875 27.296875 \r\nQ 48.6875 37.203125 44.609375 42.84375 \r\nQ 40.53125 48.484375 33.40625 48.484375 \r\nQ 26.265625 48.484375 22.1875 42.84375 \r\nQ 18.109375 37.203125 18.109375 27.296875 \r\nQ 18.109375 17.390625 22.1875 11.75 \r\nQ 26.265625 6.109375 33.40625 6.109375 \r\nQ 40.53125 6.109375 44.609375 11.75 \r\nQ 48.6875 17.390625 48.6875 27.296875 \r\nz\r\nM 18.109375 46.390625 \r\nQ 20.953125 51.265625 25.265625 53.625 \r\nQ 29.59375 56 35.59375 56 \r\nQ 45.5625 56 51.78125 48.09375 \r\nQ 58.015625 40.1875 58.015625 27.296875 \r\nQ 58.015625 14.40625 51.78125 6.484375 \r\nQ 45.5625 -1.421875 35.59375 -1.421875 \r\nQ 29.59375 -1.421875 25.265625 0.953125 \r\nQ 20.953125 3.328125 18.109375 8.203125 \r\nL 18.109375 0 \r\nL 9.078125 0 \r\nL 9.078125 75.984375 \r\nL 18.109375 75.984375 \r\nz\r\n\" id=\"DejaVuSans-98\"/>\r\n        <path d=\"M 54.890625 33.015625 \r\nL 54.890625 0 \r\nL 45.90625 0 \r\nL 45.90625 32.71875 \r\nQ 45.90625 40.484375 42.875 44.328125 \r\nQ 39.84375 48.1875 33.796875 48.1875 \r\nQ 26.515625 48.1875 22.3125 43.546875 \r\nQ 18.109375 38.921875 18.109375 30.90625 \r\nL 18.109375 0 \r\nL 9.078125 0 \r\nL 9.078125 54.6875 \r\nL 18.109375 54.6875 \r\nL 18.109375 46.1875 \r\nQ 21.34375 51.125 25.703125 53.5625 \r\nQ 30.078125 56 35.796875 56 \r\nQ 45.21875 56 50.046875 50.171875 \r\nQ 54.890625 44.34375 54.890625 33.015625 \r\nz\r\n\" id=\"DejaVuSans-110\"/>\r\n        <path d=\"M 25.390625 72.90625 \r\nL 33.6875 72.90625 \r\nL 8.296875 -9.28125 \r\nL 0 -9.28125 \r\nz\r\n\" id=\"DejaVuSans-47\"/>\r\n        <path d=\"M 18.109375 8.203125 \r\nL 18.109375 -20.796875 \r\nL 9.078125 -20.796875 \r\nL 9.078125 54.6875 \r\nL 18.109375 54.6875 \r\nL 18.109375 46.390625 \r\nQ 20.953125 51.265625 25.265625 53.625 \r\nQ 29.59375 56 35.59375 56 \r\nQ 45.5625 56 51.78125 48.09375 \r\nQ 58.015625 40.1875 58.015625 27.296875 \r\nQ 58.015625 14.40625 51.78125 6.484375 \r\nQ 45.5625 -1.421875 35.59375 -1.421875 \r\nQ 29.59375 -1.421875 25.265625 0.953125 \r\nQ 20.953125 3.328125 18.109375 8.203125 \r\nz\r\nM 48.6875 27.296875 \r\nQ 48.6875 37.203125 44.609375 42.84375 \r\nQ 40.53125 48.484375 33.40625 48.484375 \r\nQ 26.265625 48.484375 22.1875 42.84375 \r\nQ 18.109375 37.203125 18.109375 27.296875 \r\nQ 18.109375 17.390625 22.1875 11.75 \r\nQ 26.265625 6.109375 33.40625 6.109375 \r\nQ 40.53125 6.109375 44.609375 11.75 \r\nQ 48.6875 17.390625 48.6875 27.296875 \r\nz\r\n\" id=\"DejaVuSans-112\"/>\r\n        <path d=\"M 30.609375 48.390625 \r\nQ 23.390625 48.390625 19.1875 42.75 \r\nQ 14.984375 37.109375 14.984375 27.296875 \r\nQ 14.984375 17.484375 19.15625 11.84375 \r\nQ 23.34375 6.203125 30.609375 6.203125 \r\nQ 37.796875 6.203125 41.984375 11.859375 \r\nQ 46.1875 17.53125 46.1875 27.296875 \r\nQ 46.1875 37.015625 41.984375 42.703125 \r\nQ 37.796875 48.390625 30.609375 48.390625 \r\nz\r\nM 30.609375 56 \r\nQ 42.328125 56 49.015625 48.375 \r\nQ 55.71875 40.765625 55.71875 27.296875 \r\nQ 55.71875 13.875 49.015625 6.21875 \r\nQ 42.328125 -1.421875 30.609375 -1.421875 \r\nQ 18.84375 -1.421875 12.171875 6.21875 \r\nQ 5.515625 13.875 5.515625 27.296875 \r\nQ 5.515625 40.765625 12.171875 48.375 \r\nQ 18.84375 56 30.609375 56 \r\nz\r\n\" id=\"DejaVuSans-111\"/>\r\n        <path id=\"DejaVuSans-32\"/>\r\n       </defs>\r\n       <use xlink:href=\"#DejaVuSans-83\"/>\r\n       <use x=\"63.476562\" xlink:href=\"#DejaVuSans-105\"/>\r\n       <use x=\"91.259766\" xlink:href=\"#DejaVuSans-98\"/>\r\n       <use x=\"154.736328\" xlink:href=\"#DejaVuSans-108\"/>\r\n       <use x=\"182.519531\" xlink:href=\"#DejaVuSans-105\"/>\r\n       <use x=\"210.302734\" xlink:href=\"#DejaVuSans-110\"/>\r\n       <use x=\"273.681641\" xlink:href=\"#DejaVuSans-103\"/>\r\n       <use x=\"337.158203\" xlink:href=\"#DejaVuSans-115\"/>\r\n       <use x=\"389.257812\" xlink:href=\"#DejaVuSans-47\"/>\r\n       <use x=\"422.949219\" xlink:href=\"#DejaVuSans-83\"/>\r\n       <use x=\"486.425781\" xlink:href=\"#DejaVuSans-112\"/>\r\n       <use x=\"549.902344\" xlink:href=\"#DejaVuSans-111\"/>\r\n       <use x=\"611.083984\" xlink:href=\"#DejaVuSans-117\"/>\r\n       <use x=\"674.462891\" xlink:href=\"#DejaVuSans-115\"/>\r\n       <use x=\"726.5625\" xlink:href=\"#DejaVuSans-101\"/>\r\n       <use x=\"788.085938\" xlink:href=\"#DejaVuSans-115\"/>\r\n       <use x=\"840.185547\" xlink:href=\"#DejaVuSans-32\"/>\r\n       <use x=\"871.972656\" xlink:href=\"#DejaVuSans-65\"/>\r\n       <use x=\"940.380859\" xlink:href=\"#DejaVuSans-98\"/>\r\n       <use x=\"1003.857422\" xlink:href=\"#DejaVuSans-111\"/>\r\n       <use x=\"1065.039062\" xlink:href=\"#DejaVuSans-97\"/>\r\n       <use x=\"1126.318359\" xlink:href=\"#DejaVuSans-114\"/>\r\n       <use x=\"1165.681641\" xlink:href=\"#DejaVuSans-100\"/>\r\n      </g>\r\n     </g>\r\n    </g>\r\n    <g id=\"xtick_5\">\r\n     <g id=\"line2d_5\">\r\n      <g>\r\n       <use style=\"stroke:#000000;stroke-width:0.8;\" x=\"337.99875\" xlink:href=\"#m9f89fc2c68\" y=\"228.439219\"/>\r\n      </g>\r\n     </g>\r\n     <g id=\"text_5\">\r\n      <!-- Parents/Children Aboard -->\r\n      <g transform=\"translate(340.758125 356.522031)rotate(-90)scale(0.1 -0.1)\">\r\n       <defs>\r\n        <path d=\"M 18.3125 70.21875 \r\nL 18.3125 54.6875 \r\nL 36.8125 54.6875 \r\nL 36.8125 47.703125 \r\nL 18.3125 47.703125 \r\nL 18.3125 18.015625 \r\nQ 18.3125 11.328125 20.140625 9.421875 \r\nQ 21.96875 7.515625 27.59375 7.515625 \r\nL 36.8125 7.515625 \r\nL 36.8125 0 \r\nL 27.59375 0 \r\nQ 17.1875 0 13.234375 3.875 \r\nQ 9.28125 7.765625 9.28125 18.015625 \r\nL 9.28125 47.703125 \r\nL 2.6875 47.703125 \r\nL 2.6875 54.6875 \r\nL 9.28125 54.6875 \r\nL 9.28125 70.21875 \r\nz\r\n\" id=\"DejaVuSans-116\"/>\r\n        <path d=\"M 64.40625 67.28125 \r\nL 64.40625 56.890625 \r\nQ 59.421875 61.53125 53.78125 63.8125 \r\nQ 48.140625 66.109375 41.796875 66.109375 \r\nQ 29.296875 66.109375 22.65625 58.46875 \r\nQ 16.015625 50.828125 16.015625 36.375 \r\nQ 16.015625 21.96875 22.65625 14.328125 \r\nQ 29.296875 6.6875 41.796875 6.6875 \r\nQ 48.140625 6.6875 53.78125 8.984375 \r\nQ 59.421875 11.28125 64.40625 15.921875 \r\nL 64.40625 5.609375 \r\nQ 59.234375 2.09375 53.4375 0.328125 \r\nQ 47.65625 -1.421875 41.21875 -1.421875 \r\nQ 24.65625 -1.421875 15.125 8.703125 \r\nQ 5.609375 18.84375 5.609375 36.375 \r\nQ 5.609375 53.953125 15.125 64.078125 \r\nQ 24.65625 74.21875 41.21875 74.21875 \r\nQ 47.75 74.21875 53.53125 72.484375 \r\nQ 59.328125 70.75 64.40625 67.28125 \r\nz\r\n\" id=\"DejaVuSans-67\"/>\r\n        <path d=\"M 54.890625 33.015625 \r\nL 54.890625 0 \r\nL 45.90625 0 \r\nL 45.90625 32.71875 \r\nQ 45.90625 40.484375 42.875 44.328125 \r\nQ 39.84375 48.1875 33.796875 48.1875 \r\nQ 26.515625 48.1875 22.3125 43.546875 \r\nQ 18.109375 38.921875 18.109375 30.90625 \r\nL 18.109375 0 \r\nL 9.078125 0 \r\nL 9.078125 75.984375 \r\nL 18.109375 75.984375 \r\nL 18.109375 46.1875 \r\nQ 21.34375 51.125 25.703125 53.5625 \r\nQ 30.078125 56 35.796875 56 \r\nQ 45.21875 56 50.046875 50.171875 \r\nQ 54.890625 44.34375 54.890625 33.015625 \r\nz\r\n\" id=\"DejaVuSans-104\"/>\r\n       </defs>\r\n       <use xlink:href=\"#DejaVuSans-80\"/>\r\n       <use x=\"55.802734\" xlink:href=\"#DejaVuSans-97\"/>\r\n       <use x=\"117.082031\" xlink:href=\"#DejaVuSans-114\"/>\r\n       <use x=\"155.945312\" xlink:href=\"#DejaVuSans-101\"/>\r\n       <use x=\"217.46875\" xlink:href=\"#DejaVuSans-110\"/>\r\n       <use x=\"280.847656\" xlink:href=\"#DejaVuSans-116\"/>\r\n       <use x=\"320.056641\" xlink:href=\"#DejaVuSans-115\"/>\r\n       <use x=\"372.15625\" xlink:href=\"#DejaVuSans-47\"/>\r\n       <use x=\"405.847656\" xlink:href=\"#DejaVuSans-67\"/>\r\n       <use x=\"475.671875\" xlink:href=\"#DejaVuSans-104\"/>\r\n       <use x=\"539.050781\" xlink:href=\"#DejaVuSans-105\"/>\r\n       <use x=\"566.833984\" xlink:href=\"#DejaVuSans-108\"/>\r\n       <use x=\"594.617188\" xlink:href=\"#DejaVuSans-100\"/>\r\n       <use x=\"658.09375\" xlink:href=\"#DejaVuSans-114\"/>\r\n       <use x=\"696.957031\" xlink:href=\"#DejaVuSans-101\"/>\r\n       <use x=\"758.480469\" xlink:href=\"#DejaVuSans-110\"/>\r\n       <use x=\"821.859375\" xlink:href=\"#DejaVuSans-32\"/>\r\n       <use x=\"853.646484\" xlink:href=\"#DejaVuSans-65\"/>\r\n       <use x=\"922.054688\" xlink:href=\"#DejaVuSans-98\"/>\r\n       <use x=\"985.53125\" xlink:href=\"#DejaVuSans-111\"/>\r\n       <use x=\"1046.712891\" xlink:href=\"#DejaVuSans-97\"/>\r\n       <use x=\"1107.992188\" xlink:href=\"#DejaVuSans-114\"/>\r\n       <use x=\"1147.355469\" xlink:href=\"#DejaVuSans-100\"/>\r\n      </g>\r\n     </g>\r\n    </g>\r\n    <g id=\"xtick_6\">\r\n     <g id=\"line2d_6\">\r\n      <g>\r\n       <use style=\"stroke:#000000;stroke-width:0.8;\" x=\"382.63875\" xlink:href=\"#m9f89fc2c68\" y=\"228.439219\"/>\r\n      </g>\r\n     </g>\r\n     <g id=\"text_6\">\r\n      <!-- Fare -->\r\n      <g transform=\"translate(385.398125 256.445469)rotate(-90)scale(0.1 -0.1)\">\r\n       <defs>\r\n        <path d=\"M 9.8125 72.90625 \r\nL 51.703125 72.90625 \r\nL 51.703125 64.59375 \r\nL 19.671875 64.59375 \r\nL 19.671875 43.109375 \r\nL 48.578125 43.109375 \r\nL 48.578125 34.8125 \r\nL 19.671875 34.8125 \r\nL 19.671875 0 \r\nL 9.8125 0 \r\nz\r\n\" id=\"DejaVuSans-70\"/>\r\n       </defs>\r\n       <use xlink:href=\"#DejaVuSans-70\"/>\r\n       <use x=\"48.394531\" xlink:href=\"#DejaVuSans-97\"/>\r\n       <use x=\"109.673828\" xlink:href=\"#DejaVuSans-114\"/>\r\n       <use x=\"148.537109\" xlink:href=\"#DejaVuSans-101\"/>\r\n      </g>\r\n     </g>\r\n    </g>\r\n   </g>\r\n   <g id=\"matplotlib.axis_2\">\r\n    <g id=\"ytick_1\">\r\n     <g id=\"line2d_7\">\r\n      <defs>\r\n       <path d=\"M 0 0 \r\nL -3.5 0 \r\n\" id=\"maeb64f6e14\" style=\"stroke:#000000;stroke-width:0.8;\"/>\r\n      </defs>\r\n      <g>\r\n       <use style=\"stroke:#000000;stroke-width:0.8;\" x=\"137.11875\" xlink:href=\"#maeb64f6e14\" y=\"29.119219\"/>\r\n      </g>\r\n     </g>\r\n     <g id=\"text_7\">\r\n      <!-- Survived -->\r\n      <g transform=\"translate(86.204688 32.918438)scale(0.1 -0.1)\">\r\n       <use xlink:href=\"#DejaVuSans-83\"/>\r\n       <use x=\"63.476562\" xlink:href=\"#DejaVuSans-117\"/>\r\n       <use x=\"126.855469\" xlink:href=\"#DejaVuSans-114\"/>\r\n       <use x=\"167.96875\" xlink:href=\"#DejaVuSans-118\"/>\r\n       <use x=\"227.148438\" xlink:href=\"#DejaVuSans-105\"/>\r\n       <use x=\"254.931641\" xlink:href=\"#DejaVuSans-118\"/>\r\n       <use x=\"314.111328\" xlink:href=\"#DejaVuSans-101\"/>\r\n       <use x=\"375.634766\" xlink:href=\"#DejaVuSans-100\"/>\r\n      </g>\r\n     </g>\r\n    </g>\r\n    <g id=\"ytick_2\">\r\n     <g id=\"line2d_8\">\r\n      <g>\r\n       <use style=\"stroke:#000000;stroke-width:0.8;\" x=\"137.11875\" xlink:href=\"#maeb64f6e14\" y=\"65.359219\"/>\r\n      </g>\r\n     </g>\r\n     <g id=\"text_8\">\r\n      <!-- Pclass -->\r\n      <g transform=\"translate(99.265625 69.158438)scale(0.1 -0.1)\">\r\n       <use xlink:href=\"#DejaVuSans-80\"/>\r\n       <use x=\"60.302734\" xlink:href=\"#DejaVuSans-99\"/>\r\n       <use x=\"115.283203\" xlink:href=\"#DejaVuSans-108\"/>\r\n       <use x=\"143.066406\" xlink:href=\"#DejaVuSans-97\"/>\r\n       <use x=\"204.345703\" xlink:href=\"#DejaVuSans-115\"/>\r\n       <use x=\"256.445312\" xlink:href=\"#DejaVuSans-115\"/>\r\n      </g>\r\n     </g>\r\n    </g>\r\n    <g id=\"ytick_3\">\r\n     <g id=\"line2d_9\">\r\n      <g>\r\n       <use style=\"stroke:#000000;stroke-width:0.8;\" x=\"137.11875\" xlink:href=\"#maeb64f6e14\" y=\"101.599219\"/>\r\n      </g>\r\n     </g>\r\n     <g id=\"text_9\">\r\n      <!-- Age -->\r\n      <g transform=\"translate(110.776563 105.398438)scale(0.1 -0.1)\">\r\n       <use xlink:href=\"#DejaVuSans-65\"/>\r\n       <use x=\"68.408203\" xlink:href=\"#DejaVuSans-103\"/>\r\n       <use x=\"131.884766\" xlink:href=\"#DejaVuSans-101\"/>\r\n      </g>\r\n     </g>\r\n    </g>\r\n    <g id=\"ytick_4\">\r\n     <g id=\"line2d_10\">\r\n      <g>\r\n       <use style=\"stroke:#000000;stroke-width:0.8;\" x=\"137.11875\" xlink:href=\"#maeb64f6e14\" y=\"137.839219\"/>\r\n      </g>\r\n     </g>\r\n     <g id=\"text_10\">\r\n      <!-- Siblings/Spouses Aboard -->\r\n      <g transform=\"translate(7.2 141.638438)scale(0.1 -0.1)\">\r\n       <use xlink:href=\"#DejaVuSans-83\"/>\r\n       <use x=\"63.476562\" xlink:href=\"#DejaVuSans-105\"/>\r\n       <use x=\"91.259766\" xlink:href=\"#DejaVuSans-98\"/>\r\n       <use x=\"154.736328\" xlink:href=\"#DejaVuSans-108\"/>\r\n       <use x=\"182.519531\" xlink:href=\"#DejaVuSans-105\"/>\r\n       <use x=\"210.302734\" xlink:href=\"#DejaVuSans-110\"/>\r\n       <use x=\"273.681641\" xlink:href=\"#DejaVuSans-103\"/>\r\n       <use x=\"337.158203\" xlink:href=\"#DejaVuSans-115\"/>\r\n       <use x=\"389.257812\" xlink:href=\"#DejaVuSans-47\"/>\r\n       <use x=\"422.949219\" xlink:href=\"#DejaVuSans-83\"/>\r\n       <use x=\"486.425781\" xlink:href=\"#DejaVuSans-112\"/>\r\n       <use x=\"549.902344\" xlink:href=\"#DejaVuSans-111\"/>\r\n       <use x=\"611.083984\" xlink:href=\"#DejaVuSans-117\"/>\r\n       <use x=\"674.462891\" xlink:href=\"#DejaVuSans-115\"/>\r\n       <use x=\"726.5625\" xlink:href=\"#DejaVuSans-101\"/>\r\n       <use x=\"788.085938\" xlink:href=\"#DejaVuSans-115\"/>\r\n       <use x=\"840.185547\" xlink:href=\"#DejaVuSans-32\"/>\r\n       <use x=\"871.972656\" xlink:href=\"#DejaVuSans-65\"/>\r\n       <use x=\"940.380859\" xlink:href=\"#DejaVuSans-98\"/>\r\n       <use x=\"1003.857422\" xlink:href=\"#DejaVuSans-111\"/>\r\n       <use x=\"1065.039062\" xlink:href=\"#DejaVuSans-97\"/>\r\n       <use x=\"1126.318359\" xlink:href=\"#DejaVuSans-114\"/>\r\n       <use x=\"1165.681641\" xlink:href=\"#DejaVuSans-100\"/>\r\n      </g>\r\n     </g>\r\n    </g>\r\n    <g id=\"ytick_5\">\r\n     <g id=\"line2d_11\">\r\n      <g>\r\n       <use style=\"stroke:#000000;stroke-width:0.8;\" x=\"137.11875\" xlink:href=\"#maeb64f6e14\" y=\"174.079219\"/>\r\n      </g>\r\n     </g>\r\n     <g id=\"text_11\">\r\n      <!-- Parents/Children Aboard -->\r\n      <g transform=\"translate(9.035938 177.878438)scale(0.1 -0.1)\">\r\n       <use xlink:href=\"#DejaVuSans-80\"/>\r\n       <use x=\"55.802734\" xlink:href=\"#DejaVuSans-97\"/>\r\n       <use x=\"117.082031\" xlink:href=\"#DejaVuSans-114\"/>\r\n       <use x=\"155.945312\" xlink:href=\"#DejaVuSans-101\"/>\r\n       <use x=\"217.46875\" xlink:href=\"#DejaVuSans-110\"/>\r\n       <use x=\"280.847656\" xlink:href=\"#DejaVuSans-116\"/>\r\n       <use x=\"320.056641\" xlink:href=\"#DejaVuSans-115\"/>\r\n       <use x=\"372.15625\" xlink:href=\"#DejaVuSans-47\"/>\r\n       <use x=\"405.847656\" xlink:href=\"#DejaVuSans-67\"/>\r\n       <use x=\"475.671875\" xlink:href=\"#DejaVuSans-104\"/>\r\n       <use x=\"539.050781\" xlink:href=\"#DejaVuSans-105\"/>\r\n       <use x=\"566.833984\" xlink:href=\"#DejaVuSans-108\"/>\r\n       <use x=\"594.617188\" xlink:href=\"#DejaVuSans-100\"/>\r\n       <use x=\"658.09375\" xlink:href=\"#DejaVuSans-114\"/>\r\n       <use x=\"696.957031\" xlink:href=\"#DejaVuSans-101\"/>\r\n       <use x=\"758.480469\" xlink:href=\"#DejaVuSans-110\"/>\r\n       <use x=\"821.859375\" xlink:href=\"#DejaVuSans-32\"/>\r\n       <use x=\"853.646484\" xlink:href=\"#DejaVuSans-65\"/>\r\n       <use x=\"922.054688\" xlink:href=\"#DejaVuSans-98\"/>\r\n       <use x=\"985.53125\" xlink:href=\"#DejaVuSans-111\"/>\r\n       <use x=\"1046.712891\" xlink:href=\"#DejaVuSans-97\"/>\r\n       <use x=\"1107.992188\" xlink:href=\"#DejaVuSans-114\"/>\r\n       <use x=\"1147.355469\" xlink:href=\"#DejaVuSans-100\"/>\r\n      </g>\r\n     </g>\r\n    </g>\r\n    <g id=\"ytick_6\">\r\n     <g id=\"line2d_12\">\r\n      <g>\r\n       <use style=\"stroke:#000000;stroke-width:0.8;\" x=\"137.11875\" xlink:href=\"#maeb64f6e14\" y=\"210.319219\"/>\r\n      </g>\r\n     </g>\r\n     <g id=\"text_12\">\r\n      <!-- Fare -->\r\n      <g transform=\"translate(109.1125 214.118438)scale(0.1 -0.1)\">\r\n       <use xlink:href=\"#DejaVuSans-70\"/>\r\n       <use x=\"48.394531\" xlink:href=\"#DejaVuSans-97\"/>\r\n       <use x=\"109.673828\" xlink:href=\"#DejaVuSans-114\"/>\r\n       <use x=\"148.537109\" xlink:href=\"#DejaVuSans-101\"/>\r\n      </g>\r\n     </g>\r\n    </g>\r\n   </g>\r\n  </g>\r\n  <g id=\"axes_2\">\r\n   <g id=\"patch_3\">\r\n    <path clip-path=\"url(#p3e755e47a5)\" d=\"M 421.69875 228.439219 \r\nL 421.69875 227.589844 \r\nL 421.69875 11.848594 \r\nL 421.69875 10.999219 \r\nL 432.57075 10.999219 \r\nL 432.57075 11.848594 \r\nL 432.57075 227.589844 \r\nL 432.57075 228.439219 \r\nz\r\n\" style=\"fill:#ffffff;stroke:#ffffff;stroke-linejoin:miter;stroke-width:0.01;\"/>\r\n   </g>\r\n   <image height=\"218\" id=\"image9e7d5b7495\" transform=\"scale(1 -1)translate(0 -218)\" width=\"11\" x=\"422\" xlink:href=\"data:image/png;base64,\r\niVBORw0KGgoAAAANSUhEUgAAAAsAAADaCAYAAABwzrisAAABSklEQVR4nNXZQY7EIAxE0QDpS8z979lzBd7iS+6srdJ3lQOErPfz930un3etdVurxU+lvKX4rF1hzGiQlM0NabBjJp8x7hluZMpT4iblMO4RzOHw/2CCQ9wIV36z7v6x4SflLu4Ooxv+0rpK+bURBYwxcYNyyTwCw4b/+vMgdoOKs9kQN8oGofhkCVrcMzBCN8LZuJc2DBx+wRDlzo2TMWODnXWgLC9hySwYW4oPNZhhwIGxxNiwFmCDomxumLLMBiz9pjzEjU0NEjO83mqdKBOzuUEYVfHTYbwdBhy2Q2U4RITMjygjhigfuO0hZSyuMMy6c3/ODd1YmRvYYIYhd4yhdWHcgiHXhqYM320aivwiCWeji5sSzJi7QXrvd/qywTBuaXAI8ww31uq2iSFufEZg2I9mCWXK8M/YgMiNX2yQlG027huUu73nH/9sLSWotUaMAAAAAElFTkSuQmCC\" y=\"-10\"/>\r\n   <g id=\"matplotlib.axis_3\"/>\r\n   <g id=\"matplotlib.axis_4\">\r\n    <g id=\"ytick_7\">\r\n     <g id=\"line2d_13\">\r\n      <defs>\r\n       <path d=\"M 0 0 \r\nL 3.5 0 \r\n\" id=\"m8b6a3424d5\" style=\"stroke:#000000;stroke-width:0.8;\"/>\r\n      </defs>\r\n      <g>\r\n       <use style=\"stroke:#000000;stroke-width:0.8;\" x=\"432.57075\" xlink:href=\"#m8b6a3424d5\" y=\"207.53366\"/>\r\n      </g>\r\n     </g>\r\n     <g id=\"text_13\">\r\n      <!-- −0.4 -->\r\n      <g transform=\"translate(439.57075 211.332879)scale(0.1 -0.1)\">\r\n       <defs>\r\n        <path d=\"M 10.59375 35.5 \r\nL 73.1875 35.5 \r\nL 73.1875 27.203125 \r\nL 10.59375 27.203125 \r\nz\r\n\" id=\"DejaVuSans-8722\"/>\r\n        <path d=\"M 31.78125 66.40625 \r\nQ 24.171875 66.40625 20.328125 58.90625 \r\nQ 16.5 51.421875 16.5 36.375 \r\nQ 16.5 21.390625 20.328125 13.890625 \r\nQ 24.171875 6.390625 31.78125 6.390625 \r\nQ 39.453125 6.390625 43.28125 13.890625 \r\nQ 47.125 21.390625 47.125 36.375 \r\nQ 47.125 51.421875 43.28125 58.90625 \r\nQ 39.453125 66.40625 31.78125 66.40625 \r\nz\r\nM 31.78125 74.21875 \r\nQ 44.046875 74.21875 50.515625 64.515625 \r\nQ 56.984375 54.828125 56.984375 36.375 \r\nQ 56.984375 17.96875 50.515625 8.265625 \r\nQ 44.046875 -1.421875 31.78125 -1.421875 \r\nQ 19.53125 -1.421875 13.0625 8.265625 \r\nQ 6.59375 17.96875 6.59375 36.375 \r\nQ 6.59375 54.828125 13.0625 64.515625 \r\nQ 19.53125 74.21875 31.78125 74.21875 \r\nz\r\n\" id=\"DejaVuSans-48\"/>\r\n        <path d=\"M 10.6875 12.40625 \r\nL 21 12.40625 \r\nL 21 0 \r\nL 10.6875 0 \r\nz\r\n\" id=\"DejaVuSans-46\"/>\r\n        <path d=\"M 37.796875 64.3125 \r\nL 12.890625 25.390625 \r\nL 37.796875 25.390625 \r\nz\r\nM 35.203125 72.90625 \r\nL 47.609375 72.90625 \r\nL 47.609375 25.390625 \r\nL 58.015625 25.390625 \r\nL 58.015625 17.1875 \r\nL 47.609375 17.1875 \r\nL 47.609375 0 \r\nL 37.796875 0 \r\nL 37.796875 17.1875 \r\nL 4.890625 17.1875 \r\nL 4.890625 26.703125 \r\nz\r\n\" id=\"DejaVuSans-52\"/>\r\n       </defs>\r\n       <use xlink:href=\"#DejaVuSans-8722\"/>\r\n       <use x=\"83.789062\" xlink:href=\"#DejaVuSans-48\"/>\r\n       <use x=\"147.412109\" xlink:href=\"#DejaVuSans-46\"/>\r\n       <use x=\"179.199219\" xlink:href=\"#DejaVuSans-52\"/>\r\n      </g>\r\n     </g>\r\n    </g>\r\n    <g id=\"ytick_8\">\r\n     <g id=\"line2d_14\">\r\n      <g>\r\n       <use style=\"stroke:#000000;stroke-width:0.8;\" x=\"432.57075\" xlink:href=\"#m8b6a3424d5\" y=\"179.457311\"/>\r\n      </g>\r\n     </g>\r\n     <g id=\"text_14\">\r\n      <!-- −0.2 -->\r\n      <g transform=\"translate(439.57075 183.25653)scale(0.1 -0.1)\">\r\n       <defs>\r\n        <path d=\"M 19.1875 8.296875 \r\nL 53.609375 8.296875 \r\nL 53.609375 0 \r\nL 7.328125 0 \r\nL 7.328125 8.296875 \r\nQ 12.9375 14.109375 22.625 23.890625 \r\nQ 32.328125 33.6875 34.8125 36.53125 \r\nQ 39.546875 41.84375 41.421875 45.53125 \r\nQ 43.3125 49.21875 43.3125 52.78125 \r\nQ 43.3125 58.59375 39.234375 62.25 \r\nQ 35.15625 65.921875 28.609375 65.921875 \r\nQ 23.96875 65.921875 18.8125 64.3125 \r\nQ 13.671875 62.703125 7.8125 59.421875 \r\nL 7.8125 69.390625 \r\nQ 13.765625 71.78125 18.9375 73 \r\nQ 24.125 74.21875 28.421875 74.21875 \r\nQ 39.75 74.21875 46.484375 68.546875 \r\nQ 53.21875 62.890625 53.21875 53.421875 \r\nQ 53.21875 48.921875 51.53125 44.890625 \r\nQ 49.859375 40.875 45.40625 35.40625 \r\nQ 44.1875 33.984375 37.640625 27.21875 \r\nQ 31.109375 20.453125 19.1875 8.296875 \r\nz\r\n\" id=\"DejaVuSans-50\"/>\r\n       </defs>\r\n       <use xlink:href=\"#DejaVuSans-8722\"/>\r\n       <use x=\"83.789062\" xlink:href=\"#DejaVuSans-48\"/>\r\n       <use x=\"147.412109\" xlink:href=\"#DejaVuSans-46\"/>\r\n       <use x=\"179.199219\" xlink:href=\"#DejaVuSans-50\"/>\r\n      </g>\r\n     </g>\r\n    </g>\r\n    <g id=\"ytick_9\">\r\n     <g id=\"line2d_15\">\r\n      <g>\r\n       <use style=\"stroke:#000000;stroke-width:0.8;\" x=\"432.57075\" xlink:href=\"#m8b6a3424d5\" y=\"151.380962\"/>\r\n      </g>\r\n     </g>\r\n     <g id=\"text_15\">\r\n      <!-- 0.0 -->\r\n      <g transform=\"translate(439.57075 155.180181)scale(0.1 -0.1)\">\r\n       <use xlink:href=\"#DejaVuSans-48\"/>\r\n       <use x=\"63.623047\" xlink:href=\"#DejaVuSans-46\"/>\r\n       <use x=\"95.410156\" xlink:href=\"#DejaVuSans-48\"/>\r\n      </g>\r\n     </g>\r\n    </g>\r\n    <g id=\"ytick_10\">\r\n     <g id=\"line2d_16\">\r\n      <g>\r\n       <use style=\"stroke:#000000;stroke-width:0.8;\" x=\"432.57075\" xlink:href=\"#m8b6a3424d5\" y=\"123.304614\"/>\r\n      </g>\r\n     </g>\r\n     <g id=\"text_16\">\r\n      <!-- 0.2 -->\r\n      <g transform=\"translate(439.57075 127.103832)scale(0.1 -0.1)\">\r\n       <use xlink:href=\"#DejaVuSans-48\"/>\r\n       <use x=\"63.623047\" xlink:href=\"#DejaVuSans-46\"/>\r\n       <use x=\"95.410156\" xlink:href=\"#DejaVuSans-50\"/>\r\n      </g>\r\n     </g>\r\n    </g>\r\n    <g id=\"ytick_11\">\r\n     <g id=\"line2d_17\">\r\n      <g>\r\n       <use style=\"stroke:#000000;stroke-width:0.8;\" x=\"432.57075\" xlink:href=\"#m8b6a3424d5\" y=\"95.228265\"/>\r\n      </g>\r\n     </g>\r\n     <g id=\"text_17\">\r\n      <!-- 0.4 -->\r\n      <g transform=\"translate(439.57075 99.027484)scale(0.1 -0.1)\">\r\n       <use xlink:href=\"#DejaVuSans-48\"/>\r\n       <use x=\"63.623047\" xlink:href=\"#DejaVuSans-46\"/>\r\n       <use x=\"95.410156\" xlink:href=\"#DejaVuSans-52\"/>\r\n      </g>\r\n     </g>\r\n    </g>\r\n    <g id=\"ytick_12\">\r\n     <g id=\"line2d_18\">\r\n      <g>\r\n       <use style=\"stroke:#000000;stroke-width:0.8;\" x=\"432.57075\" xlink:href=\"#m8b6a3424d5\" y=\"67.151916\"/>\r\n      </g>\r\n     </g>\r\n     <g id=\"text_18\">\r\n      <!-- 0.6 -->\r\n      <g transform=\"translate(439.57075 70.951135)scale(0.1 -0.1)\">\r\n       <defs>\r\n        <path d=\"M 33.015625 40.375 \r\nQ 26.375 40.375 22.484375 35.828125 \r\nQ 18.609375 31.296875 18.609375 23.390625 \r\nQ 18.609375 15.53125 22.484375 10.953125 \r\nQ 26.375 6.390625 33.015625 6.390625 \r\nQ 39.65625 6.390625 43.53125 10.953125 \r\nQ 47.40625 15.53125 47.40625 23.390625 \r\nQ 47.40625 31.296875 43.53125 35.828125 \r\nQ 39.65625 40.375 33.015625 40.375 \r\nz\r\nM 52.59375 71.296875 \r\nL 52.59375 62.3125 \r\nQ 48.875 64.0625 45.09375 64.984375 \r\nQ 41.3125 65.921875 37.59375 65.921875 \r\nQ 27.828125 65.921875 22.671875 59.328125 \r\nQ 17.53125 52.734375 16.796875 39.40625 \r\nQ 19.671875 43.65625 24.015625 45.921875 \r\nQ 28.375 48.1875 33.59375 48.1875 \r\nQ 44.578125 48.1875 50.953125 41.515625 \r\nQ 57.328125 34.859375 57.328125 23.390625 \r\nQ 57.328125 12.15625 50.6875 5.359375 \r\nQ 44.046875 -1.421875 33.015625 -1.421875 \r\nQ 20.359375 -1.421875 13.671875 8.265625 \r\nQ 6.984375 17.96875 6.984375 36.375 \r\nQ 6.984375 53.65625 15.1875 63.9375 \r\nQ 23.390625 74.21875 37.203125 74.21875 \r\nQ 40.921875 74.21875 44.703125 73.484375 \r\nQ 48.484375 72.75 52.59375 71.296875 \r\nz\r\n\" id=\"DejaVuSans-54\"/>\r\n       </defs>\r\n       <use xlink:href=\"#DejaVuSans-48\"/>\r\n       <use x=\"63.623047\" xlink:href=\"#DejaVuSans-46\"/>\r\n       <use x=\"95.410156\" xlink:href=\"#DejaVuSans-54\"/>\r\n      </g>\r\n     </g>\r\n    </g>\r\n    <g id=\"ytick_13\">\r\n     <g id=\"line2d_19\">\r\n      <g>\r\n       <use style=\"stroke:#000000;stroke-width:0.8;\" x=\"432.57075\" xlink:href=\"#m8b6a3424d5\" y=\"39.075567\"/>\r\n      </g>\r\n     </g>\r\n     <g id=\"text_19\">\r\n      <!-- 0.8 -->\r\n      <g transform=\"translate(439.57075 42.874786)scale(0.1 -0.1)\">\r\n       <defs>\r\n        <path d=\"M 31.78125 34.625 \r\nQ 24.75 34.625 20.71875 30.859375 \r\nQ 16.703125 27.09375 16.703125 20.515625 \r\nQ 16.703125 13.921875 20.71875 10.15625 \r\nQ 24.75 6.390625 31.78125 6.390625 \r\nQ 38.8125 6.390625 42.859375 10.171875 \r\nQ 46.921875 13.96875 46.921875 20.515625 \r\nQ 46.921875 27.09375 42.890625 30.859375 \r\nQ 38.875 34.625 31.78125 34.625 \r\nz\r\nM 21.921875 38.8125 \r\nQ 15.578125 40.375 12.03125 44.71875 \r\nQ 8.5 49.078125 8.5 55.328125 \r\nQ 8.5 64.0625 14.71875 69.140625 \r\nQ 20.953125 74.21875 31.78125 74.21875 \r\nQ 42.671875 74.21875 48.875 69.140625 \r\nQ 55.078125 64.0625 55.078125 55.328125 \r\nQ 55.078125 49.078125 51.53125 44.71875 \r\nQ 48 40.375 41.703125 38.8125 \r\nQ 48.828125 37.15625 52.796875 32.3125 \r\nQ 56.78125 27.484375 56.78125 20.515625 \r\nQ 56.78125 9.90625 50.3125 4.234375 \r\nQ 43.84375 -1.421875 31.78125 -1.421875 \r\nQ 19.734375 -1.421875 13.25 4.234375 \r\nQ 6.78125 9.90625 6.78125 20.515625 \r\nQ 6.78125 27.484375 10.78125 32.3125 \r\nQ 14.796875 37.15625 21.921875 38.8125 \r\nz\r\nM 18.3125 54.390625 \r\nQ 18.3125 48.734375 21.84375 45.5625 \r\nQ 25.390625 42.390625 31.78125 42.390625 \r\nQ 38.140625 42.390625 41.71875 45.5625 \r\nQ 45.3125 48.734375 45.3125 54.390625 \r\nQ 45.3125 60.0625 41.71875 63.234375 \r\nQ 38.140625 66.40625 31.78125 66.40625 \r\nQ 25.390625 66.40625 21.84375 63.234375 \r\nQ 18.3125 60.0625 18.3125 54.390625 \r\nz\r\n\" id=\"DejaVuSans-56\"/>\r\n       </defs>\r\n       <use xlink:href=\"#DejaVuSans-48\"/>\r\n       <use x=\"63.623047\" xlink:href=\"#DejaVuSans-46\"/>\r\n       <use x=\"95.410156\" xlink:href=\"#DejaVuSans-56\"/>\r\n      </g>\r\n     </g>\r\n    </g>\r\n    <g id=\"ytick_14\">\r\n     <g id=\"line2d_20\">\r\n      <g>\r\n       <use style=\"stroke:#000000;stroke-width:0.8;\" x=\"432.57075\" xlink:href=\"#m8b6a3424d5\" y=\"10.999219\"/>\r\n      </g>\r\n     </g>\r\n     <g id=\"text_20\">\r\n      <!-- 1.0 -->\r\n      <g transform=\"translate(439.57075 14.798438)scale(0.1 -0.1)\">\r\n       <defs>\r\n        <path d=\"M 12.40625 8.296875 \r\nL 28.515625 8.296875 \r\nL 28.515625 63.921875 \r\nL 10.984375 60.40625 \r\nL 10.984375 69.390625 \r\nL 28.421875 72.90625 \r\nL 38.28125 72.90625 \r\nL 38.28125 8.296875 \r\nL 54.390625 8.296875 \r\nL 54.390625 0 \r\nL 12.40625 0 \r\nz\r\n\" id=\"DejaVuSans-49\"/>\r\n       </defs>\r\n       <use xlink:href=\"#DejaVuSans-49\"/>\r\n       <use x=\"63.623047\" xlink:href=\"#DejaVuSans-46\"/>\r\n       <use x=\"95.410156\" xlink:href=\"#DejaVuSans-48\"/>\r\n      </g>\r\n     </g>\r\n    </g>\r\n   </g>\r\n   <g id=\"patch_4\">\r\n    <path d=\"M 421.69875 228.439219 \r\nL 421.69875 227.589844 \r\nL 421.69875 11.848594 \r\nL 421.69875 10.999219 \r\nL 432.57075 10.999219 \r\nL 432.57075 11.848594 \r\nL 432.57075 227.589844 \r\nL 432.57075 228.439219 \r\nz\r\n\" style=\"fill:none;\"/>\r\n   </g>\r\n  </g>\r\n </g>\r\n <defs>\r\n  <clipPath id=\"p0aa10db753\">\r\n   <rect height=\"217.44\" width=\"267.84\" x=\"137.11875\" y=\"10.999219\"/>\r\n  </clipPath>\r\n  <clipPath id=\"p3e755e47a5\">\r\n   <rect height=\"217.44\" width=\"10.872\" x=\"421.69875\" y=\"10.999219\"/>\r\n  </clipPath>\r\n </defs>\r\n</svg>\r\n",
      "image/png": "[encoded data removed]"
     },
     "metadata": {
      "needs_background": "light"
     }
    }
   ],
   "source": [
    "import seaborn as sns\n",
    "corr = df_02.corr() # print(corr)\n",
    "sns.heatmap(corr, xticklabels=corr.columns, yticklabels=corr.columns)"
   ]
  }
 ]
}