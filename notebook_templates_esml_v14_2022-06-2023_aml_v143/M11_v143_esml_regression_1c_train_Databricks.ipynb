{
 "cells": [
  {
   "cell_type": "code",
   "execution_count": 2,
   "metadata": {},
   "outputs": [
    {
     "name": "stdout",
     "output_type": "stream",
     "text": [
      "SDK Version: 1.43.0\n"
     ]
    }
   ],
   "source": [
    "import azureml.core\n",
    "print(\"SDK Version:\", azureml.core.VERSION)"
   ]
  },
  {
   "cell_type": "markdown",
   "metadata": {},
   "source": [
    "# ESML: Using `Databricks for \"IN_2_SILVER\" + \"SILVER_2_GOLD\"` + ESML Gold_Split & Train, in VS Code, AML pipeline\n",
    "- 1) `AutoMap datalake` & init ESML project\n",
    "- 2) `Train model & compare` scoring to existing active model in DEV, TEST, or PROD\n",
    "- 3) `Deploy model & Test` AKS webservice\n",
    "\n",
    "\n"
   ]
  },
  {
   "cell_type": "markdown",
   "metadata": {},
   "source": [
    "######  NB! This,InteractiveLoginAuthentication, is only needed to run 1st time, then when ws_config is written, use later CELL in notebook, that just reads that file\n",
    "import repackage\n",
    "repackage.add(\"../azure-enterprise-scale-ml/esml/common/\")\n",
    "from azureml.core import Workspace\n",
    "from azureml.core.authentication import InteractiveLoginAuthentication\n",
    "#sys.path.append(os.path.abspath(\"../azure-enterprise-scale-ml/esml/common/\"))  # NOQA: E402\n",
    "from esml import ESMLDataset, ESMLProject\n",
    "\n",
    "p = ESMLProject()\n",
    "#p.dev_test_prod=\"dev\"\n",
    "auth = InteractiveLoginAuthentication(tenant_id = p.tenant)\n",
    "ws, config_name = p.authenticate_workspace_and_write_config(auth)\n",
    "######  NB!"
   ]
  },
  {
   "cell_type": "code",
   "execution_count": 3,
   "metadata": {},
   "outputs": [
    {
     "name": "stdout",
     "output_type": "stream",
     "text": [
      "Using lake_settings.json with ESML version 1.4 - Models array support including LABEL\n",
      "Environment: dev\n",
      "Inference version: 1\n",
      "\n",
      " - ds01_diabetes\n",
      "projects/project002/11_diabetes_model_reg/train/ds01_diabetes/in/dev/2021/01/01/\n",
      "projects/project002/11_diabetes_model_reg/train/ds01_diabetes/out/bronze/dev/\n",
      "projects/project002/11_diabetes_model_reg/train/ds01_diabetes/out/silver/dev/\n",
      "\n",
      " - ds02_other\n",
      "projects/project002/11_diabetes_model_reg/train/ds02_other/in/dev/2021/01/01/\n",
      "projects/project002/11_diabetes_model_reg/train/ds02_other/out/bronze/dev/\n",
      "projects/project002/11_diabetes_model_reg/train/ds02_other/out/silver/dev/\n",
      " \n",
      "\n",
      "Training GOLD (p.GoldPath)\n",
      "projects/project002/11_diabetes_model_reg/train/gold/dev/\n",
      " \n",
      "\n",
      "[A) USAGE]: to_score_folder, scored_folder, date_folder = p.get_gold_scored_unique_path()\n",
      "A)INFERENCE ONLINE: GOLD to score (example if realtime - today)\n",
      "projects/project002/11_diabetes_model_reg/inference/1/gold/dev/2022_07_30/eb5d5786a3994bf49d425731afad334a/\n",
      " \n",
      "\n",
      "A)INFERENCE ONLINE: GOLD scored (example if realtime today)\n",
      "projects/project002/11_diabetes_model_reg/inference/1/scored/dev/2022_07_30/eb5d5786a3994bf49d425731afad334a/\n",
      " \n",
      "\n",
      "[B) USAGE]: to_score_folder_batch, scored_folder, date_folder = p.get_gold_scored_unique_path(p.date_scoring_folder)\n",
      "B)INFERENCE BATCH: GOLD to score (example batch, datetime from config)\n",
      "projects/project002/11_diabetes_model_reg/inference/1/gold/dev/2021_06_08/fbfd2d1183fb4429855697859864cbc1/\n",
      " \n",
      "\n",
      "B)INFERENCE BATCH: GOLD scored (example batch, datetime from config)\n",
      "projects/project002/11_diabetes_model_reg/inference/1/scored/dev/2021_06_08/fbfd2d1183fb4429855697859864cbc1/\n",
      " \n",
      "\n",
      "C) INFERENCE BATCH (SCENARIO 2): TODAY I scored data from X days AGO  (second datefolder from config - X days ago)\n",
      "projects/project002/11_diabetes_model_reg/inference/1/gold/dev/2021_06_08/fbfd2d1183fb4429855697859864cbc1/2021_06_08/\n",
      "projects/project002/11_diabetes_model_reg/inference/1/scored/dev/2021_06_08/fbfd2d1183fb4429855697859864cbc1/2021_06_08/\n",
      " \n",
      "\n",
      "ENVIRONMENT - DEV, TEST, or PROD?  [USAGE: p.dev_test_prod]\n",
      "ACTIVE ENVIRONMENT = dev\n",
      "ACTIVE subscription = ca0a8c40-b06a-4e4e-8434-63c03a1dee34\n",
      "- abc-def-esml-project002-weu-DEV-004-rg\n",
      "- aml-prj002-weu-DEV-003\n",
      "- westeurope\n",
      "- abc-def-esml-common-weu-DEV-004\n",
      "Active vNet: vnt-esmlcmn-weu-dev-001\n",
      "Active SubNet: snet-esml-cmn-001\n",
      "[USAGE] for the above: p.vNetForActiveEnvironment()\n",
      "Active Lake (storage account)  abcdeffubyjesml001dev\n",
      "[USAGE] for the above: p.getLakeForActiveEnvironment()\n",
      "AML for docker: True\n"
     ]
    }
   ],
   "source": [
    "import sys\n",
    "sys.path.insert(0, \"../azure-enterprise-scale-ml/esml/common/\")\n",
    "from esml import ESMLDataset, ESMLProject\n",
    "\n",
    "p = ESMLProject() # Will search in ROOT for your copied SETTINGS folder '../../../settings', you should copy template settings from '../settings'\n",
    "p.active_model = 11\n",
    "p.ws = p.get_workspace_from_config() #2) Load DEV or TEST or PROD Azure ML Studio workspace\n",
    "p.inference_mode = False\n",
    "\n",
    "unregister_all_datasets=False\n",
    "if(unregister_all_datasets):\n",
    "    p.unregister_all_datasets(p.ws) # For DEMO purpose\n",
    "\n",
    "p.describe()"
   ]
  },
  {
   "cell_type": "code",
   "execution_count": 4,
   "metadata": {},
   "outputs": [
    {
     "name": "stdout",
     "output_type": "stream",
     "text": [
      "Using GEN2 as Datastore\n",
      "use_project_sp_2_mount: True\n",
      "Searching for setting in ESML datalake...\n",
      "ESML in-folder settings override = TRUE \n",
      " - Found settings in the ESML AutoLake  [active_in_folder.json,active_scoring_in_folder.json], to override ArgParse/GIT config with.\n",
      " - TRAIN in date:  2021/01/01\n",
      " - INFERENCE in date: 2021/06/08 and ModelVersion to score with: 1 (0=latest)\n"
     ]
    },
    {
     "data": {
      "text/html": [
       "<div>\n",
       "<style scoped>\n",
       "    .dataframe tbody tr th:only-of-type {\n",
       "        vertical-align: middle;\n",
       "    }\n",
       "\n",
       "    .dataframe tbody tr th {\n",
       "        vertical-align: top;\n",
       "    }\n",
       "\n",
       "    .dataframe thead th {\n",
       "        text-align: right;\n",
       "    }\n",
       "</style>\n",
       "<table border=\"1\" class=\"dataframe\">\n",
       "  <thead>\n",
       "    <tr style=\"text-align: right;\">\n",
       "      <th></th>\n",
       "      <th>AGE</th>\n",
       "      <th>SEX</th>\n",
       "      <th>BMI</th>\n",
       "      <th>BP</th>\n",
       "      <th>S1</th>\n",
       "      <th>S2</th>\n",
       "      <th>S3</th>\n",
       "      <th>S4</th>\n",
       "      <th>S5</th>\n",
       "      <th>S6</th>\n",
       "      <th>Y</th>\n",
       "    </tr>\n",
       "  </thead>\n",
       "  <tbody>\n",
       "    <tr>\n",
       "      <th>0</th>\n",
       "      <td>0.038076</td>\n",
       "      <td>0.050680</td>\n",
       "      <td>0.061696</td>\n",
       "      <td>0.021872</td>\n",
       "      <td>-0.044223</td>\n",
       "      <td>-0.034821</td>\n",
       "      <td>-0.043401</td>\n",
       "      <td>-0.002592</td>\n",
       "      <td>0.019908</td>\n",
       "      <td>-0.017646</td>\n",
       "      <td>151.0</td>\n",
       "    </tr>\n",
       "    <tr>\n",
       "      <th>1</th>\n",
       "      <td>-0.001882</td>\n",
       "      <td>-0.044642</td>\n",
       "      <td>-0.051474</td>\n",
       "      <td>-0.026328</td>\n",
       "      <td>-0.008449</td>\n",
       "      <td>-0.019163</td>\n",
       "      <td>0.074412</td>\n",
       "      <td>-0.039493</td>\n",
       "      <td>-0.068330</td>\n",
       "      <td>-0.092204</td>\n",
       "      <td>75.0</td>\n",
       "    </tr>\n",
       "    <tr>\n",
       "      <th>2</th>\n",
       "      <td>0.085299</td>\n",
       "      <td>0.050680</td>\n",
       "      <td>0.044451</td>\n",
       "      <td>-0.005671</td>\n",
       "      <td>-0.045599</td>\n",
       "      <td>-0.034194</td>\n",
       "      <td>-0.032356</td>\n",
       "      <td>-0.002592</td>\n",
       "      <td>0.002864</td>\n",
       "      <td>-0.025930</td>\n",
       "      <td>141.0</td>\n",
       "    </tr>\n",
       "    <tr>\n",
       "      <th>3</th>\n",
       "      <td>-0.089063</td>\n",
       "      <td>-0.044642</td>\n",
       "      <td>-0.011595</td>\n",
       "      <td>-0.036656</td>\n",
       "      <td>0.012191</td>\n",
       "      <td>0.024991</td>\n",
       "      <td>-0.036038</td>\n",
       "      <td>0.034309</td>\n",
       "      <td>0.022692</td>\n",
       "      <td>-0.009362</td>\n",
       "      <td>206.0</td>\n",
       "    </tr>\n",
       "    <tr>\n",
       "      <th>4</th>\n",
       "      <td>0.005383</td>\n",
       "      <td>-0.044642</td>\n",
       "      <td>-0.036385</td>\n",
       "      <td>0.021872</td>\n",
       "      <td>0.003935</td>\n",
       "      <td>0.015596</td>\n",
       "      <td>0.008142</td>\n",
       "      <td>-0.002592</td>\n",
       "      <td>-0.031991</td>\n",
       "      <td>-0.046641</td>\n",
       "      <td>135.0</td>\n",
       "    </tr>\n",
       "  </tbody>\n",
       "</table>\n",
       "</div>"
      ],
      "text/plain": [
       "        AGE       SEX       BMI        BP        S1        S2        S3  \\\n",
       "0  0.038076  0.050680  0.061696  0.021872 -0.044223 -0.034821 -0.043401   \n",
       "1 -0.001882 -0.044642 -0.051474 -0.026328 -0.008449 -0.019163  0.074412   \n",
       "2  0.085299  0.050680  0.044451 -0.005671 -0.045599 -0.034194 -0.032356   \n",
       "3 -0.089063 -0.044642 -0.011595 -0.036656  0.012191  0.024991 -0.036038   \n",
       "4  0.005383 -0.044642 -0.036385  0.021872  0.003935  0.015596  0.008142   \n",
       "\n",
       "         S4        S5        S6      Y  \n",
       "0 -0.002592  0.019908 -0.017646  151.0  \n",
       "1 -0.039493 -0.068330 -0.092204   75.0  \n",
       "2 -0.002592  0.002864 -0.025930  141.0  \n",
       "3  0.034309  0.022692 -0.009362  206.0  \n",
       "4 -0.002592 -0.031991 -0.046641  135.0  "
      ]
     },
     "execution_count": 4,
     "metadata": {},
     "output_type": "execute_result"
    }
   ],
   "source": [
    "def before_feature_engieering():\n",
    "    p.connect_to_lake()\n",
    "    esml_dataset = p.DatasetByName(\"ds01_diabetes\") # Get dataset\n",
    "    df_bronze = esml_dataset.InData.to_pandas_dataframe()\n",
    "    return df_bronze\n",
    "before_feature_engieering().head()"
   ]
  },
  {
   "cell_type": "code",
   "execution_count": 5,
   "metadata": {},
   "outputs": [
    {
     "data": {
      "text/plain": [
       "(442, 11)"
      ]
     },
     "execution_count": 5,
     "metadata": {},
     "output_type": "execute_result"
    }
   ],
   "source": [
    "p.DatasetByName(\"ds01_diabetes\").Bronze.to_pandas_dataframe().shape"
   ]
  },
  {
   "cell_type": "markdown",
   "metadata": {},
   "source": [
    "## `Get Databricks GOLD`: Alternative 1 \n",
    "- Use ESML property to get PATH"
   ]
  },
  {
   "cell_type": "code",
   "execution_count": 6,
   "metadata": {},
   "outputs": [
    {
     "data": {
      "text/plain": [
       "(442, 11)"
      ]
     },
     "execution_count": 6,
     "metadata": {},
     "output_type": "execute_result"
    }
   ],
   "source": [
    " from azureml.core import Dataset\n",
    " gold1 = Dataset.Tabular.from_parquet_files(path = [(p.Lakestore, p.GoldPathDatabricks)])\n",
    " gold1.to_pandas_dataframe().shape"
   ]
  },
  {
   "cell_type": "markdown",
   "metadata": {},
   "source": [
    "## `Get Databricks GOLD`: Alternative 2\n",
    "- Use ESML property with Azure ML Dataset"
   ]
  },
  {
   "cell_type": "code",
   "execution_count": 7,
   "metadata": {},
   "outputs": [
    {
     "data": {
      "text/plain": [
       "(442, 11)"
      ]
     },
     "execution_count": 7,
     "metadata": {},
     "output_type": "execute_result"
    }
   ],
   "source": [
    "p.GoldDatabricks.to_pandas_dataframe().shape"
   ]
  },
  {
   "cell_type": "code",
   "execution_count": 8,
   "metadata": {},
   "outputs": [],
   "source": [
    "def get_databricks_gold_and_split_it_as_AzureMLDatasets():\n",
    "    label = p.active_model[\"label\"]\n",
    "    train_6, validate_set_2, test_set_2 = p.split_gold_dbx(0.6,label) \n",
    "\n",
    "    return gold,train_6, validate_set_2, test_set_2"
   ]
  },
  {
   "cell_type": "code",
   "execution_count": 9,
   "metadata": {
    "tags": []
   },
   "outputs": [
    {
     "name": "stdout",
     "output_type": "stream",
     "text": [
      "Using GEN2 as Datastore\n",
      "use_project_sp_2_mount: True\n",
      "Searching for setting in ESML datalake...\n",
      "ESML in-folder settings override = TRUE \n",
      " - Found settings in the ESML AutoLake  [active_in_folder.json,active_scoring_in_folder.json], to override ArgParse/GIT config with.\n",
      " - TRAIN in date:  2021/01/01\n",
      " - INFERENCE in date: 2021/06/08 and ModelVersion to score with: 1 (0=latest)\n",
      "Not 1st time. We have data mapped already. Now connected to LAKE\n"
     ]
    }
   ],
   "source": [
    "datastore = None\n",
    "gold = None\n",
    "gold_train = None\n",
    "try:\n",
    "    datastore = p.connect_to_lake()\n",
    "    gold = p.GoldDatabricks\n",
    "    gold_train = p.GoldTrain\n",
    "    gold_train.name\n",
    "    print(\"Not 1st time. We have data mapped already. Now connected to LAKE\")\n",
    "except: # If 1st time....no Gold exists, nor any mapping\n",
    "    print(\"1st time. Lets init, map what data we have in LAKE, as Azure ML Datasets\")\n",
    "    datastore = p.init() # 3) Automapping from datalake to Azure ML datasets\n",
    "    gold = get_databricks_gold_and_split_it_as_AzureMLDatasets()"
   ]
  },
  {
   "cell_type": "code",
   "execution_count": 10,
   "metadata": {},
   "outputs": [
    {
     "data": {
      "text/html": [
       "<div>\n",
       "<style scoped>\n",
       "    .dataframe tbody tr th:only-of-type {\n",
       "        vertical-align: middle;\n",
       "    }\n",
       "\n",
       "    .dataframe tbody tr th {\n",
       "        vertical-align: top;\n",
       "    }\n",
       "\n",
       "    .dataframe thead th {\n",
       "        text-align: right;\n",
       "    }\n",
       "</style>\n",
       "<table border=\"1\" class=\"dataframe\">\n",
       "  <thead>\n",
       "    <tr style=\"text-align: right;\">\n",
       "      <th></th>\n",
       "      <th>AGE</th>\n",
       "      <th>SEX</th>\n",
       "      <th>BMI</th>\n",
       "      <th>BP</th>\n",
       "      <th>S1</th>\n",
       "      <th>S2</th>\n",
       "      <th>S3</th>\n",
       "      <th>S4</th>\n",
       "      <th>S5</th>\n",
       "      <th>S6</th>\n",
       "      <th>Y</th>\n",
       "    </tr>\n",
       "  </thead>\n",
       "  <tbody>\n",
       "    <tr>\n",
       "      <th>0</th>\n",
       "      <td>0.038076</td>\n",
       "      <td>0.05068</td>\n",
       "      <td>0.061696</td>\n",
       "      <td>0.021872</td>\n",
       "      <td>-0.044223</td>\n",
       "      <td>-0.034821</td>\n",
       "      <td>-0.043401</td>\n",
       "      <td>-0.002592</td>\n",
       "      <td>0.019908</td>\n",
       "      <td>-0.017646</td>\n",
       "      <td>151.0</td>\n",
       "    </tr>\n",
       "    <tr>\n",
       "      <th>1</th>\n",
       "      <td>0.085299</td>\n",
       "      <td>0.05068</td>\n",
       "      <td>0.044451</td>\n",
       "      <td>-0.005671</td>\n",
       "      <td>-0.045599</td>\n",
       "      <td>-0.034194</td>\n",
       "      <td>-0.032356</td>\n",
       "      <td>-0.002592</td>\n",
       "      <td>0.002864</td>\n",
       "      <td>-0.025930</td>\n",
       "      <td>141.0</td>\n",
       "    </tr>\n",
       "    <tr>\n",
       "      <th>2</th>\n",
       "      <td>0.063504</td>\n",
       "      <td>0.05068</td>\n",
       "      <td>-0.001895</td>\n",
       "      <td>0.066630</td>\n",
       "      <td>0.090620</td>\n",
       "      <td>0.108914</td>\n",
       "      <td>0.022869</td>\n",
       "      <td>0.017703</td>\n",
       "      <td>-0.035817</td>\n",
       "      <td>0.003064</td>\n",
       "      <td>63.0</td>\n",
       "    </tr>\n",
       "    <tr>\n",
       "      <th>3</th>\n",
       "      <td>0.041708</td>\n",
       "      <td>0.05068</td>\n",
       "      <td>0.061696</td>\n",
       "      <td>-0.040099</td>\n",
       "      <td>-0.013953</td>\n",
       "      <td>0.006202</td>\n",
       "      <td>-0.028674</td>\n",
       "      <td>-0.002592</td>\n",
       "      <td>-0.014956</td>\n",
       "      <td>0.011349</td>\n",
       "      <td>110.0</td>\n",
       "    </tr>\n",
       "    <tr>\n",
       "      <th>4</th>\n",
       "      <td>0.027178</td>\n",
       "      <td>0.05068</td>\n",
       "      <td>0.017506</td>\n",
       "      <td>-0.033214</td>\n",
       "      <td>-0.007073</td>\n",
       "      <td>0.045972</td>\n",
       "      <td>-0.065491</td>\n",
       "      <td>0.071210</td>\n",
       "      <td>-0.096433</td>\n",
       "      <td>-0.059067</td>\n",
       "      <td>69.0</td>\n",
       "    </tr>\n",
       "  </tbody>\n",
       "</table>\n",
       "</div>"
      ],
      "text/plain": [
       "        AGE      SEX       BMI        BP        S1        S2        S3  \\\n",
       "0  0.038076  0.05068  0.061696  0.021872 -0.044223 -0.034821 -0.043401   \n",
       "1  0.085299  0.05068  0.044451 -0.005671 -0.045599 -0.034194 -0.032356   \n",
       "2  0.063504  0.05068 -0.001895  0.066630  0.090620  0.108914  0.022869   \n",
       "3  0.041708  0.05068  0.061696 -0.040099 -0.013953  0.006202 -0.028674   \n",
       "4  0.027178  0.05068  0.017506 -0.033214 -0.007073  0.045972 -0.065491   \n",
       "\n",
       "         S4        S5        S6      Y  \n",
       "0 -0.002592  0.019908 -0.017646  151.0  \n",
       "1 -0.002592  0.002864 -0.025930  141.0  \n",
       "2  0.017703 -0.035817  0.003064   63.0  \n",
       "3 -0.002592 -0.014956  0.011349  110.0  \n",
       "4  0.071210 -0.096433 -0.059067   69.0  "
      ]
     },
     "execution_count": 10,
     "metadata": {},
     "output_type": "execute_result"
    }
   ],
   "source": [
    "p.Gold.to_pandas_dataframe().head()"
   ]
  },
  {
   "cell_type": "code",
   "execution_count": 11,
   "metadata": {},
   "outputs": [
    {
     "data": {
      "text/html": [
       "<div>\n",
       "<style scoped>\n",
       "    .dataframe tbody tr th:only-of-type {\n",
       "        vertical-align: middle;\n",
       "    }\n",
       "\n",
       "    .dataframe tbody tr th {\n",
       "        vertical-align: top;\n",
       "    }\n",
       "\n",
       "    .dataframe thead th {\n",
       "        text-align: right;\n",
       "    }\n",
       "</style>\n",
       "<table border=\"1\" class=\"dataframe\">\n",
       "  <thead>\n",
       "    <tr style=\"text-align: right;\">\n",
       "      <th></th>\n",
       "      <th>AGE</th>\n",
       "      <th>SEX</th>\n",
       "      <th>BMI</th>\n",
       "      <th>BP</th>\n",
       "      <th>S1</th>\n",
       "      <th>S2</th>\n",
       "      <th>S3</th>\n",
       "      <th>S4</th>\n",
       "      <th>S5</th>\n",
       "      <th>S6</th>\n",
       "      <th>Y</th>\n",
       "    </tr>\n",
       "  </thead>\n",
       "  <tbody>\n",
       "    <tr>\n",
       "      <th>0</th>\n",
       "      <td>0.0380759064334241</td>\n",
       "      <td>0.0506801187398187</td>\n",
       "      <td>0.0616962065186885</td>\n",
       "      <td>0.0218723549949558</td>\n",
       "      <td>-0.0442234984244464</td>\n",
       "      <td>-0.0348207628376986</td>\n",
       "      <td>-0.0434008456520269</td>\n",
       "      <td>-0.00259226199818282</td>\n",
       "      <td>0.0199084208763183</td>\n",
       "      <td>-0.0176461251598052</td>\n",
       "      <td>151.0</td>\n",
       "    </tr>\n",
       "    <tr>\n",
       "      <th>1</th>\n",
       "      <td>-0.001882016527791</td>\n",
       "      <td>-0.044641636506989</td>\n",
       "      <td>-0.0514740612388061</td>\n",
       "      <td>-0.0263278347173518</td>\n",
       "      <td>-0.00844872411121698</td>\n",
       "      <td>-0.019163339748222</td>\n",
       "      <td>0.0744115640787594</td>\n",
       "      <td>-0.0394933828740919</td>\n",
       "      <td>-0.0683297436244215</td>\n",
       "      <td>-0.09220404962683</td>\n",
       "      <td>75.0</td>\n",
       "    </tr>\n",
       "    <tr>\n",
       "      <th>2</th>\n",
       "      <td>0.0852989062966783</td>\n",
       "      <td>0.0506801187398187</td>\n",
       "      <td>0.0444512133365941</td>\n",
       "      <td>-0.00567061055493425</td>\n",
       "      <td>-0.0455994512826475</td>\n",
       "      <td>-0.0341944659141195</td>\n",
       "      <td>-0.0323559322397657</td>\n",
       "      <td>-0.00259226199818282</td>\n",
       "      <td>0.00286377051894013</td>\n",
       "      <td>-0.0259303389894746</td>\n",
       "      <td>141.0</td>\n",
       "    </tr>\n",
       "    <tr>\n",
       "      <th>3</th>\n",
       "      <td>-0.0890629393522603</td>\n",
       "      <td>-0.044641636506989</td>\n",
       "      <td>-0.0115950145052127</td>\n",
       "      <td>-0.0366564467985606</td>\n",
       "      <td>0.0121905687618</td>\n",
       "      <td>0.0249905933641021</td>\n",
       "      <td>-0.0360375700438527</td>\n",
       "      <td>0.0343088588777263</td>\n",
       "      <td>0.0226920225667445</td>\n",
       "      <td>-0.0093619113301358</td>\n",
       "      <td>206.0</td>\n",
       "    </tr>\n",
       "    <tr>\n",
       "      <th>4</th>\n",
       "      <td>0.00538306037424807</td>\n",
       "      <td>-0.044641636506989</td>\n",
       "      <td>-0.0363846922044735</td>\n",
       "      <td>0.0218723549949558</td>\n",
       "      <td>0.00393485161259318</td>\n",
       "      <td>0.0155961395104161</td>\n",
       "      <td>0.0081420836051921</td>\n",
       "      <td>-0.00259226199818282</td>\n",
       "      <td>-0.0319914449413559</td>\n",
       "      <td>-0.0466408735636482</td>\n",
       "      <td>135.0</td>\n",
       "    </tr>\n",
       "  </tbody>\n",
       "</table>\n",
       "</div>"
      ],
      "text/plain": [
       "                   AGE                 SEX                  BMI  \\\n",
       "0   0.0380759064334241  0.0506801187398187   0.0616962065186885   \n",
       "1   -0.001882016527791  -0.044641636506989  -0.0514740612388061   \n",
       "2   0.0852989062966783  0.0506801187398187   0.0444512133365941   \n",
       "3  -0.0890629393522603  -0.044641636506989  -0.0115950145052127   \n",
       "4  0.00538306037424807  -0.044641636506989  -0.0363846922044735   \n",
       "\n",
       "                     BP                    S1                   S2  \\\n",
       "0    0.0218723549949558   -0.0442234984244464  -0.0348207628376986   \n",
       "1   -0.0263278347173518  -0.00844872411121698   -0.019163339748222   \n",
       "2  -0.00567061055493425   -0.0455994512826475  -0.0341944659141195   \n",
       "3   -0.0366564467985606       0.0121905687618   0.0249905933641021   \n",
       "4    0.0218723549949558   0.00393485161259318   0.0155961395104161   \n",
       "\n",
       "                    S3                    S4                   S5  \\\n",
       "0  -0.0434008456520269  -0.00259226199818282   0.0199084208763183   \n",
       "1   0.0744115640787594   -0.0394933828740919  -0.0683297436244215   \n",
       "2  -0.0323559322397657  -0.00259226199818282  0.00286377051894013   \n",
       "3  -0.0360375700438527    0.0343088588777263   0.0226920225667445   \n",
       "4   0.0081420836051921  -0.00259226199818282  -0.0319914449413559   \n",
       "\n",
       "                    S6      Y  \n",
       "0  -0.0176461251598052  151.0  \n",
       "1    -0.09220404962683   75.0  \n",
       "2  -0.0259303389894746  141.0  \n",
       "3  -0.0093619113301358  206.0  \n",
       "4  -0.0466408735636482  135.0  "
      ]
     },
     "execution_count": 11,
     "metadata": {},
     "output_type": "execute_result"
    }
   ],
   "source": [
    "p.GoldDatabricks.to_pandas_dataframe().head()"
   ]
  },
  {
   "cell_type": "markdown",
   "metadata": {},
   "source": [
    "## SUMMARY - step 1\n",
    "- ESML has now `Automap` and `Autoregister` Azure ML Datasets as: `IN, SILVER, BRONZE, GOLD`\n",
    "- ESML has read configuration for correct environment (DEV, TEST, PROD). \n",
    "    - Both small customers, and large Enterprise customers often wants:  DEV, TEST, PROD in `diffferent Azure ML workspaces` (and different subscriptions)\n",
    "- User has done feature engineering, and saved GOLD `p.save_gold`"
   ]
  },
  {
   "cell_type": "markdown",
   "metadata": {},
   "source": [
    "# 2) `ESML` Train model in `5 codelines`"
   ]
  },
  {
   "cell_type": "code",
   "execution_count": 11,
   "metadata": {},
   "outputs": [
    {
     "name": "stdout",
     "output_type": "stream",
     "text": [
      "Loading AutoML config settings from: dev\n",
      "Note: OVERRIDING enterprise performance settings with project specifics. (to change, set flag in 'dev_test_prod_settings.json' -> override_enterprise_settings_with_model_specific=False)\n",
      "Using a model specific cluster, per configuration in project specific settings, (the integer of 'model_number' is the base for the name)\n",
      "Note: OVERRIDING enterprise performance settings with project specifics. (to change, set flag in 'dev_test_prod_settings.json' -> override_enterprise_settings_with_model_specific=False)\n",
      "Found existing cluster prj02-m11-dev for project and environment, using it.\n",
      "Succeeded\n",
      "AmlCompute wait for completion finished\n",
      "\n",
      "Minimum number of nodes requested have been provisioned\n",
      "image_build_compute = prj02-m11-dev\n",
      "Experiment name: 11_diabetes_model_reg\n",
      "Azure ML Studio Workspace: msft-weu-DEV-eap-proj02_ai-amls\n",
      "Start training run...\n",
      "Submitting remote run.\n",
      "No run_configuration provided, running on prj02-m11-dev with default configuration\n",
      "Running on remote compute: prj02-m11-dev\n"
     ]
    },
    {
     "data": {
      "text/html": [
       "<table style=\"width:100%\"><tr><th>Experiment</th><th>Id</th><th>Type</th><th>Status</th><th>Details Page</th><th>Docs Page</th></tr><tr><td>11_diabetes_model_reg</td><td>AutoML_108f04f5-5f45-49d6-a85b-115e174b9e96</td><td>automl</td><td>NotStarted</td><td><a href=\"https://ml.azure.com/runs/AutoML_108f04f5-5f45-49d6-a85b-115e174b9e96?wsid=/subscriptions/ca0a8c40-b06a-4e4e-8434-63c03a1dee34/resourcegroups/MSFT-WEU-EAP_PROJECT02_AI-DEV-RG/workspaces/msft-weu-DEV-eap-proj02_ai-amls&amp;tid=72f988bf-86f1-41af-91ab-2d7cd011db47\" target=\"_blank\" rel=\"noopener\">Link to Azure Machine Learning studio</a></td><td><a href=\"https://docs.microsoft.com/en-us/python/api/overview/azure/ml/intro?view=azure-ml-py\" target=\"_blank\" rel=\"noopener\">Link to Documentation</a></td></tr></table>"
      ],
      "text/plain": [
       "<IPython.core.display.HTML object>"
      ]
     },
     "metadata": {},
     "output_type": "display_data"
    },
    {
     "name": "stdout",
     "output_type": "stream",
     "text": [
      "\n",
      "Current status: FeaturesGeneration. Generating features for the dataset.\n",
      "Current status: DatasetCrossValidationSplit. Beginning model selection.\n",
      "Current status: ModelSelection. Beginning model selection.\n",
      "\n",
      "****************************************************************************************************\n",
      "DATA GUARDRAILS: \n",
      "\n",
      "TYPE:         Missing feature values imputation\n",
      "STATUS:       PASSED\n",
      "DESCRIPTION:  No feature missing values were detected in the training data.\n",
      "              Learn more about missing value imputation: https://aka.ms/AutomatedMLFeaturization\n",
      "\n",
      "****************************************************************************************************\n",
      "\n",
      "TYPE:         High cardinality feature detection\n",
      "STATUS:       PASSED\n",
      "DESCRIPTION:  Your inputs were analyzed, and no high cardinality features were detected.\n",
      "              Learn more about high cardinality feature handling: https://aka.ms/AutomatedMLFeaturization\n",
      "\n",
      "****************************************************************************************************\n",
      "\n",
      "****************************************************************************************************\n",
      "ITERATION: The iteration being evaluated.\n",
      "PIPELINE: A summary description of the pipeline being evaluated.\n",
      "DURATION: Time taken for the current iteration.\n",
      "METRIC: The result of computing score on the fitted pipeline.\n",
      "BEST: The best observed score thus far.\n",
      "****************************************************************************************************\n",
      "\n",
      " ITERATION   PIPELINE                                       DURATION      METRIC      BEST\n",
      "         0   MaxAbsScaler LightGBM                          0:00:54       0.1643    0.1643\n"
     ]
    },
    {
     "name": "stderr",
     "output_type": "stream",
     "text": [
      "WARNING:root:The version of the SDK does not match the version the model was trained on.\n",
      "WARNING:root:The consistency in the result may not be guaranteed.\n",
      "WARNING:root:Package:azureml-automl-core, training version:1.34.0.post1, current version:1.26.0\n",
      "Package:azureml-automl-runtime, training version:1.34.0.post1, current version:1.26.0\n",
      "Package:azureml-core, training version:1.34.0, current version:1.26.0\n",
      "Package:azureml-dataprep, training version:2.22.2, current version:2.13.2\n",
      "Package:azureml-dataprep-native, training version:38.0.0, current version:32.0.0\n",
      "Package:azureml-dataprep-rslex, training version:1.20.2, current version:1.11.2\n",
      "Package:azureml-dataset-runtime, training version:1.34.0, current version:1.26.0\n",
      "Package:azureml-defaults, training version:1.34.0, current version:1.26.0\n",
      "Package:azureml-interpret, training version:1.34.0, current version:1.26.0\n",
      "Package:azureml-pipeline-core, training version:1.34.0, current version:1.26.0\n",
      "Package:azureml-telemetry, training version:1.34.0, current version:1.26.0\n",
      "Package:azureml-train-automl-client, training version:1.34.0, current version:1.26.0\n",
      "Package:azureml-train-automl-runtime, training version:1.34.0.post1, current version:1.26.0\n",
      "WARNING:root:Below packages were used for model training but missing in current environment:\n",
      "WARNING:root:Package:azureml-inference-server-http, training version:0.3.1\n",
      "Package:azureml-mlflow, training version:1.34.0\n",
      "Package:azureml-responsibleai, training version:1.34.0\n",
      "WARNING:root:Please ensure the version of your local conda dependencies match the version on which your model was trained in order to properly retrieve your model.\n"
     ]
    },
    {
     "name": "stdout",
     "output_type": "stream",
     "text": [
      "Run(Experiment: 11_diabetes_model_reg,\n",
      "Id: AutoML_108f04f5-5f45-49d6-a85b-115e174b9e96_0,\n",
      "Type: azureml.scriptrun,\n",
      "Status: Completed)\n",
      "RegressionPipeline(pipeline=Pipeline(memory=None,\n",
      "                                     steps=[('datatransformer',\n",
      "                                             DataTransformer(enable_dnn=None,\n",
      "                                                             enable_feature_sweeping=None,\n",
      "                                                             feature_sweeping_config=None,\n",
      "                                                             feature_sweeping_timeout=None,\n",
      "                                                             featurization_config=None,\n",
      "                                                             force_text_dnn=None,\n",
      "                                                             is_cross_validation=None,\n",
      "                                                             is_onnx_compatible=None,\n",
      "                                                             logger=None,\n",
      "                                                             observer=None,\n",
      "                                                             task=None,\n",
      "                                                             working_dir=None)),\n",
      "                                            ('Max...\n",
      "                                                               colsample_bytree=1.0,\n",
      "                                                               importance_type='split',\n",
      "                                                               learning_rate=0.1,\n",
      "                                                               max_depth=-1,\n",
      "                                                               min_child_samples=20,\n",
      "                                                               min_child_weight=0.001,\n",
      "                                                               min_split_gain=0.0,\n",
      "                                                               n_estimators=100,\n",
      "                                                               n_jobs=-1,\n",
      "                                                               num_leaves=31,\n",
      "                                                               objective=None,\n",
      "                                                               random_state=None,\n",
      "                                                               reg_alpha=0.0,\n",
      "                                                               reg_lambda=0.0,\n",
      "                                                               silent=True,\n",
      "                                                               subsample=1.0,\n",
      "                                                               subsample_for_bin=200000,\n",
      "                                                               subsample_freq=0,\n",
      "                                                               verbose=-1))],\n",
      "                                     verbose=False),\n",
      "                   stddev=[60.7747243177506])\n",
      "AutoML Model name: AutoML108f04f550\n"
     ]
    }
   ],
   "source": [
    "from esml import ESMLDataset, ESMLProject\n",
    "from baselayer_azure_ml import AutoMLFactory,azure_metric_regression,azure_metric_classification\n",
    "from azureml.train.automl import AutoMLConfig\n",
    "\n",
    "automl_performance_config = p.get_automl_performance_config() # 1)Get config, for active environment (dev,test or prod)\n",
    "aml_compute = p.get_training_aml_compute(p.ws) # 2)Get compute, for active environment\n",
    "\n",
    "label = p.active_model[\"label\"]\n",
    "automl_config = AutoMLConfig(task = 'regression', # 4) Override the ENV config, for model(that inhertits from enterprise DEV_TEST_PROD config baseline)\n",
    "                            primary_metric = azure_metric_regression.MAE, # # Note: Regression(MAPE) are not possible in AutoML\n",
    "                            compute_target = aml_compute,\n",
    "                            training_data = p.GoldTrain, # is 'train_6' pandas dataframe, but as an Azure ML Dataset\n",
    "                            experiment_exit_score = '0.308', # DEMO purpose\n",
    "                            label_column_name = label,\n",
    "                            **automl_performance_config\n",
    "                        )\n",
    "via_pipeline = False\n",
    "# Consistent/same return values from both AutoML ALTERNATIVES (run or pipeline)\n",
    "best_run, fitted_model, experiment = AutoMLFactory(p).train_pipeline(automl_config) if via_pipeline else AutoMLFactory(p).train_as_run(automl_config)"
   ]
  },
  {
   "cell_type": "markdown",
   "metadata": {},
   "source": [
    "- ESML has now fetched `configuration & train compute` for enterprise `environment (DEV,TEST or PROD)`\n",
    "- ESML has `autogenerated` a AutoML-experiment, optinally as `pipline`, in correct environment.\n",
    "- User has overridden some AutoML settings (`label, split percentage`, `target metric`), and use the `1-liner TRAIN` code snippet "
   ]
  },
  {
   "cell_type": "markdown",
   "metadata": {},
   "source": [
    "## 2b) ESML Scoring Drift/Concept Drift: Compare with `1-codeline`: Promote model or not? If better, then `Register model`\n",
    "- `IF` newly trained model in `current` environment (`DEV`, `TEST` or `PROD`) scores BETTER than existing model in `target` environment, then `new model` can be registered and promoted.\n",
    "- Q: Do we have `SCORING DRIFT / CONCEPT DRIFT?`\n",
    "- Q: Is a model trained on NEW data better? IS the one in production degraded? (not fit for the data it scores - real world changed, other CONCEPT)\n",
    "- A: - Lets check. Instead of `DataDrift`, lets look at `actual SCORING` on new data (and/or new code, feature engineering) - See if we should PROMOTE newly trained model..."
   ]
  },
  {
   "cell_type": "code",
   "execution_count": 2,
   "metadata": {},
   "outputs": [
    {
     "name": "stdout",
     "output_type": "stream",
     "text": [
      "SCORING DRIFT: If new model scores better in DEV (new data, or new code), we can promote this to TEST & PROD \n",
      "\n",
      "Loading AutoML config settings from: dev\n",
      "targe=source environement. Compare model version in DEV/TEST/PROD with latest registered in same DEV/TEST/PROD workspace (same workspace & subscriptiom comparison)\n",
      "\n"
     ]
    },
    {
     "name": "stderr",
     "output_type": "stream",
     "text": [
      "WARNING:root:The version of the SDK does not match the version the model was trained on.\n",
      "WARNING:root:The consistency in the result may not be guaranteed.\n",
      "WARNING:root:Package:azureml-automl-core, training version:1.34.0.post1, current version:1.26.0\n",
      "Package:azureml-automl-runtime, training version:1.34.0.post1, current version:1.26.0\n",
      "Package:azureml-core, training version:1.34.0, current version:1.26.0\n",
      "Package:azureml-dataprep, training version:2.22.2, current version:2.13.2\n",
      "Package:azureml-dataprep-native, training version:38.0.0, current version:32.0.0\n",
      "Package:azureml-dataprep-rslex, training version:1.20.2, current version:1.11.2\n",
      "Package:azureml-dataset-runtime, training version:1.34.0, current version:1.26.0\n",
      "Package:azureml-defaults, training version:1.34.0, current version:1.26.0\n",
      "Package:azureml-interpret, training version:1.34.0, current version:1.26.0\n",
      "Package:azureml-pipeline-core, training version:1.34.0, current version:1.26.0\n",
      "Package:azureml-telemetry, training version:1.34.0, current version:1.26.0\n",
      "Package:azureml-train-automl-client, training version:1.34.0, current version:1.26.0\n",
      "Package:azureml-train-automl-runtime, training version:1.34.0.post1, current version:1.26.0\n",
      "WARNING:root:Below packages were used for model training but missing in current environment:\n",
      "WARNING:root:Package:azureml-inference-server-http, training version:0.3.1\n",
      "Package:azureml-mlflow, training version:1.34.0\n",
      "Package:azureml-responsibleai, training version:1.34.0\n",
      "WARNING:root:Please ensure the version of your local conda dependencies match the version on which your model was trained in order to properly retrieve your model.\n"
     ]
    },
    {
     "name": "stdout",
     "output_type": "stream",
     "text": [
      "TARGET is in the same Azure ML Studio workspace as SOURCE, comparing with latest registered model...\n",
      "found model via REMOTE FILTER: Experiment TAGS: model name and version\n"
     ]
    },
    {
     "name": "stderr",
     "output_type": "stream",
     "text": [
      "WARNING:root:The version of the SDK does not match the version the model was trained on.\n",
      "WARNING:root:The consistency in the result may not be guaranteed.\n",
      "WARNING:root:Package:azureml-automl-core, training version:1.34.0.post1, current version:1.26.0\n",
      "Package:azureml-automl-runtime, training version:1.34.0.post1, current version:1.26.0\n",
      "Package:azureml-core, training version:1.34.0, current version:1.26.0\n",
      "Package:azureml-dataprep, training version:2.22.2, current version:2.13.2\n",
      "Package:azureml-dataprep-native, training version:38.0.0, current version:32.0.0\n",
      "Package:azureml-dataprep-rslex, training version:1.20.2, current version:1.11.2\n",
      "Package:azureml-dataset-runtime, training version:1.34.0, current version:1.26.0\n",
      "Package:azureml-defaults, training version:1.34.0, current version:1.26.0\n",
      "Package:azureml-interpret, training version:1.34.0, current version:1.26.0\n",
      "Package:azureml-pipeline-core, training version:1.34.0, current version:1.26.0\n",
      "Package:azureml-telemetry, training version:1.34.0, current version:1.26.0\n",
      "Package:azureml-train-automl-client, training version:1.34.0, current version:1.26.0\n",
      "Package:azureml-train-automl-runtime, training version:1.34.0.post1, current version:1.26.0\n",
      "WARNING:root:Below packages were used for model training but missing in current environment:\n",
      "WARNING:root:Package:azureml-inference-server-http, training version:0.3.1\n",
      "Package:azureml-mlflow, training version:1.34.0\n",
      "Package:azureml-responsibleai, training version:1.34.0\n",
      "WARNING:root:Please ensure the version of your local conda dependencies match the version on which your model was trained in order to properly retrieve your model.\n"
     ]
    },
    {
     "name": "stdout",
     "output_type": "stream",
     "text": [
      "target - best_run_id AutoML_08bb87d4-9587-4b99-b781-fe16bd13f140\n",
      "target - best_run_id (best run) AutoML_08bb87d4-9587-4b99-b781-fe16bd13f140_0\n",
      "\n",
      "target - model_name (from model.tag) AutoML08bb87d490\n",
      "target - model_version 1\n",
      "target_best_run_id AutoML_08bb87d4-9587-4b99-b781-fe16bd13f140\n",
      "New trained model & cached RUN, has TASK_TYPE: regression and Best_Run_id: AutoML_b608482b-eaf3-4398-b7f0-2b6001566e27_0\n",
      "Target model & RUN, in Azure ML Studio workspace to compare with, has TASK_TYPE: regression and Best_Run_id:AutoML_08bb87d4-9587-4b99-b781-fe16bd13f140_0 \n",
      "\n",
      "Q: Do we have SCORING DRIFT / CONCEPT DRIFT?\n",
      "Q: Is a model trained on NEW data better? Is the one in production degraded? (not fit for the data it scores - real world changed, other CONCEPT)\n",
      "A: - Lets check. Instead of DataDrift, lets look at actual SCORING on new data (or same data, other code). See if we should PROMOTE newly trained model...\n",
      "\n",
      "New trained model: \n",
      "RMSE (normalized_root_mean_squared_error): 0.03849534182426531\n",
      "MAPE (Mean average Percentage Error): 8.181332490484548\n",
      "MAE (normalized_mean_absolute_error): 0.025856170250241572\n",
      "R2 (r2_score): 0.9187418951298084\n",
      "Spearman (spearman_correlation): 0.9561703700461277\n",
      "\n",
      "Target model, to compare with; \n",
      "RMSE (normalized_root_mean_squared_error): 0.20048144065472884\n",
      "MAPE (Mean average Percentage Error): 37.36539689710541\n",
      "MAE (normalized_mean_absolute_error): 0.1641754076941266\n",
      "R2 (r2_score): 0.46617256831419573\n",
      "Spearman (spearman_correlation): 0.6726695514799195\n",
      "\n",
      "Selected metrics, and weights, to be used when comparing for promotion/scoring drift\n",
      "Metric weight: RMSE_promote_weight is 0.0200\n",
      "Metric VALUE (incl. weight) 0.0185 (without weight:  0.0385)\n",
      "\n",
      "Metric weight: R2_promote_weight is -0.0010\n",
      "Metric VALUE (incl. weight) 0.9197 (without weight:  0.9187)\n",
      "\n",
      "Metric weight: Spearman_promote_weight is -0.0010\n",
      "Metric VALUE (incl. weight) 0.9572 (without weight:  0.9562)\n",
      "\n",
      "\n",
      "Promote model = True\n",
      "New Model: AutoMLb608482be0 in environment dev\n",
      "Existing Model: AutoML08bb87d490 in environment dev\n",
      "Loading AutoML config settings from: dev\n",
      "Loading AutoML config settings from: dev\n",
      "model.version 6\n",
      "Model name AutoMLb608482be0 is registered.\n"
     ]
    }
   ],
   "source": [
    "from baselayer_azure_ml_model import ESMLModelCompare\n",
    "\n",
    "current_env = p.dev_test_prod # dev\n",
    "target_env = \"dev\" # Does newly trained Model v3 in DEV, score better than Model v2 in TEST?\n",
    "print(\"promote model in DEV to TEST? (move to other Azure ML Studio Workspace)\")\n",
    "\n",
    "compare = ESMLModelCompare(p)\n",
    "promote,source_model_name,new_run_id,target_model_name, target_best_run_id,target_workspace,source_model = compare.compare_scoring_current_vs_new_model(target_env) # Compare DEV to TEST (or TEST to PROD)  (1min, 17sek VS 33sec)\n",
    "\n",
    "print(\"SCORING DRIFT: If new model scores better in DEV (new data, or new code), we can promote this to TEST & PROD \\n\")\n",
    "print(\"New Model: {} in environment {}\".format(target_model_name, p.dev_test_prod))\n",
    "print(\"Existing Model: {} in environment {}\".format(source_model_name,target_env))\n",
    "\n",
    "if (promote): # Can register=\"promote\" a model in same workspace (test->test), or also register in OTHER Azure ML workspace (test->prod)\n",
    "    if(p.dev_test_prod == target_env):\n",
    "        compare.register_active_model(target_env,source_model) # if SAME workspace this brings more \"metadata\" faster to the model registration (will  register with EXPERIMENT and RUNID)\n",
    "    else:\n",
    "        compare.register_model_in_correct_ws(target_env) # if REMOTE target workspace we can get same metadata, BUT, just takes performancewise longer. More lookups to \"source Run\""
   ]
  },
  {
   "cell_type": "markdown",
   "metadata": {},
   "source": [
    "# TEST SET SCORING"
   ]
  },
  {
   "cell_type": "code",
   "execution_count": 5,
   "metadata": {},
   "outputs": [],
   "source": [
    "try:\n",
    "    p.GoldTest.name\n",
    "except: \n",
    "    p.connect_to_lake()\n",
    "    train_6, validate_set_2, test_set_2 = p.split_gold_3(0.6,p.active_model[\"label\"]) "
   ]
  },
  {
   "cell_type": "code",
   "execution_count": 6,
   "metadata": {},
   "outputs": [
    {
     "name": "stdout",
     "output_type": "stream",
     "text": [
      "found model via REMOTE FILTER: Experiment TAGS: model name and version\n"
     ]
    },
    {
     "name": "stderr",
     "output_type": "stream",
     "text": [
      "WARNING:root:The version of the SDK does not match the version the model was trained on.\n",
      "WARNING:root:The consistency in the result may not be guaranteed.\n",
      "WARNING:root:Package:azureml-automl-core, training version:1.34.0.post1, current version:1.26.0\n",
      "Package:azureml-automl-runtime, training version:1.34.0.post1, current version:1.26.0\n",
      "Package:azureml-core, training version:1.34.0, current version:1.26.0\n",
      "Package:azureml-dataprep, training version:2.22.2, current version:2.13.2\n",
      "Package:azureml-dataprep-native, training version:38.0.0, current version:32.0.0\n",
      "Package:azureml-dataprep-rslex, training version:1.20.2, current version:1.11.2\n",
      "Package:azureml-dataset-runtime, training version:1.34.0, current version:1.26.0\n",
      "Package:azureml-defaults, training version:1.34.0, current version:1.26.0\n",
      "Package:azureml-interpret, training version:1.34.0, current version:1.26.0\n",
      "Package:azureml-pipeline-core, training version:1.34.0, current version:1.26.0\n",
      "Package:azureml-telemetry, training version:1.34.0, current version:1.26.0\n",
      "Package:azureml-train-automl-client, training version:1.34.0, current version:1.26.0\n",
      "Package:azureml-train-automl-runtime, training version:1.34.0.post1, current version:1.26.0\n",
      "WARNING:root:Below packages were used for model training but missing in current environment:\n",
      "WARNING:root:Package:azureml-inference-server-http, training version:0.3.1\n",
      "Package:azureml-mlflow, training version:1.34.0\n",
      "Package:azureml-responsibleai, training version:1.34.0\n",
      "WARNING:root:Please ensure the version of your local conda dependencies match the version on which your model was trained in order to properly retrieve your model.\n"
     ]
    },
    {
     "name": "stdout",
     "output_type": "stream",
     "text": [
      "Replacing tag run_id -> AutoML_08bb87d4-9587-4b99-b781-fe16bd13f140 with run_id -> AutoML_08bb87d4-9587-4b99-b781-fe16bd13f140\n",
      "Replacing tag model_name -> AutoML08bb87d490 with model_name -> AutoML08bb87d490\n",
      "Replacing tag trained_in_environment -> dev with trained_in_environment -> dev\n",
      "Replacing tag trained_in_workspace -> msft-weu-DEV-eap-proj02_ai-amls with trained_in_workspace -> msft-weu-DEV-eap-proj02_ai-amls\n",
      "Replacing tag experiment_name -> 11_diabetes_model_reg with experiment_name -> 11_diabetes_model_reg\n",
      "Replacing tag test_set_RMSE -> 57.169434 with test_set_RMSE -> 57.169434\n",
      "Replacing tag test_set_R2 -> 0.319053 with test_set_R2 -> 0.319053\n",
      "Replacing tag test_set_MAPE -> 0.272946 with test_set_MAPE -> 0.272946\n",
      "Replacing tag test_set_Spearman_Correlation -> 0.596206 with test_set_Spearman_Correlation -> 0.596206\n",
      "Model tag add operation complete.\n",
      "RMSE:\n",
      "57.16943442166354\n",
      "\n",
      "R2:\n",
      "0.3190528794944473\n",
      "\n",
      "MAPE:\n",
      "0.2729455667922768\n",
      "\n",
      "MAE:\n",
      "45.35322553078156\n",
      "\n",
      "Spearman:\n",
      "0.5962062875330425\n"
     ]
    },
    {
     "data": {
      "image/png": "[encoded data removed]",
      "text/plain": [
       "<Figure size 720x504 with 1 Axes>"
      ]
     },
     "metadata": {},
     "output_type": "display_data"
    }
   ],
   "source": [
    "import sys\n",
    "sys.path.insert(0, \"../azure-enterprise-scale-ml/esml/common/\")\n",
    "from baselayer_azure_ml import ESMLTestScoringFactory\n",
    "\n",
    "label = p.active_model[\"label\"]\n",
    "rmse, r2, mean_abs_percent_error,mae,spearman_corr,plt = ESMLTestScoringFactory(p).get_test_scoring_4_regression(label)\n",
    "print(\"RMSE:\")\n",
    "print(rmse)\n",
    "print()\n",
    "print(\"R2:\")\n",
    "print(r2)\n",
    "print()\n",
    "print(\"MAPE:\")\n",
    "print(mean_abs_percent_error)\n",
    "print()\n",
    "print(\"MAE:\")\n",
    "print(mae)\n",
    "print()\n",
    "print(\"Spearman:\")\n",
    "print(spearman_corr)"
   ]
  },
  {
   "cell_type": "markdown",
   "metadata": {},
   "source": [
    "# 3) ESML `Deploy model ONLINE` in `2 lines of code` (AKS) \n",
    "- Deploy \"offline\" MODEL from old `run` in environment To →  `DEV`, `TEST` or `PROD` environment\n",
    "- ESML saves `API_key in Azure keyvault automatically`\n",
    "- ESML auto-config solves 4 common 'errors/things': `correct compute name` and `valid replicas, valid agents, valid auto scaling`\n",
    "    - Tip: You can adjust the number of replicas, and different CPU/memory configuration, or using a different compute target."
   ]
  },
  {
   "cell_type": "code",
   "execution_count": 11,
   "metadata": {},
   "outputs": [
    {
     "data": {
      "text/plain": [
       "('dev', 'msft-weu-DEV-eap-proj02_ai-amls')"
      ]
     },
     "execution_count": 11,
     "metadata": {},
     "output_type": "execute_result"
    }
   ],
   "source": [
    "p.dev_test_prod,p.ws.name"
   ]
  },
  {
   "cell_type": "code",
   "execution_count": 12,
   "metadata": {},
   "outputs": [
    {
     "name": "stdout",
     "output_type": "stream",
     "text": [
      "Loading AutoML config settings from: dev\n",
      "Loading AutoML config settings from: dev\n"
     ]
    },
    {
     "name": "stderr",
     "output_type": "stream",
     "text": [
      "WARNING:root:The version of the SDK does not match the version the model was trained on.\n",
      "WARNING:root:The consistency in the result may not be guaranteed.\n",
      "WARNING:root:Package:azureml-automl-core, training version:1.34.0.post1, current version:1.26.0\n",
      "Package:azureml-automl-runtime, training version:1.34.0.post1, current version:1.26.0\n",
      "Package:azureml-core, training version:1.34.0, current version:1.26.0\n",
      "Package:azureml-dataprep, training version:2.22.2, current version:2.13.2\n",
      "Package:azureml-dataprep-native, training version:38.0.0, current version:32.0.0\n",
      "Package:azureml-dataprep-rslex, training version:1.20.2, current version:1.11.2\n",
      "Package:azureml-dataset-runtime, training version:1.34.0, current version:1.26.0\n",
      "Package:azureml-defaults, training version:1.34.0, current version:1.26.0\n",
      "Package:azureml-interpret, training version:1.34.0, current version:1.26.0\n",
      "Package:azureml-pipeline-core, training version:1.34.0, current version:1.26.0\n",
      "Package:azureml-telemetry, training version:1.34.0, current version:1.26.0\n",
      "Package:azureml-train-automl-client, training version:1.34.0, current version:1.26.0\n",
      "Package:azureml-train-automl-runtime, training version:1.34.0.post1, current version:1.26.0\n",
      "WARNING:root:Below packages were used for model training but missing in current environment:\n",
      "WARNING:root:Package:azureml-inference-server-http, training version:0.3.1\n",
      "Package:azureml-mlflow, training version:1.34.0\n",
      "Package:azureml-responsibleai, training version:1.34.0\n",
      "WARNING:root:Please ensure the version of your local conda dependencies match the version on which your model was trained in order to properly retrieve your model.\n"
     ]
    },
    {
     "name": "stdout",
     "output_type": "stream",
     "text": [
      "Deploying model: AutoML08bb87d490 with verison: 1 to environment: dev with overwrite_endpoint=True\n",
      "Note: OVERRIDING enterprise performance settings with project specifics. (to change, set flag in 'dev_test_prod_settings.json' -> override_enterprise_settings_with_model_specific=False)\n",
      "image_build_compute = prj02-m11-dev\n",
      "Note: OVERRIDING enterprise performance settings with project specifics. (to change, set flag in 'dev_test_prod_settings.json' -> override_enterprise_settings_with_model_specific=False)\n",
      "Found existing cluster, esml-dev-prj02, using it.\n",
      "Note: Autoscale_enabled=False, or since aks_dev_test=True in config, autoscaling is automatically shut off, e.g. overridden in config (since not supported) for environment dev\n",
      "Tips: You can try get_logs(): https://aka.ms/debugimage#dockerlog or local deployment: https://aka.ms/debugimage#debug-locally to debug if deployment takes longer than 10 minutes.\n",
      "Running\n",
      "2021-09-30 23:58:37+02:00 Creating Container Registry if not exists.\n",
      "2021-09-30 23:58:37+02:00 Registering the environment.\n",
      "2021-09-30 23:58:38+02:00 Use the existing image.\n",
      "2021-09-30 23:58:39+02:00 Creating resources in AKS.\n",
      "2021-09-30 23:58:40+02:00 Submitting deployment to compute.\n",
      "2021-09-30 23:58:40+02:00 Checking the status of deployment esml-dev-p02-m11-aksapi..\n",
      "2021-10-01 00:00:59+02:00 Checking the status of inference endpoint esml-dev-p02-m11-aksapi.\n",
      "Succeeded\n",
      "AKS service creation operation finished, operation \"Succeeded\"\n",
      "Healthy\n",
      "2021-09-30T22:00:50,463434859+00:00 - rsyslog/run \n",
      "2021-09-30T22:00:50,468329084+00:00 - iot-server/run \n",
      "2021-09-30T22:00:50,472153125+00:00 - gunicorn/run \n",
      "Dynamic Python package installation is disabled.\n",
      "Starting HTTP server\n",
      "2021-09-30T22:00:50,474610987+00:00 - nginx/run \n",
      "rsyslogd: /azureml-envs/azureml_732632de80c129004c31329a710852e7/lib/libuuid.so.1: no version information available (required by rsyslogd)\n",
      "EdgeHubConnectionString and IOTEDGE_IOTHUBHOSTNAME are not set. Exiting...\n",
      "2021-09-30T22:00:50,588529930+00:00 - iot-server/finish 1 0\n",
      "2021-09-30T22:00:50,598373778+00:00 - Exit code 1 is normal. Not restarting iot-server.\n",
      "Starting gunicorn 20.1.0\n",
      "Listening at: http://127.0.0.1:31311 (10)\n",
      "Using worker: sync\n",
      "worker timeout is set to 300\n",
      "Booting worker with pid: 38\n",
      "SPARK_HOME not set. Skipping PySpark Initialization.\n",
      "Generating new fontManager, this may take some time...\n",
      "Initializing logger\n",
      "2021-09-30 22:00:51,995 | root | INFO | Starting up app insights client\n",
      "logging socket was found. logging is available.\n",
      "logging socket was found. logging is available.\n",
      "2021-09-30 22:00:51,995 | root | INFO | Starting up request id generator\n",
      "2021-09-30 22:00:51,995 | root | INFO | Starting up app insight hooks\n",
      "2021-09-30 22:00:51,995 | root | INFO | Invoking user's init function\n",
      "2021-09-30 22:00:54,484 | azureml.core | WARNING | Failure while loading azureml_run_type_providers. Failed to load entrypoint automl = azureml.train.automl.run:AutoMLRun._from_run_dto with exception cannot import name 'RunType'.\n",
      "Failure while loading azureml_run_type_providers. Failed to load entrypoint automl = azureml.train.automl.run:AutoMLRun._from_run_dto with exception cannot import name 'RunType'.\n",
      "2021-09-30 22:00:55,212 | root | INFO | Users's init has completed successfully\n",
      "2021-09-30 22:00:55,224 | root | INFO | Skipping middleware: dbg_model_info as it's not enabled.\n",
      "2021-09-30 22:00:55,225 | root | INFO | Skipping middleware: dbg_resource_usage as it's not enabled.\n",
      "Generating swagger file: /tmp/tmpilci7_id\n",
      "2021-09-30 22:00:55,229 | root | INFO | Scoring timeout is found from os.environ: 300000 ms\n",
      "2021-09-30 22:01:00,054 | root | INFO | 200\n",
      "127.0.0.1 - - [30/Sep/2021:22:01:00 +0000] \"GET /swagger.json HTTP/1.0\" 200 2636 \"-\" \"hackney/1.17.4\"\n",
      "2021-09-30 22:01:02,633 | root | INFO | 200\n",
      "127.0.0.1 - - [30/Sep/2021:22:01:02 +0000] \"GET /swagger.json HTTP/1.0\" 200 2636 \"-\" \"hackney/1.17.4\"\n",
      "\n",
      "Deployed AKS Webservice: esml-dev-p02-m11-aksapi \n",
      "Webservice Uri: https://esmlcmn7skp17.westeurope.cloudapp.azure.com:443/api/v1/service/esml-dev-p02-m11-aksapi/score \n",
      "Webservice API_Secret are stored in keyvault with name: esml-dev-p02-m11-apisecret \n",
      "Webservice API_URI are stored in keyvault with name: esml-dev-p02-m11-api \n",
      "Webservice Swagger Uri: https://esmlcmn7skp17.westeurope.cloudapp.azure.com:443/api/v1/service/esml-dev-p02-m11-aksapi/swagger.json\n"
     ]
    }
   ],
   "source": [
    "inference_config, model, best_run = p.get_active_model_inference_config(p.ws) #  Get compute power & lib-dependecies for DOCKER...for correct (Dev,Test or Prod) environment.\n",
    "service,api_uri, kv_aks_api_secret= p.deploy_automl_model_to_aks(model,inference_config,True) # True=Overwrite. Deploy: AKS dockerized with correct config (Dev,Test or Prod subscription & networking)"
   ]
  },
  {
   "cell_type": "markdown",
   "metadata": {},
   "source": [
    "## 3b) ESML Test AKS webservice, `2 lines of code`"
   ]
  },
  {
   "cell_type": "code",
   "execution_count": 14,
   "metadata": {},
   "outputs": [],
   "source": [
    "p.inference_mode = True # We want \"SCORING\" mode"
   ]
  },
  {
   "cell_type": "code",
   "execution_count": 15,
   "metadata": {},
   "outputs": [
    {
     "name": "stdout",
     "output_type": "stream",
     "text": [
      "M11_GOLD_VALIDATE : (37, 11)\n",
      "X_test  (37, 10)\n",
      "y_test  (37,)\n",
      "{'split_percentage': '0.2', 'label': 'Y', 'model': '11_diabetes_model_reg'}\n",
      "Note: OVERRIDING enterprise performance settings with project specifics. (to change, set flag in 'dev_test_prod_settings.json' -> override_enterprise_settings_with_model_specific=False)\n",
      "Note: Fetching keys automatically via workspace keyvault.\n",
      "Saving scoring to lake for project folder project002 and inference_model_version: 1 ...\n",
      "...\n",
      "\n",
      "Saved DATA to score successfully in LAKE, as file 'to_score_91965d9c-40ca-4e47-9723-5a608a32a0e4.parquet'\n",
      "Saved SCORED data in LAKE, as file 'scored_91965d9c-40ca-4e47-9723-5a608a32a0e4.parquet'\n"
     ]
    },
    {
     "data": {
      "text/html": [
       "<div>\n",
       "<style scoped>\n",
       "    .dataframe tbody tr th:only-of-type {\n",
       "        vertical-align: middle;\n",
       "    }\n",
       "\n",
       "    .dataframe tbody tr th {\n",
       "        vertical-align: top;\n",
       "    }\n",
       "\n",
       "    .dataframe thead th {\n",
       "        text-align: right;\n",
       "    }\n",
       "</style>\n",
       "<table border=\"1\" class=\"dataframe\">\n",
       "  <thead>\n",
       "    <tr style=\"text-align: right;\">\n",
       "      <th></th>\n",
       "      <th>AGE</th>\n",
       "      <th>SEX</th>\n",
       "      <th>BMI</th>\n",
       "      <th>BP</th>\n",
       "      <th>S1</th>\n",
       "      <th>S2</th>\n",
       "      <th>S3</th>\n",
       "      <th>S4</th>\n",
       "      <th>S5</th>\n",
       "      <th>S6</th>\n",
       "      <th>result</th>\n",
       "    </tr>\n",
       "  </thead>\n",
       "  <tbody>\n",
       "    <tr>\n",
       "      <th>0</th>\n",
       "      <td>0.05</td>\n",
       "      <td>0.05</td>\n",
       "      <td>0.12</td>\n",
       "      <td>0.08</td>\n",
       "      <td>-0.10</td>\n",
       "      <td>-0.10</td>\n",
       "      <td>-0.07</td>\n",
       "      <td>-0.00</td>\n",
       "      <td>0.04</td>\n",
       "      <td>-0.03</td>\n",
       "      <td>243.13</td>\n",
       "    </tr>\n",
       "    <tr>\n",
       "      <th>1</th>\n",
       "      <td>0.07</td>\n",
       "      <td>-0.04</td>\n",
       "      <td>0.07</td>\n",
       "      <td>0.04</td>\n",
       "      <td>0.02</td>\n",
       "      <td>0.00</td>\n",
       "      <td>-0.04</td>\n",
       "      <td>0.04</td>\n",
       "      <td>0.08</td>\n",
       "      <td>0.11</td>\n",
       "      <td>293.24</td>\n",
       "    </tr>\n",
       "    <tr>\n",
       "      <th>2</th>\n",
       "      <td>0.06</td>\n",
       "      <td>0.05</td>\n",
       "      <td>-0.03</td>\n",
       "      <td>0.01</td>\n",
       "      <td>0.02</td>\n",
       "      <td>0.02</td>\n",
       "      <td>0.03</td>\n",
       "      <td>-0.04</td>\n",
       "      <td>-0.03</td>\n",
       "      <td>-0.06</td>\n",
       "      <td>94.01</td>\n",
       "    </tr>\n",
       "    <tr>\n",
       "      <th>3</th>\n",
       "      <td>0.02</td>\n",
       "      <td>-0.04</td>\n",
       "      <td>0.02</td>\n",
       "      <td>-0.02</td>\n",
       "      <td>0.06</td>\n",
       "      <td>0.04</td>\n",
       "      <td>0.03</td>\n",
       "      <td>-0.00</td>\n",
       "      <td>0.04</td>\n",
       "      <td>-0.00</td>\n",
       "      <td>148.81</td>\n",
       "    </tr>\n",
       "    <tr>\n",
       "      <th>4</th>\n",
       "      <td>0.02</td>\n",
       "      <td>-0.04</td>\n",
       "      <td>0.11</td>\n",
       "      <td>0.06</td>\n",
       "      <td>0.01</td>\n",
       "      <td>-0.03</td>\n",
       "      <td>-0.02</td>\n",
       "      <td>0.02</td>\n",
       "      <td>0.10</td>\n",
       "      <td>0.02</td>\n",
       "      <td>253.00</td>\n",
       "    </tr>\n",
       "  </tbody>\n",
       "</table>\n",
       "</div>"
      ],
      "text/plain": [
       "   AGE   SEX   BMI    BP    S1    S2    S3    S4    S5    S6  result\n",
       "0 0.05  0.05  0.12  0.08 -0.10 -0.10 -0.07 -0.00  0.04 -0.03  243.13\n",
       "1 0.07 -0.04  0.07  0.04  0.02  0.00 -0.04  0.04  0.08  0.11  293.24\n",
       "2 0.06  0.05 -0.03  0.01  0.02  0.02  0.03 -0.04 -0.03 -0.06   94.01\n",
       "3 0.02 -0.04  0.02 -0.02  0.06  0.04  0.03 -0.00  0.04 -0.00  148.81\n",
       "4 0.02 -0.04  0.11  0.06  0.01 -0.03 -0.02  0.02  0.10  0.02  253.00"
      ]
     },
     "execution_count": 15,
     "metadata": {},
     "output_type": "execute_result"
    }
   ],
   "source": [
    "#p.connect_to_lake() # only needed if NOT p.init() is done\n",
    "X_test, y_test, tags = p.get_gold_validate_Xy() # Get the X_test data, ESML knows the SPLIT and LABEL already (due to training)\n",
    "print(tags)\n",
    "caller_id = \"91965d9c-40ca-4e47-9723-5a608a32a0e4\"\n",
    "\n",
    "df = p.call_webservice(p.ws, X_test,caller_id) # Auto-fetch key from keyvault, and calls the webservice\n",
    "df.head()"
   ]
  },
  {
   "cell_type": "markdown",
   "metadata": {},
   "source": [
    "# From \"OFFILINE\": Test Scoring, without train, deploy, or ESMLProject.init()"
   ]
  },
  {
   "cell_type": "code",
   "execution_count": 1,
   "metadata": {},
   "outputs": [
    {
     "name": "stdout",
     "output_type": "stream",
     "text": [
      "Using lake_settings.json with ESML version 1.4 - Models array support including LABEL\n",
      "...\n",
      "you need to have splitted GOLD dataset, GoldTest need to exist. Change next cell from MARKDOWN, to CODE, and run that. Try this again... \n"
     ]
    }
   ],
   "source": [
    "import sys\n",
    "sys.path.insert(0, \"../azure-enterprise-scale-ml/esml/common/\")\n",
    "from esml import ESMLDataset, ESMLProject\n",
    "\n",
    "p = ESMLProject() # Will search in ROOT for your copied SETTINGS folder '../../../settings', you should copy template settings from '../settings'\n",
    "p.inference_mode = True # We want \"TRAIN\" mode\n",
    "p.ws = p.get_workspace_from_config() #2) Load DEV or TEST or PROD Azure ML Studio workspace\n",
    "\n",
    "label = \"Y\"\n",
    "to_score = None\n",
    "try:\n",
    "    X_test = p.GoldTest.to_pandas_dataframe()\n",
    "    to_score = X_test.drop([label], axis=1)\n",
    "    print(to_score.head()) # gold_test_1 = Dataset.get_by_name(ws, name=p.dataset_gold_test_name_azure)\n",
    "except: \n",
    "    print (\"you need to have splitted GOLD dataset, GoldTest need to exist. Change next cell from MARKDOWN, to CODE, and run that. Try this again... \")"
   ]
  },
  {
   "cell_type": "code",
   "execution_count": 2,
   "metadata": {},
   "outputs": [
    {
     "name": "stdout",
     "output_type": "stream",
     "text": [
      "Using GEN2 as Datastore\n",
      "Note: OVERRIDING enterprise performance settings with project specifics. (to change, set flag in 'dev_test_prod_settings.json' -> override_enterprise_settings_with_model_specific=False)\n",
      "Note: Fetching keys automatically via workspace keyvault.\n",
      "Saving scoring to lake for project folder project002 and inference_model_version: 1 ...\n",
      "...\n",
      "\n",
      "Saved DATA to score successfully in LAKE, as file 'to_score_91965d9c-40ca-4e47-9723-5a608a32a0e4.parquet'\n",
      "Saved SCORED data in LAKE, as file 'scored_91965d9c-40ca-4e47-9723-5a608a32a0e4.parquet'\n"
     ]
    },
    {
     "data": {
      "text/html": [
       "<div>\n",
       "<style scoped>\n",
       "    .dataframe tbody tr th:only-of-type {\n",
       "        vertical-align: middle;\n",
       "    }\n",
       "\n",
       "    .dataframe tbody tr th {\n",
       "        vertical-align: top;\n",
       "    }\n",
       "\n",
       "    .dataframe thead th {\n",
       "        text-align: right;\n",
       "    }\n",
       "</style>\n",
       "<table border=\"1\" class=\"dataframe\">\n",
       "  <thead>\n",
       "    <tr style=\"text-align: right;\">\n",
       "      <th></th>\n",
       "      <th>AGE</th>\n",
       "      <th>SEX</th>\n",
       "      <th>BMI</th>\n",
       "      <th>BP</th>\n",
       "      <th>S1</th>\n",
       "      <th>S2</th>\n",
       "      <th>S3</th>\n",
       "      <th>S4</th>\n",
       "      <th>S5</th>\n",
       "      <th>S6</th>\n",
       "      <th>result</th>\n",
       "    </tr>\n",
       "  </thead>\n",
       "  <tbody>\n",
       "    <tr>\n",
       "      <th>0</th>\n",
       "      <td>0.041708</td>\n",
       "      <td>-0.044642</td>\n",
       "      <td>-0.007284</td>\n",
       "      <td>0.028758</td>\n",
       "      <td>-0.042848</td>\n",
       "      <td>-0.048286</td>\n",
       "      <td>0.052322</td>\n",
       "      <td>-0.076395</td>\n",
       "      <td>-0.072128</td>\n",
       "      <td>0.023775</td>\n",
       "      <td>154.320413</td>\n",
       "    </tr>\n",
       "    <tr>\n",
       "      <th>1</th>\n",
       "      <td>0.059871</td>\n",
       "      <td>0.050680</td>\n",
       "      <td>0.022895</td>\n",
       "      <td>0.049415</td>\n",
       "      <td>0.016318</td>\n",
       "      <td>0.011838</td>\n",
       "      <td>-0.013948</td>\n",
       "      <td>-0.002592</td>\n",
       "      <td>0.039540</td>\n",
       "      <td>0.019633</td>\n",
       "      <td>226.793287</td>\n",
       "    </tr>\n",
       "    <tr>\n",
       "      <th>2</th>\n",
       "      <td>0.041708</td>\n",
       "      <td>0.050680</td>\n",
       "      <td>0.071397</td>\n",
       "      <td>0.008101</td>\n",
       "      <td>0.038334</td>\n",
       "      <td>0.015909</td>\n",
       "      <td>-0.017629</td>\n",
       "      <td>0.034309</td>\n",
       "      <td>0.073410</td>\n",
       "      <td>0.085907</td>\n",
       "      <td>280.466728</td>\n",
       "    </tr>\n",
       "    <tr>\n",
       "      <th>3</th>\n",
       "      <td>0.041708</td>\n",
       "      <td>0.050680</td>\n",
       "      <td>0.012117</td>\n",
       "      <td>0.039087</td>\n",
       "      <td>0.054845</td>\n",
       "      <td>0.044406</td>\n",
       "      <td>0.004460</td>\n",
       "      <td>-0.002592</td>\n",
       "      <td>0.045601</td>\n",
       "      <td>-0.001078</td>\n",
       "      <td>174.478831</td>\n",
       "    </tr>\n",
       "    <tr>\n",
       "      <th>4</th>\n",
       "      <td>0.034443</td>\n",
       "      <td>0.050680</td>\n",
       "      <td>0.028284</td>\n",
       "      <td>-0.033214</td>\n",
       "      <td>-0.045599</td>\n",
       "      <td>-0.009769</td>\n",
       "      <td>-0.050764</td>\n",
       "      <td>-0.002592</td>\n",
       "      <td>-0.059473</td>\n",
       "      <td>-0.021788</td>\n",
       "      <td>183.854316</td>\n",
       "    </tr>\n",
       "  </tbody>\n",
       "</table>\n",
       "</div>"
      ],
      "text/plain": [
       "        AGE       SEX       BMI        BP        S1        S2        S3  \\\n",
       "0  0.041708 -0.044642 -0.007284  0.028758 -0.042848 -0.048286  0.052322   \n",
       "1  0.059871  0.050680  0.022895  0.049415  0.016318  0.011838 -0.013948   \n",
       "2  0.041708  0.050680  0.071397  0.008101  0.038334  0.015909 -0.017629   \n",
       "3  0.041708  0.050680  0.012117  0.039087  0.054845  0.044406  0.004460   \n",
       "4  0.034443  0.050680  0.028284 -0.033214 -0.045599 -0.009769 -0.050764   \n",
       "\n",
       "         S4        S5        S6      result  \n",
       "0 -0.076395 -0.072128  0.023775  154.320413  \n",
       "1 -0.002592  0.039540  0.019633  226.793287  \n",
       "2  0.034309  0.073410  0.085907  280.466728  \n",
       "3 -0.002592  0.045601 -0.001078  174.478831  \n",
       "4 -0.002592 -0.059473 -0.021788  183.854316  "
      ]
     },
     "execution_count": 2,
     "metadata": {},
     "output_type": "execute_result"
    }
   ],
   "source": [
    "p.connect_to_lake() # only needed if NOT p.init() is done\n",
    "caller_id = \"91965d9c-40ca-4e47-9723-5a608a32a0e4\"\n",
    "df = p.call_webservice(p.ws, to_score,caller_id) # Auto-fetch key from keyvault, and calls the webservice\n",
    "df.head()"
   ]
  },
  {
   "cell_type": "markdown",
   "metadata": {},
   "source": [
    "# END"
   ]
  },
  {
   "cell_type": "code",
   "execution_count": null,
   "metadata": {},
   "outputs": [],
   "source": []
  }
 ],
 "metadata": {
  "interpreter": {
   "hash": "3fec2c5a411dce07235ef28c8752b6cecf1f94423de7e7c24e62fc38b1bc47de"
  },
  "kernelspec": {
   "display_name": "Python 3.6.12 64-bit ('azure_automl': conda)",
   "name": "python3"
  },
  "language_info": {
   "codemirror_mode": {
    "name": "ipython",
    "version": 3
   },
   "file_extension": ".py",
   "mimetype": "text/x-python",
   "name": "python",
   "nbconvert_exporter": "python",
   "pygments_lexer": "ipython3",
   "version": "3.8.13"
  }
 },
 "nbformat": 4,
 "nbformat_minor": 2
}
