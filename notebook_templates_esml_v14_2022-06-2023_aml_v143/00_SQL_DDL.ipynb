{
 "cells": [
  {
   "cell_type": "markdown",
   "metadata": {},
   "source": [
    "# DDL \"IN\" and \"WriteBack\" table: SQL Server\n",
    " - Tables to create for WriteBack demo"
   ]
  },
  {
   "cell_type": "markdown",
   "metadata": {},
   "source": [
    "```sql\n",
    "-- 1) IN DATA to Lake, anonymized\n",
    "CREATE TABLE [dbo].[esml_diabetes]\n",
    "(\n",
    "    -- PersonId: Not needed for ML scoring. It is actually only noise for the Machine Learning brain. \n",
    "    PersonId INT IDENTITY(1,1) not null, -- But IF we want to reconnect scored RESULT to an individual, we need it.\n",
    "\tAGE FLOAT NOT NULL,\n",
    "\tSEX FLOAT NOT NULL,\n",
    "\tBMI FLOAT NOT NULL,\n",
    "\tBP FLOAT NOT NULL,\n",
    "\tS1 FLOAT NOT NULL,\n",
    "\tS2 FLOAT NOT NULL,\n",
    "\tS3 FLOAT NOT NULL,\n",
    "\tS4 FLOAT NOT NULL,\n",
    "\tS5 FLOAT NOT NULL,\n",
    "\tS6 FLOAT NOT NULL\n",
    ")\n",
    "\n",
    "-- 2) Scored data the PIPELINE WroteBack\n",
    "CREATE TABLE [dbo].[esml_personID_scoring]\n",
    "(\n",
    "    PersonId INT NOT NULL,\n",
    "    DiabetesMLScoring DECIMAL NULL,\n",
    "    scoring_time DATETIME NULL,\n",
    "    in_data_time DATETIME NULL,\n",
    "    ts DATETIME NOT NULL DEFAULT (GETDATE())\n",
    ")\n",
    "-- SELECT Count(*) as total_rows FROM [dbo].[esml_personID_scoring] -- 442 rows per RUN since \"UPSERT\" from Azure Datafactory on PersonID\n",
    "-- SELECT * FROM [dbo].[esml_personID_scoring]\n",
    "\n",
    "-- 3) VIEW Person connected to scoring: Risk of DIABETES\n",
    "\n",
    "--SELECT * FROM [dbo].[esml_diabetes] as a\n",
    "SELECT * FROM [dbo].[esml_person_info] as a\n",
    "LEFT JOIN [dbo].[esml_personID_scoring] as b\n",
    "ON a.PersonId = b.PersonId\n",
    "\n",
    "```"
   ]
  }
 ],
 "metadata": {
  "language_info": {
   "name": "python"
  },
  "orig_nbformat": 4
 },
 "nbformat": 4,
 "nbformat_minor": 2
}
